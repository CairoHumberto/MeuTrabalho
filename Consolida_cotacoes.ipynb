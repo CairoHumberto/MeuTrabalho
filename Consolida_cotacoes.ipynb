{
  "nbformat": 4,
  "nbformat_minor": 0,
  "metadata": {
    "colab": {
      "name": "Consolida cotacoes.ipynb",
      "provenance": [],
      "toc_visible": true,
      "history_visible": true
    },
    "kernelspec": {
      "name": "python3",
      "display_name": "Python 3"
    }
  },
  "cells": [
    {
      "cell_type": "code",
      "metadata": {
        "colab": {
          "base_uri": "https://localhost:8080/"
        },
        "id": "0LZaZj9h_JcO",
        "outputId": "4591485c-f5d6-4279-a1d6-1b8b3210b9b5"
      },
      "source": [
        "!consolidar_dataset_cotações_CSV.txt"
      ],
      "execution_count": null,
      "outputs": [
        {
          "output_type": "stream",
          "text": [
            "/bin/bash: consolidar_dataset_cotações_CSV.txt: command not found\n"
          ],
          "name": "stdout"
        }
      ]
    },
    {
      "cell_type": "code",
      "metadata": {
        "colab": {
          "base_uri": "https://localhost:8080/"
        },
        "id": "BmGDLAhoAPiV",
        "outputId": "d75e8cfe-3146-4760-aae2-a98ec8fad59e"
      },
      "source": [
        "!consolidar_dataset_cotações_CSV.py.txt"
      ],
      "execution_count": null,
      "outputs": [
        {
          "output_type": "stream",
          "text": [
            "/bin/bash: consolidar_dataset_cotações_CSV.py.txt: command not found\n"
          ],
          "name": "stdout"
        }
      ]
    },
    {
      "cell_type": "code",
      "metadata": {
        "id": "2q3gZa7vXME_"
      },
      "source": [
        ""
      ],
      "execution_count": null,
      "outputs": []
    },
    {
      "cell_type": "code",
      "metadata": {
        "id": "ZtM6w9vfXNoP"
      },
      "source": [
        ""
      ],
      "execution_count": null,
      "outputs": []
    },
    {
      "cell_type": "code",
      "metadata": {
        "colab": {
          "base_uri": "https://localhost:8080/"
        },
        "id": "wr531RxPAft0",
        "outputId": "7df39e42-1cc1-4221-d100-dd2234b114e2"
      },
      "source": [
        "!python consolidar_dataset_cotações_CSV.py.txt"
      ],
      "execution_count": null,
      "outputs": [
        {
          "output_type": "stream",
          "text": [
            "   02012015;220;A;USD;2  ... 8193;1\n",
            "0  05012015;220;A;USD;2  ...    NaN\n",
            "1  06012015;220;A;USD;2  ...    NaN\n",
            "2  07012015;220;A;USD;2  ...    NaN\n",
            "3  08012015;220;A;USD;2  ...    NaN\n",
            "4  09012015;220;A;USD;2  ...    NaN\n",
            "\n",
            "[5 rows x 32 columns]\n"
          ],
          "name": "stdout"
        }
      ]
    },
    {
      "cell_type": "code",
      "metadata": {
        "id": "22g3zG9eBi8G"
      },
      "source": [
        "import pandas as pd"
      ],
      "execution_count": null,
      "outputs": []
    },
    {
      "cell_type": "code",
      "metadata": {
        "id": "UA0q16GSC6aI"
      },
      "source": [
        "df1 = pd.read_csv(\"Cotacoes Fechamento USD 2015- 1 semestre.csv\")"
      ],
      "execution_count": null,
      "outputs": []
    },
    {
      "cell_type": "code",
      "metadata": {
        "colab": {
          "base_uri": "https://localhost:8080/"
        },
        "id": "SjqBymL5C_d4",
        "outputId": "bfe7a1ef-c100-462b-e93d-d49fb2ea346e"
      },
      "source": [
        "print(df1)"
      ],
      "execution_count": null,
      "outputs": [
        {
          "output_type": "stream",
          "text": [
            "     02012015;220;A;USD;2  6923;2  6929;1  0000;1  0000\n",
            "0    05012015;220;A;USD;2  7101;2  7107;1  0000;1     0\n",
            "1    06012015;220;A;USD;2  7016;2  7023;1  0000;1     0\n",
            "2    07012015;220;A;USD;2  6801;2  6807;1  0000;1     0\n",
            "3    08012015;220;A;USD;2  6913;2  6919;1  0000;1     0\n",
            "4    09012015;220;A;USD;2  6577;2  6583;1  0000;1     0\n",
            "..                    ...     ...     ...     ...   ...\n",
            "116  24062015;220;A;USD;3  0846;3  0852;1  0000;1     0\n",
            "117  25062015;220;A;USD;3  1009;3  1015;1  0000;1     0\n",
            "118  26062015;220;A;USD;3  1265;3  1271;1  0000;1     0\n",
            "119  29062015;220;A;USD;3  1383;3  1390;1  0000;1     0\n",
            "120  30062015;220;A;USD;3  1019;3  1026;1  0000;1     0\n",
            "\n",
            "[121 rows x 5 columns]\n"
          ],
          "name": "stdout"
        }
      ]
    },
    {
      "cell_type": "code",
      "metadata": {
        "id": "fVR3pbHnDVcP"
      },
      "source": [
        "df2 = pd.read_csv(\"Cotacoes Fechamento USD 2015- 2 semestre.csv\")"
      ],
      "execution_count": null,
      "outputs": []
    },
    {
      "cell_type": "code",
      "metadata": {
        "colab": {
          "base_uri": "https://localhost:8080/"
        },
        "id": "73054g-FDYzw",
        "outputId": "aa05ad1a-16cf-4044-b0e7-75880086b59e"
      },
      "source": [
        "print(df2)"
      ],
      "execution_count": null,
      "outputs": [
        {
          "output_type": "stream",
          "text": [
            "     01072015;220;A;USD;3  1185;3  1191;1  0000;1  0000\n",
            "0    02072015;220;A;USD;3  1166;3  1173;1  0000;1     0\n",
            "1    03072015;220;A;USD;3  1265;3  1271;1  0000;1     0\n",
            "2    06072015;220;A;USD;3  1425;3  1431;1  0000;1     0\n",
            "3    07072015;220;A;USD;3  1803;3  1809;1  0000;1     0\n",
            "4    08072015;220;A;USD;3  2275;3  2282;1  0000;1     0\n",
            "..                    ...     ...     ...     ...   ...\n",
            "122  24122015;220;A;USD;3  9511;3  9524;1  0000;1     0\n",
            "123  28122015;220;A;USD;3  9180;3  9186;1  0000;1     0\n",
            "124  29122015;220;A;USD;3  8486;3  8492;1  0000;1     0\n",
            "125  30122015;220;A;USD;3  9042;3  9048;1  0000;1     0\n",
            "126  31122015;220;A;USD;3  9042;3  9048;1  0000;1     0\n",
            "\n",
            "[127 rows x 5 columns]\n"
          ],
          "name": "stdout"
        }
      ]
    },
    {
      "cell_type": "code",
      "metadata": {
        "id": "iglle1FiDiCI"
      },
      "source": [
        "df = pd.concat([df1, df2])"
      ],
      "execution_count": null,
      "outputs": []
    },
    {
      "cell_type": "code",
      "metadata": {
        "id": "lpeXgPw0EEaq"
      },
      "source": [
        "df = pd.concat([df1, df2], axis = 0)"
      ],
      "execution_count": null,
      "outputs": []
    },
    {
      "cell_type": "code",
      "metadata": {
        "id": "fgQQXrvAEhhK"
      },
      "source": [
        "df = pd.concat([df1, df2], axis = 0, ignore_index = True)"
      ],
      "execution_count": null,
      "outputs": []
    },
    {
      "cell_type": "code",
      "metadata": {
        "id": "4CXOrGs9HYTd"
      },
      "source": [
        "teste1 = pd.concat([df1, df2],  ignore_index = True)"
      ],
      "execution_count": null,
      "outputs": []
    },
    {
      "cell_type": "code",
      "metadata": {
        "colab": {
          "base_uri": "https://localhost:8080/"
        },
        "id": "bKfo8M1LIIvD",
        "outputId": "7887d108-06f9-4f34-b68b-32b6559ea863"
      },
      "source": [
        "print(df1)"
      ],
      "execution_count": null,
      "outputs": [
        {
          "output_type": "stream",
          "text": [
            "     02012015;220;A;USD;2  6923;2  6929;1  0000;1  0000\n",
            "0    05012015;220;A;USD;2  7101;2  7107;1  0000;1     0\n",
            "1    06012015;220;A;USD;2  7016;2  7023;1  0000;1     0\n",
            "2    07012015;220;A;USD;2  6801;2  6807;1  0000;1     0\n",
            "3    08012015;220;A;USD;2  6913;2  6919;1  0000;1     0\n",
            "4    09012015;220;A;USD;2  6577;2  6583;1  0000;1     0\n",
            "..                    ...     ...     ...     ...   ...\n",
            "116  24062015;220;A;USD;3  0846;3  0852;1  0000;1     0\n",
            "117  25062015;220;A;USD;3  1009;3  1015;1  0000;1     0\n",
            "118  26062015;220;A;USD;3  1265;3  1271;1  0000;1     0\n",
            "119  29062015;220;A;USD;3  1383;3  1390;1  0000;1     0\n",
            "120  30062015;220;A;USD;3  1019;3  1026;1  0000;1     0\n",
            "\n",
            "[121 rows x 5 columns]\n"
          ],
          "name": "stdout"
        }
      ]
    },
    {
      "cell_type": "code",
      "metadata": {
        "colab": {
          "base_uri": "https://localhost:8080/",
          "height": 180
        },
        "id": "UeHmkf-VISXh",
        "outputId": "d6ebe547-d813-4422-fb26-e379c54ebaaf"
      },
      "source": [
        "df1 = pd.read_csv(\"Cotacoes Fechamento USD 2015- 1 semestre.csv\", header-0)"
      ],
      "execution_count": null,
      "outputs": [
        {
          "output_type": "error",
          "ename": "NameError",
          "evalue": "ignored",
          "traceback": [
            "\u001b[0;31m---------------------------------------------------------------------------\u001b[0m",
            "\u001b[0;31mNameError\u001b[0m                                 Traceback (most recent call last)",
            "\u001b[0;32m<ipython-input-21-6925a4b118fa>\u001b[0m in \u001b[0;36m<module>\u001b[0;34m()\u001b[0m\n\u001b[0;32m----> 1\u001b[0;31m \u001b[0mdf1\u001b[0m \u001b[0;34m=\u001b[0m \u001b[0mpd\u001b[0m\u001b[0;34m.\u001b[0m\u001b[0mread_csv\u001b[0m\u001b[0;34m(\u001b[0m\u001b[0;34m\"Cotacoes Fechamento USD 2015- 1 semestre.csv\"\u001b[0m\u001b[0;34m,\u001b[0m \u001b[0mheader\u001b[0m\u001b[0;34m-\u001b[0m\u001b[0;36m0\u001b[0m\u001b[0;34m)\u001b[0m\u001b[0;34m\u001b[0m\u001b[0;34m\u001b[0m\u001b[0m\n\u001b[0m",
            "\u001b[0;31mNameError\u001b[0m: name 'header' is not defined"
          ]
        }
      ]
    },
    {
      "cell_type": "code",
      "metadata": {
        "id": "x4SXAn_UIo97"
      },
      "source": [
        "df1 = pd.read_csv(\"Cotacoes Fechamento USD 2015- 1 semestre.csv\",header=1)"
      ],
      "execution_count": null,
      "outputs": []
    },
    {
      "cell_type": "code",
      "metadata": {
        "id": "qDntcGVwJEfF"
      },
      "source": [
        "df1 = pd.read_csv(\"Cotacoes Fechamento USD 2015- 1 semestre.csv\",header=0)"
      ],
      "execution_count": null,
      "outputs": []
    },
    {
      "cell_type": "code",
      "metadata": {
        "colab": {
          "base_uri": "https://localhost:8080/"
        },
        "id": "elMTxbYYIvUd",
        "outputId": "297a7255-5d68-4cb3-9525-9840d0d1ca2f"
      },
      "source": [
        "print(df1)"
      ],
      "execution_count": null,
      "outputs": [
        {
          "output_type": "stream",
          "text": [
            "     02012015;220;A;USD;2  6923;2  6929;1  0000;1  0000\n",
            "0    05012015;220;A;USD;2  7101;2  7107;1  0000;1     0\n",
            "1    06012015;220;A;USD;2  7016;2  7023;1  0000;1     0\n",
            "2    07012015;220;A;USD;2  6801;2  6807;1  0000;1     0\n",
            "3    08012015;220;A;USD;2  6913;2  6919;1  0000;1     0\n",
            "4    09012015;220;A;USD;2  6577;2  6583;1  0000;1     0\n",
            "..                    ...     ...     ...     ...   ...\n",
            "116  24062015;220;A;USD;3  0846;3  0852;1  0000;1     0\n",
            "117  25062015;220;A;USD;3  1009;3  1015;1  0000;1     0\n",
            "118  26062015;220;A;USD;3  1265;3  1271;1  0000;1     0\n",
            "119  29062015;220;A;USD;3  1383;3  1390;1  0000;1     0\n",
            "120  30062015;220;A;USD;3  1019;3  1026;1  0000;1     0\n",
            "\n",
            "[121 rows x 5 columns]\n"
          ],
          "name": "stdout"
        }
      ]
    },
    {
      "cell_type": "code",
      "metadata": {
        "id": "T2QiQCF0KDzG"
      },
      "source": [
        "df2 = pd.read_csv(\"Cotacoes Fechamento USD 2015- 2 semestre.csv\",header=0)"
      ],
      "execution_count": null,
      "outputs": []
    },
    {
      "cell_type": "code",
      "metadata": {
        "colab": {
          "base_uri": "https://localhost:8080/"
        },
        "id": "5xgR7jFsKK39",
        "outputId": "1e97b3e7-12fa-44f4-c587-c40a17bc9a1d"
      },
      "source": [
        "print(df2)"
      ],
      "execution_count": null,
      "outputs": [
        {
          "output_type": "stream",
          "text": [
            "     01072015;220;A;USD;3  1185;3  1191;1  0000;1  0000\n",
            "0    02072015;220;A;USD;3  1166;3  1173;1  0000;1     0\n",
            "1    03072015;220;A;USD;3  1265;3  1271;1  0000;1     0\n",
            "2    06072015;220;A;USD;3  1425;3  1431;1  0000;1     0\n",
            "3    07072015;220;A;USD;3  1803;3  1809;1  0000;1     0\n",
            "4    08072015;220;A;USD;3  2275;3  2282;1  0000;1     0\n",
            "..                    ...     ...     ...     ...   ...\n",
            "122  24122015;220;A;USD;3  9511;3  9524;1  0000;1     0\n",
            "123  28122015;220;A;USD;3  9180;3  9186;1  0000;1     0\n",
            "124  29122015;220;A;USD;3  8486;3  8492;1  0000;1     0\n",
            "125  30122015;220;A;USD;3  9042;3  9048;1  0000;1     0\n",
            "126  31122015;220;A;USD;3  9042;3  9048;1  0000;1     0\n",
            "\n",
            "[127 rows x 5 columns]\n"
          ],
          "name": "stdout"
        }
      ]
    },
    {
      "cell_type": "code",
      "metadata": {
        "id": "IMhr81HyKU4N"
      },
      "source": [
        "df = pd.concat([df1, df2], axis=0, ignore_index= True,join='outer')"
      ],
      "execution_count": null,
      "outputs": []
    },
    {
      "cell_type": "code",
      "metadata": {
        "colab": {
          "base_uri": "https://localhost:8080/"
        },
        "id": "vRAOkd1LOpUy",
        "outputId": "68a405d1-9e1f-494c-e173-93f8b317243b"
      },
      "source": [
        "print(df)\r\n"
      ],
      "execution_count": null,
      "outputs": [
        {
          "output_type": "stream",
          "text": [
            "     02012015;220;A;USD;2  6923;2  6929;1  ...  01072015;220;A;USD;3  1185;3  1191;1\n",
            "0    05012015;220;A;USD;2  7101;2  7107;1  ...                   NaN     NaN     NaN\n",
            "1    06012015;220;A;USD;2  7016;2  7023;1  ...                   NaN     NaN     NaN\n",
            "2    07012015;220;A;USD;2  6801;2  6807;1  ...                   NaN     NaN     NaN\n",
            "3    08012015;220;A;USD;2  6913;2  6919;1  ...                   NaN     NaN     NaN\n",
            "4    09012015;220;A;USD;2  6577;2  6583;1  ...                   NaN     NaN     NaN\n",
            "..                    ...     ...     ...  ...                   ...     ...     ...\n",
            "243                   NaN     NaN     NaN  ...  24122015;220;A;USD;3  9511;3  9524;1\n",
            "244                   NaN     NaN     NaN  ...  28122015;220;A;USD;3  9180;3  9186;1\n",
            "245                   NaN     NaN     NaN  ...  29122015;220;A;USD;3  8486;3  8492;1\n",
            "246                   NaN     NaN     NaN  ...  30122015;220;A;USD;3  9042;3  9048;1\n",
            "247                   NaN     NaN     NaN  ...  31122015;220;A;USD;3  9042;3  9048;1\n",
            "\n",
            "[248 rows x 8 columns]\n"
          ],
          "name": "stdout"
        }
      ]
    },
    {
      "cell_type": "code",
      "metadata": {
        "id": "NMywk-NASeMs"
      },
      "source": [
        "s=[df1,df2]"
      ],
      "execution_count": null,
      "outputs": []
    },
    {
      "cell_type": "code",
      "metadata": {
        "id": "EJmI8i8baiVo"
      },
      "source": [
        "df1 = pd.read_csv(\"Cotacoes Fechamento USD 2015- 1 semestre.csv\",header=0)\r\n",
        "df2 = pd.read_csv(\"Cotacoes Fechamento USD 2015- 2 semestre.csv\",header=0)"
      ],
      "execution_count": null,
      "outputs": []
    },
    {
      "cell_type": "code",
      "metadata": {
        "colab": {
          "base_uri": "https://localhost:8080/"
        },
        "id": "4CGFX83Iasb3",
        "outputId": "b092ade2-a054-401a-fa67-a839e7ed44e1"
      },
      "source": [
        "print(df2)"
      ],
      "execution_count": null,
      "outputs": [
        {
          "output_type": "stream",
          "text": [
            "     01072015;220;A;USD;3  1185;3  1191;1  0000;1  0000\n",
            "0    02072015;220;A;USD;3  1166;3  1173;1  0000;1     0\n",
            "1    03072015;220;A;USD;3  1265;3  1271;1  0000;1     0\n",
            "2    06072015;220;A;USD;3  1425;3  1431;1  0000;1     0\n",
            "3    07072015;220;A;USD;3  1803;3  1809;1  0000;1     0\n",
            "4    08072015;220;A;USD;3  2275;3  2282;1  0000;1     0\n",
            "..                    ...     ...     ...     ...   ...\n",
            "122  24122015;220;A;USD;3  9511;3  9524;1  0000;1     0\n",
            "123  28122015;220;A;USD;3  9180;3  9186;1  0000;1     0\n",
            "124  29122015;220;A;USD;3  8486;3  8492;1  0000;1     0\n",
            "125  30122015;220;A;USD;3  9042;3  9048;1  0000;1     0\n",
            "126  31122015;220;A;USD;3  9042;3  9048;1  0000;1     0\n",
            "\n",
            "[127 rows x 5 columns]\n"
          ],
          "name": "stdout"
        }
      ]
    },
    {
      "cell_type": "code",
      "metadata": {
        "id": "ZrGzcXhMbK4p"
      },
      "source": [
        "frame = pd.concat([df1,df2],ignore_index=True)"
      ],
      "execution_count": null,
      "outputs": []
    },
    {
      "cell_type": "code",
      "metadata": {
        "colab": {
          "base_uri": "https://localhost:8080/",
          "height": 265
        },
        "id": "bQ6ybPNacvFM",
        "outputId": "cc0562d5-f8ad-42fe-d092-a176180373c1"
      },
      "source": [
        "df1 = pd.read_csv(\"Cotacoes Fechamento USD 2015- 1 semestre.csv\",header=infer)\r\n",
        "df2 = pd.read_csv(\"Cotacoes Fechamento USD 2015- 2 semestre.csv\",header=infer)\r\n",
        "li=[]\r\n",
        "li.append(df1)\r\n",
        "li.append(df2)\r\n",
        "junto = pd.concat(li,ignore_index=True)"
      ],
      "execution_count": null,
      "outputs": [
        {
          "output_type": "error",
          "ename": "NameError",
          "evalue": "ignored",
          "traceback": [
            "\u001b[0;31m---------------------------------------------------------------------------\u001b[0m",
            "\u001b[0;31mNameError\u001b[0m                                 Traceback (most recent call last)",
            "\u001b[0;32m<ipython-input-75-92c3d8d63169>\u001b[0m in \u001b[0;36m<module>\u001b[0;34m()\u001b[0m\n\u001b[0;32m----> 1\u001b[0;31m \u001b[0mdf1\u001b[0m \u001b[0;34m=\u001b[0m \u001b[0mpd\u001b[0m\u001b[0;34m.\u001b[0m\u001b[0mread_csv\u001b[0m\u001b[0;34m(\u001b[0m\u001b[0;34m\"Cotacoes Fechamento USD 2015- 1 semestre.csv\"\u001b[0m\u001b[0;34m,\u001b[0m\u001b[0mheader\u001b[0m\u001b[0;34m=\u001b[0m\u001b[0minfer\u001b[0m\u001b[0;34m)\u001b[0m\u001b[0;34m\u001b[0m\u001b[0;34m\u001b[0m\u001b[0m\n\u001b[0m\u001b[1;32m      2\u001b[0m \u001b[0mdf2\u001b[0m \u001b[0;34m=\u001b[0m \u001b[0mpd\u001b[0m\u001b[0;34m.\u001b[0m\u001b[0mread_csv\u001b[0m\u001b[0;34m(\u001b[0m\u001b[0;34m\"Cotacoes Fechamento USD 2015- 2 semestre.csv\"\u001b[0m\u001b[0;34m,\u001b[0m\u001b[0mheader\u001b[0m\u001b[0;34m=\u001b[0m\u001b[0minfer\u001b[0m\u001b[0;34m)\u001b[0m\u001b[0;34m\u001b[0m\u001b[0;34m\u001b[0m\u001b[0m\n\u001b[1;32m      3\u001b[0m \u001b[0mli\u001b[0m\u001b[0;34m=\u001b[0m\u001b[0;34m[\u001b[0m\u001b[0;34m]\u001b[0m\u001b[0;34m\u001b[0m\u001b[0;34m\u001b[0m\u001b[0m\n\u001b[1;32m      4\u001b[0m \u001b[0mli\u001b[0m\u001b[0;34m.\u001b[0m\u001b[0mappend\u001b[0m\u001b[0;34m(\u001b[0m\u001b[0mdf1\u001b[0m\u001b[0;34m)\u001b[0m\u001b[0;34m\u001b[0m\u001b[0;34m\u001b[0m\u001b[0m\n\u001b[1;32m      5\u001b[0m \u001b[0mli\u001b[0m\u001b[0;34m.\u001b[0m\u001b[0mappend\u001b[0m\u001b[0;34m(\u001b[0m\u001b[0mdf2\u001b[0m\u001b[0;34m)\u001b[0m\u001b[0;34m\u001b[0m\u001b[0;34m\u001b[0m\u001b[0m\n",
            "\u001b[0;31mNameError\u001b[0m: name 'infer' is not defined"
          ]
        }
      ]
    },
    {
      "cell_type": "code",
      "metadata": {
        "id": "vplSOx7_iUd6"
      },
      "source": [
        "df1 = pd.read_csv(\"Cotacoes Fechamento USD 2015- 1 semestre.csv\")\r\n",
        "df2 = pd.read_csv(\"Cotacoes Fechamento USD 2015- 2 semestre.csv\")"
      ],
      "execution_count": null,
      "outputs": []
    },
    {
      "cell_type": "code",
      "metadata": {
        "id": "4FEftTCKiW2m"
      },
      "source": [
        "df = df1.append(df2)"
      ],
      "execution_count": null,
      "outputs": []
    },
    {
      "cell_type": "code",
      "metadata": {
        "id": "iNyED8HDoNgK"
      },
      "source": [
        ""
      ],
      "execution_count": null,
      "outputs": []
    },
    {
      "cell_type": "code",
      "metadata": {
        "id": "h9Id9yyCdMFi"
      },
      "source": [
        "print"
      ],
      "execution_count": null,
      "outputs": []
    },
    {
      "cell_type": "code",
      "metadata": {
        "colab": {
          "base_uri": "https://localhost:8080/"
        },
        "id": "MiyDXXStbk6T",
        "outputId": "64063f17-96b6-46a3-9013-1041de35c0ad"
      },
      "source": [
        "print(frame)"
      ],
      "execution_count": null,
      "outputs": [
        {
          "output_type": "stream",
          "text": [
            "     02012015;220;A;USD;2  6923;2  6929;1  ...  01072015;220;A;USD;3  1185;3  1191;1\n",
            "0    05012015;220;A;USD;2  7101;2  7107;1  ...                   NaN     NaN     NaN\n",
            "1    06012015;220;A;USD;2  7016;2  7023;1  ...                   NaN     NaN     NaN\n",
            "2    07012015;220;A;USD;2  6801;2  6807;1  ...                   NaN     NaN     NaN\n",
            "3    08012015;220;A;USD;2  6913;2  6919;1  ...                   NaN     NaN     NaN\n",
            "4    09012015;220;A;USD;2  6577;2  6583;1  ...                   NaN     NaN     NaN\n",
            "..                    ...     ...     ...  ...                   ...     ...     ...\n",
            "122                   NaN     NaN     NaN  ...  24122015;220;A;USD;3  9511;3  9524;1\n",
            "123                   NaN     NaN     NaN  ...  28122015;220;A;USD;3  9180;3  9186;1\n",
            "124                   NaN     NaN     NaN  ...  29122015;220;A;USD;3  8486;3  8492;1\n",
            "125                   NaN     NaN     NaN  ...  30122015;220;A;USD;3  9042;3  9048;1\n",
            "126                   NaN     NaN     NaN  ...  31122015;220;A;USD;3  9042;3  9048;1\n",
            "\n",
            "[248 rows x 8 columns]\n"
          ],
          "name": "stdout"
        }
      ]
    },
    {
      "cell_type": "markdown",
      "metadata": {
        "id": "5EzXUYhbHWOj"
      },
      "source": [
        ""
      ]
    },
    {
      "cell_type": "code",
      "metadata": {
        "colab": {
          "base_uri": "https://localhost:8080/"
        },
        "id": "nf9D-GhZDnLQ",
        "outputId": "5b5c7051-126f-4f22-c26c-adf6d42c47fd"
      },
      "source": [
        "print(df)"
      ],
      "execution_count": null,
      "outputs": [
        {
          "output_type": "stream",
          "text": [
            "     02012015;220;A;USD;2  6923;2  6929;1  0000;1  ...  1185;3  1191;1  0000;1 0000\n",
            "0    05012015;220;A;USD;2  7101;2  7107;1  0000;1  ...  1166;3  1173;1  0000;1    0\n",
            "1    06012015;220;A;USD;2  7016;2  7023;1  0000;1  ...  1265;3  1271;1  0000;1    0\n",
            "2    07012015;220;A;USD;2  6801;2  6807;1  0000;1  ...  1425;3  1431;1  0000;1    0\n",
            "3    08012015;220;A;USD;2  6913;2  6919;1  0000;1  ...  1803;3  1809;1  0000;1    0\n",
            "4    09012015;220;A;USD;2  6577;2  6583;1  0000;1  ...  2275;3  2282;1  0000;1    0\n",
            "..                    ...     ...     ...     ...  ...     ...     ...     ...  ...\n",
            "122                   NaN     NaN     NaN     NaN  ...  9511;3  9524;1  0000;1    0\n",
            "123                   NaN     NaN     NaN     NaN  ...  9180;3  9186;1  0000;1    0\n",
            "124                   NaN     NaN     NaN     NaN  ...  8486;3  8492;1  0000;1    0\n",
            "125                   NaN     NaN     NaN     NaN  ...  9042;3  9048;1  0000;1    0\n",
            "126                   NaN     NaN     NaN     NaN  ...  9042;3  9048;1  0000;1    0\n",
            "\n",
            "[127 rows x 10 columns]\n"
          ],
          "name": "stdout"
        }
      ]
    },
    {
      "cell_type": "code",
      "metadata": {
        "id": "vUPaaQH0oPO7"
      },
      "source": [
        "import pandas as pd"
      ],
      "execution_count": null,
      "outputs": []
    },
    {
      "cell_type": "code",
      "metadata": {
        "id": "hHrVyF3_oTIh"
      },
      "source": [
        "df1 = pd.read_csv(\"Cotacoes Fechamento USD 2015- 1 semestre.csv\")\r\n",
        "df2 = pd.read_csv(\"Cotacoes Fechamento USD 2015- 2 semestre.csv\")"
      ],
      "execution_count": null,
      "outputs": []
    },
    {
      "cell_type": "code",
      "metadata": {
        "id": "hAURLnJcoYoh"
      },
      "source": [
        "df = pd.concat([df1, df2])"
      ],
      "execution_count": null,
      "outputs": []
    },
    {
      "cell_type": "code",
      "metadata": {
        "colab": {
          "base_uri": "https://localhost:8080/"
        },
        "id": "pPzm0OsBohGS",
        "outputId": "771f6b88-5aef-44ed-ebf8-50ffc1e1e919"
      },
      "source": [
        "print(df)"
      ],
      "execution_count": null,
      "outputs": [
        {
          "output_type": "stream",
          "text": [
            "                            Data;Codigo;Tipo;Sigla;Compra;Venda;Nada;Nadinha\n",
            "2012015;220;A;USD;2  6923;2                                         6929;1;1\n",
            "5012015;220;A;USD;2  7101;2                                         7107;1;1\n",
            "6012015;220;A;USD;2  7016;2                                         7023;1;1\n",
            "7012015;220;A;USD;2  6801;2                                         6807;1;1\n",
            "8012015;220;A;USD;2  6913;2                                         6919;1;1\n",
            "...                                                                      ...\n",
            "24122015;220;A;USD;3 9511;3                                         9524;1;1\n",
            "28122015;220;A;USD;3 918;3                                          9186;1;1\n",
            "29122015;220;A;USD;3 8486;3                                         8492;1;1\n",
            "30122015;220;A;USD;3 9042;3                                         9048;1;1\n",
            "31122015;220;A;USD;3 9042;3                                         9048;1;1\n",
            "\n",
            "[250 rows x 1 columns]\n"
          ],
          "name": "stdout"
        }
      ]
    },
    {
      "cell_type": "code",
      "metadata": {
        "id": "dCiJde2hqQqN"
      },
      "source": [
        "df.to_csv('teste.csv')"
      ],
      "execution_count": null,
      "outputs": []
    },
    {
      "cell_type": "markdown",
      "metadata": {
        "id": "XPzEvGlewiGd"
      },
      "source": [
        "# Nova seção"
      ]
    },
    {
      "cell_type": "code",
      "metadata": {
        "colab": {
          "base_uri": "https://localhost:8080/"
        },
        "id": "nRmW5LWRXP_t",
        "outputId": "cf8d5f5d-e62f-42ef-a68d-c88d8a53510b"
      },
      "source": [
        "!python consolidar_dataset_cotações_CSV.py.txt"
      ],
      "execution_count": 1,
      "outputs": [
        {
          "output_type": "stream",
          "text": [
            "                           Data;Codigo;Tipo;Sigla;Compra;Venda;X;Y\n",
            "4012016;220;A;USD;4 038;4                                 0387;1;1\n",
            "5012016;220;A;USD;4 0108;4                                0114;1;1\n",
            "6012016;220;A;USD;4 0297;4                                0303;1;1\n",
            "7012016;220;A;USD;4 0469;4                                0475;1;1\n",
            "8012016;220;A;USD;4 0244;4                                 025;1;1\n"
          ],
          "name": "stdout"
        }
      ]
    },
    {
      "cell_type": "code",
      "metadata": {
        "colab": {
          "base_uri": "https://localhost:8080/"
        },
        "id": "rc2MPYrmw-EO",
        "outputId": "4ce04422-5381-41f4-dffd-acd1b8e22cd4"
      },
      "source": [
        "!python consolidar_dataset_cotações_CSV.py.txt"
      ],
      "execution_count": null,
      "outputs": [
        {
          "output_type": "stream",
          "text": [
            "                           Data;Codigo;Tipo;Sigla;Compra;Venda;X;Y\n",
            "2012015;220;A;USD;2 6923;2                                6929;1;1\n",
            "5012015;220;A;USD;2 7101;2                                7107;1;1\n",
            "6012015;220;A;USD;2 7016;2                                7023;1;1\n",
            "7012015;220;A;USD;2 6801;2                                6807;1;1\n",
            "8012015;220;A;USD;2 6913;2                                6919;1;1\n"
          ],
          "name": "stdout"
        }
      ]
    }
  ]
}