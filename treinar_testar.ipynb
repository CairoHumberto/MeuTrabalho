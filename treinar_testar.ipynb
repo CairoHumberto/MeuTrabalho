{
  "nbformat": 4,
  "nbformat_minor": 0,
  "metadata": {
    "colab": {
      "name": "treinar_testar.ipynb",
      "provenance": [],
      "collapsed_sections": []
    },
    "kernelspec": {
      "name": "python3",
      "display_name": "Python 3"
    }
  },
  "cells": [
    {
      "cell_type": "code",
      "metadata": {
        "colab": {
          "base_uri": "https://localhost:8080/",
          "height": 432
        },
        "id": "pLGa6ipJFfJU",
        "outputId": "f8ed9d28-7549-4536-c641-80b442f81a7d"
      },
      "source": [
        "import pandas as pd\r\n",
        "import numpy as np\r\n",
        "from sklearn import datasets, tree\r\n",
        "from sklearn.model_selection import train_test_split\r\n",
        "from sklearn.tree import DecisionTreeClassifier\r\n",
        "from sklearn.metrics import accuracy_score, classification_report, confusion_matrix\r\n",
        "from sklearn.feature_extraction import DictVectorizer\r\n",
        "from sklearn.preprocessing import LabelEncoder\r\n",
        "\r\n",
        "from google.colab import files\r\n",
        "uploaded = files.upload()\r\n",
        "\r\n",
        "\r\n",
        "\r\n",
        "df_chegadas = pd.read_excel('Chegadas de turistas versus dólar - 2016 a 2019', sheet_name=0) \r\n",
        "print(\"\\nDimensões: {0}\".format(df_chegadas.shape))\r\n",
        "print(\"\\nCampos: {0}\".format(df_chegadas.keys()))\r\n",
        "print(df_chegadas.describe(), sep='\\n')\r\n",
        "\r\n",
        "#X = df_chegadas.iloc[:,0:(df_chegadas.shape[1] - 1)]\r\n",
        "X = df_chegadas.loc[:,['cod continente', 'cod pais','cod uf', 'cod via', 'cod mes', 'Cotação média do mês anterior']]\r\n",
        "\r\n",
        "#le = LabelEncoder()\r\n",
        "#y = le.fit_transform(df_chegadas.iloc[:,(df_chegadas.shape[1] - 1)])\r\n",
        "y = df_chegadas.loc[:,'Chegadas categorizadas - log 5']\r\n"
      ],
      "execution_count": null,
      "outputs": [
        {
          "output_type": "display_data",
          "data": {
            "text/html": [
              "\n",
              "     <input type=\"file\" id=\"files-2b3b9b8c-e8d9-4ead-a748-424726c4b9e4\" name=\"files[]\" multiple disabled\n",
              "        style=\"border:none\" />\n",
              "     <output id=\"result-2b3b9b8c-e8d9-4ead-a748-424726c4b9e4\">\n",
              "      Upload widget is only available when the cell has been executed in the\n",
              "      current browser session. Please rerun this cell to enable.\n",
              "      </output>\n",
              "      <script src=\"/nbextensions/google.colab/files.js\"></script> "
            ],
            "text/plain": [
              "<IPython.core.display.HTML object>"
            ]
          },
          "metadata": {
            "tags": []
          }
        },
        {
          "output_type": "error",
          "ename": "MessageError",
          "evalue": "ignored",
          "traceback": [
            "\u001b[0;31m---------------------------------------------------------------------------\u001b[0m",
            "\u001b[0;31mMessageError\u001b[0m                              Traceback (most recent call last)",
            "\u001b[0;32m<ipython-input-1-99a0da8cdba9>\u001b[0m in \u001b[0;36m<module>\u001b[0;34m()\u001b[0m\n\u001b[1;32m      9\u001b[0m \u001b[0;34m\u001b[0m\u001b[0m\n\u001b[1;32m     10\u001b[0m \u001b[0;32mfrom\u001b[0m \u001b[0mgoogle\u001b[0m\u001b[0;34m.\u001b[0m\u001b[0mcolab\u001b[0m \u001b[0;32mimport\u001b[0m \u001b[0mfiles\u001b[0m\u001b[0;34m\u001b[0m\u001b[0;34m\u001b[0m\u001b[0m\n\u001b[0;32m---> 11\u001b[0;31m \u001b[0muploaded\u001b[0m \u001b[0;34m=\u001b[0m \u001b[0mfiles\u001b[0m\u001b[0;34m.\u001b[0m\u001b[0mupload\u001b[0m\u001b[0;34m(\u001b[0m\u001b[0;34m)\u001b[0m\u001b[0;34m\u001b[0m\u001b[0;34m\u001b[0m\u001b[0m\n\u001b[0m\u001b[1;32m     12\u001b[0m \u001b[0;34m\u001b[0m\u001b[0m\n\u001b[1;32m     13\u001b[0m \u001b[0;34m\u001b[0m\u001b[0m\n",
            "\u001b[0;32m/usr/local/lib/python3.6/dist-packages/google/colab/files.py\u001b[0m in \u001b[0;36mupload\u001b[0;34m()\u001b[0m\n\u001b[1;32m     62\u001b[0m   result = _output.eval_js(\n\u001b[1;32m     63\u001b[0m       'google.colab._files._uploadFiles(\"{input_id}\", \"{output_id}\")'.format(\n\u001b[0;32m---> 64\u001b[0;31m           input_id=input_id, output_id=output_id))\n\u001b[0m\u001b[1;32m     65\u001b[0m   \u001b[0mfiles\u001b[0m \u001b[0;34m=\u001b[0m \u001b[0m_collections\u001b[0m\u001b[0;34m.\u001b[0m\u001b[0mdefaultdict\u001b[0m\u001b[0;34m(\u001b[0m\u001b[0m_six\u001b[0m\u001b[0;34m.\u001b[0m\u001b[0mbinary_type\u001b[0m\u001b[0;34m)\u001b[0m\u001b[0;34m\u001b[0m\u001b[0;34m\u001b[0m\u001b[0m\n\u001b[1;32m     66\u001b[0m   \u001b[0;31m# Mapping from original filename to filename as saved locally.\u001b[0m\u001b[0;34m\u001b[0m\u001b[0;34m\u001b[0m\u001b[0;34m\u001b[0m\u001b[0m\n",
            "\u001b[0;32m/usr/local/lib/python3.6/dist-packages/google/colab/output/_js.py\u001b[0m in \u001b[0;36meval_js\u001b[0;34m(script, ignore_result, timeout_sec)\u001b[0m\n\u001b[1;32m     38\u001b[0m   \u001b[0;32mif\u001b[0m \u001b[0mignore_result\u001b[0m\u001b[0;34m:\u001b[0m\u001b[0;34m\u001b[0m\u001b[0;34m\u001b[0m\u001b[0m\n\u001b[1;32m     39\u001b[0m     \u001b[0;32mreturn\u001b[0m\u001b[0;34m\u001b[0m\u001b[0;34m\u001b[0m\u001b[0m\n\u001b[0;32m---> 40\u001b[0;31m   \u001b[0;32mreturn\u001b[0m \u001b[0m_message\u001b[0m\u001b[0;34m.\u001b[0m\u001b[0mread_reply_from_input\u001b[0m\u001b[0;34m(\u001b[0m\u001b[0mrequest_id\u001b[0m\u001b[0;34m,\u001b[0m \u001b[0mtimeout_sec\u001b[0m\u001b[0;34m)\u001b[0m\u001b[0;34m\u001b[0m\u001b[0;34m\u001b[0m\u001b[0m\n\u001b[0m\u001b[1;32m     41\u001b[0m \u001b[0;34m\u001b[0m\u001b[0m\n\u001b[1;32m     42\u001b[0m \u001b[0;34m\u001b[0m\u001b[0m\n",
            "\u001b[0;32m/usr/local/lib/python3.6/dist-packages/google/colab/_message.py\u001b[0m in \u001b[0;36mread_reply_from_input\u001b[0;34m(message_id, timeout_sec)\u001b[0m\n\u001b[1;32m    104\u001b[0m         reply.get('colab_msg_id') == message_id):\n\u001b[1;32m    105\u001b[0m       \u001b[0;32mif\u001b[0m \u001b[0;34m'error'\u001b[0m \u001b[0;32min\u001b[0m \u001b[0mreply\u001b[0m\u001b[0;34m:\u001b[0m\u001b[0;34m\u001b[0m\u001b[0;34m\u001b[0m\u001b[0m\n\u001b[0;32m--> 106\u001b[0;31m         \u001b[0;32mraise\u001b[0m \u001b[0mMessageError\u001b[0m\u001b[0;34m(\u001b[0m\u001b[0mreply\u001b[0m\u001b[0;34m[\u001b[0m\u001b[0;34m'error'\u001b[0m\u001b[0;34m]\u001b[0m\u001b[0;34m)\u001b[0m\u001b[0;34m\u001b[0m\u001b[0;34m\u001b[0m\u001b[0m\n\u001b[0m\u001b[1;32m    107\u001b[0m       \u001b[0;32mreturn\u001b[0m \u001b[0mreply\u001b[0m\u001b[0;34m.\u001b[0m\u001b[0mget\u001b[0m\u001b[0;34m(\u001b[0m\u001b[0;34m'data'\u001b[0m\u001b[0;34m,\u001b[0m \u001b[0;32mNone\u001b[0m\u001b[0;34m)\u001b[0m\u001b[0;34m\u001b[0m\u001b[0;34m\u001b[0m\u001b[0m\n\u001b[1;32m    108\u001b[0m \u001b[0;34m\u001b[0m\u001b[0m\n",
            "\u001b[0;31mMessageError\u001b[0m: TypeError: Cannot read property '_uploadFiles' of undefined"
          ]
        }
      ]
    },
    {
      "cell_type": "code",
      "metadata": {
        "colab": {
          "base_uri": "https://localhost:8080/"
        },
        "id": "o6K0Twgz6w36",
        "outputId": "4fc2d3db-3b64-46c6-d7bc-ee98fdcbb254"
      },
      "source": [
        "\r\n",
        "\r\n",
        "!pip install pydotplus\r\n",
        "!pip install dtreeviz\r\n",
        "\r\n",
        "import pandas as pd\r\n",
        "import numpy as np\r\n",
        "from sklearn import datasets, tree\r\n",
        "from sklearn.model_selection import train_test_split\r\n",
        "from sklearn.tree import DecisionTreeClassifier\r\n",
        "from sklearn.metrics import accuracy_score, classification_report, confusion_matrix\r\n",
        "from sklearn.feature_extraction import DictVectorizer\r\n",
        "from sklearn.preprocessing import LabelEncoder\r\n",
        "\r\n",
        "#from google.colab import files\r\n",
        "#uploaded = files.upload()\r\n",
        "\r\n",
        "\r\n",
        "\r\n",
        "df_chegadas = pd.read_excel('Chegadas de turistas versus dólar - 2016 a 2019.xlsx', sheet_name=0) \r\n",
        "print(\"\\nDimensões: {0}\".format(df_chegadas.shape))\r\n",
        "print(\"\\nCampos: {0}\".format(df_chegadas.keys()))\r\n",
        "print(df_chegadas.describe(), sep='\\n')\r\n",
        "\r\n",
        "#X = df_chegadas.iloc[:,0:(df_chegadas.shape[1] - 1)]\r\n",
        "X = df_chegadas.loc[:,['cod continente', 'cod pais','cod uf', 'cod via', 'cod mes', 'Cotação média do mês anterior']]\r\n",
        "\r\n",
        "le = LabelEncoder()\r\n",
        "y = le.fit_transform(df_chegadas.iloc[:,(df_chegadas.shape[1] - 1)])\r\n",
        "#y = df_chegadas.loc[:,'Chegadas categorizadas - log 5']\r\n",
        "\r\n",
        "\r\n",
        "# Particiona a base de dados\r\n",
        "# por default 75% para treinamento e 25% para teste\r\n",
        "X_train, X_test, y_train, y_test = train_test_split(X, y, random_state=0, test_size=0.1)\r\n",
        "\r\n",
        "\"\"\"### Indução do Modelo\r\n",
        "\r\n",
        "\r\n",
        "Os três passos para indução de um modelo são:\r\n",
        "\r\n",
        "1.   Instanciar o modelo: ``` DecisionTreeClassifier()```\r\n",
        "2.   Treinar o modelo: ```fit()```\r\n",
        "3.   Testar o modelo: ```predict()```\r\n",
        "\"\"\"\r\n",
        "\r\n",
        "df_chegadas_tree = DecisionTreeClassifier(random_state=0, criterion='entropy')\r\n",
        "#df_chegadas_tree = DecisionTreeRegressor(random_state=0, criterion='entropy')\r\n",
        "\r\n",
        "\r\n",
        "df_chegadas_tree = df_chegadas_tree.fit(X_train, y_train)\r\n",
        "print(\"Acurácia (base de treinamento):\", df_chegadas_tree.score(X_train, y_train))\r\n",
        "\r\n",
        "y_pred = df_chegadas_tree.predict(X_test)\r\n",
        "print(\"Acurácia de previsão:\", accuracy_score(y_test, y_pred))\r\n",
        "print(classification_report(y_test, y_pred, target_names=[\"Há chegadas\", \"Não há chegadas\"]))\r\n",
        "      \r\n",
        "cnf_matrix = confusion_matrix(y_test, y_pred)\r\n",
        "cnf_table = pd.DataFrame(data=cnf_matrix, index=[\"Há chegadas\", \"Não há chegadas\"], \r\n",
        "                         #\"columns=[\"Mina (prev)\", \"Rocha (prev)\"])\r\n",
        "                         columns=[\"Há chegadas (prev)\", \"Não há chegadas (prev)\"])\r\n",
        "print(cnf_table)\r\n"
      ],
      "execution_count": 1,
      "outputs": [
        {
          "output_type": "stream",
          "text": [
            "Requirement already satisfied: pydotplus in /usr/local/lib/python3.6/dist-packages (2.0.2)\n",
            "Requirement already satisfied: pyparsing>=2.0.1 in /usr/local/lib/python3.6/dist-packages (from pydotplus) (2.4.7)\n",
            "Collecting dtreeviz\n",
            "\u001b[?25l  Downloading https://files.pythonhosted.org/packages/66/46/3b9448e38808e12324fdd26ce89d1d180e71cccf6b3946dd0d0afe0cfde6/dtreeviz-1.1.4.tar.gz (50kB)\n",
            "\u001b[K     |████████████████████████████████| 51kB 2.9MB/s \n",
            "\u001b[?25hRequirement already satisfied: graphviz>=0.9 in /usr/local/lib/python3.6/dist-packages (from dtreeviz) (0.10.1)\n",
            "Requirement already satisfied: pandas in /usr/local/lib/python3.6/dist-packages (from dtreeviz) (1.1.5)\n",
            "Requirement already satisfied: numpy in /usr/local/lib/python3.6/dist-packages (from dtreeviz) (1.19.5)\n",
            "Requirement already satisfied: scikit-learn in /usr/local/lib/python3.6/dist-packages (from dtreeviz) (0.22.2.post1)\n",
            "Requirement already satisfied: matplotlib in /usr/local/lib/python3.6/dist-packages (from dtreeviz) (3.2.2)\n",
            "Collecting colour\n",
            "  Downloading https://files.pythonhosted.org/packages/74/46/e81907704ab203206769dee1385dc77e1407576ff8f50a0681d0a6b541be/colour-0.1.5-py2.py3-none-any.whl\n",
            "Requirement already satisfied: pytest in /usr/local/lib/python3.6/dist-packages (from dtreeviz) (3.6.4)\n",
            "Requirement already satisfied: python-dateutil>=2.7.3 in /usr/local/lib/python3.6/dist-packages (from pandas->dtreeviz) (2.8.1)\n",
            "Requirement already satisfied: pytz>=2017.2 in /usr/local/lib/python3.6/dist-packages (from pandas->dtreeviz) (2018.9)\n",
            "Requirement already satisfied: scipy>=0.17.0 in /usr/local/lib/python3.6/dist-packages (from scikit-learn->dtreeviz) (1.4.1)\n",
            "Requirement already satisfied: joblib>=0.11 in /usr/local/lib/python3.6/dist-packages (from scikit-learn->dtreeviz) (1.0.0)\n",
            "Requirement already satisfied: cycler>=0.10 in /usr/local/lib/python3.6/dist-packages (from matplotlib->dtreeviz) (0.10.0)\n",
            "Requirement already satisfied: kiwisolver>=1.0.1 in /usr/local/lib/python3.6/dist-packages (from matplotlib->dtreeviz) (1.3.1)\n",
            "Requirement already satisfied: pyparsing!=2.0.4,!=2.1.2,!=2.1.6,>=2.0.1 in /usr/local/lib/python3.6/dist-packages (from matplotlib->dtreeviz) (2.4.7)\n",
            "Requirement already satisfied: py>=1.5.0 in /usr/local/lib/python3.6/dist-packages (from pytest->dtreeviz) (1.10.0)\n",
            "Requirement already satisfied: setuptools in /usr/local/lib/python3.6/dist-packages (from pytest->dtreeviz) (53.0.0)\n",
            "Requirement already satisfied: pluggy<0.8,>=0.5 in /usr/local/lib/python3.6/dist-packages (from pytest->dtreeviz) (0.7.1)\n",
            "Requirement already satisfied: attrs>=17.4.0 in /usr/local/lib/python3.6/dist-packages (from pytest->dtreeviz) (20.3.0)\n",
            "Requirement already satisfied: atomicwrites>=1.0 in /usr/local/lib/python3.6/dist-packages (from pytest->dtreeviz) (1.4.0)\n",
            "Requirement already satisfied: six>=1.10.0 in /usr/local/lib/python3.6/dist-packages (from pytest->dtreeviz) (1.15.0)\n",
            "Requirement already satisfied: more-itertools>=4.0.0 in /usr/local/lib/python3.6/dist-packages (from pytest->dtreeviz) (8.6.0)\n",
            "Building wheels for collected packages: dtreeviz\n",
            "  Building wheel for dtreeviz (setup.py) ... \u001b[?25l\u001b[?25hdone\n",
            "  Created wheel for dtreeviz: filename=dtreeviz-1.1.4-cp36-none-any.whl size=53568 sha256=5203f80a92e60f10ebfc49003c47c2a271d848748ff712ca970ad4eb537c2d16\n",
            "  Stored in directory: /root/.cache/pip/wheels/6a/1b/01/8d804e4d3cf01cf38097a756b02c851a032c09e3a25feb7c50\n",
            "Successfully built dtreeviz\n",
            "Installing collected packages: colour, dtreeviz\n",
            "Successfully installed colour-0.1.5 dtreeviz-1.1.4\n",
            "\n",
            "Dimensões: (184140, 16)\n",
            "\n",
            "Campos: Index(['Unnamed: 0', 'Unnamed: 0.1', 'Continente', 'cod continente', 'País',\n",
            "       'cod pais', 'UF', 'cod uf', 'Via', 'cod via', 'ano', 'Mês', 'cod mes',\n",
            "       'Chegadas', 'Cotação média do mês anterior', 'Houve chegadas'],\n",
            "      dtype='object')\n",
            "          Unnamed: 0  ...  Cotação média do mês anterior\n",
            "count  184140.000000  ...                  184140.000000\n",
            "mean    92069.500000  ...                       3.580292\n",
            "std     53156.783622  ...                       0.345073\n",
            "min         0.000000  ...                       3.104194\n",
            "25%     46034.750000  ...                       3.241500\n",
            "50%     92069.500000  ...                       3.565845\n",
            "75%    138104.250000  ...                       3.885055\n",
            "max    184139.000000  ...                       4.155345\n",
            "\n",
            "[8 rows x 10 columns]\n",
            "Acurácia (base de treinamento): 1.0\n",
            "Acurácia de previsão: 0.8680894971217552\n",
            "                 precision    recall  f1-score   support\n",
            "\n",
            "    Há chegadas       0.90      0.90      0.90     12203\n",
            "Não há chegadas       0.80      0.81      0.80      6211\n",
            "\n",
            "       accuracy                           0.87     18414\n",
            "      macro avg       0.85      0.85      0.85     18414\n",
            "   weighted avg       0.87      0.87      0.87     18414\n",
            "\n",
            "                 Há chegadas (prev)  Não há chegadas (prev)\n",
            "Há chegadas                   10973                    1230\n",
            "Não há chegadas                1199                    5012\n"
          ],
          "name": "stdout"
        }
      ]
    },
    {
      "cell_type": "code",
      "metadata": {
        "colab": {
          "base_uri": "https://localhost:8080/",
          "height": 445
        },
        "id": "Lbw599TPs_mG",
        "outputId": "1d4190de-6d33-4b32-ac46-f91015b237a6"
      },
      "source": [
        "import numpy as np\r\n",
        "from sklearn import datasets, tree\r\n",
        "from sklearn.model_selection import train_test_split\r\n",
        "from sklearn.tree import DecisionTreeClassifier\r\n",
        "from sklearn.metrics import accuracy_score, classification_report, confusion_matrix\r\n",
        "from sklearn.feature_extraction import DictVectorizer\r\n",
        "from sklearn.preprocessing import LabelEncoder\r\n",
        "\r\n",
        "#from google.colab import files\r\n",
        "#uploaded = files.upload()\r\n",
        "\r\n",
        "\r\n",
        "\r\n",
        "df_chegadas = pd.read_excel('Chegadas de turistas versus dólar - 2016 a 2019', sheet_name=0) \r\n",
        "print(\"\\nDimensões: {0}\".format(df_chegadas.shape))\r\n",
        "print(\"\\nCampos: {0}\".format(df_chegadas.keys()))\r\n",
        "print(df_chegadas.describe(), sep='\\n')\r\n",
        "\r\n",
        "#X = df_chegadas.iloc[:,0:(df_chegadas.shape[1] - 1)]\r\n",
        "X = df_chegadas.loc[:,['cod continente', 'cod pais','cod uf', 'cod via', 'cod mes', 'Cotação média do mês anterior']]\r\n",
        "\r\n",
        "#le = LabelEncoder()\r\n",
        "#y = le.fit_transform(df_chegadas.iloc[:,(df_chegadas.shape[1] - 1)])\r\n",
        "y = df_chegadas.loc[:,'Chegadas categorizadas - log 5']\r\n"
      ],
      "execution_count": null,
      "outputs": [
        {
          "output_type": "error",
          "ename": "FileNotFoundError",
          "evalue": "ignored",
          "traceback": [
            "\u001b[0;31m---------------------------------------------------------------------------\u001b[0m",
            "\u001b[0;31mFileNotFoundError\u001b[0m                         Traceback (most recent call last)",
            "\u001b[0;32m<ipython-input-2-eb876fdd28a8>\u001b[0m in \u001b[0;36m<module>\u001b[0;34m()\u001b[0m\n\u001b[1;32m     12\u001b[0m \u001b[0;34m\u001b[0m\u001b[0m\n\u001b[1;32m     13\u001b[0m \u001b[0;34m\u001b[0m\u001b[0m\n\u001b[0;32m---> 14\u001b[0;31m \u001b[0mdf_chegadas\u001b[0m \u001b[0;34m=\u001b[0m \u001b[0mpd\u001b[0m\u001b[0;34m.\u001b[0m\u001b[0mread_excel\u001b[0m\u001b[0;34m(\u001b[0m\u001b[0;34m'Chegadas de turistas versus dólar - 2016 a 2019'\u001b[0m\u001b[0;34m,\u001b[0m \u001b[0msheet_name\u001b[0m\u001b[0;34m=\u001b[0m\u001b[0;36m0\u001b[0m\u001b[0;34m)\u001b[0m\u001b[0;34m\u001b[0m\u001b[0;34m\u001b[0m\u001b[0m\n\u001b[0m\u001b[1;32m     15\u001b[0m \u001b[0mprint\u001b[0m\u001b[0;34m(\u001b[0m\u001b[0;34m\"\\nDimensões: {0}\"\u001b[0m\u001b[0;34m.\u001b[0m\u001b[0mformat\u001b[0m\u001b[0;34m(\u001b[0m\u001b[0mdf_chegadas\u001b[0m\u001b[0;34m.\u001b[0m\u001b[0mshape\u001b[0m\u001b[0;34m)\u001b[0m\u001b[0;34m)\u001b[0m\u001b[0;34m\u001b[0m\u001b[0;34m\u001b[0m\u001b[0m\n\u001b[1;32m     16\u001b[0m \u001b[0mprint\u001b[0m\u001b[0;34m(\u001b[0m\u001b[0;34m\"\\nCampos: {0}\"\u001b[0m\u001b[0;34m.\u001b[0m\u001b[0mformat\u001b[0m\u001b[0;34m(\u001b[0m\u001b[0mdf_chegadas\u001b[0m\u001b[0;34m.\u001b[0m\u001b[0mkeys\u001b[0m\u001b[0;34m(\u001b[0m\u001b[0;34m)\u001b[0m\u001b[0;34m)\u001b[0m\u001b[0;34m)\u001b[0m\u001b[0;34m\u001b[0m\u001b[0;34m\u001b[0m\u001b[0m\n",
            "\u001b[0;32m/usr/local/lib/python3.6/dist-packages/pandas/util/_decorators.py\u001b[0m in \u001b[0;36mwrapper\u001b[0;34m(*args, **kwargs)\u001b[0m\n\u001b[1;32m    294\u001b[0m                 )\n\u001b[1;32m    295\u001b[0m                 \u001b[0mwarnings\u001b[0m\u001b[0;34m.\u001b[0m\u001b[0mwarn\u001b[0m\u001b[0;34m(\u001b[0m\u001b[0mmsg\u001b[0m\u001b[0;34m,\u001b[0m \u001b[0mFutureWarning\u001b[0m\u001b[0;34m,\u001b[0m \u001b[0mstacklevel\u001b[0m\u001b[0;34m=\u001b[0m\u001b[0mstacklevel\u001b[0m\u001b[0;34m)\u001b[0m\u001b[0;34m\u001b[0m\u001b[0;34m\u001b[0m\u001b[0m\n\u001b[0;32m--> 296\u001b[0;31m             \u001b[0;32mreturn\u001b[0m \u001b[0mfunc\u001b[0m\u001b[0;34m(\u001b[0m\u001b[0;34m*\u001b[0m\u001b[0margs\u001b[0m\u001b[0;34m,\u001b[0m \u001b[0;34m**\u001b[0m\u001b[0mkwargs\u001b[0m\u001b[0;34m)\u001b[0m\u001b[0;34m\u001b[0m\u001b[0;34m\u001b[0m\u001b[0m\n\u001b[0m\u001b[1;32m    297\u001b[0m \u001b[0;34m\u001b[0m\u001b[0m\n\u001b[1;32m    298\u001b[0m         \u001b[0;32mreturn\u001b[0m \u001b[0mwrapper\u001b[0m\u001b[0;34m\u001b[0m\u001b[0;34m\u001b[0m\u001b[0m\n",
            "\u001b[0;32m/usr/local/lib/python3.6/dist-packages/pandas/io/excel/_base.py\u001b[0m in \u001b[0;36mread_excel\u001b[0;34m(io, sheet_name, header, names, index_col, usecols, squeeze, dtype, engine, converters, true_values, false_values, skiprows, nrows, na_values, keep_default_na, na_filter, verbose, parse_dates, date_parser, thousands, comment, skipfooter, convert_float, mangle_dupe_cols)\u001b[0m\n\u001b[1;32m    302\u001b[0m \u001b[0;34m\u001b[0m\u001b[0m\n\u001b[1;32m    303\u001b[0m     \u001b[0;32mif\u001b[0m \u001b[0;32mnot\u001b[0m \u001b[0misinstance\u001b[0m\u001b[0;34m(\u001b[0m\u001b[0mio\u001b[0m\u001b[0;34m,\u001b[0m \u001b[0mExcelFile\u001b[0m\u001b[0;34m)\u001b[0m\u001b[0;34m:\u001b[0m\u001b[0;34m\u001b[0m\u001b[0;34m\u001b[0m\u001b[0m\n\u001b[0;32m--> 304\u001b[0;31m         \u001b[0mio\u001b[0m \u001b[0;34m=\u001b[0m \u001b[0mExcelFile\u001b[0m\u001b[0;34m(\u001b[0m\u001b[0mio\u001b[0m\u001b[0;34m,\u001b[0m \u001b[0mengine\u001b[0m\u001b[0;34m=\u001b[0m\u001b[0mengine\u001b[0m\u001b[0;34m)\u001b[0m\u001b[0;34m\u001b[0m\u001b[0;34m\u001b[0m\u001b[0m\n\u001b[0m\u001b[1;32m    305\u001b[0m     \u001b[0;32melif\u001b[0m \u001b[0mengine\u001b[0m \u001b[0;32mand\u001b[0m \u001b[0mengine\u001b[0m \u001b[0;34m!=\u001b[0m \u001b[0mio\u001b[0m\u001b[0;34m.\u001b[0m\u001b[0mengine\u001b[0m\u001b[0;34m:\u001b[0m\u001b[0;34m\u001b[0m\u001b[0;34m\u001b[0m\u001b[0m\n\u001b[1;32m    306\u001b[0m         raise ValueError(\n",
            "\u001b[0;32m/usr/local/lib/python3.6/dist-packages/pandas/io/excel/_base.py\u001b[0m in \u001b[0;36m__init__\u001b[0;34m(self, path_or_buffer, engine)\u001b[0m\n\u001b[1;32m    865\u001b[0m         \u001b[0mself\u001b[0m\u001b[0;34m.\u001b[0m\u001b[0m_io\u001b[0m \u001b[0;34m=\u001b[0m \u001b[0mstringify_path\u001b[0m\u001b[0;34m(\u001b[0m\u001b[0mpath_or_buffer\u001b[0m\u001b[0;34m)\u001b[0m\u001b[0;34m\u001b[0m\u001b[0;34m\u001b[0m\u001b[0m\n\u001b[1;32m    866\u001b[0m \u001b[0;34m\u001b[0m\u001b[0m\n\u001b[0;32m--> 867\u001b[0;31m         \u001b[0mself\u001b[0m\u001b[0;34m.\u001b[0m\u001b[0m_reader\u001b[0m \u001b[0;34m=\u001b[0m \u001b[0mself\u001b[0m\u001b[0;34m.\u001b[0m\u001b[0m_engines\u001b[0m\u001b[0;34m[\u001b[0m\u001b[0mengine\u001b[0m\u001b[0;34m]\u001b[0m\u001b[0;34m(\u001b[0m\u001b[0mself\u001b[0m\u001b[0;34m.\u001b[0m\u001b[0m_io\u001b[0m\u001b[0;34m)\u001b[0m\u001b[0;34m\u001b[0m\u001b[0;34m\u001b[0m\u001b[0m\n\u001b[0m\u001b[1;32m    868\u001b[0m \u001b[0;34m\u001b[0m\u001b[0m\n\u001b[1;32m    869\u001b[0m     \u001b[0;32mdef\u001b[0m \u001b[0m__fspath__\u001b[0m\u001b[0;34m(\u001b[0m\u001b[0mself\u001b[0m\u001b[0;34m)\u001b[0m\u001b[0;34m:\u001b[0m\u001b[0;34m\u001b[0m\u001b[0;34m\u001b[0m\u001b[0m\n",
            "\u001b[0;32m/usr/local/lib/python3.6/dist-packages/pandas/io/excel/_xlrd.py\u001b[0m in \u001b[0;36m__init__\u001b[0;34m(self, filepath_or_buffer)\u001b[0m\n\u001b[1;32m     20\u001b[0m         \u001b[0merr_msg\u001b[0m \u001b[0;34m=\u001b[0m \u001b[0;34m\"Install xlrd >= 1.0.0 for Excel support\"\u001b[0m\u001b[0;34m\u001b[0m\u001b[0;34m\u001b[0m\u001b[0m\n\u001b[1;32m     21\u001b[0m         \u001b[0mimport_optional_dependency\u001b[0m\u001b[0;34m(\u001b[0m\u001b[0;34m\"xlrd\"\u001b[0m\u001b[0;34m,\u001b[0m \u001b[0mextra\u001b[0m\u001b[0;34m=\u001b[0m\u001b[0merr_msg\u001b[0m\u001b[0;34m)\u001b[0m\u001b[0;34m\u001b[0m\u001b[0;34m\u001b[0m\u001b[0m\n\u001b[0;32m---> 22\u001b[0;31m         \u001b[0msuper\u001b[0m\u001b[0;34m(\u001b[0m\u001b[0;34m)\u001b[0m\u001b[0;34m.\u001b[0m\u001b[0m__init__\u001b[0m\u001b[0;34m(\u001b[0m\u001b[0mfilepath_or_buffer\u001b[0m\u001b[0;34m)\u001b[0m\u001b[0;34m\u001b[0m\u001b[0;34m\u001b[0m\u001b[0m\n\u001b[0m\u001b[1;32m     23\u001b[0m \u001b[0;34m\u001b[0m\u001b[0m\n\u001b[1;32m     24\u001b[0m     \u001b[0;34m@\u001b[0m\u001b[0mproperty\u001b[0m\u001b[0;34m\u001b[0m\u001b[0;34m\u001b[0m\u001b[0m\n",
            "\u001b[0;32m/usr/local/lib/python3.6/dist-packages/pandas/io/excel/_base.py\u001b[0m in \u001b[0;36m__init__\u001b[0;34m(self, filepath_or_buffer)\u001b[0m\n\u001b[1;32m    351\u001b[0m             \u001b[0mself\u001b[0m\u001b[0;34m.\u001b[0m\u001b[0mbook\u001b[0m \u001b[0;34m=\u001b[0m \u001b[0mself\u001b[0m\u001b[0;34m.\u001b[0m\u001b[0mload_workbook\u001b[0m\u001b[0;34m(\u001b[0m\u001b[0mfilepath_or_buffer\u001b[0m\u001b[0;34m)\u001b[0m\u001b[0;34m\u001b[0m\u001b[0;34m\u001b[0m\u001b[0m\n\u001b[1;32m    352\u001b[0m         \u001b[0;32melif\u001b[0m \u001b[0misinstance\u001b[0m\u001b[0;34m(\u001b[0m\u001b[0mfilepath_or_buffer\u001b[0m\u001b[0;34m,\u001b[0m \u001b[0mstr\u001b[0m\u001b[0;34m)\u001b[0m\u001b[0;34m:\u001b[0m\u001b[0;34m\u001b[0m\u001b[0;34m\u001b[0m\u001b[0m\n\u001b[0;32m--> 353\u001b[0;31m             \u001b[0mself\u001b[0m\u001b[0;34m.\u001b[0m\u001b[0mbook\u001b[0m \u001b[0;34m=\u001b[0m \u001b[0mself\u001b[0m\u001b[0;34m.\u001b[0m\u001b[0mload_workbook\u001b[0m\u001b[0;34m(\u001b[0m\u001b[0mfilepath_or_buffer\u001b[0m\u001b[0;34m)\u001b[0m\u001b[0;34m\u001b[0m\u001b[0;34m\u001b[0m\u001b[0m\n\u001b[0m\u001b[1;32m    354\u001b[0m         \u001b[0;32melif\u001b[0m \u001b[0misinstance\u001b[0m\u001b[0;34m(\u001b[0m\u001b[0mfilepath_or_buffer\u001b[0m\u001b[0;34m,\u001b[0m \u001b[0mbytes\u001b[0m\u001b[0;34m)\u001b[0m\u001b[0;34m:\u001b[0m\u001b[0;34m\u001b[0m\u001b[0;34m\u001b[0m\u001b[0m\n\u001b[1;32m    355\u001b[0m             \u001b[0mself\u001b[0m\u001b[0;34m.\u001b[0m\u001b[0mbook\u001b[0m \u001b[0;34m=\u001b[0m \u001b[0mself\u001b[0m\u001b[0;34m.\u001b[0m\u001b[0mload_workbook\u001b[0m\u001b[0;34m(\u001b[0m\u001b[0mBytesIO\u001b[0m\u001b[0;34m(\u001b[0m\u001b[0mfilepath_or_buffer\u001b[0m\u001b[0;34m)\u001b[0m\u001b[0;34m)\u001b[0m\u001b[0;34m\u001b[0m\u001b[0;34m\u001b[0m\u001b[0m\n",
            "\u001b[0;32m/usr/local/lib/python3.6/dist-packages/pandas/io/excel/_xlrd.py\u001b[0m in \u001b[0;36mload_workbook\u001b[0;34m(self, filepath_or_buffer)\u001b[0m\n\u001b[1;32m     35\u001b[0m             \u001b[0;32mreturn\u001b[0m \u001b[0mopen_workbook\u001b[0m\u001b[0;34m(\u001b[0m\u001b[0mfile_contents\u001b[0m\u001b[0;34m=\u001b[0m\u001b[0mdata\u001b[0m\u001b[0;34m)\u001b[0m\u001b[0;34m\u001b[0m\u001b[0;34m\u001b[0m\u001b[0m\n\u001b[1;32m     36\u001b[0m         \u001b[0;32melse\u001b[0m\u001b[0;34m:\u001b[0m\u001b[0;34m\u001b[0m\u001b[0;34m\u001b[0m\u001b[0m\n\u001b[0;32m---> 37\u001b[0;31m             \u001b[0;32mreturn\u001b[0m \u001b[0mopen_workbook\u001b[0m\u001b[0;34m(\u001b[0m\u001b[0mfilepath_or_buffer\u001b[0m\u001b[0;34m)\u001b[0m\u001b[0;34m\u001b[0m\u001b[0;34m\u001b[0m\u001b[0m\n\u001b[0m\u001b[1;32m     38\u001b[0m \u001b[0;34m\u001b[0m\u001b[0m\n\u001b[1;32m     39\u001b[0m     \u001b[0;34m@\u001b[0m\u001b[0mproperty\u001b[0m\u001b[0;34m\u001b[0m\u001b[0;34m\u001b[0m\u001b[0m\n",
            "\u001b[0;32m/usr/local/lib/python3.6/dist-packages/xlrd/__init__.py\u001b[0m in \u001b[0;36mopen_workbook\u001b[0;34m(filename, logfile, verbosity, use_mmap, file_contents, encoding_override, formatting_info, on_demand, ragged_rows)\u001b[0m\n\u001b[1;32m    114\u001b[0m         \u001b[0mpeek\u001b[0m \u001b[0;34m=\u001b[0m \u001b[0mfile_contents\u001b[0m\u001b[0;34m[\u001b[0m\u001b[0;34m:\u001b[0m\u001b[0mpeeksz\u001b[0m\u001b[0;34m]\u001b[0m\u001b[0;34m\u001b[0m\u001b[0;34m\u001b[0m\u001b[0m\n\u001b[1;32m    115\u001b[0m     \u001b[0;32melse\u001b[0m\u001b[0;34m:\u001b[0m\u001b[0;34m\u001b[0m\u001b[0;34m\u001b[0m\u001b[0m\n\u001b[0;32m--> 116\u001b[0;31m         \u001b[0;32mwith\u001b[0m \u001b[0mopen\u001b[0m\u001b[0;34m(\u001b[0m\u001b[0mfilename\u001b[0m\u001b[0;34m,\u001b[0m \u001b[0;34m\"rb\"\u001b[0m\u001b[0;34m)\u001b[0m \u001b[0;32mas\u001b[0m \u001b[0mf\u001b[0m\u001b[0;34m:\u001b[0m\u001b[0;34m\u001b[0m\u001b[0;34m\u001b[0m\u001b[0m\n\u001b[0m\u001b[1;32m    117\u001b[0m             \u001b[0mpeek\u001b[0m \u001b[0;34m=\u001b[0m \u001b[0mf\u001b[0m\u001b[0;34m.\u001b[0m\u001b[0mread\u001b[0m\u001b[0;34m(\u001b[0m\u001b[0mpeeksz\u001b[0m\u001b[0;34m)\u001b[0m\u001b[0;34m\u001b[0m\u001b[0;34m\u001b[0m\u001b[0m\n\u001b[1;32m    118\u001b[0m     \u001b[0;32mif\u001b[0m \u001b[0mpeek\u001b[0m \u001b[0;34m==\u001b[0m \u001b[0;34mb\"PK\\x03\\x04\"\u001b[0m\u001b[0;34m:\u001b[0m \u001b[0;31m# a ZIP file\u001b[0m\u001b[0;34m\u001b[0m\u001b[0;34m\u001b[0m\u001b[0m\n",
            "\u001b[0;31mFileNotFoundError\u001b[0m: [Errno 2] No such file or directory: 'Chegadas de turistas versus dólar - 2016 a 2019'"
          ]
        }
      ]
    },
    {
      "cell_type": "code",
      "metadata": {
        "colab": {
          "base_uri": "https://localhost:8080/"
        },
        "id": "JnygkAYPtrm9",
        "outputId": "652378bc-4547-4961-a050-eefc9c82e322"
      },
      "source": [
        "import pandas as pd\r\n",
        "import numpy as np\r\n",
        "from sklearn import datasets, tree\r\n",
        "from sklearn.model_selection import train_test_split\r\n",
        "from sklearn.tree import DecisionTreeClassifier\r\n",
        "from sklearn.metrics import accuracy_score, classification_report, confusion_matrix\r\n",
        "from sklearn.feature_extraction import DictVectorizer\r\n",
        "from sklearn.preprocessing import LabelEncoder\r\n",
        "\r\n",
        "#from google.colab import files\r\n",
        "#uploaded = files.upload()\r\n",
        "\r\n",
        "\r\n",
        "\r\n",
        "df_chegadas = pd.read_excel('Chegadas de turistas versus dólar - 2016 a 2019.xlsx', sheet_name=0) \r\n",
        "print(\"\\nDimensões: {0}\".format(df_chegadas.shape))\r\n",
        "print(\"\\nCampos: {0}\".format(df_chegadas.keys()))\r\n",
        "print(df_chegadas.describe(), sep='\\n')\r\n",
        "\r\n",
        "#X = df_chegadas.iloc[:,0:(df_chegadas.shape[1] - 1)]\r\n",
        "X = df_chegadas.loc[:,['cod continente', 'cod pais','cod uf', 'cod via', 'cod mes', 'Cotação média do mês anterior']]\r\n",
        "\r\n",
        "#le = LabelEncoder()\r\n",
        "#y = le.fit_transform(df_chegadas.iloc[:,(df_chegadas.shape[1] - 1)])\r\n",
        "y = df_chegadas.loc[:,'Chegadas categorizadas - log 5']\r\n"
      ],
      "execution_count": null,
      "outputs": [
        {
          "output_type": "stream",
          "text": [
            "\n",
            "Dimensões: (184140, 16)\n",
            "\n",
            "Campos: Index(['Unnamed: 0', 'Unnamed: 0.1', 'Continente', 'cod continente', 'País',\n",
            "       'cod pais', 'UF', 'cod uf', 'Via', 'cod via', 'ano', 'Mês', 'cod mes',\n",
            "       'Chegadas', 'Cotação média do mês anterior',\n",
            "       'Chegadas categorizadas - log 5'],\n",
            "      dtype='object')\n",
            "          Unnamed: 0  ...  Chegadas categorizadas - log 5\n",
            "count  184140.000000  ...                   184140.000000\n",
            "mean    92069.500000  ...                        0.416477\n",
            "std     53156.783622  ...                        0.988122\n",
            "min         0.000000  ...                        0.000000\n",
            "25%     46034.750000  ...                        0.000000\n",
            "50%     92069.500000  ...                        0.000000\n",
            "75%    138104.250000  ...                        0.000000\n",
            "max    184139.000000  ...                        7.000000\n",
            "\n",
            "[8 rows x 11 columns]\n"
          ],
          "name": "stdout"
        }
      ]
    },
    {
      "cell_type": "code",
      "metadata": {
        "id": "_92tTGkRuD8G"
      },
      "source": [
        "X_train, X_test, y_train, y_test = train_test_split(X, y, random_state=0, test_size=0.1)"
      ],
      "execution_count": null,
      "outputs": []
    },
    {
      "cell_type": "code",
      "metadata": {
        "colab": {
          "base_uri": "https://localhost:8080/",
          "height": 220
        },
        "id": "C9nzw85zuL7m",
        "outputId": "ef737e44-33e3-45e9-8946-ad6820ca9612"
      },
      "source": [
        "X_test.head()"
      ],
      "execution_count": null,
      "outputs": [
        {
          "output_type": "execute_result",
          "data": {
            "text/html": [
              "<div>\n",
              "<style scoped>\n",
              "    .dataframe tbody tr th:only-of-type {\n",
              "        vertical-align: middle;\n",
              "    }\n",
              "\n",
              "    .dataframe tbody tr th {\n",
              "        vertical-align: top;\n",
              "    }\n",
              "\n",
              "    .dataframe thead th {\n",
              "        text-align: right;\n",
              "    }\n",
              "</style>\n",
              "<table border=\"1\" class=\"dataframe\">\n",
              "  <thead>\n",
              "    <tr style=\"text-align: right;\">\n",
              "      <th></th>\n",
              "      <th>cod continente</th>\n",
              "      <th>cod pais</th>\n",
              "      <th>cod uf</th>\n",
              "      <th>cod via</th>\n",
              "      <th>cod mes</th>\n",
              "      <th>Cotação média do mês anterior</th>\n",
              "    </tr>\n",
              "  </thead>\n",
              "  <tbody>\n",
              "    <tr>\n",
              "      <th>181691</th>\n",
              "      <td>6</td>\n",
              "      <td>129</td>\n",
              "      <td>24</td>\n",
              "      <td>2</td>\n",
              "      <td>12</td>\n",
              "      <td>4.155345</td>\n",
              "    </tr>\n",
              "    <tr>\n",
              "      <th>145548</th>\n",
              "      <td>5</td>\n",
              "      <td>43</td>\n",
              "      <td>5</td>\n",
              "      <td>1</td>\n",
              "      <td>1</td>\n",
              "      <td>3.885055</td>\n",
              "    </tr>\n",
              "    <tr>\n",
              "      <th>170310</th>\n",
              "      <td>8</td>\n",
              "      <td>999</td>\n",
              "      <td>20</td>\n",
              "      <td>3</td>\n",
              "      <td>7</td>\n",
              "      <td>3.858826</td>\n",
              "    </tr>\n",
              "    <tr>\n",
              "      <th>123434</th>\n",
              "      <td>1</td>\n",
              "      <td>151</td>\n",
              "      <td>21</td>\n",
              "      <td>4</td>\n",
              "      <td>3</td>\n",
              "      <td>3.241500</td>\n",
              "    </tr>\n",
              "    <tr>\n",
              "      <th>156167</th>\n",
              "      <td>6</td>\n",
              "      <td>215</td>\n",
              "      <td>99</td>\n",
              "      <td>1</td>\n",
              "      <td>12</td>\n",
              "      <td>4.155345</td>\n",
              "    </tr>\n",
              "  </tbody>\n",
              "</table>\n",
              "</div>"
            ],
            "text/plain": [
              "        cod continente  cod pais  ...  cod mes  Cotação média do mês anterior\n",
              "181691               6       129  ...       12                       4.155345\n",
              "145548               5        43  ...        1                       3.885055\n",
              "170310               8       999  ...        7                       3.858826\n",
              "123434               1       151  ...        3                       3.241500\n",
              "156167               6       215  ...       12                       4.155345\n",
              "\n",
              "[5 rows x 6 columns]"
            ]
          },
          "metadata": {
            "tags": []
          },
          "execution_count": 6
        }
      ]
    },
    {
      "cell_type": "code",
      "metadata": {
        "colab": {
          "base_uri": "https://localhost:8080/"
        },
        "id": "usHM1Y7Xuto1",
        "outputId": "5d995114-9752-434f-af96-680021b33f09"
      },
      "source": [
        "y_test"
      ],
      "execution_count": null,
      "outputs": [
        {
          "output_type": "execute_result",
          "data": {
            "text/plain": [
              "181691    0\n",
              "145548    0\n",
              "170310    0\n",
              "123434    0\n",
              "156167    0\n",
              "         ..\n",
              "135795    0\n",
              "170844    0\n",
              "107767    0\n",
              "46997     0\n",
              "128949    0\n",
              "Name: Chegadas categorizadas - log 5, Length: 18414, dtype: int64"
            ]
          },
          "metadata": {
            "tags": []
          },
          "execution_count": 16
        }
      ]
    },
    {
      "cell_type": "code",
      "metadata": {
        "colab": {
          "base_uri": "https://localhost:8080/"
        },
        "id": "60HwmtxFv0dM",
        "outputId": "909f8968-3a53-47ae-82aa-443ca84dde11"
      },
      "source": [
        "df_chegadas_tree = DecisionTreeClassifier(random_state=0, criterion='entropy')\r\n",
        "df_chegadas_tree = df_chegadas_tree.fit(X_train, y_train)\r\n",
        "print(\"Acurácia (base de treinamento):\", df_chegadas_tree.score(X_train, y_train))"
      ],
      "execution_count": null,
      "outputs": [
        {
          "output_type": "stream",
          "text": [
            "Acurácia (base de treinamento): 1.0\n"
          ],
          "name": "stdout"
        }
      ]
    },
    {
      "cell_type": "code",
      "metadata": {
        "colab": {
          "base_uri": "https://localhost:8080/"
        },
        "id": "_DlDhDqrwJZm",
        "outputId": "49a3f8bf-3e30-4162-bbf6-70c7bb6416b5"
      },
      "source": [
        "y_pred = df_chegadas_tree.predict(X_test)\r\n",
        "print(\"Acurácia de previsão:\", accuracy_score(y_test, y_pred))"
      ],
      "execution_count": null,
      "outputs": [
        {
          "output_type": "stream",
          "text": [
            "Acurácia de previsão: 0.8900836320191159\n"
          ],
          "name": "stdout"
        }
      ]
    },
    {
      "cell_type": "code",
      "metadata": {
        "colab": {
          "base_uri": "https://localhost:8080/"
        },
        "id": "hZCYv0bHxeQW",
        "outputId": "e9d262f5-18f3-4df4-a2e5-32ada4872521"
      },
      "source": [
        "y_pred = df_chegadas_tree.predict(X_test)\r\n",
        "print(\"Acurácia de previsão:\", accuracy_score(y_test, y_pred))\r\n",
        "print(classification_report(y_test, y_pred, target_names=[\"cat1\", \"cat2\", \"cat3\", \"cat4\", \"cat5\",  \"cat6\", \"cat7\", \"cat8\"]))"
      ],
      "execution_count": null,
      "outputs": [
        {
          "output_type": "stream",
          "text": [
            "Acurácia de previsão: 0.8900836320191159\n",
            "              precision    recall  f1-score   support\n",
            "\n",
            "        cat1       0.96      0.96      0.96     14661\n",
            "        cat2       0.52      0.53      0.52      1595\n",
            "        cat3       0.66      0.67      0.66      1051\n",
            "        cat4       0.69      0.72      0.71       598\n",
            "        cat5       0.75      0.73      0.74       321\n",
            "        cat6       0.83      0.82      0.82       157\n",
            "        cat7       0.77      0.82      0.79        28\n",
            "        cat8       1.00      1.00      1.00         3\n",
            "\n",
            "    accuracy                           0.89     18414\n",
            "   macro avg       0.77      0.78      0.78     18414\n",
            "weighted avg       0.89      0.89      0.89     18414\n",
            "\n"
          ],
          "name": "stdout"
        }
      ]
    },
    {
      "cell_type": "code",
      "metadata": {
        "colab": {
          "base_uri": "https://localhost:8080/",
          "height": 130
        },
        "id": "4aAIvGw8xxy2",
        "outputId": "c9aff794-85d4-4bb4-ca4b-7e67422f5419"
      },
      "source": [
        "cnf_matrix = confusion_matrix(y_test, y_pred)\r\n",
        "cnf_table = pd.DataFrame(data=cnf_matrix, index=[\"cat1\", \"cat2\", \"cat3\", \"cat4\", \"cat5\",  \"cat6\", \"cat7\", \"cat8\"], \r\n",
        "                         \"columns=[\"Mina (prev)\", \"Rocha (prev)\"])\r\n",
        "                         columns=[\"cat1 (prev)\", \"cat2 (prev)\", \"cat3 (prev)\", \"cat4 (prev)\", \"cat5 (prev)\",  \"cat6 (prev)\", \"cat7 (prev)\", \"cat8 (prev)\"])\r\n",
        "print(cnf_table)"
      ],
      "execution_count": null,
      "outputs": [
        {
          "output_type": "error",
          "ename": "SyntaxError",
          "evalue": "ignored",
          "traceback": [
            "\u001b[0;36m  File \u001b[0;32m\"<ipython-input-20-2440f3af6735>\"\u001b[0;36m, line \u001b[0;32m3\u001b[0m\n\u001b[0;31m    \"columns=[\"Mina (prev)\", \"Rocha (prev)\"])\u001b[0m\n\u001b[0m                  ^\u001b[0m\n\u001b[0;31mSyntaxError\u001b[0m\u001b[0;31m:\u001b[0m invalid syntax\n"
          ]
        }
      ]
    },
    {
      "cell_type": "code",
      "metadata": {
        "colab": {
          "base_uri": "https://localhost:8080/"
        },
        "id": "UPpFHUP02RBF",
        "outputId": "53350f20-5e47-40db-a8e8-c8013cd0af12"
      },
      "source": [
        "cnf_matrix = confusion_matrix(y_test, y_pred)\r\n",
        "cnf_table = pd.DataFrame(data=cnf_matrix, index=[\"cat1\", \"cat2\", \"cat3\", \"cat4\", \"cat5\",  \"cat6\", \"cat7\", \"cat8\"], \r\n",
        "                         #\"columns=[\"Mina (prev)\", \"Rocha (prev)\"])\r\n",
        "                         columns=[\"cat1 (prev)\", \"cat2 (prev)\", \"cat3 (prev)\", \"cat4 (prev)\", \"cat5 (prev)\",  \"cat6 (prev)\", \"cat7 (prev)\", \"cat8 (prev)\"])\r\n",
        "print(cnf_table)"
      ],
      "execution_count": null,
      "outputs": [
        {
          "output_type": "stream",
          "text": [
            "      cat1 (prev)  cat2 (prev)  ...  cat7 (prev)  cat8 (prev)\n",
            "cat1        14019          590  ...            0            0\n",
            "cat2          508          848  ...            0            0\n",
            "cat3           48          185  ...            0            0\n",
            "cat4            6           11  ...            0            0\n",
            "cat5            2            1  ...            0            0\n",
            "cat6            0            1  ...            7            0\n",
            "cat7            0            0  ...           23            0\n",
            "cat8            0            0  ...            0            3\n",
            "\n",
            "[8 rows x 8 columns]\n"
          ],
          "name": "stdout"
        }
      ]
    },
    {
      "cell_type": "code",
      "metadata": {
        "colab": {
          "base_uri": "https://localhost:8080/",
          "height": 312
        },
        "id": "zvawxw853IL9",
        "outputId": "f18d6990-2f3a-4aff-8b9e-4f517caca542"
      },
      "source": [
        "cnf_table"
      ],
      "execution_count": null,
      "outputs": [
        {
          "output_type": "execute_result",
          "data": {
            "text/html": [
              "<div>\n",
              "<style scoped>\n",
              "    .dataframe tbody tr th:only-of-type {\n",
              "        vertical-align: middle;\n",
              "    }\n",
              "\n",
              "    .dataframe tbody tr th {\n",
              "        vertical-align: top;\n",
              "    }\n",
              "\n",
              "    .dataframe thead th {\n",
              "        text-align: right;\n",
              "    }\n",
              "</style>\n",
              "<table border=\"1\" class=\"dataframe\">\n",
              "  <thead>\n",
              "    <tr style=\"text-align: right;\">\n",
              "      <th></th>\n",
              "      <th>cat1 (prev)</th>\n",
              "      <th>cat2 (prev)</th>\n",
              "      <th>cat3 (prev)</th>\n",
              "      <th>cat4 (prev)</th>\n",
              "      <th>cat5 (prev)</th>\n",
              "      <th>cat6 (prev)</th>\n",
              "      <th>cat7 (prev)</th>\n",
              "      <th>cat8 (prev)</th>\n",
              "    </tr>\n",
              "  </thead>\n",
              "  <tbody>\n",
              "    <tr>\n",
              "      <th>cat1</th>\n",
              "      <td>14019</td>\n",
              "      <td>590</td>\n",
              "      <td>40</td>\n",
              "      <td>9</td>\n",
              "      <td>2</td>\n",
              "      <td>1</td>\n",
              "      <td>0</td>\n",
              "      <td>0</td>\n",
              "    </tr>\n",
              "    <tr>\n",
              "      <th>cat2</th>\n",
              "      <td>508</td>\n",
              "      <td>848</td>\n",
              "      <td>229</td>\n",
              "      <td>10</td>\n",
              "      <td>0</td>\n",
              "      <td>0</td>\n",
              "      <td>0</td>\n",
              "      <td>0</td>\n",
              "    </tr>\n",
              "    <tr>\n",
              "      <th>cat3</th>\n",
              "      <td>48</td>\n",
              "      <td>185</td>\n",
              "      <td>703</td>\n",
              "      <td>113</td>\n",
              "      <td>2</td>\n",
              "      <td>0</td>\n",
              "      <td>0</td>\n",
              "      <td>0</td>\n",
              "    </tr>\n",
              "    <tr>\n",
              "      <th>cat4</th>\n",
              "      <td>6</td>\n",
              "      <td>11</td>\n",
              "      <td>96</td>\n",
              "      <td>433</td>\n",
              "      <td>52</td>\n",
              "      <td>0</td>\n",
              "      <td>0</td>\n",
              "      <td>0</td>\n",
              "    </tr>\n",
              "    <tr>\n",
              "      <th>cat5</th>\n",
              "      <td>2</td>\n",
              "      <td>1</td>\n",
              "      <td>3</td>\n",
              "      <td>62</td>\n",
              "      <td>233</td>\n",
              "      <td>20</td>\n",
              "      <td>0</td>\n",
              "      <td>0</td>\n",
              "    </tr>\n",
              "    <tr>\n",
              "      <th>cat6</th>\n",
              "      <td>0</td>\n",
              "      <td>1</td>\n",
              "      <td>0</td>\n",
              "      <td>1</td>\n",
              "      <td>20</td>\n",
              "      <td>128</td>\n",
              "      <td>7</td>\n",
              "      <td>0</td>\n",
              "    </tr>\n",
              "    <tr>\n",
              "      <th>cat7</th>\n",
              "      <td>0</td>\n",
              "      <td>0</td>\n",
              "      <td>0</td>\n",
              "      <td>0</td>\n",
              "      <td>0</td>\n",
              "      <td>5</td>\n",
              "      <td>23</td>\n",
              "      <td>0</td>\n",
              "    </tr>\n",
              "    <tr>\n",
              "      <th>cat8</th>\n",
              "      <td>0</td>\n",
              "      <td>0</td>\n",
              "      <td>0</td>\n",
              "      <td>0</td>\n",
              "      <td>0</td>\n",
              "      <td>0</td>\n",
              "      <td>0</td>\n",
              "      <td>3</td>\n",
              "    </tr>\n",
              "  </tbody>\n",
              "</table>\n",
              "</div>"
            ],
            "text/plain": [
              "      cat1 (prev)  cat2 (prev)  ...  cat7 (prev)  cat8 (prev)\n",
              "cat1        14019          590  ...            0            0\n",
              "cat2          508          848  ...            0            0\n",
              "cat3           48          185  ...            0            0\n",
              "cat4            6           11  ...            0            0\n",
              "cat5            2            1  ...            0            0\n",
              "cat6            0            1  ...            7            0\n",
              "cat7            0            0  ...           23            0\n",
              "cat8            0            0  ...            0            3\n",
              "\n",
              "[8 rows x 8 columns]"
            ]
          },
          "metadata": {
            "tags": []
          },
          "execution_count": 22
        }
      ]
    },
    {
      "cell_type": "code",
      "metadata": {
        "colab": {
          "base_uri": "https://localhost:8080/",
          "height": 370
        },
        "id": "BzkQTM7F70Wx",
        "outputId": "6152b5b2-e0d8-4682-9106-718595bc1187"
      },
      "source": [
        "from dtreeviz.trees import *\r\n",
        "\r\n",
        "viz = dtreeviz(df_chegadas_tree,\r\n",
        "              X_train,\r\n",
        "              y_train,\r\n",
        "              target_name=\"Classe\",\r\n",
        "              feature_names=np.arange(0,60),\r\n",
        "              class_names=[\"mina\", \"rocha\"])  \r\n",
        "\r\n",
        "viz.view()"
      ],
      "execution_count": null,
      "outputs": [
        {
          "output_type": "error",
          "ename": "ModuleNotFoundError",
          "evalue": "ignored",
          "traceback": [
            "\u001b[0;31m---------------------------------------------------------------------------\u001b[0m",
            "\u001b[0;31mModuleNotFoundError\u001b[0m                       Traceback (most recent call last)",
            "\u001b[0;32m<ipython-input-23-73f50675e2bd>\u001b[0m in \u001b[0;36m<module>\u001b[0;34m()\u001b[0m\n\u001b[0;32m----> 1\u001b[0;31m \u001b[0;32mfrom\u001b[0m \u001b[0mdtreeviz\u001b[0m\u001b[0;34m.\u001b[0m\u001b[0mtrees\u001b[0m \u001b[0;32mimport\u001b[0m \u001b[0;34m*\u001b[0m\u001b[0;34m\u001b[0m\u001b[0;34m\u001b[0m\u001b[0m\n\u001b[0m\u001b[1;32m      2\u001b[0m \u001b[0;34m\u001b[0m\u001b[0m\n\u001b[1;32m      3\u001b[0m viz = dtreeviz(df_chegadas_tree,\n\u001b[1;32m      4\u001b[0m               \u001b[0mX_train\u001b[0m\u001b[0;34m,\u001b[0m\u001b[0;34m\u001b[0m\u001b[0;34m\u001b[0m\u001b[0m\n\u001b[1;32m      5\u001b[0m               \u001b[0my_train\u001b[0m\u001b[0;34m,\u001b[0m\u001b[0;34m\u001b[0m\u001b[0;34m\u001b[0m\u001b[0m\n",
            "\u001b[0;31mModuleNotFoundError\u001b[0m: No module named 'dtreeviz'",
            "",
            "\u001b[0;31m---------------------------------------------------------------------------\u001b[0;32m\nNOTE: If your import is failing due to a missing package, you can\nmanually install dependencies using either !pip or !apt.\n\nTo view examples of installing some common dependencies, click the\n\"Open Examples\" button below.\n\u001b[0;31m---------------------------------------------------------------------------\u001b[0m\n"
          ]
        }
      ]
    },
    {
      "cell_type": "code",
      "metadata": {
        "colab": {
          "base_uri": "https://localhost:8080/"
        },
        "id": "Kb8T8gMy8FZw",
        "outputId": "7ce76d16-9d26-497b-a748-80b3f4c0ac16"
      },
      "source": [
        "!pip install dtreeviz"
      ],
      "execution_count": null,
      "outputs": [
        {
          "output_type": "stream",
          "text": [
            "Collecting dtreeviz\n",
            "\u001b[?25l  Downloading https://files.pythonhosted.org/packages/66/46/3b9448e38808e12324fdd26ce89d1d180e71cccf6b3946dd0d0afe0cfde6/dtreeviz-1.1.4.tar.gz (50kB)\n",
            "\r\u001b[K     |██████▌                         | 10kB 14.9MB/s eta 0:00:01\r\u001b[K     |█████████████                   | 20kB 11.1MB/s eta 0:00:01\r\u001b[K     |███████████████████▋            | 30kB 8.0MB/s eta 0:00:01\r\u001b[K     |██████████████████████████▏     | 40kB 6.8MB/s eta 0:00:01\r\u001b[K     |████████████████████████████████| 51kB 2.8MB/s \n",
            "\u001b[?25hRequirement already satisfied: graphviz>=0.9 in /usr/local/lib/python3.6/dist-packages (from dtreeviz) (0.10.1)\n",
            "Requirement already satisfied: pandas in /usr/local/lib/python3.6/dist-packages (from dtreeviz) (1.1.5)\n",
            "Requirement already satisfied: numpy in /usr/local/lib/python3.6/dist-packages (from dtreeviz) (1.19.5)\n",
            "Requirement already satisfied: scikit-learn in /usr/local/lib/python3.6/dist-packages (from dtreeviz) (0.22.2.post1)\n",
            "Requirement already satisfied: matplotlib in /usr/local/lib/python3.6/dist-packages (from dtreeviz) (3.2.2)\n",
            "Collecting colour\n",
            "  Downloading https://files.pythonhosted.org/packages/74/46/e81907704ab203206769dee1385dc77e1407576ff8f50a0681d0a6b541be/colour-0.1.5-py2.py3-none-any.whl\n",
            "Requirement already satisfied: pytest in /usr/local/lib/python3.6/dist-packages (from dtreeviz) (3.6.4)\n",
            "Requirement already satisfied: python-dateutil>=2.7.3 in /usr/local/lib/python3.6/dist-packages (from pandas->dtreeviz) (2.8.1)\n",
            "Requirement already satisfied: pytz>=2017.2 in /usr/local/lib/python3.6/dist-packages (from pandas->dtreeviz) (2018.9)\n",
            "Requirement already satisfied: scipy>=0.17.0 in /usr/local/lib/python3.6/dist-packages (from scikit-learn->dtreeviz) (1.4.1)\n",
            "Requirement already satisfied: joblib>=0.11 in /usr/local/lib/python3.6/dist-packages (from scikit-learn->dtreeviz) (1.0.0)\n",
            "Requirement already satisfied: cycler>=0.10 in /usr/local/lib/python3.6/dist-packages (from matplotlib->dtreeviz) (0.10.0)\n",
            "Requirement already satisfied: pyparsing!=2.0.4,!=2.1.2,!=2.1.6,>=2.0.1 in /usr/local/lib/python3.6/dist-packages (from matplotlib->dtreeviz) (2.4.7)\n",
            "Requirement already satisfied: kiwisolver>=1.0.1 in /usr/local/lib/python3.6/dist-packages (from matplotlib->dtreeviz) (1.3.1)\n",
            "Requirement already satisfied: py>=1.5.0 in /usr/local/lib/python3.6/dist-packages (from pytest->dtreeviz) (1.10.0)\n",
            "Requirement already satisfied: more-itertools>=4.0.0 in /usr/local/lib/python3.6/dist-packages (from pytest->dtreeviz) (8.6.0)\n",
            "Requirement already satisfied: atomicwrites>=1.0 in /usr/local/lib/python3.6/dist-packages (from pytest->dtreeviz) (1.4.0)\n",
            "Requirement already satisfied: attrs>=17.4.0 in /usr/local/lib/python3.6/dist-packages (from pytest->dtreeviz) (20.3.0)\n",
            "Requirement already satisfied: pluggy<0.8,>=0.5 in /usr/local/lib/python3.6/dist-packages (from pytest->dtreeviz) (0.7.1)\n",
            "Requirement already satisfied: setuptools in /usr/local/lib/python3.6/dist-packages (from pytest->dtreeviz) (51.3.3)\n",
            "Requirement already satisfied: six>=1.10.0 in /usr/local/lib/python3.6/dist-packages (from pytest->dtreeviz) (1.15.0)\n",
            "Building wheels for collected packages: dtreeviz\n",
            "  Building wheel for dtreeviz (setup.py) ... \u001b[?25l\u001b[?25hdone\n",
            "  Created wheel for dtreeviz: filename=dtreeviz-1.1.4-cp36-none-any.whl size=53568 sha256=1592602ad4417b273a452ed9ee758b3347c86b212a96a66c59d0cc319d875a4c\n",
            "  Stored in directory: /root/.cache/pip/wheels/6a/1b/01/8d804e4d3cf01cf38097a756b02c851a032c09e3a25feb7c50\n",
            "Successfully built dtreeviz\n",
            "Installing collected packages: colour, dtreeviz\n",
            "Successfully installed colour-0.1.5 dtreeviz-1.1.4\n"
          ],
          "name": "stdout"
        }
      ]
    },
    {
      "cell_type": "code",
      "metadata": {
        "colab": {
          "base_uri": "https://localhost:8080/"
        },
        "id": "S6XJ9qcA8Mig",
        "outputId": "6b803082-e16a-4d0d-a750-7274418927cd"
      },
      "source": [
        "!pip install pydotplus"
      ],
      "execution_count": null,
      "outputs": [
        {
          "output_type": "stream",
          "text": [
            "Requirement already satisfied: pydotplus in /usr/local/lib/python3.6/dist-packages (2.0.2)\n",
            "Requirement already satisfied: pyparsing>=2.0.1 in /usr/local/lib/python3.6/dist-packages (from pydotplus) (2.4.7)\n"
          ],
          "name": "stdout"
        }
      ]
    },
    {
      "cell_type": "code",
      "metadata": {
        "colab": {
          "base_uri": "https://localhost:8080/",
          "height": 428
        },
        "id": "OVNoiIAZ8faQ",
        "outputId": "863bfd05-16bb-41d2-9908-6cf2a8523161"
      },
      "source": [
        "from dtreeviz.trees import *\r\n",
        "\r\n",
        "viz = dtreeviz(df_chegadas_tree,\r\n",
        "              X_train,\r\n",
        "              y_train,\r\n",
        "              target_name=\"Classe\",\r\n",
        "              feature_names=np.arange(0,60),\r\n",
        "              class_names=[\"mina\", \"rocha\"])  \r\n",
        "\r\n",
        "viz.view()"
      ],
      "execution_count": null,
      "outputs": [
        {
          "output_type": "error",
          "ename": "KeyError",
          "evalue": "ignored",
          "traceback": [
            "\u001b[0;31m---------------------------------------------------------------------------\u001b[0m",
            "\u001b[0;31mKeyError\u001b[0m                                  Traceback (most recent call last)",
            "\u001b[0;32m<ipython-input-26-73f50675e2bd>\u001b[0m in \u001b[0;36m<module>\u001b[0;34m()\u001b[0m\n\u001b[1;32m      6\u001b[0m               \u001b[0mtarget_name\u001b[0m\u001b[0;34m=\u001b[0m\u001b[0;34m\"Classe\"\u001b[0m\u001b[0;34m,\u001b[0m\u001b[0;34m\u001b[0m\u001b[0;34m\u001b[0m\u001b[0m\n\u001b[1;32m      7\u001b[0m               \u001b[0mfeature_names\u001b[0m\u001b[0;34m=\u001b[0m\u001b[0mnp\u001b[0m\u001b[0;34m.\u001b[0m\u001b[0marange\u001b[0m\u001b[0;34m(\u001b[0m\u001b[0;36m0\u001b[0m\u001b[0;34m,\u001b[0m\u001b[0;36m60\u001b[0m\u001b[0;34m)\u001b[0m\u001b[0;34m,\u001b[0m\u001b[0;34m\u001b[0m\u001b[0;34m\u001b[0m\u001b[0m\n\u001b[0;32m----> 8\u001b[0;31m               class_names=[\"mina\", \"rocha\"])  \n\u001b[0m\u001b[1;32m      9\u001b[0m \u001b[0;34m\u001b[0m\u001b[0m\n\u001b[1;32m     10\u001b[0m \u001b[0mviz\u001b[0m\u001b[0;34m.\u001b[0m\u001b[0mview\u001b[0m\u001b[0;34m(\u001b[0m\u001b[0;34m)\u001b[0m\u001b[0;34m\u001b[0m\u001b[0;34m\u001b[0m\u001b[0m\n",
            "\u001b[0;32m/usr/local/lib/python3.6/dist-packages/dtreeviz/trees.py\u001b[0m in \u001b[0;36mdtreeviz\u001b[0;34m(tree_model, x_data, y_data, feature_names, target_name, class_names, tree_index, precision, orientation, instance_orientation, show_root_edge_labels, show_node_labels, show_just_path, fancy, histtype, highlight_path, X, max_X_features_LR, max_X_features_TD, label_fontsize, ticks_fontsize, fontname, title, title_fontsize, colors, scale)\u001b[0m\n\u001b[1;32m    763\u001b[0m         \u001b[0mclass_values\u001b[0m \u001b[0;34m=\u001b[0m \u001b[0mshadow_tree\u001b[0m\u001b[0;34m.\u001b[0m\u001b[0mclasses\u001b[0m\u001b[0;34m(\u001b[0m\u001b[0;34m)\u001b[0m\u001b[0;34m\u001b[0m\u001b[0;34m\u001b[0m\u001b[0m\n\u001b[1;32m    764\u001b[0m         \u001b[0mcolor_map\u001b[0m \u001b[0;34m=\u001b[0m \u001b[0;34m{\u001b[0m\u001b[0mv\u001b[0m\u001b[0;34m:\u001b[0m \u001b[0mcolor_values\u001b[0m\u001b[0;34m[\u001b[0m\u001b[0mi\u001b[0m\u001b[0;34m]\u001b[0m \u001b[0;32mfor\u001b[0m \u001b[0mi\u001b[0m\u001b[0;34m,\u001b[0m \u001b[0mv\u001b[0m \u001b[0;32min\u001b[0m \u001b[0menumerate\u001b[0m\u001b[0;34m(\u001b[0m\u001b[0mclass_values\u001b[0m\u001b[0;34m)\u001b[0m\u001b[0;34m}\u001b[0m\u001b[0;34m\u001b[0m\u001b[0;34m\u001b[0m\u001b[0m\n\u001b[0;32m--> 765\u001b[0;31m         \u001b[0mdraw_legend\u001b[0m\u001b[0;34m(\u001b[0m\u001b[0mshadow_tree\u001b[0m\u001b[0;34m,\u001b[0m \u001b[0mshadow_tree\u001b[0m\u001b[0;34m.\u001b[0m\u001b[0mtarget_name\u001b[0m\u001b[0;34m,\u001b[0m \u001b[0;34mf\"{tmp}/legend_{os.getpid()}.svg\"\u001b[0m\u001b[0;34m,\u001b[0m \u001b[0mcolors\u001b[0m\u001b[0;34m=\u001b[0m\u001b[0mcolors\u001b[0m\u001b[0;34m)\u001b[0m\u001b[0;34m\u001b[0m\u001b[0;34m\u001b[0m\u001b[0m\n\u001b[0m\u001b[1;32m    766\u001b[0m \u001b[0;34m\u001b[0m\u001b[0m\n\u001b[1;32m    767\u001b[0m     \u001b[0mX_data\u001b[0m \u001b[0;34m=\u001b[0m \u001b[0mshadow_tree\u001b[0m\u001b[0;34m.\u001b[0m\u001b[0mx_data\u001b[0m\u001b[0;34m\u001b[0m\u001b[0;34m\u001b[0m\u001b[0m\n",
            "\u001b[0;32m/usr/local/lib/python3.6/dist-packages/dtreeviz/trees.py\u001b[0m in \u001b[0;36mdraw_legend\u001b[0;34m(shadow_tree, target_name, filename, colors)\u001b[0m\n\u001b[1;32m   1221\u001b[0m     \u001b[0;32mfor\u001b[0m \u001b[0mi\u001b[0m\u001b[0;34m,\u001b[0m \u001b[0mc\u001b[0m \u001b[0;32min\u001b[0m \u001b[0menumerate\u001b[0m\u001b[0;34m(\u001b[0m\u001b[0mclass_values\u001b[0m\u001b[0;34m)\u001b[0m\u001b[0;34m:\u001b[0m\u001b[0;34m\u001b[0m\u001b[0;34m\u001b[0m\u001b[0m\n\u001b[1;32m   1222\u001b[0m         box = patches.Rectangle((0, 0), 20, 10, linewidth=.4, edgecolor=colors['rect_edge'],\n\u001b[0;32m-> 1223\u001b[0;31m                                 facecolor=color_map[c], label=class_names[i])\n\u001b[0m\u001b[1;32m   1224\u001b[0m         \u001b[0mboxes\u001b[0m\u001b[0;34m.\u001b[0m\u001b[0mappend\u001b[0m\u001b[0;34m(\u001b[0m\u001b[0mbox\u001b[0m\u001b[0;34m)\u001b[0m\u001b[0;34m\u001b[0m\u001b[0;34m\u001b[0m\u001b[0m\n\u001b[1;32m   1225\u001b[0m \u001b[0;34m\u001b[0m\u001b[0m\n",
            "\u001b[0;31mKeyError\u001b[0m: 2"
          ]
        }
      ]
    },
    {
      "cell_type": "code",
      "metadata": {
        "colab": {
          "base_uri": "https://localhost:8080/",
          "height": 579
        },
        "id": "2-lqg2ez9CgR",
        "outputId": "c9f409ac-217e-49b9-9b32-4e7da0a4183c"
      },
      "source": [
        "viz = dtreeviz(df_chegadas_tree,\r\n",
        "              X_train,\r\n",
        "              y_train,\r\n",
        "              target_name=\"Classe\",\r\n",
        "              feature_names=np.arange(0,6),\r\n",
        "              class_names=[\"cat1\", \"cat2\", \"cat3\", \"cat4\", \"cat5\",  \"cat6\", \"cat7\", \"cat8\"])  \r\n",
        "\r\n",
        "viz.view()"
      ],
      "execution_count": null,
      "outputs": [
        {
          "output_type": "stream",
          "text": [
            "/usr/local/lib/python3.6/dist-packages/numpy/core/_asarray.py:83: VisibleDeprecationWarning: Creating an ndarray from ragged nested sequences (which is a list-or-tuple of lists-or-tuples-or ndarrays with different lengths or shapes) is deprecated. If you meant to do this, you must specify 'dtype=object' when creating the ndarray\n",
            "  return array(a, dtype, copy=False, order=order)\n",
            "findfont: Font family ['Arial'] not found. Falling back to DejaVu Sans.\n",
            "findfont: Font family ['Arial'] not found. Falling back to DejaVu Sans.\n"
          ],
          "name": "stderr"
        },
        {
          "output_type": "error",
          "ename": "KeyboardInterrupt",
          "evalue": "ignored",
          "traceback": [
            "\u001b[0;31m---------------------------------------------------------------------------\u001b[0m",
            "\u001b[0;31mKeyboardInterrupt\u001b[0m                         Traceback (most recent call last)",
            "\u001b[0;32m<ipython-input-27-1ff7932ffe12>\u001b[0m in \u001b[0;36m<module>\u001b[0;34m()\u001b[0m\n\u001b[1;32m      4\u001b[0m               \u001b[0mtarget_name\u001b[0m\u001b[0;34m=\u001b[0m\u001b[0;34m\"Classe\"\u001b[0m\u001b[0;34m,\u001b[0m\u001b[0;34m\u001b[0m\u001b[0;34m\u001b[0m\u001b[0m\n\u001b[1;32m      5\u001b[0m               \u001b[0mfeature_names\u001b[0m\u001b[0;34m=\u001b[0m\u001b[0mnp\u001b[0m\u001b[0;34m.\u001b[0m\u001b[0marange\u001b[0m\u001b[0;34m(\u001b[0m\u001b[0;36m0\u001b[0m\u001b[0;34m,\u001b[0m\u001b[0;36m6\u001b[0m\u001b[0;34m)\u001b[0m\u001b[0;34m,\u001b[0m\u001b[0;34m\u001b[0m\u001b[0;34m\u001b[0m\u001b[0m\n\u001b[0;32m----> 6\u001b[0;31m               class_names=[\"cat1\", \"cat2\", \"cat3\", \"cat4\", \"cat5\",  \"cat6\", \"cat7\", \"cat8\"])  \n\u001b[0m\u001b[1;32m      7\u001b[0m \u001b[0;34m\u001b[0m\u001b[0m\n\u001b[1;32m      8\u001b[0m \u001b[0mviz\u001b[0m\u001b[0;34m.\u001b[0m\u001b[0mview\u001b[0m\u001b[0;34m(\u001b[0m\u001b[0;34m)\u001b[0m\u001b[0;34m\u001b[0m\u001b[0;34m\u001b[0m\u001b[0m\n",
            "\u001b[0;32m/usr/local/lib/python3.6/dist-packages/dtreeviz/trees.py\u001b[0m in \u001b[0;36mdtreeviz\u001b[0;34m(tree_model, x_data, y_data, feature_names, target_name, class_names, tree_index, precision, orientation, instance_orientation, show_root_edge_labels, show_node_labels, show_just_path, fancy, histtype, highlight_path, X, max_X_features_LR, max_X_features_TD, label_fontsize, ticks_fontsize, fontname, title, title_fontsize, colors, scale)\u001b[0m\n\u001b[1;32m    800\u001b[0m                                 \u001b[0mlabel_fontsize\u001b[0m\u001b[0;34m=\u001b[0m\u001b[0mlabel_fontsize\u001b[0m\u001b[0;34m,\u001b[0m\u001b[0;34m\u001b[0m\u001b[0;34m\u001b[0m\u001b[0m\n\u001b[1;32m    801\u001b[0m                                 \u001b[0mfontname\u001b[0m\u001b[0;34m=\u001b[0m\u001b[0mfontname\u001b[0m\u001b[0;34m,\u001b[0m\u001b[0;34m\u001b[0m\u001b[0;34m\u001b[0m\u001b[0m\n\u001b[0;32m--> 802\u001b[0;31m                                 highlight_node=node.id in highlight_path)\n\u001b[0m\u001b[1;32m    803\u001b[0m             \u001b[0;32melse\u001b[0m\u001b[0;34m:\u001b[0m\u001b[0;34m\u001b[0m\u001b[0;34m\u001b[0m\u001b[0m\n\u001b[1;32m    804\u001b[0m                 regr_split_viz(node, X_data, y_data,\n",
            "\u001b[0;32m/usr/local/lib/python3.6/dist-packages/dtreeviz/trees.py\u001b[0m in \u001b[0;36mclass_split_viz\u001b[0;34m(node, X_train, y_train, colors, node_heights, filename, ticks_fontsize, label_fontsize, fontname, precision, histtype, X, highlight_node)\u001b[0m\n\u001b[1;32m    989\u001b[0m                                             \u001b[0mhisttype\u001b[0m\u001b[0;34m=\u001b[0m\u001b[0mhisttype\u001b[0m\u001b[0;34m,\u001b[0m\u001b[0;34m\u001b[0m\u001b[0;34m\u001b[0m\u001b[0m\n\u001b[1;32m    990\u001b[0m                                             \u001b[0mbins\u001b[0m\u001b[0;34m=\u001b[0m\u001b[0mbins\u001b[0m\u001b[0;34m,\u001b[0m\u001b[0;34m\u001b[0m\u001b[0;34m\u001b[0m\u001b[0m\n\u001b[0;32m--> 991\u001b[0;31m                                             label=class_names)\n\u001b[0m\u001b[1;32m    992\u001b[0m         \u001b[0;31m# Alter appearance of each bar\u001b[0m\u001b[0;34m\u001b[0m\u001b[0;34m\u001b[0m\u001b[0;34m\u001b[0m\u001b[0m\n\u001b[1;32m    993\u001b[0m         \u001b[0;32mfor\u001b[0m \u001b[0mpatch\u001b[0m \u001b[0;32min\u001b[0m \u001b[0mbarcontainers\u001b[0m\u001b[0;34m:\u001b[0m\u001b[0;34m\u001b[0m\u001b[0;34m\u001b[0m\u001b[0m\n",
            "\u001b[0;32m/usr/local/lib/python3.6/dist-packages/matplotlib/__init__.py\u001b[0m in \u001b[0;36minner\u001b[0;34m(ax, data, *args, **kwargs)\u001b[0m\n\u001b[1;32m   1563\u001b[0m     \u001b[0;32mdef\u001b[0m \u001b[0minner\u001b[0m\u001b[0;34m(\u001b[0m\u001b[0max\u001b[0m\u001b[0;34m,\u001b[0m \u001b[0;34m*\u001b[0m\u001b[0margs\u001b[0m\u001b[0;34m,\u001b[0m \u001b[0mdata\u001b[0m\u001b[0;34m=\u001b[0m\u001b[0;32mNone\u001b[0m\u001b[0;34m,\u001b[0m \u001b[0;34m**\u001b[0m\u001b[0mkwargs\u001b[0m\u001b[0;34m)\u001b[0m\u001b[0;34m:\u001b[0m\u001b[0;34m\u001b[0m\u001b[0;34m\u001b[0m\u001b[0m\n\u001b[1;32m   1564\u001b[0m         \u001b[0;32mif\u001b[0m \u001b[0mdata\u001b[0m \u001b[0;32mis\u001b[0m \u001b[0;32mNone\u001b[0m\u001b[0;34m:\u001b[0m\u001b[0;34m\u001b[0m\u001b[0;34m\u001b[0m\u001b[0m\n\u001b[0;32m-> 1565\u001b[0;31m             \u001b[0;32mreturn\u001b[0m \u001b[0mfunc\u001b[0m\u001b[0;34m(\u001b[0m\u001b[0max\u001b[0m\u001b[0;34m,\u001b[0m \u001b[0;34m*\u001b[0m\u001b[0mmap\u001b[0m\u001b[0;34m(\u001b[0m\u001b[0msanitize_sequence\u001b[0m\u001b[0;34m,\u001b[0m \u001b[0margs\u001b[0m\u001b[0;34m)\u001b[0m\u001b[0;34m,\u001b[0m \u001b[0;34m**\u001b[0m\u001b[0mkwargs\u001b[0m\u001b[0;34m)\u001b[0m\u001b[0;34m\u001b[0m\u001b[0;34m\u001b[0m\u001b[0m\n\u001b[0m\u001b[1;32m   1566\u001b[0m \u001b[0;34m\u001b[0m\u001b[0m\n\u001b[1;32m   1567\u001b[0m         \u001b[0mbound\u001b[0m \u001b[0;34m=\u001b[0m \u001b[0mnew_sig\u001b[0m\u001b[0;34m.\u001b[0m\u001b[0mbind\u001b[0m\u001b[0;34m(\u001b[0m\u001b[0max\u001b[0m\u001b[0;34m,\u001b[0m \u001b[0;34m*\u001b[0m\u001b[0margs\u001b[0m\u001b[0;34m,\u001b[0m \u001b[0;34m**\u001b[0m\u001b[0mkwargs\u001b[0m\u001b[0;34m)\u001b[0m\u001b[0;34m\u001b[0m\u001b[0;34m\u001b[0m\u001b[0m\n",
            "\u001b[0;32m/usr/local/lib/python3.6/dist-packages/matplotlib/axes/_axes.py\u001b[0m in \u001b[0;36mhist\u001b[0;34m(self, x, bins, range, density, weights, cumulative, bottom, histtype, align, orientation, rwidth, log, color, label, stacked, **kwargs)\u001b[0m\n\u001b[1;32m   6727\u001b[0m                 patch = _barfunc(bins[:-1]+boffset, height, width,\n\u001b[1;32m   6728\u001b[0m                                  \u001b[0malign\u001b[0m\u001b[0;34m=\u001b[0m\u001b[0;34m'center'\u001b[0m\u001b[0;34m,\u001b[0m \u001b[0mlog\u001b[0m\u001b[0;34m=\u001b[0m\u001b[0mlog\u001b[0m\u001b[0;34m,\u001b[0m\u001b[0;34m\u001b[0m\u001b[0;34m\u001b[0m\u001b[0m\n\u001b[0;32m-> 6729\u001b[0;31m                                  color=c, **{bottom_kwarg: bottom})\n\u001b[0m\u001b[1;32m   6730\u001b[0m                 \u001b[0mpatches\u001b[0m\u001b[0;34m.\u001b[0m\u001b[0mappend\u001b[0m\u001b[0;34m(\u001b[0m\u001b[0mpatch\u001b[0m\u001b[0;34m)\u001b[0m\u001b[0;34m\u001b[0m\u001b[0;34m\u001b[0m\u001b[0m\n\u001b[1;32m   6731\u001b[0m                 \u001b[0;32mif\u001b[0m \u001b[0mstacked\u001b[0m\u001b[0;34m:\u001b[0m\u001b[0;34m\u001b[0m\u001b[0;34m\u001b[0m\u001b[0m\n",
            "\u001b[0;32m/usr/local/lib/python3.6/dist-packages/matplotlib/__init__.py\u001b[0m in \u001b[0;36minner\u001b[0;34m(ax, data, *args, **kwargs)\u001b[0m\n\u001b[1;32m   1563\u001b[0m     \u001b[0;32mdef\u001b[0m \u001b[0minner\u001b[0m\u001b[0;34m(\u001b[0m\u001b[0max\u001b[0m\u001b[0;34m,\u001b[0m \u001b[0;34m*\u001b[0m\u001b[0margs\u001b[0m\u001b[0;34m,\u001b[0m \u001b[0mdata\u001b[0m\u001b[0;34m=\u001b[0m\u001b[0;32mNone\u001b[0m\u001b[0;34m,\u001b[0m \u001b[0;34m**\u001b[0m\u001b[0mkwargs\u001b[0m\u001b[0;34m)\u001b[0m\u001b[0;34m:\u001b[0m\u001b[0;34m\u001b[0m\u001b[0;34m\u001b[0m\u001b[0m\n\u001b[1;32m   1564\u001b[0m         \u001b[0;32mif\u001b[0m \u001b[0mdata\u001b[0m \u001b[0;32mis\u001b[0m \u001b[0;32mNone\u001b[0m\u001b[0;34m:\u001b[0m\u001b[0;34m\u001b[0m\u001b[0;34m\u001b[0m\u001b[0m\n\u001b[0;32m-> 1565\u001b[0;31m             \u001b[0;32mreturn\u001b[0m \u001b[0mfunc\u001b[0m\u001b[0;34m(\u001b[0m\u001b[0max\u001b[0m\u001b[0;34m,\u001b[0m \u001b[0;34m*\u001b[0m\u001b[0mmap\u001b[0m\u001b[0;34m(\u001b[0m\u001b[0msanitize_sequence\u001b[0m\u001b[0;34m,\u001b[0m \u001b[0margs\u001b[0m\u001b[0;34m)\u001b[0m\u001b[0;34m,\u001b[0m \u001b[0;34m**\u001b[0m\u001b[0mkwargs\u001b[0m\u001b[0;34m)\u001b[0m\u001b[0;34m\u001b[0m\u001b[0;34m\u001b[0m\u001b[0m\n\u001b[0m\u001b[1;32m   1566\u001b[0m \u001b[0;34m\u001b[0m\u001b[0m\n\u001b[1;32m   1567\u001b[0m         \u001b[0mbound\u001b[0m \u001b[0;34m=\u001b[0m \u001b[0mnew_sig\u001b[0m\u001b[0;34m.\u001b[0m\u001b[0mbind\u001b[0m\u001b[0;34m(\u001b[0m\u001b[0max\u001b[0m\u001b[0;34m,\u001b[0m \u001b[0;34m*\u001b[0m\u001b[0margs\u001b[0m\u001b[0;34m,\u001b[0m \u001b[0;34m**\u001b[0m\u001b[0mkwargs\u001b[0m\u001b[0;34m)\u001b[0m\u001b[0;34m\u001b[0m\u001b[0;34m\u001b[0m\u001b[0m\n",
            "\u001b[0;32m/usr/local/lib/python3.6/dist-packages/matplotlib/axes/_axes.py\u001b[0m in \u001b[0;36mbar\u001b[0;34m(self, x, height, width, bottom, align, **kwargs)\u001b[0m\n\u001b[1;32m   2394\u001b[0m                 \u001b[0medgecolor\u001b[0m\u001b[0;34m=\u001b[0m\u001b[0me\u001b[0m\u001b[0;34m,\u001b[0m\u001b[0;34m\u001b[0m\u001b[0;34m\u001b[0m\u001b[0m\n\u001b[1;32m   2395\u001b[0m                 \u001b[0mlinewidth\u001b[0m\u001b[0;34m=\u001b[0m\u001b[0mlw\u001b[0m\u001b[0;34m,\u001b[0m\u001b[0;34m\u001b[0m\u001b[0;34m\u001b[0m\u001b[0m\n\u001b[0;32m-> 2396\u001b[0;31m                 \u001b[0mlabel\u001b[0m\u001b[0;34m=\u001b[0m\u001b[0;34m'_nolegend_'\u001b[0m\u001b[0;34m,\u001b[0m\u001b[0;34m\u001b[0m\u001b[0;34m\u001b[0m\u001b[0m\n\u001b[0m\u001b[1;32m   2397\u001b[0m                 )\n\u001b[1;32m   2398\u001b[0m             \u001b[0mr\u001b[0m\u001b[0;34m.\u001b[0m\u001b[0mupdate\u001b[0m\u001b[0;34m(\u001b[0m\u001b[0mkwargs\u001b[0m\u001b[0;34m)\u001b[0m\u001b[0;34m\u001b[0m\u001b[0;34m\u001b[0m\u001b[0m\n",
            "\u001b[0;32m/usr/local/lib/python3.6/dist-packages/matplotlib/patches.py\u001b[0m in \u001b[0;36m__init__\u001b[0;34m(self, xy, width, height, angle, **kwargs)\u001b[0m\n\u001b[1;32m    725\u001b[0m         \"\"\"\n\u001b[1;32m    726\u001b[0m \u001b[0;34m\u001b[0m\u001b[0m\n\u001b[0;32m--> 727\u001b[0;31m         \u001b[0mPatch\u001b[0m\u001b[0;34m.\u001b[0m\u001b[0m__init__\u001b[0m\u001b[0;34m(\u001b[0m\u001b[0mself\u001b[0m\u001b[0;34m,\u001b[0m \u001b[0;34m**\u001b[0m\u001b[0mkwargs\u001b[0m\u001b[0;34m)\u001b[0m\u001b[0;34m\u001b[0m\u001b[0;34m\u001b[0m\u001b[0m\n\u001b[0m\u001b[1;32m    728\u001b[0m \u001b[0;34m\u001b[0m\u001b[0m\n\u001b[1;32m    729\u001b[0m         \u001b[0mself\u001b[0m\u001b[0;34m.\u001b[0m\u001b[0m_x0\u001b[0m \u001b[0;34m=\u001b[0m \u001b[0mxy\u001b[0m\u001b[0;34m[\u001b[0m\u001b[0;36m0\u001b[0m\u001b[0;34m]\u001b[0m\u001b[0;34m\u001b[0m\u001b[0;34m\u001b[0m\u001b[0m\n",
            "\u001b[0;32m/usr/local/lib/python3.6/dist-packages/matplotlib/patches.py\u001b[0m in \u001b[0;36m__init__\u001b[0;34m(self, edgecolor, facecolor, color, linewidth, linestyle, antialiased, hatch, fill, capstyle, joinstyle, **kwargs)\u001b[0m\n\u001b[1;32m     80\u001b[0m         \u001b[0;32melse\u001b[0m\u001b[0;34m:\u001b[0m\u001b[0;34m\u001b[0m\u001b[0;34m\u001b[0m\u001b[0m\n\u001b[1;32m     81\u001b[0m             \u001b[0mself\u001b[0m\u001b[0;34m.\u001b[0m\u001b[0mset_edgecolor\u001b[0m\u001b[0;34m(\u001b[0m\u001b[0medgecolor\u001b[0m\u001b[0;34m)\u001b[0m\u001b[0;34m\u001b[0m\u001b[0;34m\u001b[0m\u001b[0m\n\u001b[0;32m---> 82\u001b[0;31m             \u001b[0mself\u001b[0m\u001b[0;34m.\u001b[0m\u001b[0mset_facecolor\u001b[0m\u001b[0;34m(\u001b[0m\u001b[0mfacecolor\u001b[0m\u001b[0;34m)\u001b[0m\u001b[0;34m\u001b[0m\u001b[0;34m\u001b[0m\u001b[0m\n\u001b[0m\u001b[1;32m     83\u001b[0m         \u001b[0;31m# unscaled dashes.  Needed to scale dash patterns by lw\u001b[0m\u001b[0;34m\u001b[0m\u001b[0;34m\u001b[0m\u001b[0;34m\u001b[0m\u001b[0m\n\u001b[1;32m     84\u001b[0m         \u001b[0mself\u001b[0m\u001b[0;34m.\u001b[0m\u001b[0m_us_dashes\u001b[0m \u001b[0;34m=\u001b[0m \u001b[0;32mNone\u001b[0m\u001b[0;34m\u001b[0m\u001b[0;34m\u001b[0m\u001b[0m\n",
            "\u001b[0;32m/usr/local/lib/python3.6/dist-packages/matplotlib/patches.py\u001b[0m in \u001b[0;36mset_facecolor\u001b[0;34m(self, color)\u001b[0m\n\u001b[1;32m    355\u001b[0m         \"\"\"\n\u001b[1;32m    356\u001b[0m         \u001b[0mself\u001b[0m\u001b[0;34m.\u001b[0m\u001b[0m_original_facecolor\u001b[0m \u001b[0;34m=\u001b[0m \u001b[0mcolor\u001b[0m\u001b[0;34m\u001b[0m\u001b[0;34m\u001b[0m\u001b[0m\n\u001b[0;32m--> 357\u001b[0;31m         \u001b[0mself\u001b[0m\u001b[0;34m.\u001b[0m\u001b[0m_set_facecolor\u001b[0m\u001b[0;34m(\u001b[0m\u001b[0mcolor\u001b[0m\u001b[0;34m)\u001b[0m\u001b[0;34m\u001b[0m\u001b[0;34m\u001b[0m\u001b[0m\n\u001b[0m\u001b[1;32m    358\u001b[0m \u001b[0;34m\u001b[0m\u001b[0m\n\u001b[1;32m    359\u001b[0m     \u001b[0;32mdef\u001b[0m \u001b[0mset_color\u001b[0m\u001b[0;34m(\u001b[0m\u001b[0mself\u001b[0m\u001b[0;34m,\u001b[0m \u001b[0mc\u001b[0m\u001b[0;34m)\u001b[0m\u001b[0;34m:\u001b[0m\u001b[0;34m\u001b[0m\u001b[0;34m\u001b[0m\u001b[0m\n",
            "\u001b[0;32m/usr/local/lib/python3.6/dist-packages/matplotlib/patches.py\u001b[0m in \u001b[0;36m_set_facecolor\u001b[0;34m(self, color)\u001b[0m\n\u001b[1;32m    343\u001b[0m             \u001b[0mcolor\u001b[0m \u001b[0;34m=\u001b[0m \u001b[0mmpl\u001b[0m\u001b[0;34m.\u001b[0m\u001b[0mrcParams\u001b[0m\u001b[0;34m[\u001b[0m\u001b[0;34m'patch.facecolor'\u001b[0m\u001b[0;34m]\u001b[0m\u001b[0;34m\u001b[0m\u001b[0;34m\u001b[0m\u001b[0m\n\u001b[1;32m    344\u001b[0m         \u001b[0malpha\u001b[0m \u001b[0;34m=\u001b[0m \u001b[0mself\u001b[0m\u001b[0;34m.\u001b[0m\u001b[0m_alpha\u001b[0m \u001b[0;32mif\u001b[0m \u001b[0mself\u001b[0m\u001b[0;34m.\u001b[0m\u001b[0m_fill\u001b[0m \u001b[0;32melse\u001b[0m \u001b[0;36m0\u001b[0m\u001b[0;34m\u001b[0m\u001b[0;34m\u001b[0m\u001b[0m\n\u001b[0;32m--> 345\u001b[0;31m         \u001b[0mself\u001b[0m\u001b[0;34m.\u001b[0m\u001b[0m_facecolor\u001b[0m \u001b[0;34m=\u001b[0m \u001b[0mcolors\u001b[0m\u001b[0;34m.\u001b[0m\u001b[0mto_rgba\u001b[0m\u001b[0;34m(\u001b[0m\u001b[0mcolor\u001b[0m\u001b[0;34m,\u001b[0m \u001b[0malpha\u001b[0m\u001b[0;34m)\u001b[0m\u001b[0;34m\u001b[0m\u001b[0;34m\u001b[0m\u001b[0m\n\u001b[0m\u001b[1;32m    346\u001b[0m         \u001b[0mself\u001b[0m\u001b[0;34m.\u001b[0m\u001b[0mstale\u001b[0m \u001b[0;34m=\u001b[0m \u001b[0;32mTrue\u001b[0m\u001b[0;34m\u001b[0m\u001b[0;34m\u001b[0m\u001b[0m\n\u001b[1;32m    347\u001b[0m \u001b[0;34m\u001b[0m\u001b[0m\n",
            "\u001b[0;32m/usr/local/lib/python3.6/dist-packages/matplotlib/colors.py\u001b[0m in \u001b[0;36mto_rgba\u001b[0;34m(c, alpha)\u001b[0m\n\u001b[1;32m    183\u001b[0m         \u001b[0mrgba\u001b[0m \u001b[0;34m=\u001b[0m \u001b[0;32mNone\u001b[0m\u001b[0;34m\u001b[0m\u001b[0;34m\u001b[0m\u001b[0m\n\u001b[1;32m    184\u001b[0m     \u001b[0;32mif\u001b[0m \u001b[0mrgba\u001b[0m \u001b[0;32mis\u001b[0m \u001b[0;32mNone\u001b[0m\u001b[0;34m:\u001b[0m  \u001b[0;31m# Suppress exception chaining of cache lookup failure.\u001b[0m\u001b[0;34m\u001b[0m\u001b[0;34m\u001b[0m\u001b[0m\n\u001b[0;32m--> 185\u001b[0;31m         \u001b[0mrgba\u001b[0m \u001b[0;34m=\u001b[0m \u001b[0m_to_rgba_no_colorcycle\u001b[0m\u001b[0;34m(\u001b[0m\u001b[0mc\u001b[0m\u001b[0;34m,\u001b[0m \u001b[0malpha\u001b[0m\u001b[0;34m)\u001b[0m\u001b[0;34m\u001b[0m\u001b[0;34m\u001b[0m\u001b[0m\n\u001b[0m\u001b[1;32m    186\u001b[0m         \u001b[0;32mtry\u001b[0m\u001b[0;34m:\u001b[0m\u001b[0;34m\u001b[0m\u001b[0;34m\u001b[0m\u001b[0m\n\u001b[1;32m    187\u001b[0m             \u001b[0m_colors_full_map\u001b[0m\u001b[0;34m.\u001b[0m\u001b[0mcache\u001b[0m\u001b[0;34m[\u001b[0m\u001b[0mc\u001b[0m\u001b[0;34m,\u001b[0m \u001b[0malpha\u001b[0m\u001b[0;34m]\u001b[0m \u001b[0;34m=\u001b[0m \u001b[0mrgba\u001b[0m\u001b[0;34m\u001b[0m\u001b[0;34m\u001b[0m\u001b[0m\n",
            "\u001b[0;32m/usr/local/lib/python3.6/dist-packages/matplotlib/colors.py\u001b[0m in \u001b[0;36m_to_rgba_no_colorcycle\u001b[0;34m(c, alpha)\u001b[0m\n\u001b[1;32m    261\u001b[0m         \u001b[0;32mraise\u001b[0m \u001b[0mValueError\u001b[0m\u001b[0;34m(\u001b[0m\u001b[0;34mf\"Invalid RGBA argument: {orig_c!r}\"\u001b[0m\u001b[0;34m)\u001b[0m\u001b[0;34m\u001b[0m\u001b[0;34m\u001b[0m\u001b[0m\n\u001b[1;32m    262\u001b[0m     \u001b[0;31m# tuple color.\u001b[0m\u001b[0;34m\u001b[0m\u001b[0;34m\u001b[0m\u001b[0;34m\u001b[0m\u001b[0m\n\u001b[0;32m--> 263\u001b[0;31m     \u001b[0mc\u001b[0m \u001b[0;34m=\u001b[0m \u001b[0mnp\u001b[0m\u001b[0;34m.\u001b[0m\u001b[0marray\u001b[0m\u001b[0;34m(\u001b[0m\u001b[0mc\u001b[0m\u001b[0;34m)\u001b[0m\u001b[0;34m\u001b[0m\u001b[0;34m\u001b[0m\u001b[0m\n\u001b[0m\u001b[1;32m    264\u001b[0m     \u001b[0;32mif\u001b[0m \u001b[0;32mnot\u001b[0m \u001b[0mnp\u001b[0m\u001b[0;34m.\u001b[0m\u001b[0mcan_cast\u001b[0m\u001b[0;34m(\u001b[0m\u001b[0mc\u001b[0m\u001b[0;34m.\u001b[0m\u001b[0mdtype\u001b[0m\u001b[0;34m,\u001b[0m \u001b[0mfloat\u001b[0m\u001b[0;34m,\u001b[0m \u001b[0;34m\"same_kind\"\u001b[0m\u001b[0;34m)\u001b[0m \u001b[0;32mor\u001b[0m \u001b[0mc\u001b[0m\u001b[0;34m.\u001b[0m\u001b[0mndim\u001b[0m \u001b[0;34m!=\u001b[0m \u001b[0;36m1\u001b[0m\u001b[0;34m:\u001b[0m\u001b[0;34m\u001b[0m\u001b[0;34m\u001b[0m\u001b[0m\n\u001b[1;32m    265\u001b[0m         \u001b[0;31m# Test the dtype explicitly as `map(float, ...)`, `np.array(...,\u001b[0m\u001b[0;34m\u001b[0m\u001b[0;34m\u001b[0m\u001b[0;34m\u001b[0m\u001b[0m\n",
            "\u001b[0;31mKeyboardInterrupt\u001b[0m: "
          ]
        },
        {
          "output_type": "display_data",
          "data": {
            "image/png": "[encoded data removed]",
            "text/plain": [
              "<Figure size 237.6x36.0032 with 1 Axes>"
            ]
          },
          "metadata": {
            "tags": [],
            "needs_background": "light"
          }
        }
      ]
    },
    {
      "cell_type": "code",
      "metadata": {
        "colab": {
          "base_uri": "https://localhost:8080/",
          "height": 526
        },
        "id": "Psbn04Oc-TOZ",
        "outputId": "1a726860-19ed-4766-f16c-6cced78e10a3"
      },
      "source": [
        "from dtreeviz.trees import *\r\n",
        "\r\n",
        "viz = dtreeviz(df_chegadas_tree,\r\n",
        "              X_train,\r\n",
        "              y_train,\r\n",
        "              target_name=\"Classe\",\r\n",
        "              feature_names=np.arange(0,60),\r\n",
        "              class_names=[\"cat1\", \"cat2\", \"cat3\", \"cat4\", \"cat5\",  \"cat6\", \"cat7\", \"cat8\"])  \r\n",
        "\r\n",
        "viz.view()"
      ],
      "execution_count": null,
      "outputs": [
        {
          "output_type": "stream",
          "text": [
            "/usr/local/lib/python3.6/dist-packages/numpy/core/_asarray.py:83: VisibleDeprecationWarning: Creating an ndarray from ragged nested sequences (which is a list-or-tuple of lists-or-tuples-or ndarrays with different lengths or shapes) is deprecated. If you meant to do this, you must specify 'dtype=object' when creating the ndarray\n",
            "  return array(a, dtype, copy=False, order=order)\n"
          ],
          "name": "stderr"
        },
        {
          "output_type": "error",
          "ename": "KeyboardInterrupt",
          "evalue": "ignored",
          "traceback": [
            "\u001b[0;31m---------------------------------------------------------------------------\u001b[0m",
            "\u001b[0;31mKeyboardInterrupt\u001b[0m                         Traceback (most recent call last)",
            "\u001b[0;32m<ipython-input-28-069e495ab8ef>\u001b[0m in \u001b[0;36m<module>\u001b[0;34m()\u001b[0m\n\u001b[1;32m      6\u001b[0m               \u001b[0mtarget_name\u001b[0m\u001b[0;34m=\u001b[0m\u001b[0;34m\"Classe\"\u001b[0m\u001b[0;34m,\u001b[0m\u001b[0;34m\u001b[0m\u001b[0;34m\u001b[0m\u001b[0m\n\u001b[1;32m      7\u001b[0m               \u001b[0mfeature_names\u001b[0m\u001b[0;34m=\u001b[0m\u001b[0mnp\u001b[0m\u001b[0;34m.\u001b[0m\u001b[0marange\u001b[0m\u001b[0;34m(\u001b[0m\u001b[0;36m0\u001b[0m\u001b[0;34m,\u001b[0m\u001b[0;36m60\u001b[0m\u001b[0;34m)\u001b[0m\u001b[0;34m,\u001b[0m\u001b[0;34m\u001b[0m\u001b[0;34m\u001b[0m\u001b[0m\n\u001b[0;32m----> 8\u001b[0;31m               class_names=[\"cat1\", \"cat2\", \"cat3\", \"cat4\", \"cat5\",  \"cat6\", \"cat7\", \"cat8\"])  \n\u001b[0m\u001b[1;32m      9\u001b[0m \u001b[0;34m\u001b[0m\u001b[0m\n\u001b[1;32m     10\u001b[0m \u001b[0mviz\u001b[0m\u001b[0;34m.\u001b[0m\u001b[0mview\u001b[0m\u001b[0;34m(\u001b[0m\u001b[0;34m)\u001b[0m\u001b[0;34m\u001b[0m\u001b[0;34m\u001b[0m\u001b[0m\n",
            "\u001b[0;32m/usr/local/lib/python3.6/dist-packages/dtreeviz/trees.py\u001b[0m in \u001b[0;36mdtreeviz\u001b[0;34m(tree_model, x_data, y_data, feature_names, target_name, class_names, tree_index, precision, orientation, instance_orientation, show_root_edge_labels, show_node_labels, show_just_path, fancy, histtype, highlight_path, X, max_X_features_LR, max_X_features_TD, label_fontsize, ticks_fontsize, fontname, title, title_fontsize, colors, scale)\u001b[0m\n\u001b[1;32m    800\u001b[0m                                 \u001b[0mlabel_fontsize\u001b[0m\u001b[0;34m=\u001b[0m\u001b[0mlabel_fontsize\u001b[0m\u001b[0;34m,\u001b[0m\u001b[0;34m\u001b[0m\u001b[0;34m\u001b[0m\u001b[0m\n\u001b[1;32m    801\u001b[0m                                 \u001b[0mfontname\u001b[0m\u001b[0;34m=\u001b[0m\u001b[0mfontname\u001b[0m\u001b[0;34m,\u001b[0m\u001b[0;34m\u001b[0m\u001b[0;34m\u001b[0m\u001b[0m\n\u001b[0;32m--> 802\u001b[0;31m                                 highlight_node=node.id in highlight_path)\n\u001b[0m\u001b[1;32m    803\u001b[0m             \u001b[0;32melse\u001b[0m\u001b[0;34m:\u001b[0m\u001b[0;34m\u001b[0m\u001b[0;34m\u001b[0m\u001b[0m\n\u001b[1;32m    804\u001b[0m                 regr_split_viz(node, X_data, y_data,\n",
            "\u001b[0;32m/usr/local/lib/python3.6/dist-packages/dtreeviz/trees.py\u001b[0m in \u001b[0;36mclass_split_viz\u001b[0;34m(node, X_train, y_train, colors, node_heights, filename, ticks_fontsize, label_fontsize, fontname, precision, histtype, X, highlight_node)\u001b[0m\n\u001b[1;32m   1036\u001b[0m \u001b[0;34m\u001b[0m\u001b[0m\n\u001b[1;32m   1037\u001b[0m     \u001b[0;32mif\u001b[0m \u001b[0mfilename\u001b[0m \u001b[0;32mis\u001b[0m \u001b[0;32mnot\u001b[0m \u001b[0;32mNone\u001b[0m\u001b[0;34m:\u001b[0m\u001b[0;34m\u001b[0m\u001b[0;34m\u001b[0m\u001b[0m\n\u001b[0;32m-> 1038\u001b[0;31m         \u001b[0mplt\u001b[0m\u001b[0;34m.\u001b[0m\u001b[0msavefig\u001b[0m\u001b[0;34m(\u001b[0m\u001b[0mfilename\u001b[0m\u001b[0;34m,\u001b[0m \u001b[0mbbox_inches\u001b[0m\u001b[0;34m=\u001b[0m\u001b[0;34m'tight'\u001b[0m\u001b[0;34m,\u001b[0m \u001b[0mpad_inches\u001b[0m\u001b[0;34m=\u001b[0m\u001b[0;36m0\u001b[0m\u001b[0;34m)\u001b[0m\u001b[0;34m\u001b[0m\u001b[0;34m\u001b[0m\u001b[0m\n\u001b[0m\u001b[1;32m   1039\u001b[0m         \u001b[0mplt\u001b[0m\u001b[0;34m.\u001b[0m\u001b[0mclose\u001b[0m\u001b[0;34m(\u001b[0m\u001b[0;34m)\u001b[0m\u001b[0;34m\u001b[0m\u001b[0;34m\u001b[0m\u001b[0m\n\u001b[1;32m   1040\u001b[0m \u001b[0;34m\u001b[0m\u001b[0m\n",
            "\u001b[0;32m/usr/local/lib/python3.6/dist-packages/matplotlib/pyplot.py\u001b[0m in \u001b[0;36msavefig\u001b[0;34m(*args, **kwargs)\u001b[0m\n\u001b[1;32m    721\u001b[0m \u001b[0;32mdef\u001b[0m \u001b[0msavefig\u001b[0m\u001b[0;34m(\u001b[0m\u001b[0;34m*\u001b[0m\u001b[0margs\u001b[0m\u001b[0;34m,\u001b[0m \u001b[0;34m**\u001b[0m\u001b[0mkwargs\u001b[0m\u001b[0;34m)\u001b[0m\u001b[0;34m:\u001b[0m\u001b[0;34m\u001b[0m\u001b[0;34m\u001b[0m\u001b[0m\n\u001b[1;32m    722\u001b[0m     \u001b[0mfig\u001b[0m \u001b[0;34m=\u001b[0m \u001b[0mgcf\u001b[0m\u001b[0;34m(\u001b[0m\u001b[0;34m)\u001b[0m\u001b[0;34m\u001b[0m\u001b[0;34m\u001b[0m\u001b[0m\n\u001b[0;32m--> 723\u001b[0;31m     \u001b[0mres\u001b[0m \u001b[0;34m=\u001b[0m \u001b[0mfig\u001b[0m\u001b[0;34m.\u001b[0m\u001b[0msavefig\u001b[0m\u001b[0;34m(\u001b[0m\u001b[0;34m*\u001b[0m\u001b[0margs\u001b[0m\u001b[0;34m,\u001b[0m \u001b[0;34m**\u001b[0m\u001b[0mkwargs\u001b[0m\u001b[0;34m)\u001b[0m\u001b[0;34m\u001b[0m\u001b[0;34m\u001b[0m\u001b[0m\n\u001b[0m\u001b[1;32m    724\u001b[0m     \u001b[0mfig\u001b[0m\u001b[0;34m.\u001b[0m\u001b[0mcanvas\u001b[0m\u001b[0;34m.\u001b[0m\u001b[0mdraw_idle\u001b[0m\u001b[0;34m(\u001b[0m\u001b[0;34m)\u001b[0m   \u001b[0;31m# need this if 'transparent=True' to reset colors\u001b[0m\u001b[0;34m\u001b[0m\u001b[0;34m\u001b[0m\u001b[0m\n\u001b[1;32m    725\u001b[0m     \u001b[0;32mreturn\u001b[0m \u001b[0mres\u001b[0m\u001b[0;34m\u001b[0m\u001b[0;34m\u001b[0m\u001b[0m\n",
            "\u001b[0;32m/usr/local/lib/python3.6/dist-packages/matplotlib/figure.py\u001b[0m in \u001b[0;36msavefig\u001b[0;34m(self, fname, transparent, **kwargs)\u001b[0m\n\u001b[1;32m   2201\u001b[0m             \u001b[0mself\u001b[0m\u001b[0;34m.\u001b[0m\u001b[0mpatch\u001b[0m\u001b[0;34m.\u001b[0m\u001b[0mset_visible\u001b[0m\u001b[0;34m(\u001b[0m\u001b[0mframeon\u001b[0m\u001b[0;34m)\u001b[0m\u001b[0;34m\u001b[0m\u001b[0;34m\u001b[0m\u001b[0m\n\u001b[1;32m   2202\u001b[0m \u001b[0;34m\u001b[0m\u001b[0m\n\u001b[0;32m-> 2203\u001b[0;31m         \u001b[0mself\u001b[0m\u001b[0;34m.\u001b[0m\u001b[0mcanvas\u001b[0m\u001b[0;34m.\u001b[0m\u001b[0mprint_figure\u001b[0m\u001b[0;34m(\u001b[0m\u001b[0mfname\u001b[0m\u001b[0;34m,\u001b[0m \u001b[0;34m**\u001b[0m\u001b[0mkwargs\u001b[0m\u001b[0;34m)\u001b[0m\u001b[0;34m\u001b[0m\u001b[0;34m\u001b[0m\u001b[0m\n\u001b[0m\u001b[1;32m   2204\u001b[0m \u001b[0;34m\u001b[0m\u001b[0m\n\u001b[1;32m   2205\u001b[0m         \u001b[0;32mif\u001b[0m \u001b[0mframeon\u001b[0m\u001b[0;34m:\u001b[0m\u001b[0;34m\u001b[0m\u001b[0;34m\u001b[0m\u001b[0m\n",
            "\u001b[0;32m/usr/local/lib/python3.6/dist-packages/matplotlib/backend_bases.py\u001b[0m in \u001b[0;36mprint_figure\u001b[0;34m(self, filename, dpi, facecolor, edgecolor, orientation, format, bbox_inches, **kwargs)\u001b[0m\n\u001b[1;32m   2101\u001b[0m                     \u001b[0mbbox_artists\u001b[0m \u001b[0;34m=\u001b[0m \u001b[0mkwargs\u001b[0m\u001b[0;34m.\u001b[0m\u001b[0mpop\u001b[0m\u001b[0;34m(\u001b[0m\u001b[0;34m\"bbox_extra_artists\"\u001b[0m\u001b[0;34m,\u001b[0m \u001b[0;32mNone\u001b[0m\u001b[0;34m)\u001b[0m\u001b[0;34m\u001b[0m\u001b[0;34m\u001b[0m\u001b[0m\n\u001b[1;32m   2102\u001b[0m                     bbox_inches = self.figure.get_tightbbox(renderer,\n\u001b[0;32m-> 2103\u001b[0;31m                             bbox_extra_artists=bbox_artists)\n\u001b[0m\u001b[1;32m   2104\u001b[0m                     \u001b[0mpad\u001b[0m \u001b[0;34m=\u001b[0m \u001b[0mkwargs\u001b[0m\u001b[0;34m.\u001b[0m\u001b[0mpop\u001b[0m\u001b[0;34m(\u001b[0m\u001b[0;34m\"pad_inches\"\u001b[0m\u001b[0;34m,\u001b[0m \u001b[0;32mNone\u001b[0m\u001b[0;34m)\u001b[0m\u001b[0;34m\u001b[0m\u001b[0;34m\u001b[0m\u001b[0m\n\u001b[1;32m   2105\u001b[0m                     \u001b[0;32mif\u001b[0m \u001b[0mpad\u001b[0m \u001b[0;32mis\u001b[0m \u001b[0;32mNone\u001b[0m\u001b[0;34m:\u001b[0m\u001b[0;34m\u001b[0m\u001b[0;34m\u001b[0m\u001b[0m\n",
            "\u001b[0;32m/usr/local/lib/python3.6/dist-packages/matplotlib/figure.py\u001b[0m in \u001b[0;36mget_tightbbox\u001b[0;34m(self, renderer, bbox_extra_artists)\u001b[0m\n\u001b[1;32m   2397\u001b[0m                     \u001b[0mbbox\u001b[0m \u001b[0;34m=\u001b[0m \u001b[0max\u001b[0m\u001b[0;34m.\u001b[0m\u001b[0mget_tightbbox\u001b[0m\u001b[0;34m(\u001b[0m\u001b[0mrenderer\u001b[0m\u001b[0;34m)\u001b[0m\u001b[0;34m\u001b[0m\u001b[0;34m\u001b[0m\u001b[0m\n\u001b[1;32m   2398\u001b[0m                 \u001b[0mbb\u001b[0m\u001b[0;34m.\u001b[0m\u001b[0mappend\u001b[0m\u001b[0;34m(\u001b[0m\u001b[0mbbox\u001b[0m\u001b[0;34m)\u001b[0m\u001b[0;34m\u001b[0m\u001b[0;34m\u001b[0m\u001b[0m\n\u001b[0;32m-> 2399\u001b[0;31m         bb = [b for b in bb\n\u001b[0m\u001b[1;32m   2400\u001b[0m               if (np.isfinite(b.width) and np.isfinite(b.height)\n\u001b[1;32m   2401\u001b[0m                   and (b.width != 0 or b.height != 0))]\n",
            "\u001b[0;32m/usr/local/lib/python3.6/dist-packages/matplotlib/figure.py\u001b[0m in \u001b[0;36m<listcomp>\u001b[0;34m(.0)\u001b[0m\n\u001b[1;32m   2398\u001b[0m                 \u001b[0mbb\u001b[0m\u001b[0;34m.\u001b[0m\u001b[0mappend\u001b[0m\u001b[0;34m(\u001b[0m\u001b[0mbbox\u001b[0m\u001b[0;34m)\u001b[0m\u001b[0;34m\u001b[0m\u001b[0;34m\u001b[0m\u001b[0m\n\u001b[1;32m   2399\u001b[0m         bb = [b for b in bb\n\u001b[0;32m-> 2400\u001b[0;31m               if (np.isfinite(b.width) and np.isfinite(b.height)\n\u001b[0m\u001b[1;32m   2401\u001b[0m                   and (b.width != 0 or b.height != 0))]\n\u001b[1;32m   2402\u001b[0m \u001b[0;34m\u001b[0m\u001b[0m\n",
            "\u001b[0;31mKeyboardInterrupt\u001b[0m: "
          ]
        },
        {
          "output_type": "display_data",
          "data": {
            "image/png": "[encoded data removed]",
            "text/plain": [
              "<Figure size 237.6x36.0675 with 1 Axes>"
            ]
          },
          "metadata": {
            "tags": []
          }
        }
      ]
    },
    {
      "cell_type": "code",
      "metadata": {
        "colab": {
          "base_uri": "https://localhost:8080/",
          "height": 561
        },
        "id": "x0UB226UAAsB",
        "outputId": "07694dfa-f590-4cd8-a4f2-f864dd169805"
      },
      "source": [
        "from dtreeviz.trees import *\r\n",
        "\r\n",
        "viz = dtreeviz(df_chegadas_tree,\r\n",
        "              X_train,\r\n",
        "              y_train,\r\n",
        "              target_name=[\"cat1\", \"cat2\", \"cat3\", \"cat4\", \"cat5\",  \"cat6\", \"cat7\", \"cat8\"], # \"Classe\",\r\n",
        "              feature_names=np.arange(0,60),\r\n",
        "              class_names=[\"cat1\", \"cat2\", \"cat3\", \"cat4\", \"cat5\",  \"cat6\", \"cat7\", \"cat8\"])  \r\n",
        "\r\n",
        "viz.view()"
      ],
      "execution_count": null,
      "outputs": [
        {
          "output_type": "stream",
          "text": [
            "/usr/local/lib/python3.6/dist-packages/numpy/core/_asarray.py:83: VisibleDeprecationWarning: Creating an ndarray from ragged nested sequences (which is a list-or-tuple of lists-or-tuples-or ndarrays with different lengths or shapes) is deprecated. If you meant to do this, you must specify 'dtype=object' when creating the ndarray\n",
            "  return array(a, dtype, copy=False, order=order)\n"
          ],
          "name": "stderr"
        },
        {
          "output_type": "error",
          "ename": "KeyboardInterrupt",
          "evalue": "ignored",
          "traceback": [
            "\u001b[0;31m---------------------------------------------------------------------------\u001b[0m",
            "\u001b[0;31mKeyboardInterrupt\u001b[0m                         Traceback (most recent call last)",
            "\u001b[0;32m<ipython-input-29-251f77ef596c>\u001b[0m in \u001b[0;36m<module>\u001b[0;34m()\u001b[0m\n\u001b[1;32m      6\u001b[0m               \u001b[0mtarget_name\u001b[0m\u001b[0;34m=\u001b[0m\u001b[0;34m[\u001b[0m\u001b[0;34m\"cat1\"\u001b[0m\u001b[0;34m,\u001b[0m \u001b[0;34m\"cat2\"\u001b[0m\u001b[0;34m,\u001b[0m \u001b[0;34m\"cat3\"\u001b[0m\u001b[0;34m,\u001b[0m \u001b[0;34m\"cat4\"\u001b[0m\u001b[0;34m,\u001b[0m \u001b[0;34m\"cat5\"\u001b[0m\u001b[0;34m,\u001b[0m  \u001b[0;34m\"cat6\"\u001b[0m\u001b[0;34m,\u001b[0m \u001b[0;34m\"cat7\"\u001b[0m\u001b[0;34m,\u001b[0m \u001b[0;34m\"cat8\"\u001b[0m\u001b[0;34m]\u001b[0m\u001b[0;34m,\u001b[0m \u001b[0;31m# \"Classe\",\u001b[0m\u001b[0;34m\u001b[0m\u001b[0;34m\u001b[0m\u001b[0m\n\u001b[1;32m      7\u001b[0m               \u001b[0mfeature_names\u001b[0m\u001b[0;34m=\u001b[0m\u001b[0mnp\u001b[0m\u001b[0;34m.\u001b[0m\u001b[0marange\u001b[0m\u001b[0;34m(\u001b[0m\u001b[0;36m0\u001b[0m\u001b[0;34m,\u001b[0m\u001b[0;36m60\u001b[0m\u001b[0;34m)\u001b[0m\u001b[0;34m,\u001b[0m\u001b[0;34m\u001b[0m\u001b[0;34m\u001b[0m\u001b[0m\n\u001b[0;32m----> 8\u001b[0;31m               class_names=[\"cat1\", \"cat2\", \"cat3\", \"cat4\", \"cat5\",  \"cat6\", \"cat7\", \"cat8\"])  \n\u001b[0m\u001b[1;32m      9\u001b[0m \u001b[0;34m\u001b[0m\u001b[0m\n\u001b[1;32m     10\u001b[0m \u001b[0mviz\u001b[0m\u001b[0;34m.\u001b[0m\u001b[0mview\u001b[0m\u001b[0;34m(\u001b[0m\u001b[0;34m)\u001b[0m\u001b[0;34m\u001b[0m\u001b[0;34m\u001b[0m\u001b[0m\n",
            "\u001b[0;32m/usr/local/lib/python3.6/dist-packages/dtreeviz/trees.py\u001b[0m in \u001b[0;36mdtreeviz\u001b[0;34m(tree_model, x_data, y_data, feature_names, target_name, class_names, tree_index, precision, orientation, instance_orientation, show_root_edge_labels, show_node_labels, show_just_path, fancy, histtype, highlight_path, X, max_X_features_LR, max_X_features_TD, label_fontsize, ticks_fontsize, fontname, title, title_fontsize, colors, scale)\u001b[0m\n\u001b[1;32m    800\u001b[0m                                 \u001b[0mlabel_fontsize\u001b[0m\u001b[0;34m=\u001b[0m\u001b[0mlabel_fontsize\u001b[0m\u001b[0;34m,\u001b[0m\u001b[0;34m\u001b[0m\u001b[0;34m\u001b[0m\u001b[0m\n\u001b[1;32m    801\u001b[0m                                 \u001b[0mfontname\u001b[0m\u001b[0;34m=\u001b[0m\u001b[0mfontname\u001b[0m\u001b[0;34m,\u001b[0m\u001b[0;34m\u001b[0m\u001b[0;34m\u001b[0m\u001b[0m\n\u001b[0;32m--> 802\u001b[0;31m                                 highlight_node=node.id in highlight_path)\n\u001b[0m\u001b[1;32m    803\u001b[0m             \u001b[0;32melse\u001b[0m\u001b[0;34m:\u001b[0m\u001b[0;34m\u001b[0m\u001b[0;34m\u001b[0m\u001b[0m\n\u001b[1;32m    804\u001b[0m                 regr_split_viz(node, X_data, y_data,\n",
            "\u001b[0;32m/usr/local/lib/python3.6/dist-packages/dtreeviz/trees.py\u001b[0m in \u001b[0;36mclass_split_viz\u001b[0;34m(node, X_train, y_train, colors, node_heights, filename, ticks_fontsize, label_fontsize, fontname, precision, histtype, X, highlight_node)\u001b[0m\n\u001b[1;32m    989\u001b[0m                                             \u001b[0mhisttype\u001b[0m\u001b[0;34m=\u001b[0m\u001b[0mhisttype\u001b[0m\u001b[0;34m,\u001b[0m\u001b[0;34m\u001b[0m\u001b[0;34m\u001b[0m\u001b[0m\n\u001b[1;32m    990\u001b[0m                                             \u001b[0mbins\u001b[0m\u001b[0;34m=\u001b[0m\u001b[0mbins\u001b[0m\u001b[0;34m,\u001b[0m\u001b[0;34m\u001b[0m\u001b[0;34m\u001b[0m\u001b[0m\n\u001b[0;32m--> 991\u001b[0;31m                                             label=class_names)\n\u001b[0m\u001b[1;32m    992\u001b[0m         \u001b[0;31m# Alter appearance of each bar\u001b[0m\u001b[0;34m\u001b[0m\u001b[0;34m\u001b[0m\u001b[0;34m\u001b[0m\u001b[0m\n\u001b[1;32m    993\u001b[0m         \u001b[0;32mfor\u001b[0m \u001b[0mpatch\u001b[0m \u001b[0;32min\u001b[0m \u001b[0mbarcontainers\u001b[0m\u001b[0;34m:\u001b[0m\u001b[0;34m\u001b[0m\u001b[0;34m\u001b[0m\u001b[0m\n",
            "\u001b[0;32m/usr/local/lib/python3.6/dist-packages/matplotlib/__init__.py\u001b[0m in \u001b[0;36minner\u001b[0;34m(ax, data, *args, **kwargs)\u001b[0m\n\u001b[1;32m   1563\u001b[0m     \u001b[0;32mdef\u001b[0m \u001b[0minner\u001b[0m\u001b[0;34m(\u001b[0m\u001b[0max\u001b[0m\u001b[0;34m,\u001b[0m \u001b[0;34m*\u001b[0m\u001b[0margs\u001b[0m\u001b[0;34m,\u001b[0m \u001b[0mdata\u001b[0m\u001b[0;34m=\u001b[0m\u001b[0;32mNone\u001b[0m\u001b[0;34m,\u001b[0m \u001b[0;34m**\u001b[0m\u001b[0mkwargs\u001b[0m\u001b[0;34m)\u001b[0m\u001b[0;34m:\u001b[0m\u001b[0;34m\u001b[0m\u001b[0;34m\u001b[0m\u001b[0m\n\u001b[1;32m   1564\u001b[0m         \u001b[0;32mif\u001b[0m \u001b[0mdata\u001b[0m \u001b[0;32mis\u001b[0m \u001b[0;32mNone\u001b[0m\u001b[0;34m:\u001b[0m\u001b[0;34m\u001b[0m\u001b[0;34m\u001b[0m\u001b[0m\n\u001b[0;32m-> 1565\u001b[0;31m             \u001b[0;32mreturn\u001b[0m \u001b[0mfunc\u001b[0m\u001b[0;34m(\u001b[0m\u001b[0max\u001b[0m\u001b[0;34m,\u001b[0m \u001b[0;34m*\u001b[0m\u001b[0mmap\u001b[0m\u001b[0;34m(\u001b[0m\u001b[0msanitize_sequence\u001b[0m\u001b[0;34m,\u001b[0m \u001b[0margs\u001b[0m\u001b[0;34m)\u001b[0m\u001b[0;34m,\u001b[0m \u001b[0;34m**\u001b[0m\u001b[0mkwargs\u001b[0m\u001b[0;34m)\u001b[0m\u001b[0;34m\u001b[0m\u001b[0;34m\u001b[0m\u001b[0m\n\u001b[0m\u001b[1;32m   1566\u001b[0m \u001b[0;34m\u001b[0m\u001b[0m\n\u001b[1;32m   1567\u001b[0m         \u001b[0mbound\u001b[0m \u001b[0;34m=\u001b[0m \u001b[0mnew_sig\u001b[0m\u001b[0;34m.\u001b[0m\u001b[0mbind\u001b[0m\u001b[0;34m(\u001b[0m\u001b[0max\u001b[0m\u001b[0;34m,\u001b[0m \u001b[0;34m*\u001b[0m\u001b[0margs\u001b[0m\u001b[0;34m,\u001b[0m \u001b[0;34m**\u001b[0m\u001b[0mkwargs\u001b[0m\u001b[0;34m)\u001b[0m\u001b[0;34m\u001b[0m\u001b[0;34m\u001b[0m\u001b[0m\n",
            "\u001b[0;32m/usr/local/lib/python3.6/dist-packages/matplotlib/axes/_axes.py\u001b[0m in \u001b[0;36mhist\u001b[0;34m(self, x, bins, range, density, weights, cumulative, bottom, histtype, align, orientation, rwidth, log, color, label, stacked, **kwargs)\u001b[0m\n\u001b[1;32m   6727\u001b[0m                 patch = _barfunc(bins[:-1]+boffset, height, width,\n\u001b[1;32m   6728\u001b[0m                                  \u001b[0malign\u001b[0m\u001b[0;34m=\u001b[0m\u001b[0;34m'center'\u001b[0m\u001b[0;34m,\u001b[0m \u001b[0mlog\u001b[0m\u001b[0;34m=\u001b[0m\u001b[0mlog\u001b[0m\u001b[0;34m,\u001b[0m\u001b[0;34m\u001b[0m\u001b[0;34m\u001b[0m\u001b[0m\n\u001b[0;32m-> 6729\u001b[0;31m                                  color=c, **{bottom_kwarg: bottom})\n\u001b[0m\u001b[1;32m   6730\u001b[0m                 \u001b[0mpatches\u001b[0m\u001b[0;34m.\u001b[0m\u001b[0mappend\u001b[0m\u001b[0;34m(\u001b[0m\u001b[0mpatch\u001b[0m\u001b[0;34m)\u001b[0m\u001b[0;34m\u001b[0m\u001b[0;34m\u001b[0m\u001b[0m\n\u001b[1;32m   6731\u001b[0m                 \u001b[0;32mif\u001b[0m \u001b[0mstacked\u001b[0m\u001b[0;34m:\u001b[0m\u001b[0;34m\u001b[0m\u001b[0;34m\u001b[0m\u001b[0m\n",
            "\u001b[0;32m/usr/local/lib/python3.6/dist-packages/matplotlib/__init__.py\u001b[0m in \u001b[0;36minner\u001b[0;34m(ax, data, *args, **kwargs)\u001b[0m\n\u001b[1;32m   1563\u001b[0m     \u001b[0;32mdef\u001b[0m \u001b[0minner\u001b[0m\u001b[0;34m(\u001b[0m\u001b[0max\u001b[0m\u001b[0;34m,\u001b[0m \u001b[0;34m*\u001b[0m\u001b[0margs\u001b[0m\u001b[0;34m,\u001b[0m \u001b[0mdata\u001b[0m\u001b[0;34m=\u001b[0m\u001b[0;32mNone\u001b[0m\u001b[0;34m,\u001b[0m \u001b[0;34m**\u001b[0m\u001b[0mkwargs\u001b[0m\u001b[0;34m)\u001b[0m\u001b[0;34m:\u001b[0m\u001b[0;34m\u001b[0m\u001b[0;34m\u001b[0m\u001b[0m\n\u001b[1;32m   1564\u001b[0m         \u001b[0;32mif\u001b[0m \u001b[0mdata\u001b[0m \u001b[0;32mis\u001b[0m \u001b[0;32mNone\u001b[0m\u001b[0;34m:\u001b[0m\u001b[0;34m\u001b[0m\u001b[0;34m\u001b[0m\u001b[0m\n\u001b[0;32m-> 1565\u001b[0;31m             \u001b[0;32mreturn\u001b[0m \u001b[0mfunc\u001b[0m\u001b[0;34m(\u001b[0m\u001b[0max\u001b[0m\u001b[0;34m,\u001b[0m \u001b[0;34m*\u001b[0m\u001b[0mmap\u001b[0m\u001b[0;34m(\u001b[0m\u001b[0msanitize_sequence\u001b[0m\u001b[0;34m,\u001b[0m \u001b[0margs\u001b[0m\u001b[0;34m)\u001b[0m\u001b[0;34m,\u001b[0m \u001b[0;34m**\u001b[0m\u001b[0mkwargs\u001b[0m\u001b[0;34m)\u001b[0m\u001b[0;34m\u001b[0m\u001b[0;34m\u001b[0m\u001b[0m\n\u001b[0m\u001b[1;32m   1566\u001b[0m \u001b[0;34m\u001b[0m\u001b[0m\n\u001b[1;32m   1567\u001b[0m         \u001b[0mbound\u001b[0m \u001b[0;34m=\u001b[0m \u001b[0mnew_sig\u001b[0m\u001b[0;34m.\u001b[0m\u001b[0mbind\u001b[0m\u001b[0;34m(\u001b[0m\u001b[0max\u001b[0m\u001b[0;34m,\u001b[0m \u001b[0;34m*\u001b[0m\u001b[0margs\u001b[0m\u001b[0;34m,\u001b[0m \u001b[0;34m**\u001b[0m\u001b[0mkwargs\u001b[0m\u001b[0;34m)\u001b[0m\u001b[0;34m\u001b[0m\u001b[0;34m\u001b[0m\u001b[0m\n",
            "\u001b[0;32m/usr/local/lib/python3.6/dist-packages/matplotlib/axes/_axes.py\u001b[0m in \u001b[0;36mbar\u001b[0;34m(self, x, height, width, bottom, align, **kwargs)\u001b[0m\n\u001b[1;32m   2402\u001b[0m             \u001b[0;32melif\u001b[0m \u001b[0morientation\u001b[0m \u001b[0;34m==\u001b[0m \u001b[0;34m'horizontal'\u001b[0m\u001b[0;34m:\u001b[0m\u001b[0;34m\u001b[0m\u001b[0;34m\u001b[0m\u001b[0m\n\u001b[1;32m   2403\u001b[0m                 \u001b[0mr\u001b[0m\u001b[0;34m.\u001b[0m\u001b[0msticky_edges\u001b[0m\u001b[0;34m.\u001b[0m\u001b[0mx\u001b[0m\u001b[0;34m.\u001b[0m\u001b[0mappend\u001b[0m\u001b[0;34m(\u001b[0m\u001b[0ml\u001b[0m\u001b[0;34m)\u001b[0m\u001b[0;34m\u001b[0m\u001b[0;34m\u001b[0m\u001b[0m\n\u001b[0;32m-> 2404\u001b[0;31m             \u001b[0mself\u001b[0m\u001b[0;34m.\u001b[0m\u001b[0madd_patch\u001b[0m\u001b[0;34m(\u001b[0m\u001b[0mr\u001b[0m\u001b[0;34m)\u001b[0m\u001b[0;34m\u001b[0m\u001b[0;34m\u001b[0m\u001b[0m\n\u001b[0m\u001b[1;32m   2405\u001b[0m             \u001b[0mpatches\u001b[0m\u001b[0;34m.\u001b[0m\u001b[0mappend\u001b[0m\u001b[0;34m(\u001b[0m\u001b[0mr\u001b[0m\u001b[0;34m)\u001b[0m\u001b[0;34m\u001b[0m\u001b[0;34m\u001b[0m\u001b[0m\n\u001b[1;32m   2406\u001b[0m \u001b[0;34m\u001b[0m\u001b[0m\n",
            "\u001b[0;32m/usr/local/lib/python3.6/dist-packages/matplotlib/axes/_base.py\u001b[0m in \u001b[0;36madd_patch\u001b[0;34m(self, p)\u001b[0m\n\u001b[1;32m   1917\u001b[0m         \u001b[0;32mif\u001b[0m \u001b[0mp\u001b[0m\u001b[0;34m.\u001b[0m\u001b[0mget_clip_path\u001b[0m\u001b[0;34m(\u001b[0m\u001b[0;34m)\u001b[0m \u001b[0;32mis\u001b[0m \u001b[0;32mNone\u001b[0m\u001b[0;34m:\u001b[0m\u001b[0;34m\u001b[0m\u001b[0;34m\u001b[0m\u001b[0m\n\u001b[1;32m   1918\u001b[0m             \u001b[0mp\u001b[0m\u001b[0;34m.\u001b[0m\u001b[0mset_clip_path\u001b[0m\u001b[0;34m(\u001b[0m\u001b[0mself\u001b[0m\u001b[0;34m.\u001b[0m\u001b[0mpatch\u001b[0m\u001b[0;34m)\u001b[0m\u001b[0;34m\u001b[0m\u001b[0;34m\u001b[0m\u001b[0m\n\u001b[0;32m-> 1919\u001b[0;31m         \u001b[0mself\u001b[0m\u001b[0;34m.\u001b[0m\u001b[0m_update_patch_limits\u001b[0m\u001b[0;34m(\u001b[0m\u001b[0mp\u001b[0m\u001b[0;34m)\u001b[0m\u001b[0;34m\u001b[0m\u001b[0;34m\u001b[0m\u001b[0m\n\u001b[0m\u001b[1;32m   1920\u001b[0m         \u001b[0mself\u001b[0m\u001b[0;34m.\u001b[0m\u001b[0mpatches\u001b[0m\u001b[0;34m.\u001b[0m\u001b[0mappend\u001b[0m\u001b[0;34m(\u001b[0m\u001b[0mp\u001b[0m\u001b[0;34m)\u001b[0m\u001b[0;34m\u001b[0m\u001b[0;34m\u001b[0m\u001b[0m\n\u001b[1;32m   1921\u001b[0m         \u001b[0mp\u001b[0m\u001b[0;34m.\u001b[0m\u001b[0m_remove_method\u001b[0m \u001b[0;34m=\u001b[0m \u001b[0mself\u001b[0m\u001b[0;34m.\u001b[0m\u001b[0mpatches\u001b[0m\u001b[0;34m.\u001b[0m\u001b[0mremove\u001b[0m\u001b[0;34m\u001b[0m\u001b[0;34m\u001b[0m\u001b[0m\n",
            "\u001b[0;32m/usr/local/lib/python3.6/dist-packages/matplotlib/axes/_base.py\u001b[0m in \u001b[0;36m_update_patch_limits\u001b[0;34m(self, patch)\u001b[0m\n\u001b[1;32m   1943\u001b[0m                 \u001b[0mxys\u001b[0m \u001b[0;34m=\u001b[0m \u001b[0mpatch_to_data\u001b[0m\u001b[0;34m.\u001b[0m\u001b[0mtransform\u001b[0m\u001b[0;34m(\u001b[0m\u001b[0mxys\u001b[0m\u001b[0;34m)\u001b[0m\u001b[0;34m\u001b[0m\u001b[0;34m\u001b[0m\u001b[0m\n\u001b[1;32m   1944\u001b[0m \u001b[0;34m\u001b[0m\u001b[0m\n\u001b[0;32m-> 1945\u001b[0;31m             \u001b[0mupdatex\u001b[0m\u001b[0;34m,\u001b[0m \u001b[0mupdatey\u001b[0m \u001b[0;34m=\u001b[0m \u001b[0mpatch\u001b[0m\u001b[0;34m.\u001b[0m\u001b[0mget_transform\u001b[0m\u001b[0;34m(\u001b[0m\u001b[0;34m)\u001b[0m\u001b[0;34m.\u001b[0m\u001b[0;31m\\\u001b[0m\u001b[0;34m\u001b[0m\u001b[0;34m\u001b[0m\u001b[0m\n\u001b[0m\u001b[1;32m   1946\u001b[0m                 \u001b[0mcontains_branch_seperately\u001b[0m\u001b[0;34m(\u001b[0m\u001b[0mself\u001b[0m\u001b[0;34m.\u001b[0m\u001b[0mtransData\u001b[0m\u001b[0;34m)\u001b[0m\u001b[0;34m\u001b[0m\u001b[0;34m\u001b[0m\u001b[0m\n\u001b[1;32m   1947\u001b[0m             self.update_datalim(xys, updatex=updatex,\n",
            "\u001b[0;32m/usr/local/lib/python3.6/dist-packages/matplotlib/patches.py\u001b[0m in \u001b[0;36mget_transform\u001b[0;34m(self)\u001b[0m\n\u001b[1;32m    260\u001b[0m     \u001b[0;32mdef\u001b[0m \u001b[0mget_transform\u001b[0m\u001b[0;34m(\u001b[0m\u001b[0mself\u001b[0m\u001b[0;34m)\u001b[0m\u001b[0;34m:\u001b[0m\u001b[0;34m\u001b[0m\u001b[0;34m\u001b[0m\u001b[0m\n\u001b[1;32m    261\u001b[0m         \u001b[0;34m\"\"\"Return the `~.transforms.Transform` applied to the `Patch`.\"\"\"\u001b[0m\u001b[0;34m\u001b[0m\u001b[0;34m\u001b[0m\u001b[0m\n\u001b[0;32m--> 262\u001b[0;31m         \u001b[0;32mreturn\u001b[0m \u001b[0mself\u001b[0m\u001b[0;34m.\u001b[0m\u001b[0mget_patch_transform\u001b[0m\u001b[0;34m(\u001b[0m\u001b[0;34m)\u001b[0m \u001b[0;34m+\u001b[0m \u001b[0martist\u001b[0m\u001b[0;34m.\u001b[0m\u001b[0mArtist\u001b[0m\u001b[0;34m.\u001b[0m\u001b[0mget_transform\u001b[0m\u001b[0;34m(\u001b[0m\u001b[0mself\u001b[0m\u001b[0;34m)\u001b[0m\u001b[0;34m\u001b[0m\u001b[0;34m\u001b[0m\u001b[0m\n\u001b[0m\u001b[1;32m    263\u001b[0m \u001b[0;34m\u001b[0m\u001b[0m\n\u001b[1;32m    264\u001b[0m     \u001b[0;32mdef\u001b[0m \u001b[0mget_data_transform\u001b[0m\u001b[0;34m(\u001b[0m\u001b[0mself\u001b[0m\u001b[0;34m)\u001b[0m\u001b[0;34m:\u001b[0m\u001b[0;34m\u001b[0m\u001b[0;34m\u001b[0m\u001b[0m\n",
            "\u001b[0;32m/usr/local/lib/python3.6/dist-packages/matplotlib/patches.py\u001b[0m in \u001b[0;36mget_patch_transform\u001b[0;34m(self)\u001b[0m\n\u001b[1;32m    775\u001b[0m \u001b[0;34m\u001b[0m\u001b[0m\n\u001b[1;32m    776\u001b[0m     \u001b[0;32mdef\u001b[0m \u001b[0mget_patch_transform\u001b[0m\u001b[0;34m(\u001b[0m\u001b[0mself\u001b[0m\u001b[0;34m)\u001b[0m\u001b[0;34m:\u001b[0m\u001b[0;34m\u001b[0m\u001b[0;34m\u001b[0m\u001b[0m\n\u001b[0;32m--> 777\u001b[0;31m         \u001b[0mself\u001b[0m\u001b[0;34m.\u001b[0m\u001b[0m_update_patch_transform\u001b[0m\u001b[0;34m(\u001b[0m\u001b[0;34m)\u001b[0m\u001b[0;34m\u001b[0m\u001b[0;34m\u001b[0m\u001b[0m\n\u001b[0m\u001b[1;32m    778\u001b[0m         \u001b[0;32mreturn\u001b[0m \u001b[0mself\u001b[0m\u001b[0;34m.\u001b[0m\u001b[0m_rect_transform\u001b[0m\u001b[0;34m\u001b[0m\u001b[0;34m\u001b[0m\u001b[0m\n\u001b[1;32m    779\u001b[0m \u001b[0;34m\u001b[0m\u001b[0m\n",
            "\u001b[0;32m/usr/local/lib/python3.6/dist-packages/matplotlib/patches.py\u001b[0m in \u001b[0;36m_update_patch_transform\u001b[0;34m(self)\u001b[0m\n\u001b[1;32m    756\u001b[0m         \u001b[0mbbox\u001b[0m \u001b[0;34m=\u001b[0m \u001b[0mtransforms\u001b[0m\u001b[0;34m.\u001b[0m\u001b[0mBbox\u001b[0m\u001b[0;34m.\u001b[0m\u001b[0mfrom_extents\u001b[0m\u001b[0;34m(\u001b[0m\u001b[0mx0\u001b[0m\u001b[0;34m,\u001b[0m \u001b[0my0\u001b[0m\u001b[0;34m,\u001b[0m \u001b[0mx1\u001b[0m\u001b[0;34m,\u001b[0m \u001b[0my1\u001b[0m\u001b[0;34m)\u001b[0m\u001b[0;34m\u001b[0m\u001b[0;34m\u001b[0m\u001b[0m\n\u001b[1;32m    757\u001b[0m         \u001b[0mrot_trans\u001b[0m \u001b[0;34m=\u001b[0m \u001b[0mtransforms\u001b[0m\u001b[0;34m.\u001b[0m\u001b[0mAffine2D\u001b[0m\u001b[0;34m(\u001b[0m\u001b[0;34m)\u001b[0m\u001b[0;34m\u001b[0m\u001b[0;34m\u001b[0m\u001b[0m\n\u001b[0;32m--> 758\u001b[0;31m         \u001b[0mrot_trans\u001b[0m\u001b[0;34m.\u001b[0m\u001b[0mrotate_deg_around\u001b[0m\u001b[0;34m(\u001b[0m\u001b[0mx0\u001b[0m\u001b[0;34m,\u001b[0m \u001b[0my0\u001b[0m\u001b[0;34m,\u001b[0m \u001b[0mself\u001b[0m\u001b[0;34m.\u001b[0m\u001b[0mangle\u001b[0m\u001b[0;34m)\u001b[0m\u001b[0;34m\u001b[0m\u001b[0;34m\u001b[0m\u001b[0m\n\u001b[0m\u001b[1;32m    759\u001b[0m         \u001b[0mself\u001b[0m\u001b[0;34m.\u001b[0m\u001b[0m_rect_transform\u001b[0m \u001b[0;34m=\u001b[0m \u001b[0mtransforms\u001b[0m\u001b[0;34m.\u001b[0m\u001b[0mBboxTransformTo\u001b[0m\u001b[0;34m(\u001b[0m\u001b[0mbbox\u001b[0m\u001b[0;34m)\u001b[0m\u001b[0;34m\u001b[0m\u001b[0;34m\u001b[0m\u001b[0m\n\u001b[1;32m    760\u001b[0m         \u001b[0mself\u001b[0m\u001b[0;34m.\u001b[0m\u001b[0m_rect_transform\u001b[0m \u001b[0;34m+=\u001b[0m \u001b[0mrot_trans\u001b[0m\u001b[0;34m\u001b[0m\u001b[0;34m\u001b[0m\u001b[0m\n",
            "\u001b[0;32m/usr/local/lib/python3.6/dist-packages/matplotlib/transforms.py\u001b[0m in \u001b[0;36mrotate_deg_around\u001b[0;34m(self, x, y, degrees)\u001b[0m\n\u001b[1;32m   1968\u001b[0m         \u001b[0;31m# Cast to float to avoid wraparound issues with uint8's\u001b[0m\u001b[0;34m\u001b[0m\u001b[0;34m\u001b[0m\u001b[0;34m\u001b[0m\u001b[0m\n\u001b[1;32m   1969\u001b[0m         \u001b[0mx\u001b[0m\u001b[0;34m,\u001b[0m \u001b[0my\u001b[0m \u001b[0;34m=\u001b[0m \u001b[0mfloat\u001b[0m\u001b[0;34m(\u001b[0m\u001b[0mx\u001b[0m\u001b[0;34m)\u001b[0m\u001b[0;34m,\u001b[0m \u001b[0mfloat\u001b[0m\u001b[0;34m(\u001b[0m\u001b[0my\u001b[0m\u001b[0;34m)\u001b[0m\u001b[0;34m\u001b[0m\u001b[0;34m\u001b[0m\u001b[0m\n\u001b[0;32m-> 1970\u001b[0;31m         \u001b[0;32mreturn\u001b[0m \u001b[0mself\u001b[0m\u001b[0;34m.\u001b[0m\u001b[0mtranslate\u001b[0m\u001b[0;34m(\u001b[0m\u001b[0;34m-\u001b[0m\u001b[0mx\u001b[0m\u001b[0;34m,\u001b[0m \u001b[0;34m-\u001b[0m\u001b[0my\u001b[0m\u001b[0;34m)\u001b[0m\u001b[0;34m.\u001b[0m\u001b[0mrotate_deg\u001b[0m\u001b[0;34m(\u001b[0m\u001b[0mdegrees\u001b[0m\u001b[0;34m)\u001b[0m\u001b[0;34m.\u001b[0m\u001b[0mtranslate\u001b[0m\u001b[0;34m(\u001b[0m\u001b[0mx\u001b[0m\u001b[0;34m,\u001b[0m \u001b[0my\u001b[0m\u001b[0;34m)\u001b[0m\u001b[0;34m\u001b[0m\u001b[0;34m\u001b[0m\u001b[0m\n\u001b[0m\u001b[1;32m   1971\u001b[0m \u001b[0;34m\u001b[0m\u001b[0m\n\u001b[1;32m   1972\u001b[0m     \u001b[0;32mdef\u001b[0m \u001b[0mtranslate\u001b[0m\u001b[0;34m(\u001b[0m\u001b[0mself\u001b[0m\u001b[0;34m,\u001b[0m \u001b[0mtx\u001b[0m\u001b[0;34m,\u001b[0m \u001b[0mty\u001b[0m\u001b[0;34m)\u001b[0m\u001b[0;34m:\u001b[0m\u001b[0;34m\u001b[0m\u001b[0;34m\u001b[0m\u001b[0m\n",
            "\u001b[0;32m/usr/local/lib/python3.6/dist-packages/matplotlib/transforms.py\u001b[0m in \u001b[0;36mrotate_deg\u001b[0;34m(self, degrees)\u001b[0m\n\u001b[1;32m   1946\u001b[0m         \u001b[0;32mand\u001b[0m \u001b[0;34m:\u001b[0m\u001b[0mmeth\u001b[0m\u001b[0;34m:\u001b[0m\u001b[0;31m`\u001b[0m\u001b[0mscale\u001b[0m\u001b[0;31m`\u001b[0m\u001b[0;34m.\u001b[0m\u001b[0;34m\u001b[0m\u001b[0;34m\u001b[0m\u001b[0m\n\u001b[1;32m   1947\u001b[0m         \"\"\"\n\u001b[0;32m-> 1948\u001b[0;31m         \u001b[0;32mreturn\u001b[0m \u001b[0mself\u001b[0m\u001b[0;34m.\u001b[0m\u001b[0mrotate\u001b[0m\u001b[0;34m(\u001b[0m\u001b[0mnp\u001b[0m\u001b[0;34m.\u001b[0m\u001b[0mdeg2rad\u001b[0m\u001b[0;34m(\u001b[0m\u001b[0mdegrees\u001b[0m\u001b[0;34m)\u001b[0m\u001b[0;34m)\u001b[0m\u001b[0;34m\u001b[0m\u001b[0;34m\u001b[0m\u001b[0m\n\u001b[0m\u001b[1;32m   1949\u001b[0m \u001b[0;34m\u001b[0m\u001b[0m\n\u001b[1;32m   1950\u001b[0m     \u001b[0;32mdef\u001b[0m \u001b[0mrotate_around\u001b[0m\u001b[0;34m(\u001b[0m\u001b[0mself\u001b[0m\u001b[0;34m,\u001b[0m \u001b[0mx\u001b[0m\u001b[0;34m,\u001b[0m \u001b[0my\u001b[0m\u001b[0;34m,\u001b[0m \u001b[0mtheta\u001b[0m\u001b[0;34m)\u001b[0m\u001b[0;34m:\u001b[0m\u001b[0;34m\u001b[0m\u001b[0;34m\u001b[0m\u001b[0m\n",
            "\u001b[0;31mKeyboardInterrupt\u001b[0m: "
          ]
        },
        {
          "output_type": "display_data",
          "data": {
            "image/png": "[encoded data removed]",
            "text/plain": [
              "<Figure size 237.6x36.0053 with 1 Axes>"
            ]
          },
          "metadata": {
            "tags": [],
            "needs_background": "light"
          }
        }
      ]
    },
    {
      "cell_type": "code",
      "metadata": {
        "colab": {
          "base_uri": "https://localhost:8080/",
          "height": 130
        },
        "id": "bBujWsTzAkFh",
        "outputId": "27dcd6a7-946e-4886-a390-d03de01a0bbf"
      },
      "source": [
        "from dtreeviz.trees import *\r\n",
        "\r\n",
        "viz = dtreeviz(df_chegadas_tree,\r\n",
        "              X_train,\r\n",
        "              y_train,\r\n",
        "              target_name=[\"cat1\", \"cat2\", \"cat3\", \"cat4\", \"cat5\",  \"cat6\", \"cat7\", \"cat8\"], # \"Classe\",\r\n",
        "              feature_names=np.arange(0,6), #np.arange(0,60),\r\n",
        "              class_names=[\"cat1\", \"cat2\"] #, \"cat3\", \"cat4\", \"cat5\",  \"cat6\", \"cat7\", \"cat8\"])  \r\n",
        "\r\n",
        "viz.view()"
      ],
      "execution_count": null,
      "outputs": [
        {
          "output_type": "error",
          "ename": "SyntaxError",
          "evalue": "ignored",
          "traceback": [
            "\u001b[0;36m  File \u001b[0;32m\"<ipython-input-31-6cad6f616e96>\"\u001b[0;36m, line \u001b[0;32m10\u001b[0m\n\u001b[0;31m    viz.view()\u001b[0m\n\u001b[0m      ^\u001b[0m\n\u001b[0;31mSyntaxError\u001b[0m\u001b[0;31m:\u001b[0m invalid syntax\n"
          ]
        }
      ]
    },
    {
      "cell_type": "code",
      "metadata": {
        "colab": {
          "base_uri": "https://localhost:8080/",
          "height": 560
        },
        "id": "-bgdsWCpHQ4P",
        "outputId": "c473c424-e5fa-4520-a5cd-7c1df5e346c5"
      },
      "source": [
        "from dtreeviz.trees import *\r\n",
        "\r\n",
        "viz = dtreeviz(df_chegadas_tree,\r\n",
        "              X_train,\r\n",
        "              y_train,\r\n",
        "              target_name=\"Categoria\", # \"Classe\",\r\n",
        "              feature_names=['cod continente', 'cod pais','cod uf', 'cod via', 'cod mes', 'Cotação média do mês anterior'], #np.arange(0,60),\r\n",
        "              class_names=[\"cat1\", \"cat2\", \"cat3\", \"cat4\", \"cat5\",  \"cat6\", \"cat7\", \"cat8\"])  \r\n",
        "\r\n",
        "viz.view()"
      ],
      "execution_count": null,
      "outputs": [
        {
          "output_type": "stream",
          "text": [
            "/usr/local/lib/python3.6/dist-packages/numpy/core/_asarray.py:83: VisibleDeprecationWarning: Creating an ndarray from ragged nested sequences (which is a list-or-tuple of lists-or-tuples-or ndarrays with different lengths or shapes) is deprecated. If you meant to do this, you must specify 'dtype=object' when creating the ndarray\n",
            "  return array(a, dtype, copy=False, order=order)\n"
          ],
          "name": "stderr"
        },
        {
          "output_type": "error",
          "ename": "KeyboardInterrupt",
          "evalue": "ignored",
          "traceback": [
            "\u001b[0;31m---------------------------------------------------------------------------\u001b[0m",
            "\u001b[0;31mKeyboardInterrupt\u001b[0m                         Traceback (most recent call last)",
            "\u001b[0;32m<ipython-input-32-dc5e332bc3dd>\u001b[0m in \u001b[0;36m<module>\u001b[0;34m()\u001b[0m\n\u001b[1;32m      6\u001b[0m               \u001b[0mtarget_name\u001b[0m\u001b[0;34m=\u001b[0m\u001b[0;34m\"Categoria\"\u001b[0m\u001b[0;34m,\u001b[0m \u001b[0;31m# \"Classe\",\u001b[0m\u001b[0;34m\u001b[0m\u001b[0;34m\u001b[0m\u001b[0m\n\u001b[1;32m      7\u001b[0m               \u001b[0mfeature_names\u001b[0m\u001b[0;34m=\u001b[0m\u001b[0;34m[\u001b[0m\u001b[0;34m'cod continente'\u001b[0m\u001b[0;34m,\u001b[0m \u001b[0;34m'cod pais'\u001b[0m\u001b[0;34m,\u001b[0m\u001b[0;34m'cod uf'\u001b[0m\u001b[0;34m,\u001b[0m \u001b[0;34m'cod via'\u001b[0m\u001b[0;34m,\u001b[0m \u001b[0;34m'cod mes'\u001b[0m\u001b[0;34m,\u001b[0m \u001b[0;34m'Cotação média do mês anterior'\u001b[0m\u001b[0;34m]\u001b[0m\u001b[0;34m,\u001b[0m \u001b[0;31m#np.arange(0,60),\u001b[0m\u001b[0;34m\u001b[0m\u001b[0;34m\u001b[0m\u001b[0m\n\u001b[0;32m----> 8\u001b[0;31m               class_names=[\"cat1\", \"cat2\", \"cat3\", \"cat4\", \"cat5\",  \"cat6\", \"cat7\", \"cat8\"])  \n\u001b[0m\u001b[1;32m      9\u001b[0m \u001b[0;34m\u001b[0m\u001b[0m\n\u001b[1;32m     10\u001b[0m \u001b[0mviz\u001b[0m\u001b[0;34m.\u001b[0m\u001b[0mview\u001b[0m\u001b[0;34m(\u001b[0m\u001b[0;34m)\u001b[0m\u001b[0;34m\u001b[0m\u001b[0;34m\u001b[0m\u001b[0m\n",
            "\u001b[0;32m/usr/local/lib/python3.6/dist-packages/dtreeviz/trees.py\u001b[0m in \u001b[0;36mdtreeviz\u001b[0;34m(tree_model, x_data, y_data, feature_names, target_name, class_names, tree_index, precision, orientation, instance_orientation, show_root_edge_labels, show_node_labels, show_just_path, fancy, histtype, highlight_path, X, max_X_features_LR, max_X_features_TD, label_fontsize, ticks_fontsize, fontname, title, title_fontsize, colors, scale)\u001b[0m\n\u001b[1;32m    800\u001b[0m                                 \u001b[0mlabel_fontsize\u001b[0m\u001b[0;34m=\u001b[0m\u001b[0mlabel_fontsize\u001b[0m\u001b[0;34m,\u001b[0m\u001b[0;34m\u001b[0m\u001b[0;34m\u001b[0m\u001b[0m\n\u001b[1;32m    801\u001b[0m                                 \u001b[0mfontname\u001b[0m\u001b[0;34m=\u001b[0m\u001b[0mfontname\u001b[0m\u001b[0;34m,\u001b[0m\u001b[0;34m\u001b[0m\u001b[0;34m\u001b[0m\u001b[0m\n\u001b[0;32m--> 802\u001b[0;31m                                 highlight_node=node.id in highlight_path)\n\u001b[0m\u001b[1;32m    803\u001b[0m             \u001b[0;32melse\u001b[0m\u001b[0;34m:\u001b[0m\u001b[0;34m\u001b[0m\u001b[0;34m\u001b[0m\u001b[0m\n\u001b[1;32m    804\u001b[0m                 regr_split_viz(node, X_data, y_data,\n",
            "\u001b[0;32m/usr/local/lib/python3.6/dist-packages/dtreeviz/trees.py\u001b[0m in \u001b[0;36mclass_split_viz\u001b[0;34m(node, X_train, y_train, colors, node_heights, filename, ticks_fontsize, label_fontsize, fontname, precision, histtype, X, highlight_node)\u001b[0m\n\u001b[1;32m   1036\u001b[0m \u001b[0;34m\u001b[0m\u001b[0m\n\u001b[1;32m   1037\u001b[0m     \u001b[0;32mif\u001b[0m \u001b[0mfilename\u001b[0m \u001b[0;32mis\u001b[0m \u001b[0;32mnot\u001b[0m \u001b[0;32mNone\u001b[0m\u001b[0;34m:\u001b[0m\u001b[0;34m\u001b[0m\u001b[0;34m\u001b[0m\u001b[0m\n\u001b[0;32m-> 1038\u001b[0;31m         \u001b[0mplt\u001b[0m\u001b[0;34m.\u001b[0m\u001b[0msavefig\u001b[0m\u001b[0;34m(\u001b[0m\u001b[0mfilename\u001b[0m\u001b[0;34m,\u001b[0m \u001b[0mbbox_inches\u001b[0m\u001b[0;34m=\u001b[0m\u001b[0;34m'tight'\u001b[0m\u001b[0;34m,\u001b[0m \u001b[0mpad_inches\u001b[0m\u001b[0;34m=\u001b[0m\u001b[0;36m0\u001b[0m\u001b[0;34m)\u001b[0m\u001b[0;34m\u001b[0m\u001b[0;34m\u001b[0m\u001b[0m\n\u001b[0m\u001b[1;32m   1039\u001b[0m         \u001b[0mplt\u001b[0m\u001b[0;34m.\u001b[0m\u001b[0mclose\u001b[0m\u001b[0;34m(\u001b[0m\u001b[0;34m)\u001b[0m\u001b[0;34m\u001b[0m\u001b[0;34m\u001b[0m\u001b[0m\n\u001b[1;32m   1040\u001b[0m \u001b[0;34m\u001b[0m\u001b[0m\n",
            "\u001b[0;32m/usr/local/lib/python3.6/dist-packages/matplotlib/pyplot.py\u001b[0m in \u001b[0;36msavefig\u001b[0;34m(*args, **kwargs)\u001b[0m\n\u001b[1;32m    722\u001b[0m     \u001b[0mfig\u001b[0m \u001b[0;34m=\u001b[0m \u001b[0mgcf\u001b[0m\u001b[0;34m(\u001b[0m\u001b[0;34m)\u001b[0m\u001b[0;34m\u001b[0m\u001b[0;34m\u001b[0m\u001b[0m\n\u001b[1;32m    723\u001b[0m     \u001b[0mres\u001b[0m \u001b[0;34m=\u001b[0m \u001b[0mfig\u001b[0m\u001b[0;34m.\u001b[0m\u001b[0msavefig\u001b[0m\u001b[0;34m(\u001b[0m\u001b[0;34m*\u001b[0m\u001b[0margs\u001b[0m\u001b[0;34m,\u001b[0m \u001b[0;34m**\u001b[0m\u001b[0mkwargs\u001b[0m\u001b[0;34m)\u001b[0m\u001b[0;34m\u001b[0m\u001b[0;34m\u001b[0m\u001b[0m\n\u001b[0;32m--> 724\u001b[0;31m     \u001b[0mfig\u001b[0m\u001b[0;34m.\u001b[0m\u001b[0mcanvas\u001b[0m\u001b[0;34m.\u001b[0m\u001b[0mdraw_idle\u001b[0m\u001b[0;34m(\u001b[0m\u001b[0;34m)\u001b[0m   \u001b[0;31m# need this if 'transparent=True' to reset colors\u001b[0m\u001b[0;34m\u001b[0m\u001b[0;34m\u001b[0m\u001b[0m\n\u001b[0m\u001b[1;32m    725\u001b[0m     \u001b[0;32mreturn\u001b[0m \u001b[0mres\u001b[0m\u001b[0;34m\u001b[0m\u001b[0;34m\u001b[0m\u001b[0m\n\u001b[1;32m    726\u001b[0m \u001b[0;34m\u001b[0m\u001b[0m\n",
            "\u001b[0;32m/usr/local/lib/python3.6/dist-packages/matplotlib/backend_bases.py\u001b[0m in \u001b[0;36mdraw_idle\u001b[0;34m(self, *args, **kwargs)\u001b[0m\n\u001b[1;32m   1945\u001b[0m         \u001b[0;32mif\u001b[0m \u001b[0;32mnot\u001b[0m \u001b[0mself\u001b[0m\u001b[0;34m.\u001b[0m\u001b[0m_is_idle_drawing\u001b[0m\u001b[0;34m:\u001b[0m\u001b[0;34m\u001b[0m\u001b[0;34m\u001b[0m\u001b[0m\n\u001b[1;32m   1946\u001b[0m             \u001b[0;32mwith\u001b[0m \u001b[0mself\u001b[0m\u001b[0;34m.\u001b[0m\u001b[0m_idle_draw_cntx\u001b[0m\u001b[0;34m(\u001b[0m\u001b[0;34m)\u001b[0m\u001b[0;34m:\u001b[0m\u001b[0;34m\u001b[0m\u001b[0;34m\u001b[0m\u001b[0m\n\u001b[0;32m-> 1947\u001b[0;31m                 \u001b[0mself\u001b[0m\u001b[0;34m.\u001b[0m\u001b[0mdraw\u001b[0m\u001b[0;34m(\u001b[0m\u001b[0;34m*\u001b[0m\u001b[0margs\u001b[0m\u001b[0;34m,\u001b[0m \u001b[0;34m**\u001b[0m\u001b[0mkwargs\u001b[0m\u001b[0;34m)\u001b[0m\u001b[0;34m\u001b[0m\u001b[0;34m\u001b[0m\u001b[0m\n\u001b[0m\u001b[1;32m   1948\u001b[0m \u001b[0;34m\u001b[0m\u001b[0m\n\u001b[1;32m   1949\u001b[0m     \u001b[0;34m@\u001b[0m\u001b[0mcbook\u001b[0m\u001b[0;34m.\u001b[0m\u001b[0mdeprecated\u001b[0m\u001b[0;34m(\u001b[0m\u001b[0;34m\"3.2\"\u001b[0m\u001b[0;34m)\u001b[0m\u001b[0;34m\u001b[0m\u001b[0;34m\u001b[0m\u001b[0m\n",
            "\u001b[0;32m/usr/local/lib/python3.6/dist-packages/matplotlib/backends/backend_agg.py\u001b[0m in \u001b[0;36mdraw\u001b[0;34m(self)\u001b[0m\n\u001b[1;32m    391\u001b[0m              (self.toolbar._wait_cursor_for_draw_cm() if self.toolbar\n\u001b[1;32m    392\u001b[0m               else nullcontext()):\n\u001b[0;32m--> 393\u001b[0;31m             \u001b[0mself\u001b[0m\u001b[0;34m.\u001b[0m\u001b[0mfigure\u001b[0m\u001b[0;34m.\u001b[0m\u001b[0mdraw\u001b[0m\u001b[0;34m(\u001b[0m\u001b[0mself\u001b[0m\u001b[0;34m.\u001b[0m\u001b[0mrenderer\u001b[0m\u001b[0;34m)\u001b[0m\u001b[0;34m\u001b[0m\u001b[0;34m\u001b[0m\u001b[0m\n\u001b[0m\u001b[1;32m    394\u001b[0m             \u001b[0;31m# A GUI class may be need to update a window using this draw, so\u001b[0m\u001b[0;34m\u001b[0m\u001b[0;34m\u001b[0m\u001b[0;34m\u001b[0m\u001b[0m\n\u001b[1;32m    395\u001b[0m             \u001b[0;31m# don't forget to call the superclass.\u001b[0m\u001b[0;34m\u001b[0m\u001b[0;34m\u001b[0m\u001b[0;34m\u001b[0m\u001b[0m\n",
            "\u001b[0;32m/usr/local/lib/python3.6/dist-packages/matplotlib/artist.py\u001b[0m in \u001b[0;36mdraw_wrapper\u001b[0;34m(artist, renderer, *args, **kwargs)\u001b[0m\n\u001b[1;32m     36\u001b[0m                 \u001b[0mrenderer\u001b[0m\u001b[0;34m.\u001b[0m\u001b[0mstart_filter\u001b[0m\u001b[0;34m(\u001b[0m\u001b[0;34m)\u001b[0m\u001b[0;34m\u001b[0m\u001b[0;34m\u001b[0m\u001b[0m\n\u001b[1;32m     37\u001b[0m \u001b[0;34m\u001b[0m\u001b[0m\n\u001b[0;32m---> 38\u001b[0;31m             \u001b[0;32mreturn\u001b[0m \u001b[0mdraw\u001b[0m\u001b[0;34m(\u001b[0m\u001b[0martist\u001b[0m\u001b[0;34m,\u001b[0m \u001b[0mrenderer\u001b[0m\u001b[0;34m,\u001b[0m \u001b[0;34m*\u001b[0m\u001b[0margs\u001b[0m\u001b[0;34m,\u001b[0m \u001b[0;34m**\u001b[0m\u001b[0mkwargs\u001b[0m\u001b[0;34m)\u001b[0m\u001b[0;34m\u001b[0m\u001b[0;34m\u001b[0m\u001b[0m\n\u001b[0m\u001b[1;32m     39\u001b[0m         \u001b[0;32mfinally\u001b[0m\u001b[0;34m:\u001b[0m\u001b[0;34m\u001b[0m\u001b[0;34m\u001b[0m\u001b[0m\n\u001b[1;32m     40\u001b[0m             \u001b[0;32mif\u001b[0m \u001b[0martist\u001b[0m\u001b[0;34m.\u001b[0m\u001b[0mget_agg_filter\u001b[0m\u001b[0;34m(\u001b[0m\u001b[0;34m)\u001b[0m \u001b[0;32mis\u001b[0m \u001b[0;32mnot\u001b[0m \u001b[0;32mNone\u001b[0m\u001b[0;34m:\u001b[0m\u001b[0;34m\u001b[0m\u001b[0;34m\u001b[0m\u001b[0m\n",
            "\u001b[0;32m/usr/local/lib/python3.6/dist-packages/matplotlib/figure.py\u001b[0m in \u001b[0;36mdraw\u001b[0;34m(self, renderer)\u001b[0m\n\u001b[1;32m   1734\u001b[0m             \u001b[0mself\u001b[0m\u001b[0;34m.\u001b[0m\u001b[0mpatch\u001b[0m\u001b[0;34m.\u001b[0m\u001b[0mdraw\u001b[0m\u001b[0;34m(\u001b[0m\u001b[0mrenderer\u001b[0m\u001b[0;34m)\u001b[0m\u001b[0;34m\u001b[0m\u001b[0;34m\u001b[0m\u001b[0m\n\u001b[1;32m   1735\u001b[0m             mimage._draw_list_compositing_images(\n\u001b[0;32m-> 1736\u001b[0;31m                 renderer, self, artists, self.suppressComposite)\n\u001b[0m\u001b[1;32m   1737\u001b[0m \u001b[0;34m\u001b[0m\u001b[0m\n\u001b[1;32m   1738\u001b[0m             \u001b[0mrenderer\u001b[0m\u001b[0;34m.\u001b[0m\u001b[0mclose_group\u001b[0m\u001b[0;34m(\u001b[0m\u001b[0;34m'figure'\u001b[0m\u001b[0;34m)\u001b[0m\u001b[0;34m\u001b[0m\u001b[0;34m\u001b[0m\u001b[0m\n",
            "\u001b[0;32m/usr/local/lib/python3.6/dist-packages/matplotlib/image.py\u001b[0m in \u001b[0;36m_draw_list_compositing_images\u001b[0;34m(renderer, parent, artists, suppress_composite)\u001b[0m\n\u001b[1;32m    135\u001b[0m     \u001b[0;32mif\u001b[0m \u001b[0mnot_composite\u001b[0m \u001b[0;32mor\u001b[0m \u001b[0;32mnot\u001b[0m \u001b[0mhas_images\u001b[0m\u001b[0;34m:\u001b[0m\u001b[0;34m\u001b[0m\u001b[0;34m\u001b[0m\u001b[0m\n\u001b[1;32m    136\u001b[0m         \u001b[0;32mfor\u001b[0m \u001b[0ma\u001b[0m \u001b[0;32min\u001b[0m \u001b[0martists\u001b[0m\u001b[0;34m:\u001b[0m\u001b[0;34m\u001b[0m\u001b[0;34m\u001b[0m\u001b[0m\n\u001b[0;32m--> 137\u001b[0;31m             \u001b[0ma\u001b[0m\u001b[0;34m.\u001b[0m\u001b[0mdraw\u001b[0m\u001b[0;34m(\u001b[0m\u001b[0mrenderer\u001b[0m\u001b[0;34m)\u001b[0m\u001b[0;34m\u001b[0m\u001b[0;34m\u001b[0m\u001b[0m\n\u001b[0m\u001b[1;32m    138\u001b[0m     \u001b[0;32melse\u001b[0m\u001b[0;34m:\u001b[0m\u001b[0;34m\u001b[0m\u001b[0;34m\u001b[0m\u001b[0m\n\u001b[1;32m    139\u001b[0m         \u001b[0;31m# Composite any adjacent images together\u001b[0m\u001b[0;34m\u001b[0m\u001b[0;34m\u001b[0m\u001b[0;34m\u001b[0m\u001b[0m\n",
            "\u001b[0;32m/usr/local/lib/python3.6/dist-packages/matplotlib/artist.py\u001b[0m in \u001b[0;36mdraw_wrapper\u001b[0;34m(artist, renderer, *args, **kwargs)\u001b[0m\n\u001b[1;32m     36\u001b[0m                 \u001b[0mrenderer\u001b[0m\u001b[0;34m.\u001b[0m\u001b[0mstart_filter\u001b[0m\u001b[0;34m(\u001b[0m\u001b[0;34m)\u001b[0m\u001b[0;34m\u001b[0m\u001b[0;34m\u001b[0m\u001b[0m\n\u001b[1;32m     37\u001b[0m \u001b[0;34m\u001b[0m\u001b[0m\n\u001b[0;32m---> 38\u001b[0;31m             \u001b[0;32mreturn\u001b[0m \u001b[0mdraw\u001b[0m\u001b[0;34m(\u001b[0m\u001b[0martist\u001b[0m\u001b[0;34m,\u001b[0m \u001b[0mrenderer\u001b[0m\u001b[0;34m,\u001b[0m \u001b[0;34m*\u001b[0m\u001b[0margs\u001b[0m\u001b[0;34m,\u001b[0m \u001b[0;34m**\u001b[0m\u001b[0mkwargs\u001b[0m\u001b[0;34m)\u001b[0m\u001b[0;34m\u001b[0m\u001b[0;34m\u001b[0m\u001b[0m\n\u001b[0m\u001b[1;32m     39\u001b[0m         \u001b[0;32mfinally\u001b[0m\u001b[0;34m:\u001b[0m\u001b[0;34m\u001b[0m\u001b[0;34m\u001b[0m\u001b[0m\n\u001b[1;32m     40\u001b[0m             \u001b[0;32mif\u001b[0m \u001b[0martist\u001b[0m\u001b[0;34m.\u001b[0m\u001b[0mget_agg_filter\u001b[0m\u001b[0;34m(\u001b[0m\u001b[0;34m)\u001b[0m \u001b[0;32mis\u001b[0m \u001b[0;32mnot\u001b[0m \u001b[0;32mNone\u001b[0m\u001b[0;34m:\u001b[0m\u001b[0;34m\u001b[0m\u001b[0;34m\u001b[0m\u001b[0m\n",
            "\u001b[0;32m/usr/local/lib/python3.6/dist-packages/matplotlib/axes/_base.py\u001b[0m in \u001b[0;36mdraw\u001b[0;34m(self, renderer, inframe)\u001b[0m\n\u001b[1;32m   2628\u001b[0m             \u001b[0mrenderer\u001b[0m\u001b[0;34m.\u001b[0m\u001b[0mstop_rasterizing\u001b[0m\u001b[0;34m(\u001b[0m\u001b[0;34m)\u001b[0m\u001b[0;34m\u001b[0m\u001b[0;34m\u001b[0m\u001b[0m\n\u001b[1;32m   2629\u001b[0m \u001b[0;34m\u001b[0m\u001b[0m\n\u001b[0;32m-> 2630\u001b[0;31m         \u001b[0mmimage\u001b[0m\u001b[0;34m.\u001b[0m\u001b[0m_draw_list_compositing_images\u001b[0m\u001b[0;34m(\u001b[0m\u001b[0mrenderer\u001b[0m\u001b[0;34m,\u001b[0m \u001b[0mself\u001b[0m\u001b[0;34m,\u001b[0m \u001b[0martists\u001b[0m\u001b[0;34m)\u001b[0m\u001b[0;34m\u001b[0m\u001b[0;34m\u001b[0m\u001b[0m\n\u001b[0m\u001b[1;32m   2631\u001b[0m \u001b[0;34m\u001b[0m\u001b[0m\n\u001b[1;32m   2632\u001b[0m         \u001b[0mrenderer\u001b[0m\u001b[0;34m.\u001b[0m\u001b[0mclose_group\u001b[0m\u001b[0;34m(\u001b[0m\u001b[0;34m'axes'\u001b[0m\u001b[0;34m)\u001b[0m\u001b[0;34m\u001b[0m\u001b[0;34m\u001b[0m\u001b[0m\n",
            "\u001b[0;32m/usr/local/lib/python3.6/dist-packages/matplotlib/image.py\u001b[0m in \u001b[0;36m_draw_list_compositing_images\u001b[0;34m(renderer, parent, artists, suppress_composite)\u001b[0m\n\u001b[1;32m    135\u001b[0m     \u001b[0;32mif\u001b[0m \u001b[0mnot_composite\u001b[0m \u001b[0;32mor\u001b[0m \u001b[0;32mnot\u001b[0m \u001b[0mhas_images\u001b[0m\u001b[0;34m:\u001b[0m\u001b[0;34m\u001b[0m\u001b[0;34m\u001b[0m\u001b[0m\n\u001b[1;32m    136\u001b[0m         \u001b[0;32mfor\u001b[0m \u001b[0ma\u001b[0m \u001b[0;32min\u001b[0m \u001b[0martists\u001b[0m\u001b[0;34m:\u001b[0m\u001b[0;34m\u001b[0m\u001b[0;34m\u001b[0m\u001b[0m\n\u001b[0;32m--> 137\u001b[0;31m             \u001b[0ma\u001b[0m\u001b[0;34m.\u001b[0m\u001b[0mdraw\u001b[0m\u001b[0;34m(\u001b[0m\u001b[0mrenderer\u001b[0m\u001b[0;34m)\u001b[0m\u001b[0;34m\u001b[0m\u001b[0;34m\u001b[0m\u001b[0m\n\u001b[0m\u001b[1;32m    138\u001b[0m     \u001b[0;32melse\u001b[0m\u001b[0;34m:\u001b[0m\u001b[0;34m\u001b[0m\u001b[0;34m\u001b[0m\u001b[0m\n\u001b[1;32m    139\u001b[0m         \u001b[0;31m# Composite any adjacent images together\u001b[0m\u001b[0;34m\u001b[0m\u001b[0;34m\u001b[0m\u001b[0;34m\u001b[0m\u001b[0m\n",
            "\u001b[0;32m/usr/local/lib/python3.6/dist-packages/matplotlib/artist.py\u001b[0m in \u001b[0;36mdraw_wrapper\u001b[0;34m(artist, renderer, *args, **kwargs)\u001b[0m\n\u001b[1;32m     36\u001b[0m                 \u001b[0mrenderer\u001b[0m\u001b[0;34m.\u001b[0m\u001b[0mstart_filter\u001b[0m\u001b[0;34m(\u001b[0m\u001b[0;34m)\u001b[0m\u001b[0;34m\u001b[0m\u001b[0;34m\u001b[0m\u001b[0m\n\u001b[1;32m     37\u001b[0m \u001b[0;34m\u001b[0m\u001b[0m\n\u001b[0;32m---> 38\u001b[0;31m             \u001b[0;32mreturn\u001b[0m \u001b[0mdraw\u001b[0m\u001b[0;34m(\u001b[0m\u001b[0martist\u001b[0m\u001b[0;34m,\u001b[0m \u001b[0mrenderer\u001b[0m\u001b[0;34m,\u001b[0m \u001b[0;34m*\u001b[0m\u001b[0margs\u001b[0m\u001b[0;34m,\u001b[0m \u001b[0;34m**\u001b[0m\u001b[0mkwargs\u001b[0m\u001b[0;34m)\u001b[0m\u001b[0;34m\u001b[0m\u001b[0;34m\u001b[0m\u001b[0m\n\u001b[0m\u001b[1;32m     39\u001b[0m         \u001b[0;32mfinally\u001b[0m\u001b[0;34m:\u001b[0m\u001b[0;34m\u001b[0m\u001b[0;34m\u001b[0m\u001b[0m\n\u001b[1;32m     40\u001b[0m             \u001b[0;32mif\u001b[0m \u001b[0martist\u001b[0m\u001b[0;34m.\u001b[0m\u001b[0mget_agg_filter\u001b[0m\u001b[0;34m(\u001b[0m\u001b[0;34m)\u001b[0m \u001b[0;32mis\u001b[0m \u001b[0;32mnot\u001b[0m \u001b[0;32mNone\u001b[0m\u001b[0;34m:\u001b[0m\u001b[0;34m\u001b[0m\u001b[0;34m\u001b[0m\u001b[0m\n",
            "\u001b[0;32m/usr/local/lib/python3.6/dist-packages/matplotlib/patches.py\u001b[0m in \u001b[0;36mdraw\u001b[0;34m(self, renderer)\u001b[0m\n\u001b[1;32m    591\u001b[0m         \u001b[0;31m# Patch has traditionally ignored the dashoffset.\u001b[0m\u001b[0;34m\u001b[0m\u001b[0;34m\u001b[0m\u001b[0;34m\u001b[0m\u001b[0m\n\u001b[1;32m    592\u001b[0m         \u001b[0;32mwith\u001b[0m \u001b[0mcbook\u001b[0m\u001b[0;34m.\u001b[0m\u001b[0m_setattr_cm\u001b[0m\u001b[0;34m(\u001b[0m\u001b[0mself\u001b[0m\u001b[0;34m,\u001b[0m \u001b[0m_dashoffset\u001b[0m\u001b[0;34m=\u001b[0m\u001b[0;36m0\u001b[0m\u001b[0;34m)\u001b[0m\u001b[0;34m,\u001b[0m\u001b[0;31m \u001b[0m\u001b[0;31m\\\u001b[0m\u001b[0;34m\u001b[0m\u001b[0;34m\u001b[0m\u001b[0m\n\u001b[0;32m--> 593\u001b[0;31m                 \u001b[0mself\u001b[0m\u001b[0;34m.\u001b[0m\u001b[0m_bind_draw_path_function\u001b[0m\u001b[0;34m(\u001b[0m\u001b[0mrenderer\u001b[0m\u001b[0;34m)\u001b[0m \u001b[0;32mas\u001b[0m \u001b[0mdraw_path\u001b[0m\u001b[0;34m:\u001b[0m\u001b[0;34m\u001b[0m\u001b[0;34m\u001b[0m\u001b[0m\n\u001b[0m\u001b[1;32m    594\u001b[0m             \u001b[0mpath\u001b[0m \u001b[0;34m=\u001b[0m \u001b[0mself\u001b[0m\u001b[0;34m.\u001b[0m\u001b[0mget_path\u001b[0m\u001b[0;34m(\u001b[0m\u001b[0;34m)\u001b[0m\u001b[0;34m\u001b[0m\u001b[0;34m\u001b[0m\u001b[0m\n\u001b[1;32m    595\u001b[0m             \u001b[0mtransform\u001b[0m \u001b[0;34m=\u001b[0m \u001b[0mself\u001b[0m\u001b[0;34m.\u001b[0m\u001b[0mget_transform\u001b[0m\u001b[0;34m(\u001b[0m\u001b[0;34m)\u001b[0m\u001b[0;34m\u001b[0m\u001b[0;34m\u001b[0m\u001b[0m\n",
            "\u001b[0;32m/usr/lib/python3.6/contextlib.py\u001b[0m in \u001b[0;36m__enter__\u001b[0;34m(self)\u001b[0m\n\u001b[1;32m     79\u001b[0m     \u001b[0;32mdef\u001b[0m \u001b[0m__enter__\u001b[0m\u001b[0;34m(\u001b[0m\u001b[0mself\u001b[0m\u001b[0;34m)\u001b[0m\u001b[0;34m:\u001b[0m\u001b[0;34m\u001b[0m\u001b[0;34m\u001b[0m\u001b[0m\n\u001b[1;32m     80\u001b[0m         \u001b[0;32mtry\u001b[0m\u001b[0;34m:\u001b[0m\u001b[0;34m\u001b[0m\u001b[0;34m\u001b[0m\u001b[0m\n\u001b[0;32m---> 81\u001b[0;31m             \u001b[0;32mreturn\u001b[0m \u001b[0mnext\u001b[0m\u001b[0;34m(\u001b[0m\u001b[0mself\u001b[0m\u001b[0;34m.\u001b[0m\u001b[0mgen\u001b[0m\u001b[0;34m)\u001b[0m\u001b[0;34m\u001b[0m\u001b[0;34m\u001b[0m\u001b[0m\n\u001b[0m\u001b[1;32m     82\u001b[0m         \u001b[0;32mexcept\u001b[0m \u001b[0mStopIteration\u001b[0m\u001b[0;34m:\u001b[0m\u001b[0;34m\u001b[0m\u001b[0;34m\u001b[0m\u001b[0m\n\u001b[1;32m     83\u001b[0m             \u001b[0;32mraise\u001b[0m \u001b[0mRuntimeError\u001b[0m\u001b[0;34m(\u001b[0m\u001b[0;34m\"generator didn't yield\"\u001b[0m\u001b[0;34m)\u001b[0m \u001b[0;32mfrom\u001b[0m \u001b[0;32mNone\u001b[0m\u001b[0;34m\u001b[0m\u001b[0;34m\u001b[0m\u001b[0m\n",
            "\u001b[0;32m/usr/local/lib/python3.6/dist-packages/matplotlib/patches.py\u001b[0m in \u001b[0;36m_bind_draw_path_function\u001b[0;34m(self, renderer)\u001b[0m\n\u001b[1;32m    549\u001b[0m \u001b[0;34m\u001b[0m\u001b[0m\n\u001b[1;32m    550\u001b[0m         \u001b[0mgc\u001b[0m\u001b[0;34m.\u001b[0m\u001b[0mset_antialiased\u001b[0m\u001b[0;34m(\u001b[0m\u001b[0mself\u001b[0m\u001b[0;34m.\u001b[0m\u001b[0m_antialiased\u001b[0m\u001b[0;34m)\u001b[0m\u001b[0;34m\u001b[0m\u001b[0;34m\u001b[0m\u001b[0m\n\u001b[0;32m--> 551\u001b[0;31m         \u001b[0mself\u001b[0m\u001b[0;34m.\u001b[0m\u001b[0m_set_gc_clip\u001b[0m\u001b[0;34m(\u001b[0m\u001b[0mgc\u001b[0m\u001b[0;34m)\u001b[0m\u001b[0;34m\u001b[0m\u001b[0;34m\u001b[0m\u001b[0m\n\u001b[0m\u001b[1;32m    552\u001b[0m         \u001b[0mgc\u001b[0m\u001b[0;34m.\u001b[0m\u001b[0mset_url\u001b[0m\u001b[0;34m(\u001b[0m\u001b[0mself\u001b[0m\u001b[0;34m.\u001b[0m\u001b[0m_url\u001b[0m\u001b[0;34m)\u001b[0m\u001b[0;34m\u001b[0m\u001b[0;34m\u001b[0m\u001b[0m\n\u001b[1;32m    553\u001b[0m         \u001b[0mgc\u001b[0m\u001b[0;34m.\u001b[0m\u001b[0mset_snap\u001b[0m\u001b[0;34m(\u001b[0m\u001b[0mself\u001b[0m\u001b[0;34m.\u001b[0m\u001b[0mget_snap\u001b[0m\u001b[0;34m(\u001b[0m\u001b[0;34m)\u001b[0m\u001b[0;34m)\u001b[0m\u001b[0;34m\u001b[0m\u001b[0;34m\u001b[0m\u001b[0m\n",
            "\u001b[0;32m/usr/local/lib/python3.6/dist-packages/matplotlib/artist.py\u001b[0m in \u001b[0;36m_set_gc_clip\u001b[0;34m(self, gc)\u001b[0m\n\u001b[1;32m    858\u001b[0m     \u001b[0;32mdef\u001b[0m \u001b[0m_set_gc_clip\u001b[0m\u001b[0;34m(\u001b[0m\u001b[0mself\u001b[0m\u001b[0;34m,\u001b[0m \u001b[0mgc\u001b[0m\u001b[0;34m)\u001b[0m\u001b[0;34m:\u001b[0m\u001b[0;34m\u001b[0m\u001b[0;34m\u001b[0m\u001b[0m\n\u001b[1;32m    859\u001b[0m         \u001b[0;34m'Set the clip properly for the gc'\u001b[0m\u001b[0;34m\u001b[0m\u001b[0;34m\u001b[0m\u001b[0m\n\u001b[0;32m--> 860\u001b[0;31m         \u001b[0;32mif\u001b[0m \u001b[0mself\u001b[0m\u001b[0;34m.\u001b[0m\u001b[0m_clipon\u001b[0m\u001b[0;34m:\u001b[0m\u001b[0;34m\u001b[0m\u001b[0;34m\u001b[0m\u001b[0m\n\u001b[0m\u001b[1;32m    861\u001b[0m             \u001b[0;32mif\u001b[0m \u001b[0mself\u001b[0m\u001b[0;34m.\u001b[0m\u001b[0mclipbox\u001b[0m \u001b[0;32mis\u001b[0m \u001b[0;32mnot\u001b[0m \u001b[0;32mNone\u001b[0m\u001b[0;34m:\u001b[0m\u001b[0;34m\u001b[0m\u001b[0;34m\u001b[0m\u001b[0m\n\u001b[1;32m    862\u001b[0m                 \u001b[0mgc\u001b[0m\u001b[0;34m.\u001b[0m\u001b[0mset_clip_rectangle\u001b[0m\u001b[0;34m(\u001b[0m\u001b[0mself\u001b[0m\u001b[0;34m.\u001b[0m\u001b[0mclipbox\u001b[0m\u001b[0;34m)\u001b[0m\u001b[0;34m\u001b[0m\u001b[0;34m\u001b[0m\u001b[0m\n",
            "\u001b[0;31mKeyboardInterrupt\u001b[0m: "
          ]
        },
        {
          "output_type": "display_data",
          "data": {
            "image/png": "[encoded data removed]",
            "text/plain": [
              "<Figure size 237.6x36 with 1 Axes>"
            ]
          },
          "metadata": {
            "tags": [],
            "needs_background": "light"
          }
        }
      ]
    },
    {
      "cell_type": "code",
      "metadata": {
        "colab": {
          "base_uri": "https://localhost:8080/",
          "height": 1000
        },
        "id": "txpDVRfibFaB",
        "outputId": "dc69c53c-c571-4b34-c1ae-c7ff1165e007"
      },
      "source": [
        "!pip install pydotplus\r\n",
        "!pip install dtreeviz\r\n",
        "\r\n",
        "import pandas as pd\r\n",
        "import numpy as np\r\n",
        "from sklearn import datasets, tree\r\n",
        "from sklearn.model_selection import train_test_split\r\n",
        "from sklearn.tree import DecisionTreeClassifier\r\n",
        "from sklearn.metrics import accuracy_score, classification_report, confusion_matrix\r\n",
        "from sklearn.feature_extraction import DictVectorizer\r\n",
        "from sklearn.preprocessing import LabelEncoder\r\n",
        "\r\n",
        "#from google.colab import files\r\n",
        "#uploaded = files.upload()\r\n",
        "\r\n",
        "\r\n",
        "\r\n",
        "df_chegadas = pd.read_excel('Chegadas de turistas versus dólar - 2016 a 2019.xlsx', sheet_name=0) \r\n",
        "print(\"\\nDimensões: {0}\".format(df_chegadas.shape))\r\n",
        "print(\"\\nCampos: {0}\".format(df_chegadas.keys()))\r\n",
        "print(df_chegadas.describe(), sep='\\n')\r\n",
        "\r\n",
        "#X = df_chegadas.iloc[:,0:(df_chegadas.shape[1] - 1)]\r\n",
        "X = df_chegadas.loc[:,['cod continente', 'cod pais','cod uf', 'cod via', 'cod mes', 'Cotação média do mês anterior']]\r\n",
        "\r\n",
        "#le = LabelEncoder()\r\n",
        "#y = le.fit_transform(df_chegadas.iloc[:,(df_chegadas.shape[1] - 1)])\r\n",
        "y = df_chegadas.loc[:,'Chegadas categorizadas - log 5']\r\n",
        "\r\n",
        "\r\n",
        "# Particiona a base de dados\r\n",
        "# por default 75% para treinamento e 25% para teste\r\n",
        "X_train, X_test, y_train, y_test = train_test_split(X, y, random_state=0, test_size=0.1)\r\n",
        "\r\n",
        "\"\"\"### Indução do Modelo\r\n",
        "\r\n",
        "\r\n",
        "Os três passos para indução de um modelo são:\r\n",
        "\r\n",
        "1.   Instanciar o modelo: ``` DecisionTreeClassifier()```\r\n",
        "2.   Treinar o modelo: ```fit()```\r\n",
        "3.   Testar o modelo: ```predict()```\r\n",
        "\"\"\"\r\n",
        "\r\n",
        "#df_chegadas_tree = DecisionTreeClassifier(random_state=0, criterion='entropy')\r\n",
        "df_chegadas_tree = DecisionTreeRegressor(random_state=0, criterion='entropy')\r\n",
        "\r\n",
        "\r\n",
        "df_chegadas_tree = df_chegadas_tree.fit(X_train, y_train)\r\n",
        "print(\"Acurácia (base de treinamento):\", df_chegadas_tree.score(X_train, y_train))\r\n",
        "\r\n",
        "y_pred = df_chegadas_tree.predict(X_test)\r\n",
        "print(\"Acurácia de previsão:\", accuracy_score(y_test, y_pred))\r\n",
        "print(classification_report(y_test, y_pred, target_names=[\"cat1\", \"cat2\", \"cat3\", \"cat4\", \"cat5\",  \"cat6\", \"cat7\", \"cat8\"]))\r\n",
        "      \r\n",
        "cnf_matrix = confusion_matrix(y_test, y_pred)\r\n",
        "cnf_table = pd.DataFrame(data=cnf_matrix, index=[\"cat1\", \"cat2\", \"cat3\", \"cat4\", \"cat5\",  \"cat6\", \"cat7\", \"cat8\"], \r\n",
        "                         #\"columns=[\"Mina (prev)\", \"Rocha (prev)\"])\r\n",
        "                         columns=[\"cat1 (prev)\", \"cat2 (prev)\", \"cat3 (prev)\", \"cat4 (prev)\", \"cat5 (prev)\",  \"cat6 (prev)\", \"cat7 (prev)\", \"cat8 (prev)\"])\r\n",
        "print(cnf_table)"
      ],
      "execution_count": null,
      "outputs": [
        {
          "output_type": "stream",
          "text": [
            "Requirement already satisfied: pydotplus in /usr/local/lib/python3.6/dist-packages (2.0.2)\n",
            "Requirement already satisfied: pyparsing>=2.0.1 in /usr/local/lib/python3.6/dist-packages (from pydotplus) (2.4.7)\n",
            "Requirement already satisfied: dtreeviz in /usr/local/lib/python3.6/dist-packages (1.1.4)\n",
            "Requirement already satisfied: colour in /usr/local/lib/python3.6/dist-packages (from dtreeviz) (0.1.5)\n",
            "Requirement already satisfied: numpy in /usr/local/lib/python3.6/dist-packages (from dtreeviz) (1.19.5)\n",
            "Requirement already satisfied: graphviz>=0.9 in /usr/local/lib/python3.6/dist-packages (from dtreeviz) (0.10.1)\n",
            "Requirement already satisfied: scikit-learn in /usr/local/lib/python3.6/dist-packages (from dtreeviz) (0.22.2.post1)\n",
            "Requirement already satisfied: pytest in /usr/local/lib/python3.6/dist-packages (from dtreeviz) (3.6.4)\n",
            "Requirement already satisfied: pandas in /usr/local/lib/python3.6/dist-packages (from dtreeviz) (1.1.5)\n",
            "Requirement already satisfied: matplotlib in /usr/local/lib/python3.6/dist-packages (from dtreeviz) (3.2.2)\n",
            "Requirement already satisfied: scipy>=0.17.0 in /usr/local/lib/python3.6/dist-packages (from scikit-learn->dtreeviz) (1.4.1)\n",
            "Requirement already satisfied: joblib>=0.11 in /usr/local/lib/python3.6/dist-packages (from scikit-learn->dtreeviz) (1.0.0)\n",
            "Requirement already satisfied: six>=1.10.0 in /usr/local/lib/python3.6/dist-packages (from pytest->dtreeviz) (1.15.0)\n",
            "Requirement already satisfied: attrs>=17.4.0 in /usr/local/lib/python3.6/dist-packages (from pytest->dtreeviz) (20.3.0)\n",
            "Requirement already satisfied: py>=1.5.0 in /usr/local/lib/python3.6/dist-packages (from pytest->dtreeviz) (1.10.0)\n",
            "Requirement already satisfied: atomicwrites>=1.0 in /usr/local/lib/python3.6/dist-packages (from pytest->dtreeviz) (1.4.0)\n",
            "Requirement already satisfied: pluggy<0.8,>=0.5 in /usr/local/lib/python3.6/dist-packages (from pytest->dtreeviz) (0.7.1)\n",
            "Requirement already satisfied: more-itertools>=4.0.0 in /usr/local/lib/python3.6/dist-packages (from pytest->dtreeviz) (8.6.0)\n",
            "Requirement already satisfied: setuptools in /usr/local/lib/python3.6/dist-packages (from pytest->dtreeviz) (51.3.3)\n",
            "Requirement already satisfied: pytz>=2017.2 in /usr/local/lib/python3.6/dist-packages (from pandas->dtreeviz) (2018.9)\n",
            "Requirement already satisfied: python-dateutil>=2.7.3 in /usr/local/lib/python3.6/dist-packages (from pandas->dtreeviz) (2.8.1)\n",
            "Requirement already satisfied: cycler>=0.10 in /usr/local/lib/python3.6/dist-packages (from matplotlib->dtreeviz) (0.10.0)\n",
            "Requirement already satisfied: kiwisolver>=1.0.1 in /usr/local/lib/python3.6/dist-packages (from matplotlib->dtreeviz) (1.3.1)\n",
            "Requirement already satisfied: pyparsing!=2.0.4,!=2.1.2,!=2.1.6,>=2.0.1 in /usr/local/lib/python3.6/dist-packages (from matplotlib->dtreeviz) (2.4.7)\n",
            "\n",
            "Dimensões: (184140, 16)\n",
            "\n",
            "Campos: Index(['Unnamed: 0', 'Unnamed: 0.1', 'Continente', 'cod continente', 'País',\n",
            "       'cod pais', 'UF', 'cod uf', 'Via', 'cod via', 'ano', 'Mês', 'cod mes',\n",
            "       'Chegadas', 'Cotação média do mês anterior',\n",
            "       'Chegadas categorizadas - log 5'],\n",
            "      dtype='object')\n",
            "          Unnamed: 0  ...  Chegadas categorizadas - log 5\n",
            "count  184140.000000  ...                   184140.000000\n",
            "mean    92069.500000  ...                        0.416477\n",
            "std     53156.783622  ...                        0.988122\n",
            "min         0.000000  ...                        0.000000\n",
            "25%     46034.750000  ...                        0.000000\n",
            "50%     92069.500000  ...                        0.000000\n",
            "75%    138104.250000  ...                        0.000000\n",
            "max    184139.000000  ...                        7.000000\n",
            "\n",
            "[8 rows x 11 columns]\n"
          ],
          "name": "stdout"
        },
        {
          "output_type": "error",
          "ename": "NameError",
          "evalue": "ignored",
          "traceback": [
            "\u001b[0;31m---------------------------------------------------------------------------\u001b[0m",
            "\u001b[0;31mNameError\u001b[0m                                 Traceback (most recent call last)",
            "\u001b[0;32m<ipython-input-33-c14c5b2bab91>\u001b[0m in \u001b[0;36m<module>\u001b[0;34m()\u001b[0m\n\u001b[1;32m     44\u001b[0m \u001b[0;34m\u001b[0m\u001b[0m\n\u001b[1;32m     45\u001b[0m \u001b[0;31m#df_chegadas_tree = DecisionTreeClassifier(random_state=0, criterion='entropy')\u001b[0m\u001b[0;34m\u001b[0m\u001b[0;34m\u001b[0m\u001b[0;34m\u001b[0m\u001b[0m\n\u001b[0;32m---> 46\u001b[0;31m \u001b[0mdf_chegadas_tree\u001b[0m \u001b[0;34m=\u001b[0m \u001b[0mDecisionTreeRegressor\u001b[0m\u001b[0;34m(\u001b[0m\u001b[0mrandom_state\u001b[0m\u001b[0;34m=\u001b[0m\u001b[0;36m0\u001b[0m\u001b[0;34m,\u001b[0m \u001b[0mcriterion\u001b[0m\u001b[0;34m=\u001b[0m\u001b[0;34m'entropy'\u001b[0m\u001b[0;34m)\u001b[0m\u001b[0;34m\u001b[0m\u001b[0;34m\u001b[0m\u001b[0m\n\u001b[0m\u001b[1;32m     47\u001b[0m \u001b[0;34m\u001b[0m\u001b[0m\n\u001b[1;32m     48\u001b[0m \u001b[0;34m\u001b[0m\u001b[0m\n",
            "\u001b[0;31mNameError\u001b[0m: name 'DecisionTreeRegressor' is not defined"
          ]
        }
      ]
    },
    {
      "cell_type": "code",
      "metadata": {
        "colab": {
          "base_uri": "https://localhost:8080/",
          "height": 1000
        },
        "id": "LU8lXzUFeSKy",
        "outputId": "0d45da6d-8006-4a98-a848-f2a72dab4174"
      },
      "source": [
        "\r\n",
        "\r\n",
        "!pip install pydotplus\r\n",
        "!pip install dtreeviz\r\n",
        "\r\n",
        "import pandas as pd\r\n",
        "import numpy as np\r\n",
        "from sklearn import datasets, tree\r\n",
        "from sklearn.model_selection import train_test_split\r\n",
        "from sklearn.tree import DecisionTreeClassifier\r\n",
        "from sklearn.metrics import accuracy_score, classification_report, confusion_matrix\r\n",
        "from sklearn.feature_extraction import DictVectorizer\r\n",
        "from sklearn.preprocessing import LabelEncoder\r\n",
        "\r\n",
        "#from google.colab import files\r\n",
        "#uploaded = files.upload()\r\n",
        "\r\n",
        "\r\n",
        "\r\n",
        "df_chegadas = pd.read_excel('Chegadas de turistas versus dólar - 2016 a 2019.xlsx', sheet_name=0) \r\n",
        "print(\"\\nDimensões: {0}\".format(df_chegadas.shape))\r\n",
        "print(\"\\nCampos: {0}\".format(df_chegadas.keys()))\r\n",
        "print(df_chegadas.describe(), sep='\\n')\r\n",
        "\r\n",
        "#X = df_chegadas.iloc[:,0:(df_chegadas.shape[1] - 1)]\r\n",
        "X = df_chegadas.loc[:,['cod continente', 'cod pais','cod uf', 'cod via', 'cod mes', 'Cotação média do mês anterior']]\r\n",
        "\r\n",
        "#le = LabelEncoder()\r\n",
        "#y = le.fit_transform(df_chegadas.iloc[:,(df_chegadas.shape[1] - 1)])\r\n",
        "y = df_chegadas.loc[:,'Chegadas categorizadas - log 5']\r\n",
        "\r\n",
        "\r\n",
        "# Particiona a base de dados\r\n",
        "# por default 75% para treinamento e 25% para teste\r\n",
        "X_train, X_test, y_train, y_test = train_test_split(X, y, random_state=0, test_size=0.1)\r\n",
        "\r\n",
        "\"\"\"### Indução do Modelo\r\n",
        "\r\n",
        "\r\n",
        "Os três passos para indução de um modelo são:\r\n",
        "\r\n",
        "1.   Instanciar o modelo: ``` DecisionTreeClassifier()```\r\n",
        "2.   Treinar o modelo: ```fit()```\r\n",
        "3.   Testar o modelo: ```predict()```\r\n",
        "\"\"\"\r\n",
        "\r\n",
        "#df_chegadas_tree = DecisionTreeClassifier(random_state=0, criterion='entropy')\r\n",
        "df_chegadas_tree = DecisionTreeRegressor(random_state=0, criterion='entropy')\r\n",
        "\r\n",
        "\r\n",
        "df_chegadas_tree = df_chegadas_tree.fit(X_train, y_train)\r\n",
        "print(\"Acurácia (base de treinamento):\", df_chegadas_tree.score(X_train, y_train))\r\n",
        "\r\n",
        "y_pred = df_chegadas_tree.predict(X_test)\r\n",
        "print(\"Acurácia de previsão:\", accuracy_score(y_test, y_pred))\r\n",
        "print(classification_report(y_test, y_pred, target_names=[\"cat1\", \"cat2\", \"cat3\", \"cat4\", \"cat5\",  \"cat6\", \"cat7\", \"cat8\"]))\r\n",
        "      \r\n",
        "cnf_matrix = confusion_matrix(y_test, y_pred)\r\n",
        "cnf_table = pd.DataFrame(data=cnf_matrix, index=[\"cat1\", \"cat2\", \"cat3\", \"cat4\", \"cat5\",  \"cat6\", \"cat7\", \"cat8\"], \r\n",
        "                         #\"columns=[\"Mina (prev)\", \"Rocha (prev)\"])\r\n",
        "                         columns=[\"cat1 (prev)\", \"cat2 (prev)\", \"cat3 (prev)\", \"cat4 (prev)\", \"cat5 (prev)\",  \"cat6 (prev)\", \"cat7 (prev)\", \"cat8 (prev)\"])\r\n",
        "print(cnf_table)\r\n"
      ],
      "execution_count": null,
      "outputs": [
        {
          "output_type": "stream",
          "text": [
            "Requirement already satisfied: pydotplus in /usr/local/lib/python3.6/dist-packages (2.0.2)\n",
            "Requirement already satisfied: pyparsing>=2.0.1 in /usr/local/lib/python3.6/dist-packages (from pydotplus) (2.4.7)\n",
            "Requirement already satisfied: dtreeviz in /usr/local/lib/python3.6/dist-packages (1.1.4)\n",
            "Requirement already satisfied: numpy in /usr/local/lib/python3.6/dist-packages (from dtreeviz) (1.19.5)\n",
            "Requirement already satisfied: colour in /usr/local/lib/python3.6/dist-packages (from dtreeviz) (0.1.5)\n",
            "Requirement already satisfied: pytest in /usr/local/lib/python3.6/dist-packages (from dtreeviz) (3.6.4)\n",
            "Requirement already satisfied: pandas in /usr/local/lib/python3.6/dist-packages (from dtreeviz) (1.1.5)\n",
            "Requirement already satisfied: graphviz>=0.9 in /usr/local/lib/python3.6/dist-packages (from dtreeviz) (0.10.1)\n",
            "Requirement already satisfied: scikit-learn in /usr/local/lib/python3.6/dist-packages (from dtreeviz) (0.22.2.post1)\n",
            "Requirement already satisfied: matplotlib in /usr/local/lib/python3.6/dist-packages (from dtreeviz) (3.2.2)\n",
            "Requirement already satisfied: py>=1.5.0 in /usr/local/lib/python3.6/dist-packages (from pytest->dtreeviz) (1.10.0)\n",
            "Requirement already satisfied: atomicwrites>=1.0 in /usr/local/lib/python3.6/dist-packages (from pytest->dtreeviz) (1.4.0)\n",
            "Requirement already satisfied: more-itertools>=4.0.0 in /usr/local/lib/python3.6/dist-packages (from pytest->dtreeviz) (8.6.0)\n",
            "Requirement already satisfied: attrs>=17.4.0 in /usr/local/lib/python3.6/dist-packages (from pytest->dtreeviz) (20.3.0)\n",
            "Requirement already satisfied: pluggy<0.8,>=0.5 in /usr/local/lib/python3.6/dist-packages (from pytest->dtreeviz) (0.7.1)\n",
            "Requirement already satisfied: six>=1.10.0 in /usr/local/lib/python3.6/dist-packages (from pytest->dtreeviz) (1.15.0)\n",
            "Requirement already satisfied: setuptools in /usr/local/lib/python3.6/dist-packages (from pytest->dtreeviz) (51.3.3)\n",
            "Requirement already satisfied: pytz>=2017.2 in /usr/local/lib/python3.6/dist-packages (from pandas->dtreeviz) (2018.9)\n",
            "Requirement already satisfied: python-dateutil>=2.7.3 in /usr/local/lib/python3.6/dist-packages (from pandas->dtreeviz) (2.8.1)\n",
            "Requirement already satisfied: joblib>=0.11 in /usr/local/lib/python3.6/dist-packages (from scikit-learn->dtreeviz) (1.0.0)\n",
            "Requirement already satisfied: scipy>=0.17.0 in /usr/local/lib/python3.6/dist-packages (from scikit-learn->dtreeviz) (1.4.1)\n",
            "Requirement already satisfied: cycler>=0.10 in /usr/local/lib/python3.6/dist-packages (from matplotlib->dtreeviz) (0.10.0)\n",
            "Requirement already satisfied: kiwisolver>=1.0.1 in /usr/local/lib/python3.6/dist-packages (from matplotlib->dtreeviz) (1.3.1)\n",
            "Requirement already satisfied: pyparsing!=2.0.4,!=2.1.2,!=2.1.6,>=2.0.1 in /usr/local/lib/python3.6/dist-packages (from matplotlib->dtreeviz) (2.4.7)\n",
            "\n",
            "Dimensões: (184140, 16)\n",
            "\n",
            "Campos: Index(['Unnamed: 0', 'Unnamed: 0.1', 'Continente', 'cod continente', 'País',\n",
            "       'cod pais', 'UF', 'cod uf', 'Via', 'cod via', 'ano', 'Mês', 'cod mes',\n",
            "       'Chegadas', 'Cotação média do mês anterior',\n",
            "       'Chegadas categorizadas - log 5'],\n",
            "      dtype='object')\n",
            "          Unnamed: 0  ...  Chegadas categorizadas - log 5\n",
            "count  184140.000000  ...                   184140.000000\n",
            "mean    92069.500000  ...                        0.416477\n",
            "std     53156.783622  ...                        0.988122\n",
            "min         0.000000  ...                        0.000000\n",
            "25%     46034.750000  ...                        0.000000\n",
            "50%     92069.500000  ...                        0.000000\n",
            "75%    138104.250000  ...                        0.000000\n",
            "max    184139.000000  ...                        7.000000\n",
            "\n",
            "[8 rows x 11 columns]\n"
          ],
          "name": "stdout"
        },
        {
          "output_type": "error",
          "ename": "NameError",
          "evalue": "ignored",
          "traceback": [
            "\u001b[0;31m---------------------------------------------------------------------------\u001b[0m",
            "\u001b[0;31mNameError\u001b[0m                                 Traceback (most recent call last)",
            "\u001b[0;32m<ipython-input-34-daae435cdaec>\u001b[0m in \u001b[0;36m<module>\u001b[0;34m()\u001b[0m\n\u001b[1;32m     46\u001b[0m \u001b[0;34m\u001b[0m\u001b[0m\n\u001b[1;32m     47\u001b[0m \u001b[0;31m#df_chegadas_tree = DecisionTreeClassifier(random_state=0, criterion='entropy')\u001b[0m\u001b[0;34m\u001b[0m\u001b[0;34m\u001b[0m\u001b[0;34m\u001b[0m\u001b[0m\n\u001b[0;32m---> 48\u001b[0;31m \u001b[0mdf_chegadas_tree\u001b[0m \u001b[0;34m=\u001b[0m \u001b[0mDecisionTreeRegressor\u001b[0m\u001b[0;34m(\u001b[0m\u001b[0mrandom_state\u001b[0m\u001b[0;34m=\u001b[0m\u001b[0;36m0\u001b[0m\u001b[0;34m,\u001b[0m \u001b[0mcriterion\u001b[0m\u001b[0;34m=\u001b[0m\u001b[0;34m'entropy'\u001b[0m\u001b[0;34m)\u001b[0m\u001b[0;34m\u001b[0m\u001b[0;34m\u001b[0m\u001b[0m\n\u001b[0m\u001b[1;32m     49\u001b[0m \u001b[0;34m\u001b[0m\u001b[0m\n\u001b[1;32m     50\u001b[0m \u001b[0;34m\u001b[0m\u001b[0m\n",
            "\u001b[0;31mNameError\u001b[0m: name 'DecisionTreeRegressor' is not defined"
          ]
        }
      ]
    },
    {
      "cell_type": "code",
      "metadata": {
        "colab": {
          "base_uri": "https://localhost:8080/"
        },
        "id": "nyIolSF2ezsZ",
        "outputId": "4e87a1a1-7d4f-4bbf-bdc0-c5421a12951b"
      },
      "source": [
        "\r\n",
        "\r\n",
        "!pip install pydotplus\r\n",
        "!pip install dtreeviz\r\n",
        "\r\n",
        "import pandas as pd\r\n",
        "import numpy as np\r\n",
        "from sklearn import datasets, tree\r\n",
        "from sklearn.model_selection import train_test_split\r\n",
        "from sklearn.tree import DecisionTreeClassifier\r\n",
        "from sklearn.metrics import accuracy_score, classification_report, confusion_matrix\r\n",
        "from sklearn.feature_extraction import DictVectorizer\r\n",
        "from sklearn.preprocessing import LabelEncoder\r\n",
        "\r\n",
        "#from google.colab import files\r\n",
        "#uploaded = files.upload()\r\n",
        "\r\n",
        "\r\n",
        "\r\n",
        "df_chegadas = pd.read_excel('Chegadas de turistas versus dólar - 2016 a 2019.xlsx', sheet_name=0) \r\n",
        "print(\"\\nDimensões: {0}\".format(df_chegadas.shape))\r\n",
        "print(\"\\nCampos: {0}\".format(df_chegadas.keys()))\r\n",
        "print(df_chegadas.describe(), sep='\\n')\r\n",
        "\r\n",
        "#X = df_chegadas.iloc[:,0:(df_chegadas.shape[1] - 1)]\r\n",
        "X = df_chegadas.loc[:,['cod continente', 'cod pais','cod uf', 'cod via', 'cod mes', 'Cotação média do mês anterior']]\r\n",
        "\r\n",
        "#le = LabelEncoder()\r\n",
        "#y = le.fit_transform(df_chegadas.iloc[:,(df_chegadas.shape[1] - 1)])\r\n",
        "y = df_chegadas.loc[:,'Chegadas categorizadas - log 5']\r\n",
        "\r\n",
        "\r\n",
        "# Particiona a base de dados\r\n",
        "# por default 75% para treinamento e 25% para teste\r\n",
        "X_train, X_test, y_train, y_test = train_test_split(X, y, random_state=0, test_size=0.1)\r\n",
        "\r\n",
        "\"\"\"### Indução do Modelo\r\n",
        "\r\n",
        "\r\n",
        "Os três passos para indução de um modelo são:\r\n",
        "\r\n",
        "1.   Instanciar o modelo: ``` DecisionTreeClassifier()```\r\n",
        "2.   Treinar o modelo: ```fit()```\r\n",
        "3.   Testar o modelo: ```predict()```\r\n",
        "\"\"\"\r\n",
        "\r\n",
        "df_chegadas_tree = DecisionTreeClassifier(random_state=0, criterion='entropy')\r\n",
        "#df_chegadas_tree = DecisionTreeRegressor(random_state=0, criterion='entropy')\r\n",
        "\r\n",
        "\r\n",
        "df_chegadas_tree = df_chegadas_tree.fit(X_train, y_train)\r\n",
        "print(\"Acurácia (base de treinamento):\", df_chegadas_tree.score(X_train, y_train))\r\n",
        "\r\n",
        "y_pred = df_chegadas_tree.predict(X_test)\r\n",
        "print(\"Acurácia de previsão:\", accuracy_score(y_test, y_pred))\r\n",
        "print(classification_report(y_test, y_pred, target_names=[\"cat1\", \"cat2\", \"cat3\", \"cat4\", \"cat5\",  \"cat6\", \"cat7\", \"cat8\"]))\r\n",
        "      \r\n",
        "cnf_matrix = confusion_matrix(y_test, y_pred)\r\n",
        "cnf_table = pd.DataFrame(data=cnf_matrix, index=[\"cat1\", \"cat2\", \"cat3\", \"cat4\", \"cat5\",  \"cat6\", \"cat7\", \"cat8\"], \r\n",
        "                         #\"columns=[\"Mina (prev)\", \"Rocha (prev)\"])\r\n",
        "                         columns=[\"cat1 (prev)\", \"cat2 (prev)\", \"cat3 (prev)\", \"cat4 (prev)\", \"cat5 (prev)\",  \"cat6 (prev)\", \"cat7 (prev)\", \"cat8 (prev)\"])\r\n",
        "print(cnf_table)\r\n"
      ],
      "execution_count": null,
      "outputs": [
        {
          "output_type": "stream",
          "text": [
            "Requirement already satisfied: pydotplus in /usr/local/lib/python3.6/dist-packages (2.0.2)\n",
            "Requirement already satisfied: pyparsing>=2.0.1 in /usr/local/lib/python3.6/dist-packages (from pydotplus) (2.4.7)\n",
            "Requirement already satisfied: dtreeviz in /usr/local/lib/python3.6/dist-packages (1.1.4)\n",
            "Requirement already satisfied: scikit-learn in /usr/local/lib/python3.6/dist-packages (from dtreeviz) (0.22.2.post1)\n",
            "Requirement already satisfied: pytest in /usr/local/lib/python3.6/dist-packages (from dtreeviz) (3.6.4)\n",
            "Requirement already satisfied: graphviz>=0.9 in /usr/local/lib/python3.6/dist-packages (from dtreeviz) (0.10.1)\n",
            "Requirement already satisfied: numpy in /usr/local/lib/python3.6/dist-packages (from dtreeviz) (1.19.5)\n",
            "Requirement already satisfied: matplotlib in /usr/local/lib/python3.6/dist-packages (from dtreeviz) (3.2.2)\n",
            "Requirement already satisfied: colour in /usr/local/lib/python3.6/dist-packages (from dtreeviz) (0.1.5)\n",
            "Requirement already satisfied: pandas in /usr/local/lib/python3.6/dist-packages (from dtreeviz) (1.1.5)\n",
            "Requirement already satisfied: scipy>=0.17.0 in /usr/local/lib/python3.6/dist-packages (from scikit-learn->dtreeviz) (1.4.1)\n",
            "Requirement already satisfied: joblib>=0.11 in /usr/local/lib/python3.6/dist-packages (from scikit-learn->dtreeviz) (1.0.0)\n",
            "Requirement already satisfied: setuptools in /usr/local/lib/python3.6/dist-packages (from pytest->dtreeviz) (51.3.3)\n",
            "Requirement already satisfied: atomicwrites>=1.0 in /usr/local/lib/python3.6/dist-packages (from pytest->dtreeviz) (1.4.0)\n",
            "Requirement already satisfied: attrs>=17.4.0 in /usr/local/lib/python3.6/dist-packages (from pytest->dtreeviz) (20.3.0)\n",
            "Requirement already satisfied: pluggy<0.8,>=0.5 in /usr/local/lib/python3.6/dist-packages (from pytest->dtreeviz) (0.7.1)\n",
            "Requirement already satisfied: more-itertools>=4.0.0 in /usr/local/lib/python3.6/dist-packages (from pytest->dtreeviz) (8.6.0)\n",
            "Requirement already satisfied: py>=1.5.0 in /usr/local/lib/python3.6/dist-packages (from pytest->dtreeviz) (1.10.0)\n",
            "Requirement already satisfied: six>=1.10.0 in /usr/local/lib/python3.6/dist-packages (from pytest->dtreeviz) (1.15.0)\n",
            "Requirement already satisfied: kiwisolver>=1.0.1 in /usr/local/lib/python3.6/dist-packages (from matplotlib->dtreeviz) (1.3.1)\n",
            "Requirement already satisfied: cycler>=0.10 in /usr/local/lib/python3.6/dist-packages (from matplotlib->dtreeviz) (0.10.0)\n",
            "Requirement already satisfied: python-dateutil>=2.1 in /usr/local/lib/python3.6/dist-packages (from matplotlib->dtreeviz) (2.8.1)\n",
            "Requirement already satisfied: pyparsing!=2.0.4,!=2.1.2,!=2.1.6,>=2.0.1 in /usr/local/lib/python3.6/dist-packages (from matplotlib->dtreeviz) (2.4.7)\n",
            "Requirement already satisfied: pytz>=2017.2 in /usr/local/lib/python3.6/dist-packages (from pandas->dtreeviz) (2018.9)\n",
            "\n",
            "Dimensões: (184140, 16)\n",
            "\n",
            "Campos: Index(['Unnamed: 0', 'Unnamed: 0.1', 'Continente', 'cod continente', 'País',\n",
            "       'cod pais', 'UF', 'cod uf', 'Via', 'cod via', 'ano', 'Mês', 'cod mes',\n",
            "       'Chegadas', 'Cotação média do mês anterior',\n",
            "       'Chegadas categorizadas - log 5'],\n",
            "      dtype='object')\n",
            "          Unnamed: 0  ...  Chegadas categorizadas - log 5\n",
            "count  184140.000000  ...                   184140.000000\n",
            "mean    92069.500000  ...                        0.416477\n",
            "std     53156.783622  ...                        0.988122\n",
            "min         0.000000  ...                        0.000000\n",
            "25%     46034.750000  ...                        0.000000\n",
            "50%     92069.500000  ...                        0.000000\n",
            "75%    138104.250000  ...                        0.000000\n",
            "max    184139.000000  ...                        7.000000\n",
            "\n",
            "[8 rows x 11 columns]\n",
            "Acurácia (base de treinamento): 1.0\n",
            "Acurácia de previsão: 0.8900836320191159\n",
            "              precision    recall  f1-score   support\n",
            "\n",
            "        cat1       0.96      0.96      0.96     14661\n",
            "        cat2       0.52      0.53      0.52      1595\n",
            "        cat3       0.66      0.67      0.66      1051\n",
            "        cat4       0.69      0.72      0.71       598\n",
            "        cat5       0.75      0.73      0.74       321\n",
            "        cat6       0.83      0.82      0.82       157\n",
            "        cat7       0.77      0.82      0.79        28\n",
            "        cat8       1.00      1.00      1.00         3\n",
            "\n",
            "    accuracy                           0.89     18414\n",
            "   macro avg       0.77      0.78      0.78     18414\n",
            "weighted avg       0.89      0.89      0.89     18414\n",
            "\n",
            "      cat1 (prev)  cat2 (prev)  ...  cat7 (prev)  cat8 (prev)\n",
            "cat1        14019          590  ...            0            0\n",
            "cat2          508          848  ...            0            0\n",
            "cat3           48          185  ...            0            0\n",
            "cat4            6           11  ...            0            0\n",
            "cat5            2            1  ...            0            0\n",
            "cat6            0            1  ...            7            0\n",
            "cat7            0            0  ...           23            0\n",
            "cat8            0            0  ...            0            3\n",
            "\n",
            "[8 rows x 8 columns]\n"
          ],
          "name": "stdout"
        }
      ]
    },
    {
      "cell_type": "code",
      "metadata": {
        "colab": {
          "base_uri": "https://localhost:8080/",
          "height": 130
        },
        "id": "KhsIH3YTfYoZ",
        "outputId": "b7d92dbe-6bfe-4197-9ae0-f87dd3bac796"
      },
      "source": [
        "import pydotplus \r\n",
        "# Create DOT data\r\n",
        "dot_data = tree.export_graphviz(df_chegadas_tree, out_file=None, \r\n",
        "                                proportion=False,\r\n",
        "                                rounded =True,\r\n",
        "                                filled=True,\r\n",
        "                                feature_names=['cod continente', 'cod pais','cod uf', 'cod via', 'cod mes', 'Cotação média do mês anterior'] #np.arange(0,60))\r\n",
        "\r\n",
        "# Draw graph\r\n",
        "graph = pydotplus.graph_from_dot_data(dot_data)  \r\n",
        "\r\n",
        "# Show graph\r\n",
        "Image(graph.create_png())"
      ],
      "execution_count": null,
      "outputs": [
        {
          "output_type": "error",
          "ename": "SyntaxError",
          "evalue": "ignored",
          "traceback": [
            "\u001b[0;36m  File \u001b[0;32m\"<ipython-input-40-c3d60c16d79c>\"\u001b[0;36m, line \u001b[0;32m10\u001b[0m\n\u001b[0;31m    graph = pydotplus.graph_from_dot_data(dot_data)\u001b[0m\n\u001b[0m        ^\u001b[0m\n\u001b[0;31mSyntaxError\u001b[0m\u001b[0;31m:\u001b[0m invalid syntax\n"
          ]
        }
      ]
    },
    {
      "cell_type": "code",
      "metadata": {
        "colab": {
          "base_uri": "https://localhost:8080/"
        },
        "id": "4HKAzU1IjaBt",
        "outputId": "e357ee6a-0f5b-40f8-f511-2e2ea4fdc6db"
      },
      "source": [
        "\r\n",
        "!pip install pydotplus\r\n",
        "!pip install dtreeviz\r\n",
        "\r\n",
        "import pandas as pd\r\n",
        "import numpy as np\r\n",
        "from sklearn import datasets, tree\r\n",
        "from sklearn.model_selection import train_test_split\r\n",
        "from sklearn.tree import DecisionTreeClassifier\r\n",
        "from sklearn.metrics import accuracy_score, classification_report, confusion_matrix\r\n",
        "from sklearn.feature_extraction import DictVectorizer\r\n",
        "from sklearn.preprocessing import LabelEncoder\r\n",
        "\r\n",
        "#from google.colab import files\r\n",
        "#uploaded = files.upload()\r\n",
        "\r\n",
        "\r\n",
        "\r\n",
        "df_chegadas = pd.read_excel('Chegadas de turistas versus dólar - 2016 a 2019.xlsx', sheet_name=0) \r\n",
        "print(\"\\nDimensões: {0}\".format(df_chegadas.shape))\r\n",
        "print(\"\\nCampos: {0}\".format(df_chegadas.keys()))\r\n",
        "print(df_chegadas.describe(), sep='\\n')\r\n",
        "\r\n",
        "#X = df_chegadas.iloc[:,0:(df_chegadas.shape[1] - 1)]\r\n",
        "X = df_chegadas.loc[:,['cod continente', 'cod pais','cod uf', 'cod via', 'cod mes', 'Cotação média do mês anterior']]\r\n",
        "\r\n",
        "le = LabelEncoder()\r\n",
        "y = le.fit_transform(df_chegadas.iloc[:,(df_chegadas.shape[1] - 1)])\r\n",
        "#y = df_chegadas.loc[:,'Chegadas categorizadas - log 5']\r\n",
        "\r\n",
        "\r\n",
        "# Particiona a base de dados\r\n",
        "# por default 75% para treinamento e 25% para teste\r\n",
        "X_train, X_test, y_train, y_test = train_test_split(X, y, random_state=0, test_size=0.1)\r\n",
        "\r\n",
        "\"\"\"### Indução do Modelo\r\n",
        "\r\n",
        "\r\n",
        "Os três passos para indução de um modelo são:\r\n",
        "\r\n",
        "1.   Instanciar o modelo: ``` DecisionTreeClassifier()```\r\n",
        "2.   Treinar o modelo: ```fit()```\r\n",
        "3.   Testar o modelo: ```predict()```\r\n",
        "\"\"\"\r\n",
        "\r\n",
        "df_chegadas_tree = DecisionTreeClassifier(random_state=0, criterion='entropy')\r\n",
        "#df_chegadas_tree = DecisionTreeRegressor(random_state=0, criterion='entropy')\r\n",
        "\r\n",
        "\r\n",
        "df_chegadas_tree = df_chegadas_tree.fit(X_train, y_train)\r\n",
        "print(\"Acurácia (base de treinamento):\", df_chegadas_tree.score(X_train, y_train))\r\n",
        "\r\n",
        "y_pred = df_chegadas_tree.predict(X_test)\r\n",
        "print(\"Acurácia de previsão:\", accuracy_score(y_test, y_pred))\r\n",
        "print(classification_report(y_test, y_pred, target_names=[\"cat1\", \"cat2\", \"cat3\", \"cat4\", \"cat5\",  \"cat6\", \"cat7\", \"cat8\"]))\r\n",
        "      \r\n",
        "cnf_matrix = confusion_matrix(y_test, y_pred)\r\n",
        "cnf_table = pd.DataFrame(data=cnf_matrix, index=[\"cat1\", \"cat2\", \"cat3\", \"cat4\", \"cat5\",  \"cat6\", \"cat7\", \"cat8\"], \r\n",
        "                         #\"columns=[\"Mina (prev)\", \"Rocha (prev)\"])\r\n",
        "                         columns=[\"cat1 (prev)\", \"cat2 (prev)\", \"cat3 (prev)\", \"cat4 (prev)\", \"cat5 (prev)\",  \"cat6 (prev)\", \"cat7 (prev)\", \"cat8 (prev)\"])\r\n",
        "print(cnf_table)"
      ],
      "execution_count": null,
      "outputs": [
        {
          "output_type": "stream",
          "text": [
            "Requirement already satisfied: pydotplus in /usr/local/lib/python3.6/dist-packages (2.0.2)\n",
            "Requirement already satisfied: pyparsing>=2.0.1 in /usr/local/lib/python3.6/dist-packages (from pydotplus) (2.4.7)\n",
            "Requirement already satisfied: dtreeviz in /usr/local/lib/python3.6/dist-packages (1.1.4)\n",
            "Requirement already satisfied: colour in /usr/local/lib/python3.6/dist-packages (from dtreeviz) (0.1.5)\n",
            "Requirement already satisfied: graphviz>=0.9 in /usr/local/lib/python3.6/dist-packages (from dtreeviz) (0.10.1)\n",
            "Requirement already satisfied: pandas in /usr/local/lib/python3.6/dist-packages (from dtreeviz) (1.1.5)\n",
            "Requirement already satisfied: pytest in /usr/local/lib/python3.6/dist-packages (from dtreeviz) (3.6.4)\n",
            "Requirement already satisfied: matplotlib in /usr/local/lib/python3.6/dist-packages (from dtreeviz) (3.2.2)\n",
            "Requirement already satisfied: numpy in /usr/local/lib/python3.6/dist-packages (from dtreeviz) (1.19.5)\n",
            "Requirement already satisfied: scikit-learn in /usr/local/lib/python3.6/dist-packages (from dtreeviz) (0.22.2.post1)\n",
            "Requirement already satisfied: pytz>=2017.2 in /usr/local/lib/python3.6/dist-packages (from pandas->dtreeviz) (2018.9)\n",
            "Requirement already satisfied: python-dateutil>=2.7.3 in /usr/local/lib/python3.6/dist-packages (from pandas->dtreeviz) (2.8.1)\n",
            "Requirement already satisfied: attrs>=17.4.0 in /usr/local/lib/python3.6/dist-packages (from pytest->dtreeviz) (20.3.0)\n",
            "Requirement already satisfied: py>=1.5.0 in /usr/local/lib/python3.6/dist-packages (from pytest->dtreeviz) (1.10.0)\n",
            "Requirement already satisfied: atomicwrites>=1.0 in /usr/local/lib/python3.6/dist-packages (from pytest->dtreeviz) (1.4.0)\n",
            "Requirement already satisfied: more-itertools>=4.0.0 in /usr/local/lib/python3.6/dist-packages (from pytest->dtreeviz) (8.6.0)\n",
            "Requirement already satisfied: pluggy<0.8,>=0.5 in /usr/local/lib/python3.6/dist-packages (from pytest->dtreeviz) (0.7.1)\n",
            "Requirement already satisfied: setuptools in /usr/local/lib/python3.6/dist-packages (from pytest->dtreeviz) (51.3.3)\n",
            "Requirement already satisfied: six>=1.10.0 in /usr/local/lib/python3.6/dist-packages (from pytest->dtreeviz) (1.15.0)\n",
            "Requirement already satisfied: cycler>=0.10 in /usr/local/lib/python3.6/dist-packages (from matplotlib->dtreeviz) (0.10.0)\n",
            "Requirement already satisfied: kiwisolver>=1.0.1 in /usr/local/lib/python3.6/dist-packages (from matplotlib->dtreeviz) (1.3.1)\n",
            "Requirement already satisfied: pyparsing!=2.0.4,!=2.1.2,!=2.1.6,>=2.0.1 in /usr/local/lib/python3.6/dist-packages (from matplotlib->dtreeviz) (2.4.7)\n",
            "Requirement already satisfied: scipy>=0.17.0 in /usr/local/lib/python3.6/dist-packages (from scikit-learn->dtreeviz) (1.4.1)\n",
            "Requirement already satisfied: joblib>=0.11 in /usr/local/lib/python3.6/dist-packages (from scikit-learn->dtreeviz) (1.0.0)\n",
            "\n",
            "Dimensões: (184140, 16)\n",
            "\n",
            "Campos: Index(['Unnamed: 0', 'Unnamed: 0.1', 'Continente', 'cod continente', 'País',\n",
            "       'cod pais', 'UF', 'cod uf', 'Via', 'cod via', 'ano', 'Mês', 'cod mes',\n",
            "       'Chegadas', 'Cotação média do mês anterior',\n",
            "       'Chegadas categorizadas - log 5'],\n",
            "      dtype='object')\n",
            "          Unnamed: 0  ...  Chegadas categorizadas - log 5\n",
            "count  184140.000000  ...                   184140.000000\n",
            "mean    92069.500000  ...                        0.416477\n",
            "std     53156.783622  ...                        0.988122\n",
            "min         0.000000  ...                        0.000000\n",
            "25%     46034.750000  ...                        0.000000\n",
            "50%     92069.500000  ...                        0.000000\n",
            "75%    138104.250000  ...                        0.000000\n",
            "max    184139.000000  ...                        7.000000\n",
            "\n",
            "[8 rows x 11 columns]\n",
            "Acurácia (base de treinamento): 1.0\n",
            "Acurácia de previsão: 0.8900836320191159\n",
            "              precision    recall  f1-score   support\n",
            "\n",
            "        cat1       0.96      0.96      0.96     14661\n",
            "        cat2       0.52      0.53      0.52      1595\n",
            "        cat3       0.66      0.67      0.66      1051\n",
            "        cat4       0.69      0.72      0.71       598\n",
            "        cat5       0.75      0.73      0.74       321\n",
            "        cat6       0.83      0.82      0.82       157\n",
            "        cat7       0.77      0.82      0.79        28\n",
            "        cat8       1.00      1.00      1.00         3\n",
            "\n",
            "    accuracy                           0.89     18414\n",
            "   macro avg       0.77      0.78      0.78     18414\n",
            "weighted avg       0.89      0.89      0.89     18414\n",
            "\n",
            "      cat1 (prev)  cat2 (prev)  ...  cat7 (prev)  cat8 (prev)\n",
            "cat1        14019          590  ...            0            0\n",
            "cat2          508          848  ...            0            0\n",
            "cat3           48          185  ...            0            0\n",
            "cat4            6           11  ...            0            0\n",
            "cat5            2            1  ...            0            0\n",
            "cat6            0            1  ...            7            0\n",
            "cat7            0            0  ...           23            0\n",
            "cat8            0            0  ...            0            3\n",
            "\n",
            "[8 rows x 8 columns]\n"
          ],
          "name": "stdout"
        }
      ]
    },
    {
      "cell_type": "code",
      "metadata": {
        "colab": {
          "base_uri": "https://localhost:8080/"
        },
        "id": "uBQ4FIf6-gUk",
        "outputId": "4127e83b-383c-4064-f232-e28139d13a63"
      },
      "source": [
        "!pip install pydotplus\r\n",
        "!pip install dtreeviz\r\n",
        "\r\n",
        "import pandas as pd\r\n",
        "import numpy as np\r\n",
        "from sklearn import datasets, tree\r\n",
        "from sklearn.model_selection import train_test_split\r\n",
        "from sklearn.tree import DecisionTreeClassifier\r\n",
        "from sklearn.metrics import accuracy_score, classification_report, confusion_matrix\r\n",
        "from sklearn.feature_extraction import DictVectorizer\r\n",
        "from sklearn.preprocessing import LabelEncoder\r\n",
        "\r\n",
        "#from google.colab import files\r\n",
        "#uploaded = files.upload()\r\n",
        "\r\n",
        "\r\n",
        "\r\n",
        "df_chegadas = pd.read_excel('Chegadas de turistas versus dólar - 2016 a 2019.xlsx', sheet_name=0) \r\n",
        "print(\"\\nDimensões: {0}\".format(df_chegadas.shape))\r\n",
        "print(\"\\nCampos: {0}\".format(df_chegadas.keys()))\r\n",
        "print(df_chegadas.describe(), sep='\\n')\r\n",
        "\r\n",
        "#X = df_chegadas.iloc[:,0:(df_chegadas.shape[1] - 1)]\r\n",
        "X = df_chegadas.loc[:,['cod continente', 'cod pais','cod uf', 'cod via', 'cod mes', 'Cotação média do mês anterior']]\r\n",
        "\r\n",
        "le = LabelEncoder()\r\n",
        "y = le.fit_transform(df_chegadas.iloc[:,(df_chegadas.shape[1] - 1)])\r\n",
        "#y = df_chegadas.loc[:,'Chegadas categorizadas - log 5']\r\n",
        "\r\n",
        "\r\n",
        "# Particiona a base de dados\r\n",
        "# por default 75% para treinamento e 25% para teste\r\n",
        "X_train, X_test, y_train, y_test = train_test_split(X, y, random_state=0, test_size=0.25)\r\n",
        "\r\n",
        "\"\"\"### Indução do Modelo\r\n",
        "\r\n",
        "\r\n",
        "Os três passos para indução de um modelo são:\r\n",
        "\r\n",
        "1.   Instanciar o modelo: ``` DecisionTreeClassifier()```\r\n",
        "2.   Treinar o modelo: ```fit()```\r\n",
        "3.   Testar o modelo: ```predict()```\r\n",
        "\"\"\"\r\n",
        "\r\n",
        "df_chegadas_tree = DecisionTreeClassifier(random_state=0, criterion='entropy')\r\n",
        "#df_chegadas_tree = DecisionTreeRegressor(random_state=0, criterion='entropy')\r\n",
        "\r\n",
        "\r\n",
        "df_chegadas_tree = df_chegadas_tree.fit(X_train, y_train)\r\n",
        "print(\"Acurácia (base de treinamento):\", df_chegadas_tree.score(X_train, y_train))\r\n",
        "\r\n",
        "y_pred = df_chegadas_tree.predict(X_test)\r\n",
        "print(\"Acurácia de previsão:\", accuracy_score(y_test, y_pred))\r\n",
        "print(classification_report(y_test, y_pred, target_names=[\"Há chegadas\", \"Não há chegadas\"]))\r\n",
        "      \r\n",
        "cnf_matrix = confusion_matrix(y_test, y_pred)\r\n",
        "cnf_table = pd.DataFrame(data=cnf_matrix, index=[\"Há chegadas\", \"Não há chegadas\"], \r\n",
        "                         #\"columns=[\"Mina (prev)\", \"Rocha (prev)\"])\r\n",
        "                         columns=[\"Há chegadas (prev)\", \"Não há chegadas (prev)\"])\r\n",
        "print(cnf_table)\r\n"
      ],
      "execution_count": 2,
      "outputs": [
        {
          "output_type": "stream",
          "text": [
            "Requirement already satisfied: pydotplus in /usr/local/lib/python3.6/dist-packages (2.0.2)\n",
            "Requirement already satisfied: pyparsing>=2.0.1 in /usr/local/lib/python3.6/dist-packages (from pydotplus) (2.4.7)\n",
            "Requirement already satisfied: dtreeviz in /usr/local/lib/python3.6/dist-packages (1.1.4)\n",
            "Requirement already satisfied: pandas in /usr/local/lib/python3.6/dist-packages (from dtreeviz) (1.1.5)\n",
            "Requirement already satisfied: numpy in /usr/local/lib/python3.6/dist-packages (from dtreeviz) (1.19.5)\n",
            "Requirement already satisfied: pytest in /usr/local/lib/python3.6/dist-packages (from dtreeviz) (3.6.4)\n",
            "Requirement already satisfied: scikit-learn in /usr/local/lib/python3.6/dist-packages (from dtreeviz) (0.22.2.post1)\n",
            "Requirement already satisfied: graphviz>=0.9 in /usr/local/lib/python3.6/dist-packages (from dtreeviz) (0.10.1)\n",
            "Requirement already satisfied: matplotlib in /usr/local/lib/python3.6/dist-packages (from dtreeviz) (3.2.2)\n",
            "Requirement already satisfied: colour in /usr/local/lib/python3.6/dist-packages (from dtreeviz) (0.1.5)\n",
            "Requirement already satisfied: pytz>=2017.2 in /usr/local/lib/python3.6/dist-packages (from pandas->dtreeviz) (2018.9)\n",
            "Requirement already satisfied: python-dateutil>=2.7.3 in /usr/local/lib/python3.6/dist-packages (from pandas->dtreeviz) (2.8.1)\n",
            "Requirement already satisfied: atomicwrites>=1.0 in /usr/local/lib/python3.6/dist-packages (from pytest->dtreeviz) (1.4.0)\n",
            "Requirement already satisfied: pluggy<0.8,>=0.5 in /usr/local/lib/python3.6/dist-packages (from pytest->dtreeviz) (0.7.1)\n",
            "Requirement already satisfied: attrs>=17.4.0 in /usr/local/lib/python3.6/dist-packages (from pytest->dtreeviz) (20.3.0)\n",
            "Requirement already satisfied: setuptools in /usr/local/lib/python3.6/dist-packages (from pytest->dtreeviz) (53.0.0)\n",
            "Requirement already satisfied: py>=1.5.0 in /usr/local/lib/python3.6/dist-packages (from pytest->dtreeviz) (1.10.0)\n",
            "Requirement already satisfied: more-itertools>=4.0.0 in /usr/local/lib/python3.6/dist-packages (from pytest->dtreeviz) (8.6.0)\n",
            "Requirement already satisfied: six>=1.10.0 in /usr/local/lib/python3.6/dist-packages (from pytest->dtreeviz) (1.15.0)\n",
            "Requirement already satisfied: scipy>=0.17.0 in /usr/local/lib/python3.6/dist-packages (from scikit-learn->dtreeviz) (1.4.1)\n",
            "Requirement already satisfied: joblib>=0.11 in /usr/local/lib/python3.6/dist-packages (from scikit-learn->dtreeviz) (1.0.0)\n",
            "Requirement already satisfied: pyparsing!=2.0.4,!=2.1.2,!=2.1.6,>=2.0.1 in /usr/local/lib/python3.6/dist-packages (from matplotlib->dtreeviz) (2.4.7)\n",
            "Requirement already satisfied: kiwisolver>=1.0.1 in /usr/local/lib/python3.6/dist-packages (from matplotlib->dtreeviz) (1.3.1)\n",
            "Requirement already satisfied: cycler>=0.10 in /usr/local/lib/python3.6/dist-packages (from matplotlib->dtreeviz) (0.10.0)\n",
            "\n",
            "Dimensões: (184140, 16)\n",
            "\n",
            "Campos: Index(['Unnamed: 0', 'Unnamed: 0.1', 'Continente', 'cod continente', 'País',\n",
            "       'cod pais', 'UF', 'cod uf', 'Via', 'cod via', 'ano', 'Mês', 'cod mes',\n",
            "       'Chegadas', 'Cotação média do mês anterior', 'Houve chegadas'],\n",
            "      dtype='object')\n",
            "          Unnamed: 0  ...  Cotação média do mês anterior\n",
            "count  184140.000000  ...                  184140.000000\n",
            "mean    92069.500000  ...                       3.580292\n",
            "std     53156.783622  ...                       0.345073\n",
            "min         0.000000  ...                       3.104194\n",
            "25%     46034.750000  ...                       3.241500\n",
            "50%     92069.500000  ...                       3.565845\n",
            "75%    138104.250000  ...                       3.885055\n",
            "max    184139.000000  ...                       4.155345\n",
            "\n",
            "[8 rows x 10 columns]\n",
            "Acurácia (base de treinamento): 1.0\n",
            "Acurácia de previsão: 0.8661453242098404\n",
            "                 precision    recall  f1-score   support\n",
            "\n",
            "    Há chegadas       0.90      0.90      0.90     30679\n",
            "Não há chegadas       0.80      0.80      0.80     15356\n",
            "\n",
            "       accuracy                           0.87     46035\n",
            "      macro avg       0.85      0.85      0.85     46035\n",
            "   weighted avg       0.87      0.87      0.87     46035\n",
            "\n",
            "                 Há chegadas (prev)  Não há chegadas (prev)\n",
            "Há chegadas                   27532                    3147\n",
            "Não há chegadas                3015                   12341\n"
          ],
          "name": "stdout"
        }
      ]
    },
    {
      "cell_type": "code",
      "metadata": {
        "colab": {
          "base_uri": "https://localhost:8080/",
          "height": 576
        },
        "id": "Ca6b6xOPHFbj",
        "outputId": "ced82b36-4e3a-4d1d-99c3-488f0152c7e5"
      },
      "source": [
        "from dtreeviz.trees import *\r\n",
        "\r\n",
        "viz = dtreeviz(df_chegadas_tree,\r\n",
        "              X_train,\r\n",
        "              y_train,\r\n",
        "              target_name=\"Nível de chegadas\", # \"Classe\",\r\n",
        "              feature_names=['cod continente', 'cod pAis','cod uf', 'cod via', 'cod mes', 'Cotação média do mês anterior'], #np.arange(0,60),\r\n",
        "              class_names=[\"Há chegadas\", \"Não há chegadas\"])  \r\n",
        "\r\n",
        "viz.view()"
      ],
      "execution_count": 3,
      "outputs": [
        {
          "output_type": "stream",
          "text": [
            "findfont: Font family ['Arial'] not found. Falling back to DejaVu Sans.\n",
            "findfont: Font family ['Arial'] not found. Falling back to DejaVu Sans.\n",
            "/usr/local/lib/python3.6/dist-packages/numpy/core/_asarray.py:83: VisibleDeprecationWarning: Creating an ndarray from ragged nested sequences (which is a list-or-tuple of lists-or-tuples-or ndarrays with different lengths or shapes) is deprecated. If you meant to do this, you must specify 'dtype=object' when creating the ndarray\n",
            "  return array(a, dtype, copy=False, order=order)\n"
          ],
          "name": "stderr"
        },
        {
          "output_type": "error",
          "ename": "KeyboardInterrupt",
          "evalue": "ignored",
          "traceback": [
            "\u001b[0;31m---------------------------------------------------------------------------\u001b[0m",
            "\u001b[0;31mKeyboardInterrupt\u001b[0m                         Traceback (most recent call last)",
            "\u001b[0;32m<ipython-input-3-6368e4b2e261>\u001b[0m in \u001b[0;36m<module>\u001b[0;34m()\u001b[0m\n\u001b[1;32m      6\u001b[0m               \u001b[0mtarget_name\u001b[0m\u001b[0;34m=\u001b[0m\u001b[0;34m\"Nível de chegadas\"\u001b[0m\u001b[0;34m,\u001b[0m \u001b[0;31m# \"Classe\",\u001b[0m\u001b[0;34m\u001b[0m\u001b[0;34m\u001b[0m\u001b[0m\n\u001b[1;32m      7\u001b[0m               \u001b[0mfeature_names\u001b[0m\u001b[0;34m=\u001b[0m\u001b[0;34m[\u001b[0m\u001b[0;34m'cod continente'\u001b[0m\u001b[0;34m,\u001b[0m \u001b[0;34m'cod pAis'\u001b[0m\u001b[0;34m,\u001b[0m\u001b[0;34m'cod uf'\u001b[0m\u001b[0;34m,\u001b[0m \u001b[0;34m'cod via'\u001b[0m\u001b[0;34m,\u001b[0m \u001b[0;34m'cod mes'\u001b[0m\u001b[0;34m,\u001b[0m \u001b[0;34m'Cotação média do mês anterior'\u001b[0m\u001b[0;34m]\u001b[0m\u001b[0;34m,\u001b[0m \u001b[0;31m#np.arange(0,60),\u001b[0m\u001b[0;34m\u001b[0m\u001b[0;34m\u001b[0m\u001b[0m\n\u001b[0;32m----> 8\u001b[0;31m               class_names=[\"Há chegadas\", \"Não há chegadas\"])  \n\u001b[0m\u001b[1;32m      9\u001b[0m \u001b[0;34m\u001b[0m\u001b[0m\n\u001b[1;32m     10\u001b[0m \u001b[0mviz\u001b[0m\u001b[0;34m.\u001b[0m\u001b[0mview\u001b[0m\u001b[0;34m(\u001b[0m\u001b[0;34m)\u001b[0m\u001b[0;34m\u001b[0m\u001b[0;34m\u001b[0m\u001b[0m\n",
            "\u001b[0;32m/usr/local/lib/python3.6/dist-packages/dtreeviz/trees.py\u001b[0m in \u001b[0;36mdtreeviz\u001b[0;34m(tree_model, x_data, y_data, feature_names, target_name, class_names, tree_index, precision, orientation, instance_orientation, show_root_edge_labels, show_node_labels, show_just_path, fancy, histtype, highlight_path, X, max_X_features_LR, max_X_features_TD, label_fontsize, ticks_fontsize, fontname, title, title_fontsize, colors, scale)\u001b[0m\n\u001b[1;32m    800\u001b[0m                                 \u001b[0mlabel_fontsize\u001b[0m\u001b[0;34m=\u001b[0m\u001b[0mlabel_fontsize\u001b[0m\u001b[0;34m,\u001b[0m\u001b[0;34m\u001b[0m\u001b[0;34m\u001b[0m\u001b[0m\n\u001b[1;32m    801\u001b[0m                                 \u001b[0mfontname\u001b[0m\u001b[0;34m=\u001b[0m\u001b[0mfontname\u001b[0m\u001b[0;34m,\u001b[0m\u001b[0;34m\u001b[0m\u001b[0;34m\u001b[0m\u001b[0m\n\u001b[0;32m--> 802\u001b[0;31m                                 highlight_node=node.id in highlight_path)\n\u001b[0m\u001b[1;32m    803\u001b[0m             \u001b[0;32melse\u001b[0m\u001b[0;34m:\u001b[0m\u001b[0;34m\u001b[0m\u001b[0;34m\u001b[0m\u001b[0m\n\u001b[1;32m    804\u001b[0m                 regr_split_viz(node, X_data, y_data,\n",
            "\u001b[0;32m/usr/local/lib/python3.6/dist-packages/dtreeviz/trees.py\u001b[0m in \u001b[0;36mclass_split_viz\u001b[0;34m(node, X_train, y_train, colors, node_heights, filename, ticks_fontsize, label_fontsize, fontname, precision, histtype, X, highlight_node)\u001b[0m\n\u001b[1;32m   1036\u001b[0m \u001b[0;34m\u001b[0m\u001b[0m\n\u001b[1;32m   1037\u001b[0m     \u001b[0;32mif\u001b[0m \u001b[0mfilename\u001b[0m \u001b[0;32mis\u001b[0m \u001b[0;32mnot\u001b[0m \u001b[0;32mNone\u001b[0m\u001b[0;34m:\u001b[0m\u001b[0;34m\u001b[0m\u001b[0;34m\u001b[0m\u001b[0m\n\u001b[0;32m-> 1038\u001b[0;31m         \u001b[0mplt\u001b[0m\u001b[0;34m.\u001b[0m\u001b[0msavefig\u001b[0m\u001b[0;34m(\u001b[0m\u001b[0mfilename\u001b[0m\u001b[0;34m,\u001b[0m \u001b[0mbbox_inches\u001b[0m\u001b[0;34m=\u001b[0m\u001b[0;34m'tight'\u001b[0m\u001b[0;34m,\u001b[0m \u001b[0mpad_inches\u001b[0m\u001b[0;34m=\u001b[0m\u001b[0;36m0\u001b[0m\u001b[0;34m)\u001b[0m\u001b[0;34m\u001b[0m\u001b[0;34m\u001b[0m\u001b[0m\n\u001b[0m\u001b[1;32m   1039\u001b[0m         \u001b[0mplt\u001b[0m\u001b[0;34m.\u001b[0m\u001b[0mclose\u001b[0m\u001b[0;34m(\u001b[0m\u001b[0;34m)\u001b[0m\u001b[0;34m\u001b[0m\u001b[0;34m\u001b[0m\u001b[0m\n\u001b[1;32m   1040\u001b[0m \u001b[0;34m\u001b[0m\u001b[0m\n",
            "\u001b[0;32m/usr/local/lib/python3.6/dist-packages/matplotlib/pyplot.py\u001b[0m in \u001b[0;36msavefig\u001b[0;34m(*args, **kwargs)\u001b[0m\n\u001b[1;32m    721\u001b[0m \u001b[0;32mdef\u001b[0m \u001b[0msavefig\u001b[0m\u001b[0;34m(\u001b[0m\u001b[0;34m*\u001b[0m\u001b[0margs\u001b[0m\u001b[0;34m,\u001b[0m \u001b[0;34m**\u001b[0m\u001b[0mkwargs\u001b[0m\u001b[0;34m)\u001b[0m\u001b[0;34m:\u001b[0m\u001b[0;34m\u001b[0m\u001b[0;34m\u001b[0m\u001b[0m\n\u001b[1;32m    722\u001b[0m     \u001b[0mfig\u001b[0m \u001b[0;34m=\u001b[0m \u001b[0mgcf\u001b[0m\u001b[0;34m(\u001b[0m\u001b[0;34m)\u001b[0m\u001b[0;34m\u001b[0m\u001b[0;34m\u001b[0m\u001b[0m\n\u001b[0;32m--> 723\u001b[0;31m     \u001b[0mres\u001b[0m \u001b[0;34m=\u001b[0m \u001b[0mfig\u001b[0m\u001b[0;34m.\u001b[0m\u001b[0msavefig\u001b[0m\u001b[0;34m(\u001b[0m\u001b[0;34m*\u001b[0m\u001b[0margs\u001b[0m\u001b[0;34m,\u001b[0m \u001b[0;34m**\u001b[0m\u001b[0mkwargs\u001b[0m\u001b[0;34m)\u001b[0m\u001b[0;34m\u001b[0m\u001b[0;34m\u001b[0m\u001b[0m\n\u001b[0m\u001b[1;32m    724\u001b[0m     \u001b[0mfig\u001b[0m\u001b[0;34m.\u001b[0m\u001b[0mcanvas\u001b[0m\u001b[0;34m.\u001b[0m\u001b[0mdraw_idle\u001b[0m\u001b[0;34m(\u001b[0m\u001b[0;34m)\u001b[0m   \u001b[0;31m# need this if 'transparent=True' to reset colors\u001b[0m\u001b[0;34m\u001b[0m\u001b[0;34m\u001b[0m\u001b[0m\n\u001b[1;32m    725\u001b[0m     \u001b[0;32mreturn\u001b[0m \u001b[0mres\u001b[0m\u001b[0;34m\u001b[0m\u001b[0;34m\u001b[0m\u001b[0m\n",
            "\u001b[0;32m/usr/local/lib/python3.6/dist-packages/matplotlib/figure.py\u001b[0m in \u001b[0;36msavefig\u001b[0;34m(self, fname, transparent, **kwargs)\u001b[0m\n\u001b[1;32m   2201\u001b[0m             \u001b[0mself\u001b[0m\u001b[0;34m.\u001b[0m\u001b[0mpatch\u001b[0m\u001b[0;34m.\u001b[0m\u001b[0mset_visible\u001b[0m\u001b[0;34m(\u001b[0m\u001b[0mframeon\u001b[0m\u001b[0;34m)\u001b[0m\u001b[0;34m\u001b[0m\u001b[0;34m\u001b[0m\u001b[0m\n\u001b[1;32m   2202\u001b[0m \u001b[0;34m\u001b[0m\u001b[0m\n\u001b[0;32m-> 2203\u001b[0;31m         \u001b[0mself\u001b[0m\u001b[0;34m.\u001b[0m\u001b[0mcanvas\u001b[0m\u001b[0;34m.\u001b[0m\u001b[0mprint_figure\u001b[0m\u001b[0;34m(\u001b[0m\u001b[0mfname\u001b[0m\u001b[0;34m,\u001b[0m \u001b[0;34m**\u001b[0m\u001b[0mkwargs\u001b[0m\u001b[0;34m)\u001b[0m\u001b[0;34m\u001b[0m\u001b[0;34m\u001b[0m\u001b[0m\n\u001b[0m\u001b[1;32m   2204\u001b[0m \u001b[0;34m\u001b[0m\u001b[0m\n\u001b[1;32m   2205\u001b[0m         \u001b[0;32mif\u001b[0m \u001b[0mframeon\u001b[0m\u001b[0;34m:\u001b[0m\u001b[0;34m\u001b[0m\u001b[0;34m\u001b[0m\u001b[0m\n",
            "\u001b[0;32m/usr/local/lib/python3.6/dist-packages/matplotlib/backend_bases.py\u001b[0m in \u001b[0;36mprint_figure\u001b[0;34m(self, filename, dpi, facecolor, edgecolor, orientation, format, bbox_inches, **kwargs)\u001b[0m\n\u001b[1;32m   2101\u001b[0m                     \u001b[0mbbox_artists\u001b[0m \u001b[0;34m=\u001b[0m \u001b[0mkwargs\u001b[0m\u001b[0;34m.\u001b[0m\u001b[0mpop\u001b[0m\u001b[0;34m(\u001b[0m\u001b[0;34m\"bbox_extra_artists\"\u001b[0m\u001b[0;34m,\u001b[0m \u001b[0;32mNone\u001b[0m\u001b[0;34m)\u001b[0m\u001b[0;34m\u001b[0m\u001b[0;34m\u001b[0m\u001b[0m\n\u001b[1;32m   2102\u001b[0m                     bbox_inches = self.figure.get_tightbbox(renderer,\n\u001b[0;32m-> 2103\u001b[0;31m                             bbox_extra_artists=bbox_artists)\n\u001b[0m\u001b[1;32m   2104\u001b[0m                     \u001b[0mpad\u001b[0m \u001b[0;34m=\u001b[0m \u001b[0mkwargs\u001b[0m\u001b[0;34m.\u001b[0m\u001b[0mpop\u001b[0m\u001b[0;34m(\u001b[0m\u001b[0;34m\"pad_inches\"\u001b[0m\u001b[0;34m,\u001b[0m \u001b[0;32mNone\u001b[0m\u001b[0;34m)\u001b[0m\u001b[0;34m\u001b[0m\u001b[0;34m\u001b[0m\u001b[0m\n\u001b[1;32m   2105\u001b[0m                     \u001b[0;32mif\u001b[0m \u001b[0mpad\u001b[0m \u001b[0;32mis\u001b[0m \u001b[0;32mNone\u001b[0m\u001b[0;34m:\u001b[0m\u001b[0;34m\u001b[0m\u001b[0;34m\u001b[0m\u001b[0m\n",
            "\u001b[0;32m/usr/local/lib/python3.6/dist-packages/matplotlib/figure.py\u001b[0m in \u001b[0;36mget_tightbbox\u001b[0;34m(self, renderer, bbox_extra_artists)\u001b[0m\n\u001b[1;32m   2383\u001b[0m \u001b[0;34m\u001b[0m\u001b[0m\n\u001b[1;32m   2384\u001b[0m         \u001b[0;32mfor\u001b[0m \u001b[0ma\u001b[0m \u001b[0;32min\u001b[0m \u001b[0martists\u001b[0m\u001b[0;34m:\u001b[0m\u001b[0;34m\u001b[0m\u001b[0;34m\u001b[0m\u001b[0m\n\u001b[0;32m-> 2385\u001b[0;31m             \u001b[0mbbox\u001b[0m \u001b[0;34m=\u001b[0m \u001b[0ma\u001b[0m\u001b[0;34m.\u001b[0m\u001b[0mget_tightbbox\u001b[0m\u001b[0;34m(\u001b[0m\u001b[0mrenderer\u001b[0m\u001b[0;34m)\u001b[0m\u001b[0;34m\u001b[0m\u001b[0;34m\u001b[0m\u001b[0m\n\u001b[0m\u001b[1;32m   2386\u001b[0m             \u001b[0;32mif\u001b[0m \u001b[0mbbox\u001b[0m \u001b[0;32mis\u001b[0m \u001b[0;32mnot\u001b[0m \u001b[0;32mNone\u001b[0m \u001b[0;32mand\u001b[0m \u001b[0;34m(\u001b[0m\u001b[0mbbox\u001b[0m\u001b[0;34m.\u001b[0m\u001b[0mwidth\u001b[0m \u001b[0;34m!=\u001b[0m \u001b[0;36m0\u001b[0m \u001b[0;32mor\u001b[0m \u001b[0mbbox\u001b[0m\u001b[0;34m.\u001b[0m\u001b[0mheight\u001b[0m \u001b[0;34m!=\u001b[0m \u001b[0;36m0\u001b[0m\u001b[0;34m)\u001b[0m\u001b[0;34m:\u001b[0m\u001b[0;34m\u001b[0m\u001b[0;34m\u001b[0m\u001b[0m\n\u001b[1;32m   2387\u001b[0m                 \u001b[0mbb\u001b[0m\u001b[0;34m.\u001b[0m\u001b[0mappend\u001b[0m\u001b[0;34m(\u001b[0m\u001b[0mbbox\u001b[0m\u001b[0;34m)\u001b[0m\u001b[0;34m\u001b[0m\u001b[0;34m\u001b[0m\u001b[0m\n",
            "\u001b[0;32m/usr/local/lib/python3.6/dist-packages/matplotlib/axes/_base.py\u001b[0m in \u001b[0;36mget_tightbbox\u001b[0;34m(self, renderer, call_axes_locator, bbox_extra_artists)\u001b[0m\n\u001b[1;32m   4354\u001b[0m             \u001b[0;32mif\u001b[0m \u001b[0mclip_extent\u001b[0m \u001b[0;32mis\u001b[0m \u001b[0;32mnot\u001b[0m \u001b[0;32mNone\u001b[0m\u001b[0;34m:\u001b[0m\u001b[0;34m\u001b[0m\u001b[0;34m\u001b[0m\u001b[0m\n\u001b[1;32m   4355\u001b[0m                 clip_extent = mtransforms.Bbox.intersection(clip_extent,\n\u001b[0;32m-> 4356\u001b[0;31m                     axbbox)\n\u001b[0m\u001b[1;32m   4357\u001b[0m                 \u001b[0;32mif\u001b[0m \u001b[0mnp\u001b[0m\u001b[0;34m.\u001b[0m\u001b[0mall\u001b[0m\u001b[0;34m(\u001b[0m\u001b[0mclip_extent\u001b[0m\u001b[0;34m.\u001b[0m\u001b[0mextents\u001b[0m \u001b[0;34m==\u001b[0m \u001b[0maxbbox\u001b[0m\u001b[0;34m.\u001b[0m\u001b[0mextents\u001b[0m\u001b[0;34m)\u001b[0m\u001b[0;34m:\u001b[0m\u001b[0;34m\u001b[0m\u001b[0;34m\u001b[0m\u001b[0m\n\u001b[1;32m   4358\u001b[0m                     \u001b[0;31m# clip extent is inside the axes bbox so don't check\u001b[0m\u001b[0;34m\u001b[0m\u001b[0;34m\u001b[0m\u001b[0;34m\u001b[0m\u001b[0m\n",
            "\u001b[0;32m/usr/local/lib/python3.6/dist-packages/matplotlib/transforms.py\u001b[0m in \u001b[0;36mintersection\u001b[0;34m(bbox1, bbox2)\u001b[0m\n\u001b[1;32m    713\u001b[0m         \u001b[0;32mNone\u001b[0m \u001b[0;32mif\u001b[0m \u001b[0mthey\u001b[0m \u001b[0mdon\u001b[0m\u001b[0;31m'\u001b[0m\u001b[0mt\u001b[0m\u001b[0;34m.\u001b[0m\u001b[0;34m\u001b[0m\u001b[0;34m\u001b[0m\u001b[0m\n\u001b[1;32m    714\u001b[0m         \"\"\"\n\u001b[0;32m--> 715\u001b[0;31m         \u001b[0mx0\u001b[0m \u001b[0;34m=\u001b[0m \u001b[0mnp\u001b[0m\u001b[0;34m.\u001b[0m\u001b[0mmaximum\u001b[0m\u001b[0;34m(\u001b[0m\u001b[0mbbox1\u001b[0m\u001b[0;34m.\u001b[0m\u001b[0mxmin\u001b[0m\u001b[0;34m,\u001b[0m \u001b[0mbbox2\u001b[0m\u001b[0;34m.\u001b[0m\u001b[0mxmin\u001b[0m\u001b[0;34m)\u001b[0m\u001b[0;34m\u001b[0m\u001b[0;34m\u001b[0m\u001b[0m\n\u001b[0m\u001b[1;32m    716\u001b[0m         \u001b[0mx1\u001b[0m \u001b[0;34m=\u001b[0m \u001b[0mnp\u001b[0m\u001b[0;34m.\u001b[0m\u001b[0mminimum\u001b[0m\u001b[0;34m(\u001b[0m\u001b[0mbbox1\u001b[0m\u001b[0;34m.\u001b[0m\u001b[0mxmax\u001b[0m\u001b[0;34m,\u001b[0m \u001b[0mbbox2\u001b[0m\u001b[0;34m.\u001b[0m\u001b[0mxmax\u001b[0m\u001b[0;34m)\u001b[0m\u001b[0;34m\u001b[0m\u001b[0;34m\u001b[0m\u001b[0m\n\u001b[1;32m    717\u001b[0m         \u001b[0my0\u001b[0m \u001b[0;34m=\u001b[0m \u001b[0mnp\u001b[0m\u001b[0;34m.\u001b[0m\u001b[0mmaximum\u001b[0m\u001b[0;34m(\u001b[0m\u001b[0mbbox1\u001b[0m\u001b[0;34m.\u001b[0m\u001b[0mymin\u001b[0m\u001b[0;34m,\u001b[0m \u001b[0mbbox2\u001b[0m\u001b[0;34m.\u001b[0m\u001b[0mymin\u001b[0m\u001b[0;34m)\u001b[0m\u001b[0;34m\u001b[0m\u001b[0;34m\u001b[0m\u001b[0m\n",
            "\u001b[0;32m/usr/local/lib/python3.6/dist-packages/matplotlib/transforms.py\u001b[0m in \u001b[0;36mxmin\u001b[0;34m(self)\u001b[0m\n\u001b[1;32m    347\u001b[0m     \u001b[0;32mdef\u001b[0m \u001b[0mxmin\u001b[0m\u001b[0;34m(\u001b[0m\u001b[0mself\u001b[0m\u001b[0;34m)\u001b[0m\u001b[0;34m:\u001b[0m\u001b[0;34m\u001b[0m\u001b[0;34m\u001b[0m\u001b[0m\n\u001b[1;32m    348\u001b[0m         \u001b[0;34m\"\"\"The left edge of the bounding box.\"\"\"\u001b[0m\u001b[0;34m\u001b[0m\u001b[0;34m\u001b[0m\u001b[0m\n\u001b[0;32m--> 349\u001b[0;31m         \u001b[0;32mreturn\u001b[0m \u001b[0mnp\u001b[0m\u001b[0;34m.\u001b[0m\u001b[0mmin\u001b[0m\u001b[0;34m(\u001b[0m\u001b[0mself\u001b[0m\u001b[0;34m.\u001b[0m\u001b[0mget_points\u001b[0m\u001b[0;34m(\u001b[0m\u001b[0;34m)\u001b[0m\u001b[0;34m[\u001b[0m\u001b[0;34m:\u001b[0m\u001b[0;34m,\u001b[0m \u001b[0;36m0\u001b[0m\u001b[0;34m]\u001b[0m\u001b[0;34m)\u001b[0m\u001b[0;34m\u001b[0m\u001b[0;34m\u001b[0m\u001b[0m\n\u001b[0m\u001b[1;32m    350\u001b[0m \u001b[0;34m\u001b[0m\u001b[0m\n\u001b[1;32m    351\u001b[0m     \u001b[0;34m@\u001b[0m\u001b[0mproperty\u001b[0m\u001b[0;34m\u001b[0m\u001b[0;34m\u001b[0m\u001b[0m\n",
            "\u001b[0;32m/usr/local/lib/python3.6/dist-packages/matplotlib/transforms.py\u001b[0m in \u001b[0;36mget_points\u001b[0;34m(self)\u001b[0m\n\u001b[1;32m   1024\u001b[0m                  \u001b[0;34m[\u001b[0m\u001b[0mp\u001b[0m\u001b[0;34m[\u001b[0m\u001b[0;36m1\u001b[0m\u001b[0;34m,\u001b[0m \u001b[0;36m0\u001b[0m\u001b[0;34m]\u001b[0m\u001b[0;34m,\u001b[0m \u001b[0mp\u001b[0m\u001b[0;34m[\u001b[0m\u001b[0;36m0\u001b[0m\u001b[0;34m,\u001b[0m \u001b[0;36m1\u001b[0m\u001b[0;34m]\u001b[0m\u001b[0;34m]\u001b[0m\u001b[0;34m,\u001b[0m\u001b[0;34m\u001b[0m\u001b[0;34m\u001b[0m\u001b[0m\n\u001b[1;32m   1025\u001b[0m                  \u001b[0;34m[\u001b[0m\u001b[0mp\u001b[0m\u001b[0;34m[\u001b[0m\u001b[0;36m0\u001b[0m\u001b[0;34m,\u001b[0m \u001b[0;36m0\u001b[0m\u001b[0;34m]\u001b[0m\u001b[0;34m,\u001b[0m \u001b[0mp\u001b[0m\u001b[0;34m[\u001b[0m\u001b[0;36m1\u001b[0m\u001b[0;34m,\u001b[0m \u001b[0;36m1\u001b[0m\u001b[0;34m]\u001b[0m\u001b[0;34m]\u001b[0m\u001b[0;34m,\u001b[0m\u001b[0;34m\u001b[0m\u001b[0;34m\u001b[0m\u001b[0m\n\u001b[0;32m-> 1026\u001b[0;31m                  [p[1, 0], p[1, 1]]])\n\u001b[0m\u001b[1;32m   1027\u001b[0m             \u001b[0mpoints\u001b[0m \u001b[0;34m=\u001b[0m \u001b[0mnp\u001b[0m\u001b[0;34m.\u001b[0m\u001b[0mma\u001b[0m\u001b[0;34m.\u001b[0m\u001b[0mfilled\u001b[0m\u001b[0;34m(\u001b[0m\u001b[0mpoints\u001b[0m\u001b[0;34m,\u001b[0m \u001b[0;36m0.0\u001b[0m\u001b[0;34m)\u001b[0m\u001b[0;34m\u001b[0m\u001b[0;34m\u001b[0m\u001b[0m\n\u001b[1;32m   1028\u001b[0m \u001b[0;34m\u001b[0m\u001b[0m\n",
            "\u001b[0;32m/usr/local/lib/python3.6/dist-packages/matplotlib/transforms.py\u001b[0m in \u001b[0;36mtransform\u001b[0;34m(self, values)\u001b[0m\n\u001b[1;32m   1403\u001b[0m \u001b[0;34m\u001b[0m\u001b[0m\n\u001b[1;32m   1404\u001b[0m         \u001b[0;31m# Transform the values\u001b[0m\u001b[0;34m\u001b[0m\u001b[0;34m\u001b[0m\u001b[0;34m\u001b[0m\u001b[0m\n\u001b[0;32m-> 1405\u001b[0;31m         \u001b[0mres\u001b[0m \u001b[0;34m=\u001b[0m \u001b[0mself\u001b[0m\u001b[0;34m.\u001b[0m\u001b[0mtransform_affine\u001b[0m\u001b[0;34m(\u001b[0m\u001b[0mself\u001b[0m\u001b[0;34m.\u001b[0m\u001b[0mtransform_non_affine\u001b[0m\u001b[0;34m(\u001b[0m\u001b[0mvalues\u001b[0m\u001b[0;34m)\u001b[0m\u001b[0;34m)\u001b[0m\u001b[0;34m\u001b[0m\u001b[0;34m\u001b[0m\u001b[0m\n\u001b[0m\u001b[1;32m   1406\u001b[0m \u001b[0;34m\u001b[0m\u001b[0m\n\u001b[1;32m   1407\u001b[0m         \u001b[0;31m# Convert the result back to the shape of the input values.\u001b[0m\u001b[0;34m\u001b[0m\u001b[0;34m\u001b[0m\u001b[0;34m\u001b[0m\u001b[0m\n",
            "\u001b[0;32m/usr/local/lib/python3.6/dist-packages/matplotlib/transforms.py\u001b[0m in \u001b[0;36mtransform_affine\u001b[0;34m(self, points)\u001b[0m\n\u001b[1;32m   2363\u001b[0m     \u001b[0;32mdef\u001b[0m \u001b[0mtransform_affine\u001b[0m\u001b[0;34m(\u001b[0m\u001b[0mself\u001b[0m\u001b[0;34m,\u001b[0m \u001b[0mpoints\u001b[0m\u001b[0;34m)\u001b[0m\u001b[0;34m:\u001b[0m\u001b[0;34m\u001b[0m\u001b[0;34m\u001b[0m\u001b[0m\n\u001b[1;32m   2364\u001b[0m         \u001b[0;31m# docstring inherited\u001b[0m\u001b[0;34m\u001b[0m\u001b[0;34m\u001b[0m\u001b[0;34m\u001b[0m\u001b[0m\n\u001b[0;32m-> 2365\u001b[0;31m         \u001b[0;32mreturn\u001b[0m \u001b[0mself\u001b[0m\u001b[0;34m.\u001b[0m\u001b[0mget_affine\u001b[0m\u001b[0;34m(\u001b[0m\u001b[0;34m)\u001b[0m\u001b[0;34m.\u001b[0m\u001b[0mtransform\u001b[0m\u001b[0;34m(\u001b[0m\u001b[0mpoints\u001b[0m\u001b[0;34m)\u001b[0m\u001b[0;34m\u001b[0m\u001b[0;34m\u001b[0m\u001b[0m\n\u001b[0m\u001b[1;32m   2366\u001b[0m \u001b[0;34m\u001b[0m\u001b[0m\n\u001b[1;32m   2367\u001b[0m     \u001b[0;32mdef\u001b[0m \u001b[0mtransform_non_affine\u001b[0m\u001b[0;34m(\u001b[0m\u001b[0mself\u001b[0m\u001b[0;34m,\u001b[0m \u001b[0mpoints\u001b[0m\u001b[0;34m)\u001b[0m\u001b[0;34m:\u001b[0m\u001b[0;34m\u001b[0m\u001b[0;34m\u001b[0m\u001b[0m\n",
            "\u001b[0;32m/usr/local/lib/python3.6/dist-packages/matplotlib/transforms.py\u001b[0m in \u001b[0;36mget_affine\u001b[0;34m(self)\u001b[0m\n\u001b[1;32m   2391\u001b[0m         \u001b[0;32melse\u001b[0m\u001b[0;34m:\u001b[0m\u001b[0;34m\u001b[0m\u001b[0;34m\u001b[0m\u001b[0m\n\u001b[1;32m   2392\u001b[0m             return Affine2D(np.dot(self._b.get_affine().get_matrix(),\n\u001b[0;32m-> 2393\u001b[0;31m                                 self._a.get_affine().get_matrix()))\n\u001b[0m\u001b[1;32m   2394\u001b[0m \u001b[0;34m\u001b[0m\u001b[0m\n\u001b[1;32m   2395\u001b[0m     \u001b[0;32mdef\u001b[0m \u001b[0minverted\u001b[0m\u001b[0;34m(\u001b[0m\u001b[0mself\u001b[0m\u001b[0;34m)\u001b[0m\u001b[0;34m:\u001b[0m\u001b[0;34m\u001b[0m\u001b[0;34m\u001b[0m\u001b[0m\n",
            "\u001b[0;32m/usr/local/lib/python3.6/dist-packages/matplotlib/transforms.py\u001b[0m in \u001b[0;36mget_affine\u001b[0;34m(self)\u001b[0m\n\u001b[1;32m   2391\u001b[0m         \u001b[0;32melse\u001b[0m\u001b[0;34m:\u001b[0m\u001b[0;34m\u001b[0m\u001b[0;34m\u001b[0m\u001b[0m\n\u001b[1;32m   2392\u001b[0m             return Affine2D(np.dot(self._b.get_affine().get_matrix(),\n\u001b[0;32m-> 2393\u001b[0;31m                                 self._a.get_affine().get_matrix()))\n\u001b[0m\u001b[1;32m   2394\u001b[0m \u001b[0;34m\u001b[0m\u001b[0m\n\u001b[1;32m   2395\u001b[0m     \u001b[0;32mdef\u001b[0m \u001b[0minverted\u001b[0m\u001b[0;34m(\u001b[0m\u001b[0mself\u001b[0m\u001b[0;34m)\u001b[0m\u001b[0;34m:\u001b[0m\u001b[0;34m\u001b[0m\u001b[0;34m\u001b[0m\u001b[0m\n",
            "\u001b[0;32m/usr/local/lib/python3.6/dist-packages/matplotlib/transforms.py\u001b[0m in \u001b[0;36mget_matrix\u001b[0;34m(self)\u001b[0m\n\u001b[1;32m   2565\u001b[0m         \u001b[0;31m# docstring inherited\u001b[0m\u001b[0;34m\u001b[0m\u001b[0;34m\u001b[0m\u001b[0;34m\u001b[0m\u001b[0m\n\u001b[1;32m   2566\u001b[0m         \u001b[0;32mif\u001b[0m \u001b[0mself\u001b[0m\u001b[0;34m.\u001b[0m\u001b[0m_invalid\u001b[0m\u001b[0;34m:\u001b[0m\u001b[0;34m\u001b[0m\u001b[0;34m\u001b[0m\u001b[0m\n\u001b[0;32m-> 2567\u001b[0;31m             \u001b[0moutl\u001b[0m\u001b[0;34m,\u001b[0m \u001b[0moutb\u001b[0m\u001b[0;34m,\u001b[0m \u001b[0moutw\u001b[0m\u001b[0;34m,\u001b[0m \u001b[0mouth\u001b[0m \u001b[0;34m=\u001b[0m \u001b[0mself\u001b[0m\u001b[0;34m.\u001b[0m\u001b[0m_boxout\u001b[0m\u001b[0;34m.\u001b[0m\u001b[0mbounds\u001b[0m\u001b[0;34m\u001b[0m\u001b[0;34m\u001b[0m\u001b[0m\n\u001b[0m\u001b[1;32m   2568\u001b[0m             \u001b[0;32mif\u001b[0m \u001b[0mDEBUG\u001b[0m \u001b[0;32mand\u001b[0m \u001b[0;34m(\u001b[0m\u001b[0moutw\u001b[0m \u001b[0;34m==\u001b[0m \u001b[0;36m0\u001b[0m \u001b[0;32mor\u001b[0m \u001b[0mouth\u001b[0m \u001b[0;34m==\u001b[0m \u001b[0;36m0\u001b[0m\u001b[0;34m)\u001b[0m\u001b[0;34m:\u001b[0m\u001b[0;34m\u001b[0m\u001b[0;34m\u001b[0m\u001b[0m\n\u001b[1;32m   2569\u001b[0m                 \u001b[0;32mraise\u001b[0m \u001b[0mValueError\u001b[0m\u001b[0;34m(\u001b[0m\u001b[0;34m\"Transforming to a singular bounding box.\"\u001b[0m\u001b[0;34m)\u001b[0m\u001b[0;34m\u001b[0m\u001b[0;34m\u001b[0m\u001b[0m\n",
            "\u001b[0;32m/usr/local/lib/python3.6/dist-packages/matplotlib/transforms.py\u001b[0m in \u001b[0;36mbounds\u001b[0;34m(self)\u001b[0m\n\u001b[1;32m    413\u001b[0m     \u001b[0;32mdef\u001b[0m \u001b[0mbounds\u001b[0m\u001b[0;34m(\u001b[0m\u001b[0mself\u001b[0m\u001b[0;34m)\u001b[0m\u001b[0;34m:\u001b[0m\u001b[0;34m\u001b[0m\u001b[0;34m\u001b[0m\u001b[0m\n\u001b[1;32m    414\u001b[0m         \u001b[0;34m\"\"\"Return (:attr:`x0`, :attr:`y0`, :attr:`width`, :attr:`height`).\"\"\"\u001b[0m\u001b[0;34m\u001b[0m\u001b[0;34m\u001b[0m\u001b[0m\n\u001b[0;32m--> 415\u001b[0;31m         \u001b[0;34m(\u001b[0m\u001b[0mx0\u001b[0m\u001b[0;34m,\u001b[0m \u001b[0my0\u001b[0m\u001b[0;34m)\u001b[0m\u001b[0;34m,\u001b[0m \u001b[0;34m(\u001b[0m\u001b[0mx1\u001b[0m\u001b[0;34m,\u001b[0m \u001b[0my1\u001b[0m\u001b[0;34m)\u001b[0m \u001b[0;34m=\u001b[0m \u001b[0mself\u001b[0m\u001b[0;34m.\u001b[0m\u001b[0mget_points\u001b[0m\u001b[0;34m(\u001b[0m\u001b[0;34m)\u001b[0m\u001b[0;34m\u001b[0m\u001b[0;34m\u001b[0m\u001b[0m\n\u001b[0m\u001b[1;32m    416\u001b[0m         \u001b[0;32mreturn\u001b[0m \u001b[0;34m(\u001b[0m\u001b[0mx0\u001b[0m\u001b[0;34m,\u001b[0m \u001b[0my0\u001b[0m\u001b[0;34m,\u001b[0m \u001b[0mx1\u001b[0m \u001b[0;34m-\u001b[0m \u001b[0mx0\u001b[0m\u001b[0;34m,\u001b[0m \u001b[0my1\u001b[0m \u001b[0;34m-\u001b[0m \u001b[0my0\u001b[0m\u001b[0;34m)\u001b[0m\u001b[0;34m\u001b[0m\u001b[0;34m\u001b[0m\u001b[0m\n\u001b[1;32m    417\u001b[0m \u001b[0;34m\u001b[0m\u001b[0m\n",
            "\u001b[0;31mKeyboardInterrupt\u001b[0m: "
          ]
        },
        {
          "output_type": "display_data",
          "data": {
            "image/png": "[encoded data removed]",
            "text/plain": [
              "<Figure size 237.6x36.1317 with 1 Axes>"
            ]
          },
          "metadata": {
            "tags": []
          }
        }
      ]
    },
    {
      "cell_type": "code",
      "metadata": {
        "colab": {
          "base_uri": "https://localhost:8080/",
          "height": 130
        },
        "id": "1V8fesk5Ht-v",
        "outputId": "874423bd-bf71-44a3-899f-7c9d48f71756"
      },
      "source": [
        "from dtreeviz.trees import *\r\n",
        "\r\n",
        "viz = dtreeviz(df_chegadas_tree,\r\n",
        "              X_train,\r\n",
        "              y_train,\r\n",
        "              target_name=\"Nível de chegadas\", # \"Classe\",\r\n",
        "              #feature_names=['cod continente', 'cod pAis','cod uf', 'cod via', 'cod mes', 'Cotação média do mês anterior'], \r\n",
        "              np.arange(0,60),\r\n",
        "              class_names=[\"Há chegadas\", \"Não há chegadas\"])  \r\n",
        "\r\n",
        "viz.view()"
      ],
      "execution_count": 4,
      "outputs": [
        {
          "output_type": "error",
          "ename": "SyntaxError",
          "evalue": "ignored",
          "traceback": [
            "\u001b[0;36m  File \u001b[0;32m\"<ipython-input-4-b3058446cb0f>\"\u001b[0;36m, line \u001b[0;32m8\u001b[0m\n\u001b[0;31m    np.arange(0,60),\u001b[0m\n\u001b[0m    ^\u001b[0m\n\u001b[0;31mSyntaxError\u001b[0m\u001b[0;31m:\u001b[0m positional argument follows keyword argument\n"
          ]
        }
      ]
    },
    {
      "cell_type": "code",
      "metadata": {
        "colab": {
          "base_uri": "https://localhost:8080/",
          "height": 147
        },
        "id": "oMOipJUGILhH",
        "outputId": "2022201d-cecb-4432-bc81-ef17a8d97643"
      },
      "source": [
        "from dtreeviz.trees import *\r\n",
        "\r\n",
        "viz = dtreeviz(df_chegadas_tree,\r\n",
        "              X_train,\r\n",
        "              y_train,\r\n",
        "              target_name=\"Nível de chegadas\", # \"Classe\",    \r\n",
        "              np.arange(0,60), #feature_names=['cod continente', 'cod pAis','cod uf', 'cod via', 'cod mes', 'Cotação média do mês anterior'],\r\n",
        "              class_names=[\"Há chegadas\", \"Não há chegadas\"])  \r\n",
        "\r\n",
        "viz.view()\r\n"
      ],
      "execution_count": 5,
      "outputs": [
        {
          "output_type": "error",
          "ename": "SyntaxError",
          "evalue": "ignored",
          "traceback": [
            "\u001b[0;36m  File \u001b[0;32m\"<ipython-input-5-585c80192553>\"\u001b[0;36m, line \u001b[0;32m7\u001b[0m\n\u001b[0;31m    np.arange(0,60), #feature_names=['cod continente', 'cod pAis','cod uf', 'cod via', 'cod mes', 'Cotação média do mês anterior'],\u001b[0m\n\u001b[0m    ^\u001b[0m\n\u001b[0;31mSyntaxError\u001b[0m\u001b[0;31m:\u001b[0m positional argument follows keyword argument\n"
          ]
        }
      ]
    },
    {
      "cell_type": "code",
      "metadata": {
        "colab": {
          "base_uri": "https://localhost:8080/",
          "height": 130
        },
        "id": "s9RTVZ9lLltA",
        "outputId": "f1ad4202-3be4-4958-eb7c-4987bae84c63"
      },
      "source": [
        "with open(\"chegadas.dot\",'w') as f:\r\n",
        "       f = tree.export_graphviz(df_chegadas_tree, out_file=f)\r\n",
        "\r\n",
        "dot -Tpdf chegadas.dot -o arvore_chegadas.pdf"
      ],
      "execution_count": 6,
      "outputs": [
        {
          "output_type": "error",
          "ename": "SyntaxError",
          "evalue": "ignored",
          "traceback": [
            "\u001b[0;36m  File \u001b[0;32m\"<ipython-input-6-7181ee9b67cb>\"\u001b[0;36m, line \u001b[0;32m4\u001b[0m\n\u001b[0;31m    dot -Tpdf chegadas.dot -o arvore_chegadas.pdf\u001b[0m\n\u001b[0m                     ^\u001b[0m\n\u001b[0;31mSyntaxError\u001b[0m\u001b[0;31m:\u001b[0m invalid syntax\n"
          ]
        }
      ]
    },
    {
      "cell_type": "code",
      "metadata": {
        "colab": {
          "base_uri": "https://localhost:8080/",
          "height": 130
        },
        "id": "y1LbrhtKO5Ll",
        "outputId": "2c9ed905-b5da-4461-de6f-b8833d2ff894"
      },
      "source": [
        "!pip install graphviz\r\n",
        "with open(\"chegadas.dot\",'w') as f:\r\n",
        "       f = tree.export_graphviz(df_chegadas_tree, out_file=f)\r\n",
        "\r\n",
        "dot -Tpdf chegadas.dot -o arvore_chegadas.pdf"
      ],
      "execution_count": 7,
      "outputs": [
        {
          "output_type": "error",
          "ename": "SyntaxError",
          "evalue": "ignored",
          "traceback": [
            "\u001b[0;36m  File \u001b[0;32m\"<ipython-input-7-e062ac859e38>\"\u001b[0;36m, line \u001b[0;32m5\u001b[0m\n\u001b[0;31m    dot -Tpdf chegadas.dot -o arvore_chegadas.pdf\u001b[0m\n\u001b[0m                     ^\u001b[0m\n\u001b[0;31mSyntaxError\u001b[0m\u001b[0;31m:\u001b[0m invalid syntax\n"
          ]
        }
      ]
    },
    {
      "cell_type": "code",
      "metadata": {
        "colab": {
          "base_uri": "https://localhost:8080/"
        },
        "id": "_5ZEkq-cPFJR",
        "outputId": "8f73e9f0-bd2b-4134-fb98-fde5ae0f9535"
      },
      "source": [
        "!pip install graphviz\r\n",
        "with open(\"chegadas.dot\",'w') as f:\r\n",
        "       f = tree.export_graphviz(df_chegadas_tree, out_file=f)"
      ],
      "execution_count": 8,
      "outputs": [
        {
          "output_type": "stream",
          "text": [
            "Requirement already satisfied: graphviz in /usr/local/lib/python3.6/dist-packages (0.10.1)\n"
          ],
          "name": "stdout"
        }
      ]
    },
    {
      "cell_type": "code",
      "metadata": {
        "id": "jG0JxihqPRSK"
      },
      "source": [
        "!dot -Tpdf chegadas.dot -o arvore_chegadas.pdf"
      ],
      "execution_count": 13,
      "outputs": []
    },
    {
      "cell_type": "code",
      "metadata": {
        "colab": {
          "base_uri": "https://localhost:8080/"
        },
        "id": "CYgRnThuingg",
        "outputId": "4fa4687e-591c-407f-c438-849d81218523"
      },
      "source": [
        "\r\n",
        "!pip install pydotplus\r\n",
        "!pip install dtreeviz\r\n",
        "\r\n",
        "#!pip install -q pydot\r\n",
        "\r\n",
        "import pandas as pd\r\n",
        "import numpy as np\r\n",
        "from sklearn import datasets, tree\r\n",
        "from sklearn.model_selection import train_test_split\r\n",
        "from sklearn.tree import DecisionTreeClassifier\r\n",
        "from sklearn.metrics import accuracy_score, classification_report, confusion_matrix\r\n",
        "from sklearn.feature_extraction import DictVectorizer\r\n",
        "from sklearn.preprocessing import LabelEncoder\r\n",
        "\r\n",
        "#from google.colab import files\r\n",
        "#uploaded = files.upload()\r\n",
        "\r\n",
        "\r\n",
        "\r\n",
        "df_chegadas = pd.read_excel('Chegadas de turistas versus dólar - 2016 a 2019.xlsx', sheet_name=0) \r\n",
        "print(\"\\nDimensões: {0}\".format(df_chegadas.shape))\r\n",
        "print(\"\\nCampos: {0}\".format(df_chegadas.keys()))\r\n",
        "print(df_chegadas.describe(), sep='\\n')\r\n",
        "\r\n",
        "#X = df_chegadas.iloc[:,0:(df_chegadas.shape[1] - 1)]\r\n",
        "X = df_chegadas.loc[:,['cod continente', 'cod pais','cod uf', 'cod via', 'cod mes', 'Cotação média do mês anterior']]\r\n",
        "\r\n",
        "le = LabelEncoder()\r\n",
        "y = le.fit_transform(df_chegadas.iloc[:,(df_chegadas.shape[1] - 1)])\r\n",
        "#y = df_chegadas.loc[:,'Chegadas categorizadas - log 5']\r\n",
        "\r\n",
        "\r\n",
        "# Particiona a base de dados\r\n",
        "# por default 75% para treinamento e 25% para teste\r\n",
        "X_train, X_test, y_train, y_test = train_test_split(X, y, random_state=0, test_size=0.25)\r\n",
        "\r\n",
        "\"\"\"### Indução do Modelo\r\n",
        "\r\n",
        "\r\n",
        "Os três passos para indução de um modelo são:\r\n",
        "\r\n",
        "1.   Instanciar o modelo: ``` DecisionTreeClassifier()```\r\n",
        "2.   Treinar o modelo: ```fit()```\r\n",
        "3.   Testar o modelo: ```predict()```\r\n",
        "\"\"\"\r\n",
        "\r\n",
        "df_chegadas_tree = DecisionTreeClassifier(random_state=0, criterion='entropy', min_samples_split = 5)\r\n",
        "#df_chegadas_tree = DecisionTreeRegressor(random_state=0, criterion='entropy')\r\n",
        "\r\n",
        "\r\n",
        "df_chegadas_tree = df_chegadas_tree.fit(X_train, y_train)\r\n",
        "print(\"Acurácia (base de treinamento):\", df_chegadas_tree.score(X_train, y_train))\r\n",
        "\r\n",
        "y_pred = df_chegadas_tree.predict(X_test)\r\n",
        "print(\"Acurácia de previsão:\", accuracy_score(y_test, y_pred))\r\n",
        "print(classification_report(y_test, y_pred, target_names=[\"Há chegadas\", \"Não há chegadas\"]))\r\n",
        "      \r\n",
        "cnf_matrix = confusion_matrix(y_test, y_pred)\r\n",
        "cnf_table = pd.DataFrame(data=cnf_matrix, index=[\"Há chegadas\", \"Não há chegadas\"], \r\n",
        "                         #\"columns=[\"Mina (prev)\", \"Rocha (prev)\"])\r\n",
        "                         columns=[\"Há chegadas (prev)\", \"Não há chegadas (prev)\"])\r\n",
        "print(cnf_table)\r\n"
      ],
      "execution_count": 14,
      "outputs": [
        {
          "output_type": "stream",
          "text": [
            "Requirement already satisfied: pydotplus in /usr/local/lib/python3.6/dist-packages (2.0.2)\n",
            "Requirement already satisfied: pyparsing>=2.0.1 in /usr/local/lib/python3.6/dist-packages (from pydotplus) (2.4.7)\n",
            "Requirement already satisfied: dtreeviz in /usr/local/lib/python3.6/dist-packages (1.1.4)\n",
            "Requirement already satisfied: pandas in /usr/local/lib/python3.6/dist-packages (from dtreeviz) (1.1.5)\n",
            "Requirement already satisfied: scikit-learn in /usr/local/lib/python3.6/dist-packages (from dtreeviz) (0.22.2.post1)\n",
            "Requirement already satisfied: graphviz>=0.9 in /usr/local/lib/python3.6/dist-packages (from dtreeviz) (0.10.1)\n",
            "Requirement already satisfied: matplotlib in /usr/local/lib/python3.6/dist-packages (from dtreeviz) (3.2.2)\n",
            "Requirement already satisfied: colour in /usr/local/lib/python3.6/dist-packages (from dtreeviz) (0.1.5)\n",
            "Requirement already satisfied: pytest in /usr/local/lib/python3.6/dist-packages (from dtreeviz) (3.6.4)\n",
            "Requirement already satisfied: numpy in /usr/local/lib/python3.6/dist-packages (from dtreeviz) (1.19.5)\n",
            "Requirement already satisfied: pytz>=2017.2 in /usr/local/lib/python3.6/dist-packages (from pandas->dtreeviz) (2018.9)\n",
            "Requirement already satisfied: python-dateutil>=2.7.3 in /usr/local/lib/python3.6/dist-packages (from pandas->dtreeviz) (2.8.1)\n",
            "Requirement already satisfied: scipy>=0.17.0 in /usr/local/lib/python3.6/dist-packages (from scikit-learn->dtreeviz) (1.4.1)\n",
            "Requirement already satisfied: joblib>=0.11 in /usr/local/lib/python3.6/dist-packages (from scikit-learn->dtreeviz) (1.0.0)\n",
            "Requirement already satisfied: kiwisolver>=1.0.1 in /usr/local/lib/python3.6/dist-packages (from matplotlib->dtreeviz) (1.3.1)\n",
            "Requirement already satisfied: pyparsing!=2.0.4,!=2.1.2,!=2.1.6,>=2.0.1 in /usr/local/lib/python3.6/dist-packages (from matplotlib->dtreeviz) (2.4.7)\n",
            "Requirement already satisfied: cycler>=0.10 in /usr/local/lib/python3.6/dist-packages (from matplotlib->dtreeviz) (0.10.0)\n",
            "Requirement already satisfied: attrs>=17.4.0 in /usr/local/lib/python3.6/dist-packages (from pytest->dtreeviz) (20.3.0)\n",
            "Requirement already satisfied: more-itertools>=4.0.0 in /usr/local/lib/python3.6/dist-packages (from pytest->dtreeviz) (8.6.0)\n",
            "Requirement already satisfied: pluggy<0.8,>=0.5 in /usr/local/lib/python3.6/dist-packages (from pytest->dtreeviz) (0.7.1)\n",
            "Requirement already satisfied: atomicwrites>=1.0 in /usr/local/lib/python3.6/dist-packages (from pytest->dtreeviz) (1.4.0)\n",
            "Requirement already satisfied: py>=1.5.0 in /usr/local/lib/python3.6/dist-packages (from pytest->dtreeviz) (1.10.0)\n",
            "Requirement already satisfied: setuptools in /usr/local/lib/python3.6/dist-packages (from pytest->dtreeviz) (53.0.0)\n",
            "Requirement already satisfied: six>=1.10.0 in /usr/local/lib/python3.6/dist-packages (from pytest->dtreeviz) (1.15.0)\n",
            "\n",
            "Dimensões: (184140, 16)\n",
            "\n",
            "Campos: Index(['Unnamed: 0', 'Unnamed: 0.1', 'Continente', 'cod continente', 'País',\n",
            "       'cod pais', 'UF', 'cod uf', 'Via', 'cod via', 'ano', 'Mês', 'cod mes',\n",
            "       'Chegadas', 'Cotação média do mês anterior', 'Houve chegadas'],\n",
            "      dtype='object')\n",
            "          Unnamed: 0  ...  Cotação média do mês anterior\n",
            "count  184140.000000  ...                  184140.000000\n",
            "mean    92069.500000  ...                       3.580292\n",
            "std     53156.783622  ...                       0.345073\n",
            "min         0.000000  ...                       3.104194\n",
            "25%     46034.750000  ...                       3.241500\n",
            "50%     92069.500000  ...                       3.565845\n",
            "75%    138104.250000  ...                       3.885055\n",
            "max    184139.000000  ...                       4.155345\n",
            "\n",
            "[8 rows x 10 columns]\n",
            "Acurácia (base de treinamento): 0.9639549618044242\n",
            "Acurácia de previsão: 0.8715542521994135\n",
            "                 precision    recall  f1-score   support\n",
            "\n",
            "    Há chegadas       0.90      0.91      0.90     30679\n",
            "Não há chegadas       0.82      0.79      0.80     15356\n",
            "\n",
            "       accuracy                           0.87     46035\n",
            "      macro avg       0.86      0.85      0.85     46035\n",
            "   weighted avg       0.87      0.87      0.87     46035\n",
            "\n",
            "                 Há chegadas (prev)  Não há chegadas (prev)\n",
            "Há chegadas                   28005                    2674\n",
            "Não há chegadas                3239                   12117\n"
          ],
          "name": "stdout"
        }
      ]
    },
    {
      "cell_type": "code",
      "metadata": {
        "colab": {
          "base_uri": "https://localhost:8080/"
        },
        "id": "a3xDYWbnj9df",
        "outputId": "fff53211-64d4-471a-9b35-9fec604a180a"
      },
      "source": [
        "!pip install graphviz\r\n",
        "with open(\"chegadas.dot\",'w') as f:\r\n",
        "       f = tree.export_graphviz(df_chegadas_tree, out_file=f)\r\n",
        "\r\n",
        "!dot -Tpdf chegadas.dot -o arvore_chegadas.pdf"
      ],
      "execution_count": 15,
      "outputs": [
        {
          "output_type": "stream",
          "text": [
            "Requirement already satisfied: graphviz in /usr/local/lib/python3.6/dist-packages (0.10.1)\n"
          ],
          "name": "stdout"
        }
      ]
    },
    {
      "cell_type": "code",
      "metadata": {
        "colab": {
          "base_uri": "https://localhost:8080/"
        },
        "id": "x3RlddOEnfII",
        "outputId": "d949d5fc-2cc6-4d7f-bd0b-707935cd8297"
      },
      "source": [
        "\r\n",
        "!pip install pydotplus\r\n",
        "!pip install dtreeviz\r\n",
        "\r\n",
        "#!pip install -q pydot\r\n",
        "\r\n",
        "import pandas as pd\r\n",
        "import numpy as np\r\n",
        "from sklearn import datasets, tree\r\n",
        "from sklearn.model_selection import train_test_split\r\n",
        "from sklearn.tree import DecisionTreeClassifier\r\n",
        "from sklearn.metrics import accuracy_score, classification_report, confusion_matrix\r\n",
        "from sklearn.feature_extraction import DictVectorizer\r\n",
        "from sklearn.preprocessing import LabelEncoder\r\n",
        "\r\n",
        "#from google.colab import files\r\n",
        "#uploaded = files.upload()\r\n",
        "\r\n",
        "\r\n",
        "\r\n",
        "df_chegadas = pd.read_excel('Chegadas de turistas versus dólar - 2016 a 2019.xlsx', sheet_name=0) \r\n",
        "print(\"\\nDimensões: {0}\".format(df_chegadas.shape))\r\n",
        "print(\"\\nCampos: {0}\".format(df_chegadas.keys()))\r\n",
        "print(df_chegadas.describe(), sep='\\n')\r\n",
        "\r\n",
        "#X = df_chegadas.iloc[:,0:(df_chegadas.shape[1] - 1)]\r\n",
        "X = df_chegadas.loc[:,['cod continente', 'cod pais','cod uf', 'cod via', 'cod mes', 'Cotação média do mês anterior']]\r\n",
        "\r\n",
        "le = LabelEncoder()\r\n",
        "y = le.fit_transform(df_chegadas.iloc[:,(df_chegadas.shape[1] - 1)])\r\n",
        "#y = df_chegadas.loc[:,'Chegadas categorizadas - log 5']\r\n",
        "\r\n",
        "\r\n",
        "# Particiona a base de dados\r\n",
        "# por default 75% para treinamento e 25% para teste\r\n",
        "X_train, X_test, y_train, y_test = train_test_split(X, y, random_state=0, test_size=0.25)\r\n",
        "\r\n",
        "\"\"\"### Indução do Modelo\r\n",
        "\r\n",
        "\r\n",
        "Os três passos para indução de um modelo são:\r\n",
        "\r\n",
        "1.   Instanciar o modelo: ``` DecisionTreeClassifier()```\r\n",
        "2.   Treinar o modelo: ```fit()```\r\n",
        "3.   Testar o modelo: ```predict()```\r\n",
        "\"\"\"\r\n",
        "\r\n",
        "df_chegadas_tree = DecisionTreeClassifier(random_state=0, criterion='entropy', min_samples_split = 10)\r\n",
        "#df_chegadas_tree = DecisionTreeRegressor(random_state=0, criterion='entropy')\r\n",
        "\r\n",
        "\r\n",
        "df_chegadas_tree = df_chegadas_tree.fit(X_train, y_train)\r\n",
        "print(\"Acurácia (base de treinamento):\", df_chegadas_tree.score(X_train, y_train))\r\n",
        "\r\n",
        "y_pred = df_chegadas_tree.predict(X_test)\r\n",
        "print(\"Acurácia de previsão:\", accuracy_score(y_test, y_pred))\r\n",
        "print(classification_report(y_test, y_pred, target_names=[\"Há chegadas\", \"Não há chegadas\"]))\r\n",
        "      \r\n",
        "cnf_matrix = confusion_matrix(y_test, y_pred)\r\n",
        "cnf_table = pd.DataFrame(data=cnf_matrix, index=[\"Há chegadas\", \"Não há chegadas\"], \r\n",
        "                         #\"columns=[\"Mina (prev)\", \"Rocha (prev)\"])\r\n",
        "                         columns=[\"Há chegadas (prev)\", \"Não há chegadas (prev)\"])\r\n",
        "print(cnf_table)\r\n"
      ],
      "execution_count": 16,
      "outputs": [
        {
          "output_type": "stream",
          "text": [
            "Requirement already satisfied: pydotplus in /usr/local/lib/python3.6/dist-packages (2.0.2)\n",
            "Requirement already satisfied: pyparsing>=2.0.1 in /usr/local/lib/python3.6/dist-packages (from pydotplus) (2.4.7)\n",
            "Requirement already satisfied: dtreeviz in /usr/local/lib/python3.6/dist-packages (1.1.4)\n",
            "Requirement already satisfied: scikit-learn in /usr/local/lib/python3.6/dist-packages (from dtreeviz) (0.22.2.post1)\n",
            "Requirement already satisfied: colour in /usr/local/lib/python3.6/dist-packages (from dtreeviz) (0.1.5)\n",
            "Requirement already satisfied: matplotlib in /usr/local/lib/python3.6/dist-packages (from dtreeviz) (3.2.2)\n",
            "Requirement already satisfied: pandas in /usr/local/lib/python3.6/dist-packages (from dtreeviz) (1.1.5)\n",
            "Requirement already satisfied: graphviz>=0.9 in /usr/local/lib/python3.6/dist-packages (from dtreeviz) (0.10.1)\n",
            "Requirement already satisfied: pytest in /usr/local/lib/python3.6/dist-packages (from dtreeviz) (3.6.4)\n",
            "Requirement already satisfied: numpy in /usr/local/lib/python3.6/dist-packages (from dtreeviz) (1.19.5)\n",
            "Requirement already satisfied: scipy>=0.17.0 in /usr/local/lib/python3.6/dist-packages (from scikit-learn->dtreeviz) (1.4.1)\n",
            "Requirement already satisfied: joblib>=0.11 in /usr/local/lib/python3.6/dist-packages (from scikit-learn->dtreeviz) (1.0.0)\n",
            "Requirement already satisfied: pyparsing!=2.0.4,!=2.1.2,!=2.1.6,>=2.0.1 in /usr/local/lib/python3.6/dist-packages (from matplotlib->dtreeviz) (2.4.7)\n",
            "Requirement already satisfied: kiwisolver>=1.0.1 in /usr/local/lib/python3.6/dist-packages (from matplotlib->dtreeviz) (1.3.1)\n",
            "Requirement already satisfied: python-dateutil>=2.1 in /usr/local/lib/python3.6/dist-packages (from matplotlib->dtreeviz) (2.8.1)\n",
            "Requirement already satisfied: cycler>=0.10 in /usr/local/lib/python3.6/dist-packages (from matplotlib->dtreeviz) (0.10.0)\n",
            "Requirement already satisfied: pytz>=2017.2 in /usr/local/lib/python3.6/dist-packages (from pandas->dtreeviz) (2018.9)\n",
            "Requirement already satisfied: attrs>=17.4.0 in /usr/local/lib/python3.6/dist-packages (from pytest->dtreeviz) (20.3.0)\n",
            "Requirement already satisfied: six>=1.10.0 in /usr/local/lib/python3.6/dist-packages (from pytest->dtreeviz) (1.15.0)\n",
            "Requirement already satisfied: py>=1.5.0 in /usr/local/lib/python3.6/dist-packages (from pytest->dtreeviz) (1.10.0)\n",
            "Requirement already satisfied: more-itertools>=4.0.0 in /usr/local/lib/python3.6/dist-packages (from pytest->dtreeviz) (8.6.0)\n",
            "Requirement already satisfied: pluggy<0.8,>=0.5 in /usr/local/lib/python3.6/dist-packages (from pytest->dtreeviz) (0.7.1)\n",
            "Requirement already satisfied: setuptools in /usr/local/lib/python3.6/dist-packages (from pytest->dtreeviz) (53.0.0)\n",
            "Requirement already satisfied: atomicwrites>=1.0 in /usr/local/lib/python3.6/dist-packages (from pytest->dtreeviz) (1.4.0)\n",
            "\n",
            "Dimensões: (184140, 16)\n",
            "\n",
            "Campos: Index(['Unnamed: 0', 'Unnamed: 0.1', 'Continente', 'cod continente', 'País',\n",
            "       'cod pais', 'UF', 'cod uf', 'Via', 'cod via', 'ano', 'Mês', 'cod mes',\n",
            "       'Chegadas', 'Cotação média do mês anterior', 'Houve chegadas'],\n",
            "      dtype='object')\n",
            "          Unnamed: 0  ...  Cotação média do mês anterior\n",
            "count  184140.000000  ...                  184140.000000\n",
            "mean    92069.500000  ...                       3.580292\n",
            "std     53156.783622  ...                       0.345073\n",
            "min         0.000000  ...                       3.104194\n",
            "25%     46034.750000  ...                       3.241500\n",
            "50%     92069.500000  ...                       3.565845\n",
            "75%    138104.250000  ...                       3.885055\n",
            "max    184139.000000  ...                       4.155345\n",
            "\n",
            "[8 rows x 10 columns]\n",
            "Acurácia (base de treinamento): 0.9441656710473915\n",
            "Acurácia de previsão: 0.8780493103073749\n",
            "                 precision    recall  f1-score   support\n",
            "\n",
            "    Há chegadas       0.90      0.92      0.91     30679\n",
            "Não há chegadas       0.83      0.79      0.81     15356\n",
            "\n",
            "       accuracy                           0.88     46035\n",
            "      macro avg       0.87      0.86      0.86     46035\n",
            "   weighted avg       0.88      0.88      0.88     46035\n",
            "\n",
            "                 Há chegadas (prev)  Não há chegadas (prev)\n",
            "Há chegadas                   28231                    2448\n",
            "Não há chegadas                3166                   12190\n"
          ],
          "name": "stdout"
        }
      ]
    },
    {
      "cell_type": "code",
      "metadata": {
        "colab": {
          "base_uri": "https://localhost:8080/"
        },
        "id": "hnbaFd5uoc7J",
        "outputId": "61e69ad3-e35c-4107-a58f-93d77d1429f3"
      },
      "source": [
        "!pip install graphviz\r\n",
        "with open(\"chegadas.dot\",'w') as f:\r\n",
        "       f = tree.export_graphviz(df_chegadas_tree, out_file=f)\r\n",
        "\r\n",
        "!dot -Tpdf chegadas.dot -o arvore_chegadas.pdf"
      ],
      "execution_count": 17,
      "outputs": [
        {
          "output_type": "stream",
          "text": [
            "Requirement already satisfied: graphviz in /usr/local/lib/python3.6/dist-packages (0.10.1)\n"
          ],
          "name": "stdout"
        }
      ]
    },
    {
      "cell_type": "code",
      "metadata": {
        "colab": {
          "base_uri": "https://localhost:8080/"
        },
        "id": "SKBeQAkDp5U-",
        "outputId": "6adf5dd4-444c-48b3-f38f-10b7e0138b4d"
      },
      "source": [
        "!pip install pydotplus\r\n",
        "!pip install dtreeviz\r\n",
        "\r\n",
        "#!pip install -q pydot\r\n",
        "\r\n",
        "import pandas as pd\r\n",
        "import numpy as np\r\n",
        "from sklearn import datasets, tree\r\n",
        "from sklearn.model_selection import train_test_split\r\n",
        "from sklearn.tree import DecisionTreeClassifier\r\n",
        "from sklearn.metrics import accuracy_score, classification_report, confusion_matrix\r\n",
        "from sklearn.feature_extraction import DictVectorizer\r\n",
        "from sklearn.preprocessing import LabelEncoder\r\n",
        "\r\n",
        "#from google.colab import files\r\n",
        "#uploaded = files.upload()\r\n",
        "\r\n",
        "\r\n",
        "\r\n",
        "df_chegadas = pd.read_excel('Chegadas de turistas versus dólar - 2016 a 2019.xlsx', sheet_name=0) \r\n",
        "print(\"\\nDimensões: {0}\".format(df_chegadas.shape))\r\n",
        "print(\"\\nCampos: {0}\".format(df_chegadas.keys()))\r\n",
        "print(df_chegadas.describe(), sep='\\n')\r\n",
        "\r\n",
        "#X = df_chegadas.iloc[:,0:(df_chegadas.shape[1] - 1)]\r\n",
        "X = df_chegadas.loc[:,['cod continente', 'cod pais','cod uf', 'cod via', 'cod mes', 'Cotação média do mês anterior']]\r\n",
        "\r\n",
        "le = LabelEncoder()\r\n",
        "y = le.fit_transform(df_chegadas.iloc[:,(df_chegadas.shape[1] - 1)])\r\n",
        "#y = df_chegadas.loc[:,'Chegadas categorizadas - log 5']\r\n",
        "\r\n",
        "\r\n",
        "# Particiona a base de dados\r\n",
        "# por default 75% para treinamento e 25% para teste\r\n",
        "X_train, X_test, y_train, y_test = train_test_split(X, y, random_state=0, test_size=0.25)\r\n",
        "\r\n",
        "\"\"\"### Indução do Modelo\r\n",
        "\r\n",
        "\r\n",
        "Os três passos para indução de um modelo são:\r\n",
        "\r\n",
        "1.   Instanciar o modelo: ``` DecisionTreeClassifier()```\r\n",
        "2.   Treinar o modelo: ```fit()```\r\n",
        "3.   Testar o modelo: ```predict()```\r\n",
        "\"\"\"\r\n",
        "\r\n",
        "df_chegadas_tree = DecisionTreeClassifier(random_state=0, criterion='entropy', min_samples_split = 15)\r\n",
        "#df_chegadas_tree = DecisionTreeRegressor(random_state=0, criterion='entropy')\r\n",
        "\r\n",
        "\r\n",
        "df_chegadas_tree = df_chegadas_tree.fit(X_train, y_train)\r\n",
        "print(\"Acurácia (base de treinamento):\", df_chegadas_tree.score(X_train, y_train))\r\n",
        "\r\n",
        "y_pred = df_chegadas_tree.predict(X_test)\r\n",
        "print(\"Acurácia de previsão:\", accuracy_score(y_test, y_pred))\r\n",
        "print(classification_report(y_test, y_pred, target_names=[\"Há chegadas\", \"Não há chegadas\"]))\r\n",
        "      \r\n",
        "cnf_matrix = confusion_matrix(y_test, y_pred)\r\n",
        "cnf_table = pd.DataFrame(data=cnf_matrix, index=[\"Há chegadas\", \"Não há chegadas\"], \r\n",
        "                         #\"columns=[\"Mina (prev)\", \"Rocha (prev)\"])\r\n",
        "                         columns=[\"Há chegadas (prev)\", \"Não há chegadas (prev)\"])\r\n",
        "print(cnf_table)\r\n"
      ],
      "execution_count": 18,
      "outputs": [
        {
          "output_type": "stream",
          "text": [
            "Requirement already satisfied: pydotplus in /usr/local/lib/python3.6/dist-packages (2.0.2)\n",
            "Requirement already satisfied: pyparsing>=2.0.1 in /usr/local/lib/python3.6/dist-packages (from pydotplus) (2.4.7)\n",
            "Requirement already satisfied: dtreeviz in /usr/local/lib/python3.6/dist-packages (1.1.4)\n",
            "Requirement already satisfied: pandas in /usr/local/lib/python3.6/dist-packages (from dtreeviz) (1.1.5)\n",
            "Requirement already satisfied: scikit-learn in /usr/local/lib/python3.6/dist-packages (from dtreeviz) (0.22.2.post1)\n",
            "Requirement already satisfied: matplotlib in /usr/local/lib/python3.6/dist-packages (from dtreeviz) (3.2.2)\n",
            "Requirement already satisfied: pytest in /usr/local/lib/python3.6/dist-packages (from dtreeviz) (3.6.4)\n",
            "Requirement already satisfied: colour in /usr/local/lib/python3.6/dist-packages (from dtreeviz) (0.1.5)\n",
            "Requirement already satisfied: numpy in /usr/local/lib/python3.6/dist-packages (from dtreeviz) (1.19.5)\n",
            "Requirement already satisfied: graphviz>=0.9 in /usr/local/lib/python3.6/dist-packages (from dtreeviz) (0.10.1)\n",
            "Requirement already satisfied: pytz>=2017.2 in /usr/local/lib/python3.6/dist-packages (from pandas->dtreeviz) (2018.9)\n",
            "Requirement already satisfied: python-dateutil>=2.7.3 in /usr/local/lib/python3.6/dist-packages (from pandas->dtreeviz) (2.8.1)\n",
            "Requirement already satisfied: scipy>=0.17.0 in /usr/local/lib/python3.6/dist-packages (from scikit-learn->dtreeviz) (1.4.1)\n",
            "Requirement already satisfied: joblib>=0.11 in /usr/local/lib/python3.6/dist-packages (from scikit-learn->dtreeviz) (1.0.0)\n",
            "Requirement already satisfied: pyparsing!=2.0.4,!=2.1.2,!=2.1.6,>=2.0.1 in /usr/local/lib/python3.6/dist-packages (from matplotlib->dtreeviz) (2.4.7)\n",
            "Requirement already satisfied: cycler>=0.10 in /usr/local/lib/python3.6/dist-packages (from matplotlib->dtreeviz) (0.10.0)\n",
            "Requirement already satisfied: kiwisolver>=1.0.1 in /usr/local/lib/python3.6/dist-packages (from matplotlib->dtreeviz) (1.3.1)\n",
            "Requirement already satisfied: more-itertools>=4.0.0 in /usr/local/lib/python3.6/dist-packages (from pytest->dtreeviz) (8.6.0)\n",
            "Requirement already satisfied: py>=1.5.0 in /usr/local/lib/python3.6/dist-packages (from pytest->dtreeviz) (1.10.0)\n",
            "Requirement already satisfied: attrs>=17.4.0 in /usr/local/lib/python3.6/dist-packages (from pytest->dtreeviz) (20.3.0)\n",
            "Requirement already satisfied: pluggy<0.8,>=0.5 in /usr/local/lib/python3.6/dist-packages (from pytest->dtreeviz) (0.7.1)\n",
            "Requirement already satisfied: atomicwrites>=1.0 in /usr/local/lib/python3.6/dist-packages (from pytest->dtreeviz) (1.4.0)\n",
            "Requirement already satisfied: setuptools in /usr/local/lib/python3.6/dist-packages (from pytest->dtreeviz) (53.0.0)\n",
            "Requirement already satisfied: six>=1.10.0 in /usr/local/lib/python3.6/dist-packages (from pytest->dtreeviz) (1.15.0)\n",
            "\n",
            "Dimensões: (184140, 16)\n",
            "\n",
            "Campos: Index(['Unnamed: 0', 'Unnamed: 0.1', 'Continente', 'cod continente', 'País',\n",
            "       'cod pais', 'UF', 'cod uf', 'Via', 'cod via', 'ano', 'Mês', 'cod mes',\n",
            "       'Chegadas', 'Cotação média do mês anterior', 'Houve chegadas'],\n",
            "      dtype='object')\n",
            "          Unnamed: 0  ...  Cotação média do mês anterior\n",
            "count  184140.000000  ...                  184140.000000\n",
            "mean    92069.500000  ...                       3.580292\n",
            "std     53156.783622  ...                       0.345073\n",
            "min         0.000000  ...                       3.104194\n",
            "25%     46034.750000  ...                       3.241500\n",
            "50%     92069.500000  ...                       3.565845\n",
            "75%    138104.250000  ...                       3.885055\n",
            "max    184139.000000  ...                       4.155345\n",
            "\n",
            "[8 rows x 10 columns]\n",
            "Acurácia (base de treinamento): 0.9328481952137866\n",
            "Acurácia de previsão: 0.8832627348756381\n",
            "                 precision    recall  f1-score   support\n",
            "\n",
            "    Há chegadas       0.90      0.92      0.91     30679\n",
            "Não há chegadas       0.84      0.80      0.82     15356\n",
            "\n",
            "       accuracy                           0.88     46035\n",
            "      macro avg       0.87      0.86      0.87     46035\n",
            "   weighted avg       0.88      0.88      0.88     46035\n",
            "\n",
            "                 Há chegadas (prev)  Não há chegadas (prev)\n",
            "Há chegadas                   28371                    2308\n",
            "Não há chegadas                3066                   12290\n"
          ],
          "name": "stdout"
        }
      ]
    },
    {
      "cell_type": "code",
      "metadata": {
        "colab": {
          "base_uri": "https://localhost:8080/"
        },
        "id": "kEntduUFqjq4",
        "outputId": "f3c59aa1-689f-426e-be9b-fd199f1ed6a5"
      },
      "source": [
        "!pip install graphviz\r\n",
        "with open(\"chegadas.dot\",'w') as f:\r\n",
        "       f = tree.export_graphviz(df_chegadas_tree, out_file=f)\r\n",
        "\r\n",
        "!dot -Tpdf chegadas.dot -o arvore_chegadas.pdf"
      ],
      "execution_count": 19,
      "outputs": [
        {
          "output_type": "stream",
          "text": [
            "Requirement already satisfied: graphviz in /usr/local/lib/python3.6/dist-packages (0.10.1)\n"
          ],
          "name": "stdout"
        }
      ]
    },
    {
      "cell_type": "code",
      "metadata": {
        "colab": {
          "base_uri": "https://localhost:8080/"
        },
        "id": "SuN4ytNzrZK_",
        "outputId": "aa8b88fb-7cb6-49a2-de74-2760fac9622b"
      },
      "source": [
        "\r\n",
        "!pip install pydotplus\r\n",
        "!pip install dtreeviz\r\n",
        "\r\n",
        "#!pip install -q pydot\r\n",
        "\r\n",
        "import pandas as pd\r\n",
        "import numpy as np\r\n",
        "from sklearn import datasets, tree\r\n",
        "from sklearn.model_selection import train_test_split\r\n",
        "from sklearn.tree import DecisionTreeClassifier\r\n",
        "from sklearn.metrics import accuracy_score, classification_report, confusion_matrix\r\n",
        "from sklearn.feature_extraction import DictVectorizer\r\n",
        "from sklearn.preprocessing import LabelEncoder\r\n",
        "\r\n",
        "#from google.colab import files\r\n",
        "#uploaded = files.upload()\r\n",
        "\r\n",
        "\r\n",
        "\r\n",
        "df_chegadas = pd.read_excel('Chegadas de turistas versus dólar - 2016 a 2019.xlsx', sheet_name=0) \r\n",
        "print(\"\\nDimensões: {0}\".format(df_chegadas.shape))\r\n",
        "print(\"\\nCampos: {0}\".format(df_chegadas.keys()))\r\n",
        "print(df_chegadas.describe(), sep='\\n')\r\n",
        "\r\n",
        "#X = df_chegadas.iloc[:,0:(df_chegadas.shape[1] - 1)]\r\n",
        "X = df_chegadas.loc[:,['cod continente', 'cod pais','cod uf', 'cod via', 'cod mes', 'Cotação média do mês anterior']]\r\n",
        "\r\n",
        "le = LabelEncoder()\r\n",
        "y = le.fit_transform(df_chegadas.iloc[:,(df_chegadas.shape[1] - 1)])\r\n",
        "#y = df_chegadas.loc[:,'Chegadas categorizadas - log 5']\r\n",
        "\r\n",
        "\r\n",
        "# Particiona a base de dados\r\n",
        "# por default 75% para treinamento e 25% para teste\r\n",
        "X_train, X_test, y_train, y_test = train_test_split(X, y, random_state=0, test_size=0.25)\r\n",
        "\r\n",
        "\"\"\"### Indução do Modelo\r\n",
        "\r\n",
        "\r\n",
        "Os três passos para indução de um modelo são:\r\n",
        "\r\n",
        "1.   Instanciar o modelo: ``` DecisionTreeClassifier()```\r\n",
        "2.   Treinar o modelo: ```fit()```\r\n",
        "3.   Testar o modelo: ```predict()```\r\n",
        "\"\"\"\r\n",
        "\r\n",
        "df_chegadas_tree = DecisionTreeClassifier(random_state=0, criterion='entropy', min_samples_split = 20)\r\n",
        "#df_chegadas_tree = DecisionTreeRegressor(random_state=0, criterion='entropy')\r\n",
        "\r\n",
        "\r\n",
        "df_chegadas_tree = df_chegadas_tree.fit(X_train, y_train)\r\n",
        "print(\"Acurácia (base de treinamento):\", df_chegadas_tree.score(X_train, y_train))\r\n",
        "\r\n",
        "y_pred = df_chegadas_tree.predict(X_test)\r\n",
        "print(\"Acurácia de previsão:\", accuracy_score(y_test, y_pred))\r\n",
        "print(classification_report(y_test, y_pred, target_names=[\"Há chegadas\", \"Não há chegadas\"]))\r\n",
        "      \r\n",
        "cnf_matrix = confusion_matrix(y_test, y_pred)\r\n",
        "cnf_table = pd.DataFrame(data=cnf_matrix, index=[\"Há chegadas\", \"Não há chegadas\"], \r\n",
        "                         #\"columns=[\"Mina (prev)\", \"Rocha (prev)\"])\r\n",
        "                         columns=[\"Há chegadas (prev)\", \"Não há chegadas (prev)\"])\r\n",
        "print(cnf_table)\r\n"
      ],
      "execution_count": 20,
      "outputs": [
        {
          "output_type": "stream",
          "text": [
            "Requirement already satisfied: pydotplus in /usr/local/lib/python3.6/dist-packages (2.0.2)\n",
            "Requirement already satisfied: pyparsing>=2.0.1 in /usr/local/lib/python3.6/dist-packages (from pydotplus) (2.4.7)\n",
            "Requirement already satisfied: dtreeviz in /usr/local/lib/python3.6/dist-packages (1.1.4)\n",
            "Requirement already satisfied: matplotlib in /usr/local/lib/python3.6/dist-packages (from dtreeviz) (3.2.2)\n",
            "Requirement already satisfied: graphviz>=0.9 in /usr/local/lib/python3.6/dist-packages (from dtreeviz) (0.10.1)\n",
            "Requirement already satisfied: pandas in /usr/local/lib/python3.6/dist-packages (from dtreeviz) (1.1.5)\n",
            "Requirement already satisfied: numpy in /usr/local/lib/python3.6/dist-packages (from dtreeviz) (1.19.5)\n",
            "Requirement already satisfied: scikit-learn in /usr/local/lib/python3.6/dist-packages (from dtreeviz) (0.22.2.post1)\n",
            "Requirement already satisfied: colour in /usr/local/lib/python3.6/dist-packages (from dtreeviz) (0.1.5)\n",
            "Requirement already satisfied: pytest in /usr/local/lib/python3.6/dist-packages (from dtreeviz) (3.6.4)\n",
            "Requirement already satisfied: cycler>=0.10 in /usr/local/lib/python3.6/dist-packages (from matplotlib->dtreeviz) (0.10.0)\n",
            "Requirement already satisfied: python-dateutil>=2.1 in /usr/local/lib/python3.6/dist-packages (from matplotlib->dtreeviz) (2.8.1)\n",
            "Requirement already satisfied: pyparsing!=2.0.4,!=2.1.2,!=2.1.6,>=2.0.1 in /usr/local/lib/python3.6/dist-packages (from matplotlib->dtreeviz) (2.4.7)\n",
            "Requirement already satisfied: kiwisolver>=1.0.1 in /usr/local/lib/python3.6/dist-packages (from matplotlib->dtreeviz) (1.3.1)\n",
            "Requirement already satisfied: pytz>=2017.2 in /usr/local/lib/python3.6/dist-packages (from pandas->dtreeviz) (2018.9)\n",
            "Requirement already satisfied: joblib>=0.11 in /usr/local/lib/python3.6/dist-packages (from scikit-learn->dtreeviz) (1.0.0)\n",
            "Requirement already satisfied: scipy>=0.17.0 in /usr/local/lib/python3.6/dist-packages (from scikit-learn->dtreeviz) (1.4.1)\n",
            "Requirement already satisfied: attrs>=17.4.0 in /usr/local/lib/python3.6/dist-packages (from pytest->dtreeviz) (20.3.0)\n",
            "Requirement already satisfied: more-itertools>=4.0.0 in /usr/local/lib/python3.6/dist-packages (from pytest->dtreeviz) (8.6.0)\n",
            "Requirement already satisfied: pluggy<0.8,>=0.5 in /usr/local/lib/python3.6/dist-packages (from pytest->dtreeviz) (0.7.1)\n",
            "Requirement already satisfied: setuptools in /usr/local/lib/python3.6/dist-packages (from pytest->dtreeviz) (53.0.0)\n",
            "Requirement already satisfied: atomicwrites>=1.0 in /usr/local/lib/python3.6/dist-packages (from pytest->dtreeviz) (1.4.0)\n",
            "Requirement already satisfied: py>=1.5.0 in /usr/local/lib/python3.6/dist-packages (from pytest->dtreeviz) (1.10.0)\n",
            "Requirement already satisfied: six>=1.10.0 in /usr/local/lib/python3.6/dist-packages (from pytest->dtreeviz) (1.15.0)\n",
            "\n",
            "Dimensões: (184140, 16)\n",
            "\n",
            "Campos: Index(['Unnamed: 0', 'Unnamed: 0.1', 'Continente', 'cod continente', 'País',\n",
            "       'cod pais', 'UF', 'cod uf', 'Via', 'cod via', 'ano', 'Mês', 'cod mes',\n",
            "       'Chegadas', 'Cotação média do mês anterior', 'Houve chegadas'],\n",
            "      dtype='object')\n",
            "          Unnamed: 0  ...  Cotação média do mês anterior\n",
            "count  184140.000000  ...                  184140.000000\n",
            "mean    92069.500000  ...                       3.580292\n",
            "std     53156.783622  ...                       0.345073\n",
            "min         0.000000  ...                       3.104194\n",
            "25%     46034.750000  ...                       3.241500\n",
            "50%     92069.500000  ...                       3.565845\n",
            "75%    138104.250000  ...                       3.885055\n",
            "max    184139.000000  ...                       4.155345\n",
            "\n",
            "[8 rows x 10 columns]\n",
            "Acurácia (base de treinamento): 0.9256869772998805\n",
            "Acurácia de previsão: 0.8862604540023895\n",
            "                 precision    recall  f1-score   support\n",
            "\n",
            "    Há chegadas       0.90      0.93      0.92     30679\n",
            "Não há chegadas       0.85      0.80      0.82     15356\n",
            "\n",
            "       accuracy                           0.89     46035\n",
            "      macro avg       0.88      0.87      0.87     46035\n",
            "   weighted avg       0.89      0.89      0.89     46035\n",
            "\n",
            "                 Há chegadas (prev)  Não há chegadas (prev)\n",
            "Há chegadas                   28495                    2184\n",
            "Não há chegadas                3052                   12304\n"
          ],
          "name": "stdout"
        }
      ]
    },
    {
      "cell_type": "code",
      "metadata": {
        "colab": {
          "base_uri": "https://localhost:8080/"
        },
        "id": "TDD9z_Xxr_Uf",
        "outputId": "ba2f6ca5-0897-4fe0-fef4-d2355d7f5ae4"
      },
      "source": [
        "!pip install graphviz\r\n",
        "with open(\"chegadas.dot\",'w') as f:\r\n",
        "       f = tree.export_graphviz(df_chegadas_tree, out_file=f)\r\n",
        "\r\n",
        "!dot -Tpdf chegadas.dot -o arvore_chegadas.pdf"
      ],
      "execution_count": 21,
      "outputs": [
        {
          "output_type": "stream",
          "text": [
            "Requirement already satisfied: graphviz in /usr/local/lib/python3.6/dist-packages (0.10.1)\n"
          ],
          "name": "stdout"
        }
      ]
    },
    {
      "cell_type": "code",
      "metadata": {
        "colab": {
          "base_uri": "https://localhost:8080/"
        },
        "id": "w-NUUdlqsw50",
        "outputId": "5f3fff7d-fbac-4e67-898d-e358b8573399"
      },
      "source": [
        "\r\n",
        "!pip install pydotplus\r\n",
        "!pip install dtreeviz\r\n",
        "\r\n",
        "#!pip install -q pydot\r\n",
        "\r\n",
        "import pandas as pd\r\n",
        "import numpy as np\r\n",
        "from sklearn import datasets, tree\r\n",
        "from sklearn.model_selection import train_test_split\r\n",
        "from sklearn.tree import DecisionTreeClassifier\r\n",
        "from sklearn.metrics import accuracy_score, classification_report, confusion_matrix\r\n",
        "from sklearn.feature_extraction import DictVectorizer\r\n",
        "from sklearn.preprocessing import LabelEncoder\r\n",
        "\r\n",
        "#from google.colab import files\r\n",
        "#uploaded = files.upload()\r\n",
        "\r\n",
        "\r\n",
        "\r\n",
        "df_chegadas = pd.read_excel('Chegadas de turistas versus dólar - 2016 a 2019.xlsx', sheet_name=0) \r\n",
        "print(\"\\nDimensões: {0}\".format(df_chegadas.shape))\r\n",
        "print(\"\\nCampos: {0}\".format(df_chegadas.keys()))\r\n",
        "print(df_chegadas.describe(), sep='\\n')\r\n",
        "\r\n",
        "#X = df_chegadas.iloc[:,0:(df_chegadas.shape[1] - 1)]\r\n",
        "X = df_chegadas.loc[:,['cod continente', 'cod pais','cod uf', 'cod via', 'cod mes', 'Cotação média do mês anterior']]\r\n",
        "\r\n",
        "le = LabelEncoder()\r\n",
        "y = le.fit_transform(df_chegadas.iloc[:,(df_chegadas.shape[1] - 1)])\r\n",
        "#y = df_chegadas.loc[:,'Chegadas categorizadas - log 5']\r\n",
        "\r\n",
        "\r\n",
        "# Particiona a base de dados\r\n",
        "# por default 75% para treinamento e 25% para teste\r\n",
        "X_train, X_test, y_train, y_test = train_test_split(X, y, random_state=0, test_size=0.25)\r\n",
        "\r\n",
        "\"\"\"### Indução do Modelo\r\n",
        "\r\n",
        "\r\n",
        "Os três passos para indução de um modelo são:\r\n",
        "\r\n",
        "1.   Instanciar o modelo: ``` DecisionTreeClassifier()```\r\n",
        "2.   Treinar o modelo: ```fit()```\r\n",
        "3.   Testar o modelo: ```predict()```\r\n",
        "\"\"\"\r\n",
        "\r\n",
        "df_chegadas_tree = DecisionTreeClassifier(random_state=0, criterion='entropy', min_samples_split = 25)\r\n",
        "#df_chegadas_tree = DecisionTreeRegressor(random_state=0, criterion='entropy')\r\n",
        "\r\n",
        "\r\n",
        "df_chegadas_tree = df_chegadas_tree.fit(X_train, y_train)\r\n",
        "print(\"Acurácia (base de treinamento):\", df_chegadas_tree.score(X_train, y_train))\r\n",
        "\r\n",
        "y_pred = df_chegadas_tree.predict(X_test)\r\n",
        "print(\"Acurácia de previsão:\", accuracy_score(y_test, y_pred))\r\n",
        "print(classification_report(y_test, y_pred, target_names=[\"Há chegadas\", \"Não há chegadas\"]))\r\n",
        "      \r\n",
        "cnf_matrix = confusion_matrix(y_test, y_pred)\r\n",
        "cnf_table = pd.DataFrame(data=cnf_matrix, index=[\"Há chegadas\", \"Não há chegadas\"], \r\n",
        "                         #\"columns=[\"Mina (prev)\", \"Rocha (prev)\"])\r\n",
        "                         columns=[\"Há chegadas (prev)\", \"Não há chegadas (prev)\"])\r\n",
        "print(cnf_table)"
      ],
      "execution_count": 22,
      "outputs": [
        {
          "output_type": "stream",
          "text": [
            "Requirement already satisfied: pydotplus in /usr/local/lib/python3.6/dist-packages (2.0.2)\n",
            "Requirement already satisfied: pyparsing>=2.0.1 in /usr/local/lib/python3.6/dist-packages (from pydotplus) (2.4.7)\n",
            "Requirement already satisfied: dtreeviz in /usr/local/lib/python3.6/dist-packages (1.1.4)\n",
            "Requirement already satisfied: graphviz>=0.9 in /usr/local/lib/python3.6/dist-packages (from dtreeviz) (0.10.1)\n",
            "Requirement already satisfied: pandas in /usr/local/lib/python3.6/dist-packages (from dtreeviz) (1.1.5)\n",
            "Requirement already satisfied: colour in /usr/local/lib/python3.6/dist-packages (from dtreeviz) (0.1.5)\n",
            "Requirement already satisfied: numpy in /usr/local/lib/python3.6/dist-packages (from dtreeviz) (1.19.5)\n",
            "Requirement already satisfied: matplotlib in /usr/local/lib/python3.6/dist-packages (from dtreeviz) (3.2.2)\n",
            "Requirement already satisfied: scikit-learn in /usr/local/lib/python3.6/dist-packages (from dtreeviz) (0.22.2.post1)\n",
            "Requirement already satisfied: pytest in /usr/local/lib/python3.6/dist-packages (from dtreeviz) (3.6.4)\n",
            "Requirement already satisfied: python-dateutil>=2.7.3 in /usr/local/lib/python3.6/dist-packages (from pandas->dtreeviz) (2.8.1)\n",
            "Requirement already satisfied: pytz>=2017.2 in /usr/local/lib/python3.6/dist-packages (from pandas->dtreeviz) (2018.9)\n",
            "Requirement already satisfied: pyparsing!=2.0.4,!=2.1.2,!=2.1.6,>=2.0.1 in /usr/local/lib/python3.6/dist-packages (from matplotlib->dtreeviz) (2.4.7)\n",
            "Requirement already satisfied: cycler>=0.10 in /usr/local/lib/python3.6/dist-packages (from matplotlib->dtreeviz) (0.10.0)\n",
            "Requirement already satisfied: kiwisolver>=1.0.1 in /usr/local/lib/python3.6/dist-packages (from matplotlib->dtreeviz) (1.3.1)\n",
            "Requirement already satisfied: joblib>=0.11 in /usr/local/lib/python3.6/dist-packages (from scikit-learn->dtreeviz) (1.0.0)\n",
            "Requirement already satisfied: scipy>=0.17.0 in /usr/local/lib/python3.6/dist-packages (from scikit-learn->dtreeviz) (1.4.1)\n",
            "Requirement already satisfied: six>=1.10.0 in /usr/local/lib/python3.6/dist-packages (from pytest->dtreeviz) (1.15.0)\n",
            "Requirement already satisfied: attrs>=17.4.0 in /usr/local/lib/python3.6/dist-packages (from pytest->dtreeviz) (20.3.0)\n",
            "Requirement already satisfied: atomicwrites>=1.0 in /usr/local/lib/python3.6/dist-packages (from pytest->dtreeviz) (1.4.0)\n",
            "Requirement already satisfied: setuptools in /usr/local/lib/python3.6/dist-packages (from pytest->dtreeviz) (53.0.0)\n",
            "Requirement already satisfied: pluggy<0.8,>=0.5 in /usr/local/lib/python3.6/dist-packages (from pytest->dtreeviz) (0.7.1)\n",
            "Requirement already satisfied: more-itertools>=4.0.0 in /usr/local/lib/python3.6/dist-packages (from pytest->dtreeviz) (8.6.0)\n",
            "Requirement already satisfied: py>=1.5.0 in /usr/local/lib/python3.6/dist-packages (from pytest->dtreeviz) (1.10.0)\n",
            "\n",
            "Dimensões: (184140, 16)\n",
            "\n",
            "Campos: Index(['Unnamed: 0', 'Unnamed: 0.1', 'Continente', 'cod continente', 'País',\n",
            "       'cod pais', 'UF', 'cod uf', 'Via', 'cod via', 'ano', 'Mês', 'cod mes',\n",
            "       'Chegadas', 'Cotação média do mês anterior', 'Houve chegadas'],\n",
            "      dtype='object')\n",
            "          Unnamed: 0  ...  Cotação média do mês anterior\n",
            "count  184140.000000  ...                  184140.000000\n",
            "mean    92069.500000  ...                       3.580292\n",
            "std     53156.783622  ...                       0.345073\n",
            "min         0.000000  ...                       3.104194\n",
            "25%     46034.750000  ...                       3.241500\n",
            "50%     92069.500000  ...                       3.565845\n",
            "75%    138104.250000  ...                       3.885055\n",
            "max    184139.000000  ...                       4.155345\n",
            "\n",
            "[8 rows x 10 columns]\n",
            "Acurácia (base de treinamento): 0.9206400926831034\n",
            "Acurácia de previsão: 0.8875855327468231\n",
            "                 precision    recall  f1-score   support\n",
            "\n",
            "    Há chegadas       0.90      0.93      0.92     30679\n",
            "Não há chegadas       0.85      0.80      0.83     15356\n",
            "\n",
            "       accuracy                           0.89     46035\n",
            "      macro avg       0.88      0.87      0.87     46035\n",
            "   weighted avg       0.89      0.89      0.89     46035\n",
            "\n",
            "                 Há chegadas (prev)  Não há chegadas (prev)\n",
            "Há chegadas                   28566                    2113\n",
            "Não há chegadas                3062                   12294\n"
          ],
          "name": "stdout"
        }
      ]
    },
    {
      "cell_type": "code",
      "metadata": {
        "colab": {
          "base_uri": "https://localhost:8080/"
        },
        "id": "ZUGZR42qtZ87",
        "outputId": "19cc7ac5-d6f3-4323-abe3-4451bdc87e4a"
      },
      "source": [
        "!pip install graphviz\r\n",
        "with open(\"chegadas.dot\",'w') as f:\r\n",
        "       f = tree.export_graphviz(df_chegadas_tree, out_file=f)\r\n",
        "\r\n",
        "!dot -Tpdf chegadas.dot -o arvore_chegadas.pdf"
      ],
      "execution_count": 23,
      "outputs": [
        {
          "output_type": "stream",
          "text": [
            "Requirement already satisfied: graphviz in /usr/local/lib/python3.6/dist-packages (0.10.1)\n"
          ],
          "name": "stdout"
        }
      ]
    },
    {
      "cell_type": "code",
      "metadata": {
        "colab": {
          "base_uri": "https://localhost:8080/"
        },
        "id": "aY6MCfo_uSOF",
        "outputId": "eb970233-44aa-406d-f458-505d956c1604"
      },
      "source": [
        "\r\n",
        "!pip install pydotplus\r\n",
        "!pip install dtreeviz\r\n",
        "\r\n",
        "#!pip install -q pydot\r\n",
        "\r\n",
        "import pandas as pd\r\n",
        "import numpy as np\r\n",
        "from sklearn import datasets, tree\r\n",
        "from sklearn.model_selection import train_test_split\r\n",
        "from sklearn.tree import DecisionTreeClassifier\r\n",
        "from sklearn.metrics import accuracy_score, classification_report, confusion_matrix\r\n",
        "from sklearn.feature_extraction import DictVectorizer\r\n",
        "from sklearn.preprocessing import LabelEncoder\r\n",
        "\r\n",
        "#from google.colab import files\r\n",
        "#uploaded = files.upload()\r\n",
        "\r\n",
        "\r\n",
        "\r\n",
        "df_chegadas = pd.read_excel('Chegadas de turistas versus dólar - 2016 a 2019.xlsx', sheet_name=0) \r\n",
        "print(\"\\nDimensões: {0}\".format(df_chegadas.shape))\r\n",
        "print(\"\\nCampos: {0}\".format(df_chegadas.keys()))\r\n",
        "print(df_chegadas.describe(), sep='\\n')\r\n",
        "\r\n",
        "#X = df_chegadas.iloc[:,0:(df_chegadas.shape[1] - 1)]\r\n",
        "X = df_chegadas.loc[:,['cod continente', 'cod pais','cod uf', 'cod via', 'cod mes', 'Cotação média do mês anterior']]\r\n",
        "\r\n",
        "le = LabelEncoder()\r\n",
        "y = le.fit_transform(df_chegadas.iloc[:,(df_chegadas.shape[1] - 1)])\r\n",
        "#y = df_chegadas.loc[:,'Chegadas categorizadas - log 5']\r\n",
        "\r\n",
        "\r\n",
        "# Particiona a base de dados\r\n",
        "# por default 75% para treinamento e 25% para teste\r\n",
        "X_train, X_test, y_train, y_test = train_test_split(X, y, random_state=0, test_size=0.25)\r\n",
        "\r\n",
        "\"\"\"### Indução do Modelo\r\n",
        "\r\n",
        "\r\n",
        "Os três passos para indução de um modelo são:\r\n",
        "\r\n",
        "1.   Instanciar o modelo: ``` DecisionTreeClassifier()```\r\n",
        "2.   Treinar o modelo: ```fit()```\r\n",
        "3.   Testar o modelo: ```predict()```\r\n",
        "\"\"\"\r\n",
        "\r\n",
        "df_chegadas_tree = DecisionTreeClassifier(random_state=0, criterion='entropy', min_samples_split = 30)\r\n",
        "#df_chegadas_tree = DecisionTreeRegressor(random_state=0, criterion='entropy')\r\n",
        "\r\n",
        "\r\n",
        "df_chegadas_tree = df_chegadas_tree.fit(X_train, y_train)\r\n",
        "print(\"Acurácia (base de treinamento):\", df_chegadas_tree.score(X_train, y_train))\r\n",
        "\r\n",
        "y_pred = df_chegadas_tree.predict(X_test)\r\n",
        "print(\"Acurácia de previsão:\", accuracy_score(y_test, y_pred))\r\n",
        "print(classification_report(y_test, y_pred, target_names=[\"Há chegadas\", \"Não há chegadas\"]))\r\n",
        "      \r\n",
        "cnf_matrix = confusion_matrix(y_test, y_pred)\r\n",
        "cnf_table = pd.DataFrame(data=cnf_matrix, index=[\"Há chegadas\", \"Não há chegadas\"], \r\n",
        "                         #\"columns=[\"Mina (prev)\", \"Rocha (prev)\"])\r\n",
        "                         columns=[\"Há chegadas (prev)\", \"Não há chegadas (prev)\"])\r\n",
        "print(cnf_table)"
      ],
      "execution_count": 24,
      "outputs": [
        {
          "output_type": "stream",
          "text": [
            "Requirement already satisfied: pydotplus in /usr/local/lib/python3.6/dist-packages (2.0.2)\n",
            "Requirement already satisfied: pyparsing>=2.0.1 in /usr/local/lib/python3.6/dist-packages (from pydotplus) (2.4.7)\n",
            "Requirement already satisfied: dtreeviz in /usr/local/lib/python3.6/dist-packages (1.1.4)\n",
            "Requirement already satisfied: colour in /usr/local/lib/python3.6/dist-packages (from dtreeviz) (0.1.5)\n",
            "Requirement already satisfied: graphviz>=0.9 in /usr/local/lib/python3.6/dist-packages (from dtreeviz) (0.10.1)\n",
            "Requirement already satisfied: pytest in /usr/local/lib/python3.6/dist-packages (from dtreeviz) (3.6.4)\n",
            "Requirement already satisfied: matplotlib in /usr/local/lib/python3.6/dist-packages (from dtreeviz) (3.2.2)\n",
            "Requirement already satisfied: scikit-learn in /usr/local/lib/python3.6/dist-packages (from dtreeviz) (0.22.2.post1)\n",
            "Requirement already satisfied: numpy in /usr/local/lib/python3.6/dist-packages (from dtreeviz) (1.19.5)\n",
            "Requirement already satisfied: pandas in /usr/local/lib/python3.6/dist-packages (from dtreeviz) (1.1.5)\n",
            "Requirement already satisfied: pluggy<0.8,>=0.5 in /usr/local/lib/python3.6/dist-packages (from pytest->dtreeviz) (0.7.1)\n",
            "Requirement already satisfied: py>=1.5.0 in /usr/local/lib/python3.6/dist-packages (from pytest->dtreeviz) (1.10.0)\n",
            "Requirement already satisfied: attrs>=17.4.0 in /usr/local/lib/python3.6/dist-packages (from pytest->dtreeviz) (20.3.0)\n",
            "Requirement already satisfied: setuptools in /usr/local/lib/python3.6/dist-packages (from pytest->dtreeviz) (53.0.0)\n",
            "Requirement already satisfied: six>=1.10.0 in /usr/local/lib/python3.6/dist-packages (from pytest->dtreeviz) (1.15.0)\n",
            "Requirement already satisfied: atomicwrites>=1.0 in /usr/local/lib/python3.6/dist-packages (from pytest->dtreeviz) (1.4.0)\n",
            "Requirement already satisfied: more-itertools>=4.0.0 in /usr/local/lib/python3.6/dist-packages (from pytest->dtreeviz) (8.6.0)\n",
            "Requirement already satisfied: pyparsing!=2.0.4,!=2.1.2,!=2.1.6,>=2.0.1 in /usr/local/lib/python3.6/dist-packages (from matplotlib->dtreeviz) (2.4.7)\n",
            "Requirement already satisfied: cycler>=0.10 in /usr/local/lib/python3.6/dist-packages (from matplotlib->dtreeviz) (0.10.0)\n",
            "Requirement already satisfied: kiwisolver>=1.0.1 in /usr/local/lib/python3.6/dist-packages (from matplotlib->dtreeviz) (1.3.1)\n",
            "Requirement already satisfied: python-dateutil>=2.1 in /usr/local/lib/python3.6/dist-packages (from matplotlib->dtreeviz) (2.8.1)\n",
            "Requirement already satisfied: joblib>=0.11 in /usr/local/lib/python3.6/dist-packages (from scikit-learn->dtreeviz) (1.0.0)\n",
            "Requirement already satisfied: scipy>=0.17.0 in /usr/local/lib/python3.6/dist-packages (from scikit-learn->dtreeviz) (1.4.1)\n",
            "Requirement already satisfied: pytz>=2017.2 in /usr/local/lib/python3.6/dist-packages (from pandas->dtreeviz) (2018.9)\n",
            "\n",
            "Dimensões: (184140, 16)\n",
            "\n",
            "Campos: Index(['Unnamed: 0', 'Unnamed: 0.1', 'Continente', 'cod continente', 'País',\n",
            "       'cod pais', 'UF', 'cod uf', 'Via', 'cod via', 'ano', 'Mês', 'cod mes',\n",
            "       'Chegadas', 'Cotação média do mês anterior', 'Houve chegadas'],\n",
            "      dtype='object')\n",
            "          Unnamed: 0  ...  Cotação média do mês anterior\n",
            "count  184140.000000  ...                  184140.000000\n",
            "mean    92069.500000  ...                       3.580292\n",
            "std     53156.783622  ...                       0.345073\n",
            "min         0.000000  ...                       3.104194\n",
            "25%     46034.750000  ...                       3.241500\n",
            "50%     92069.500000  ...                       3.565845\n",
            "75%    138104.250000  ...                       3.885055\n",
            "max    184139.000000  ...                       4.155345\n",
            "\n",
            "[8 rows x 10 columns]\n",
            "Acurácia (base de treinamento): 0.9170775858947902\n",
            "Acurácia de previsão: 0.8890843923101988\n",
            "                 precision    recall  f1-score   support\n",
            "\n",
            "    Há chegadas       0.90      0.93      0.92     30679\n",
            "Não há chegadas       0.86      0.80      0.83     15356\n",
            "\n",
            "       accuracy                           0.89     46035\n",
            "      macro avg       0.88      0.87      0.87     46035\n",
            "   weighted avg       0.89      0.89      0.89     46035\n",
            "\n",
            "                 Há chegadas (prev)  Não há chegadas (prev)\n",
            "Há chegadas                   28599                    2080\n",
            "Não há chegadas                3026                   12330\n"
          ],
          "name": "stdout"
        }
      ]
    },
    {
      "cell_type": "code",
      "metadata": {
        "colab": {
          "base_uri": "https://localhost:8080/"
        },
        "id": "9ODcktlRu43k",
        "outputId": "38578ad6-49dc-4e03-91e1-79fb3eade32c"
      },
      "source": [
        "!pip install graphviz\r\n",
        "with open(\"chegadas.dot\",'w') as f:\r\n",
        "       f = tree.export_graphviz(df_chegadas_tree, out_file=f)\r\n",
        "\r\n",
        "!dot -Tpdf chegadas.dot -o arvore_chegadas.pdf"
      ],
      "execution_count": 25,
      "outputs": [
        {
          "output_type": "stream",
          "text": [
            "Requirement already satisfied: graphviz in /usr/local/lib/python3.6/dist-packages (0.10.1)\n"
          ],
          "name": "stdout"
        }
      ]
    },
    {
      "cell_type": "code",
      "metadata": {
        "colab": {
          "base_uri": "https://localhost:8080/"
        },
        "id": "-TbWVdSVvpUG",
        "outputId": "6a8bf283-b5e7-468c-8986-6b47653d1e19"
      },
      "source": [
        "\r\n",
        "!pip install pydotplus\r\n",
        "!pip install dtreeviz\r\n",
        "\r\n",
        "#!pip install -q pydot\r\n",
        "\r\n",
        "import pandas as pd\r\n",
        "import numpy as np\r\n",
        "from sklearn import datasets, tree\r\n",
        "from sklearn.model_selection import train_test_split\r\n",
        "from sklearn.tree import DecisionTreeClassifier\r\n",
        "from sklearn.metrics import accuracy_score, classification_report, confusion_matrix\r\n",
        "from sklearn.feature_extraction import DictVectorizer\r\n",
        "from sklearn.preprocessing import LabelEncoder\r\n",
        "\r\n",
        "#from google.colab import files\r\n",
        "#uploaded = files.upload()\r\n",
        "\r\n",
        "\r\n",
        "\r\n",
        "df_chegadas = pd.read_excel('Chegadas de turistas versus dólar - 2016 a 2019.xlsx', sheet_name=0) \r\n",
        "print(\"\\nDimensões: {0}\".format(df_chegadas.shape))\r\n",
        "print(\"\\nCampos: {0}\".format(df_chegadas.keys()))\r\n",
        "print(df_chegadas.describe(), sep='\\n')\r\n",
        "\r\n",
        "#X = df_chegadas.iloc[:,0:(df_chegadas.shape[1] - 1)]\r\n",
        "X = df_chegadas.loc[:,['cod continente', 'cod pais','cod uf', 'cod via', 'cod mes', 'Cotação média do mês anterior']]\r\n",
        "\r\n",
        "le = LabelEncoder()\r\n",
        "y = le.fit_transform(df_chegadas.iloc[:,(df_chegadas.shape[1] - 1)])\r\n",
        "#y = df_chegadas.loc[:,'Chegadas categorizadas - log 5']\r\n",
        "\r\n",
        "\r\n",
        "# Particiona a base de dados\r\n",
        "# por default 75% para treinamento e 25% para teste\r\n",
        "X_train, X_test, y_train, y_test = train_test_split(X, y, random_state=0, test_size=0.25)\r\n",
        "\r\n",
        "\"\"\"### Indução do Modelo\r\n",
        "\r\n",
        "\r\n",
        "Os três passos para indução de um modelo são:\r\n",
        "\r\n",
        "1.   Instanciar o modelo: ``` DecisionTreeClassifier()```\r\n",
        "2.   Treinar o modelo: ```fit()```\r\n",
        "3.   Testar o modelo: ```predict()```\r\n",
        "\"\"\"\r\n",
        "\r\n",
        "df_chegadas_tree = DecisionTreeClassifier(random_state=0, criterion='entropy', min_samples_split = 35)\r\n",
        "#df_chegadas_tree = DecisionTreeRegressor(random_state=0, criterion='entropy')\r\n",
        "\r\n",
        "\r\n",
        "df_chegadas_tree = df_chegadas_tree.fit(X_train, y_train)\r\n",
        "print(\"Acurácia (base de treinamento):\", df_chegadas_tree.score(X_train, y_train))\r\n",
        "\r\n",
        "y_pred = df_chegadas_tree.predict(X_test)\r\n",
        "print(\"Acurácia de previsão:\", accuracy_score(y_test, y_pred))\r\n",
        "print(classification_report(y_test, y_pred, target_names=[\"Há chegadas\", \"Não há chegadas\"]))\r\n",
        "      \r\n",
        "cnf_matrix = confusion_matrix(y_test, y_pred)\r\n",
        "cnf_table = pd.DataFrame(data=cnf_matrix, index=[\"Há chegadas\", \"Não há chegadas\"], \r\n",
        "                         #\"columns=[\"Mina (prev)\", \"Rocha (prev)\"])\r\n",
        "                         columns=[\"Há chegadas (prev)\", \"Não há chegadas (prev)\"])\r\n",
        "print(cnf_table)"
      ],
      "execution_count": 26,
      "outputs": [
        {
          "output_type": "stream",
          "text": [
            "Requirement already satisfied: pydotplus in /usr/local/lib/python3.6/dist-packages (2.0.2)\n",
            "Requirement already satisfied: pyparsing>=2.0.1 in /usr/local/lib/python3.6/dist-packages (from pydotplus) (2.4.7)\n",
            "Requirement already satisfied: dtreeviz in /usr/local/lib/python3.6/dist-packages (1.1.4)\n",
            "Requirement already satisfied: matplotlib in /usr/local/lib/python3.6/dist-packages (from dtreeviz) (3.2.2)\n",
            "Requirement already satisfied: colour in /usr/local/lib/python3.6/dist-packages (from dtreeviz) (0.1.5)\n",
            "Requirement already satisfied: pandas in /usr/local/lib/python3.6/dist-packages (from dtreeviz) (1.1.5)\n",
            "Requirement already satisfied: graphviz>=0.9 in /usr/local/lib/python3.6/dist-packages (from dtreeviz) (0.10.1)\n",
            "Requirement already satisfied: pytest in /usr/local/lib/python3.6/dist-packages (from dtreeviz) (3.6.4)\n",
            "Requirement already satisfied: numpy in /usr/local/lib/python3.6/dist-packages (from dtreeviz) (1.19.5)\n",
            "Requirement already satisfied: scikit-learn in /usr/local/lib/python3.6/dist-packages (from dtreeviz) (0.22.2.post1)\n",
            "Requirement already satisfied: python-dateutil>=2.1 in /usr/local/lib/python3.6/dist-packages (from matplotlib->dtreeviz) (2.8.1)\n",
            "Requirement already satisfied: pyparsing!=2.0.4,!=2.1.2,!=2.1.6,>=2.0.1 in /usr/local/lib/python3.6/dist-packages (from matplotlib->dtreeviz) (2.4.7)\n",
            "Requirement already satisfied: cycler>=0.10 in /usr/local/lib/python3.6/dist-packages (from matplotlib->dtreeviz) (0.10.0)\n",
            "Requirement already satisfied: kiwisolver>=1.0.1 in /usr/local/lib/python3.6/dist-packages (from matplotlib->dtreeviz) (1.3.1)\n",
            "Requirement already satisfied: pytz>=2017.2 in /usr/local/lib/python3.6/dist-packages (from pandas->dtreeviz) (2018.9)\n",
            "Requirement already satisfied: setuptools in /usr/local/lib/python3.6/dist-packages (from pytest->dtreeviz) (53.0.0)\n",
            "Requirement already satisfied: atomicwrites>=1.0 in /usr/local/lib/python3.6/dist-packages (from pytest->dtreeviz) (1.4.0)\n",
            "Requirement already satisfied: more-itertools>=4.0.0 in /usr/local/lib/python3.6/dist-packages (from pytest->dtreeviz) (8.6.0)\n",
            "Requirement already satisfied: attrs>=17.4.0 in /usr/local/lib/python3.6/dist-packages (from pytest->dtreeviz) (20.3.0)\n",
            "Requirement already satisfied: pluggy<0.8,>=0.5 in /usr/local/lib/python3.6/dist-packages (from pytest->dtreeviz) (0.7.1)\n",
            "Requirement already satisfied: six>=1.10.0 in /usr/local/lib/python3.6/dist-packages (from pytest->dtreeviz) (1.15.0)\n",
            "Requirement already satisfied: py>=1.5.0 in /usr/local/lib/python3.6/dist-packages (from pytest->dtreeviz) (1.10.0)\n",
            "Requirement already satisfied: joblib>=0.11 in /usr/local/lib/python3.6/dist-packages (from scikit-learn->dtreeviz) (1.0.0)\n",
            "Requirement already satisfied: scipy>=0.17.0 in /usr/local/lib/python3.6/dist-packages (from scikit-learn->dtreeviz) (1.4.1)\n",
            "\n",
            "Dimensões: (184140, 16)\n",
            "\n",
            "Campos: Index(['Unnamed: 0', 'Unnamed: 0.1', 'Continente', 'cod continente', 'País',\n",
            "       'cod pais', 'UF', 'cod uf', 'Via', 'cod via', 'ano', 'Mês', 'cod mes',\n",
            "       'Chegadas', 'Cotação média do mês anterior', 'Houve chegadas'],\n",
            "      dtype='object')\n",
            "          Unnamed: 0  ...  Cotação média do mês anterior\n",
            "count  184140.000000  ...                  184140.000000\n",
            "mean    92069.500000  ...                       3.580292\n",
            "std     53156.783622  ...                       0.345073\n",
            "min         0.000000  ...                       3.104194\n",
            "25%     46034.750000  ...                       3.241500\n",
            "50%     92069.500000  ...                       3.565845\n",
            "75%    138104.250000  ...                       3.885055\n",
            "max    184139.000000  ...                       4.155345\n",
            "\n",
            "[8 rows x 10 columns]\n",
            "Acurácia (base de treinamento): 0.9134861156366533\n",
            "Acurácia de previsão: 0.8903660258498968\n",
            "                 precision    recall  f1-score   support\n",
            "\n",
            "    Há chegadas       0.91      0.93      0.92     30679\n",
            "Não há chegadas       0.86      0.80      0.83     15356\n",
            "\n",
            "       accuracy                           0.89     46035\n",
            "      macro avg       0.88      0.87      0.87     46035\n",
            "   weighted avg       0.89      0.89      0.89     46035\n",
            "\n",
            "                 Há chegadas (prev)  Não há chegadas (prev)\n",
            "Há chegadas                   28633                    2046\n",
            "Não há chegadas                3001                   12355\n"
          ],
          "name": "stdout"
        }
      ]
    },
    {
      "cell_type": "code",
      "metadata": {
        "colab": {
          "base_uri": "https://localhost:8080/"
        },
        "id": "fNfPOmRwwLSd",
        "outputId": "e79d8ba5-e638-419b-8d96-17b24614aa9c"
      },
      "source": [
        "!pip install graphviz\r\n",
        "with open(\"chegadas.dot\",'w') as f:\r\n",
        "       f = tree.export_graphviz(df_chegadas_tree, out_file=f)\r\n",
        "\r\n",
        "!dot -Tpdf chegadas.dot -o arvore_chegadas.pdf\r\n"
      ],
      "execution_count": 27,
      "outputs": [
        {
          "output_type": "stream",
          "text": [
            "Requirement already satisfied: graphviz in /usr/local/lib/python3.6/dist-packages (0.10.1)\n"
          ],
          "name": "stdout"
        }
      ]
    },
    {
      "cell_type": "code",
      "metadata": {
        "colab": {
          "base_uri": "https://localhost:8080/"
        },
        "id": "nqErK4DdxigO",
        "outputId": "ad919738-8d5d-49be-b230-998e5bb6fe40"
      },
      "source": [
        "\r\n",
        "!pip install pydotplus\r\n",
        "!pip install dtreeviz\r\n",
        "\r\n",
        "#!pip install -q pydot\r\n",
        "\r\n",
        "import pandas as pd\r\n",
        "import numpy as np\r\n",
        "from sklearn import datasets, tree\r\n",
        "from sklearn.model_selection import train_test_split\r\n",
        "from sklearn.tree import DecisionTreeClassifier\r\n",
        "from sklearn.metrics import accuracy_score, classification_report, confusion_matrix\r\n",
        "from sklearn.feature_extraction import DictVectorizer\r\n",
        "from sklearn.preprocessing import LabelEncoder\r\n",
        "\r\n",
        "#from google.colab import files\r\n",
        "#uploaded = files.upload()\r\n",
        "\r\n",
        "\r\n",
        "\r\n",
        "df_chegadas = pd.read_excel('Chegadas de turistas versus dólar - 2016 a 2019.xlsx', sheet_name=0) \r\n",
        "print(\"\\nDimensões: {0}\".format(df_chegadas.shape))\r\n",
        "print(\"\\nCampos: {0}\".format(df_chegadas.keys()))\r\n",
        "print(df_chegadas.describe(), sep='\\n')\r\n",
        "\r\n",
        "#X = df_chegadas.iloc[:,0:(df_chegadas.shape[1] - 1)]\r\n",
        "X = df_chegadas.loc[:,['cod continente', 'cod pais','cod uf', 'cod via', 'cod mes', 'Cotação média do mês anterior']]\r\n",
        "\r\n",
        "le = LabelEncoder()\r\n",
        "y = le.fit_transform(df_chegadas.iloc[:,(df_chegadas.shape[1] - 1)])\r\n",
        "#y = df_chegadas.loc[:,'Chegadas categorizadas - log 5']\r\n",
        "\r\n",
        "\r\n",
        "# Particiona a base de dados\r\n",
        "# por default 75% para treinamento e 25% para teste\r\n",
        "X_train, X_test, y_train, y_test = train_test_split(X, y, random_state=0, test_size=0.25)\r\n",
        "\r\n",
        "\"\"\"### Indução do Modelo\r\n",
        "\r\n",
        "\r\n",
        "Os três passos para indução de um modelo são:\r\n",
        "\r\n",
        "1.   Instanciar o modelo: ``` DecisionTreeClassifier()```\r\n",
        "2.   Treinar o modelo: ```fit()```\r\n",
        "3.   Testar o modelo: ```predict()```\r\n",
        "\"\"\"\r\n",
        "\r\n",
        "df_chegadas_tree = DecisionTreeClassifier(random_state=0, criterion='entropy', min_samples_split = 40)\r\n",
        "#df_chegadas_tree = DecisionTreeRegressor(random_state=0, criterion='entropy')\r\n",
        "\r\n",
        "\r\n",
        "df_chegadas_tree = df_chegadas_tree.fit(X_train, y_train)\r\n",
        "print(\"Acurácia (base de treinamento):\", df_chegadas_tree.score(X_train, y_train))\r\n",
        "\r\n",
        "y_pred = df_chegadas_tree.predict(X_test)\r\n",
        "print(\"Acurácia de previsão:\", accuracy_score(y_test, y_pred))\r\n",
        "print(classification_report(y_test, y_pred, target_names=[\"Há chegadas\", \"Não há chegadas\"]))\r\n",
        "      \r\n",
        "cnf_matrix = confusion_matrix(y_test, y_pred)\r\n",
        "cnf_table = pd.DataFrame(data=cnf_matrix, index=[\"Há chegadas\", \"Não há chegadas\"], \r\n",
        "                         #\"columns=[\"Mina (prev)\", \"Rocha (prev)\"])\r\n",
        "                         columns=[\"Há chegadas (prev)\", \"Não há chegadas (prev)\"])\r\n",
        "print(cnf_table)"
      ],
      "execution_count": 28,
      "outputs": [
        {
          "output_type": "stream",
          "text": [
            "Requirement already satisfied: pydotplus in /usr/local/lib/python3.6/dist-packages (2.0.2)\n",
            "Requirement already satisfied: pyparsing>=2.0.1 in /usr/local/lib/python3.6/dist-packages (from pydotplus) (2.4.7)\n",
            "Requirement already satisfied: dtreeviz in /usr/local/lib/python3.6/dist-packages (1.1.4)\n",
            "Requirement already satisfied: numpy in /usr/local/lib/python3.6/dist-packages (from dtreeviz) (1.19.5)\n",
            "Requirement already satisfied: pytest in /usr/local/lib/python3.6/dist-packages (from dtreeviz) (3.6.4)\n",
            "Requirement already satisfied: scikit-learn in /usr/local/lib/python3.6/dist-packages (from dtreeviz) (0.22.2.post1)\n",
            "Requirement already satisfied: matplotlib in /usr/local/lib/python3.6/dist-packages (from dtreeviz) (3.2.2)\n",
            "Requirement already satisfied: graphviz>=0.9 in /usr/local/lib/python3.6/dist-packages (from dtreeviz) (0.10.1)\n",
            "Requirement already satisfied: colour in /usr/local/lib/python3.6/dist-packages (from dtreeviz) (0.1.5)\n",
            "Requirement already satisfied: pandas in /usr/local/lib/python3.6/dist-packages (from dtreeviz) (1.1.5)\n",
            "Requirement already satisfied: attrs>=17.4.0 in /usr/local/lib/python3.6/dist-packages (from pytest->dtreeviz) (20.3.0)\n",
            "Requirement already satisfied: atomicwrites>=1.0 in /usr/local/lib/python3.6/dist-packages (from pytest->dtreeviz) (1.4.0)\n",
            "Requirement already satisfied: more-itertools>=4.0.0 in /usr/local/lib/python3.6/dist-packages (from pytest->dtreeviz) (8.6.0)\n",
            "Requirement already satisfied: setuptools in /usr/local/lib/python3.6/dist-packages (from pytest->dtreeviz) (53.0.0)\n",
            "Requirement already satisfied: six>=1.10.0 in /usr/local/lib/python3.6/dist-packages (from pytest->dtreeviz) (1.15.0)\n",
            "Requirement already satisfied: pluggy<0.8,>=0.5 in /usr/local/lib/python3.6/dist-packages (from pytest->dtreeviz) (0.7.1)\n",
            "Requirement already satisfied: py>=1.5.0 in /usr/local/lib/python3.6/dist-packages (from pytest->dtreeviz) (1.10.0)\n",
            "Requirement already satisfied: joblib>=0.11 in /usr/local/lib/python3.6/dist-packages (from scikit-learn->dtreeviz) (1.0.0)\n",
            "Requirement already satisfied: scipy>=0.17.0 in /usr/local/lib/python3.6/dist-packages (from scikit-learn->dtreeviz) (1.4.1)\n",
            "Requirement already satisfied: pyparsing!=2.0.4,!=2.1.2,!=2.1.6,>=2.0.1 in /usr/local/lib/python3.6/dist-packages (from matplotlib->dtreeviz) (2.4.7)\n",
            "Requirement already satisfied: kiwisolver>=1.0.1 in /usr/local/lib/python3.6/dist-packages (from matplotlib->dtreeviz) (1.3.1)\n",
            "Requirement already satisfied: cycler>=0.10 in /usr/local/lib/python3.6/dist-packages (from matplotlib->dtreeviz) (0.10.0)\n",
            "Requirement already satisfied: python-dateutil>=2.1 in /usr/local/lib/python3.6/dist-packages (from matplotlib->dtreeviz) (2.8.1)\n",
            "Requirement already satisfied: pytz>=2017.2 in /usr/local/lib/python3.6/dist-packages (from pandas->dtreeviz) (2018.9)\n",
            "\n",
            "Dimensões: (184140, 16)\n",
            "\n",
            "Campos: Index(['Unnamed: 0', 'Unnamed: 0.1', 'Continente', 'cod continente', 'País',\n",
            "       'cod pais', 'UF', 'cod uf', 'Via', 'cod via', 'ano', 'Mês', 'cod mes',\n",
            "       'Chegadas', 'Cotação média do mês anterior', 'Houve chegadas'],\n",
            "      dtype='object')\n",
            "          Unnamed: 0  ...  Cotação média do mês anterior\n",
            "count  184140.000000  ...                  184140.000000\n",
            "mean    92069.500000  ...                       3.580292\n",
            "std     53156.783622  ...                       0.345073\n",
            "min         0.000000  ...                       3.104194\n",
            "25%     46034.750000  ...                       3.241500\n",
            "50%     92069.500000  ...                       3.565845\n",
            "75%    138104.250000  ...                       3.885055\n",
            "max    184139.000000  ...                       4.155345\n",
            "\n",
            "[8 rows x 10 columns]\n",
            "Acurácia (base de treinamento): 0.9104883965099019\n",
            "Acurácia de previsão: 0.8919517758227435\n",
            "                 precision    recall  f1-score   support\n",
            "\n",
            "    Há chegadas       0.91      0.94      0.92     30679\n",
            "Não há chegadas       0.86      0.80      0.83     15356\n",
            "\n",
            "       accuracy                           0.89     46035\n",
            "      macro avg       0.88      0.87      0.88     46035\n",
            "   weighted avg       0.89      0.89      0.89     46035\n",
            "\n",
            "                 Há chegadas (prev)  Não há chegadas (prev)\n",
            "Há chegadas                   28704                    1975\n",
            "Não há chegadas                2999                   12357\n"
          ],
          "name": "stdout"
        }
      ]
    },
    {
      "cell_type": "code",
      "metadata": {
        "colab": {
          "base_uri": "https://localhost:8080/"
        },
        "id": "UYXpDutHyR_P",
        "outputId": "b02a89c7-8d17-4a20-e7f5-1b24a04c5da7"
      },
      "source": [
        "!pip install graphviz\r\n",
        "with open(\"chegadas.dot\",'w') as f:\r\n",
        "       f = tree.export_graphviz(df_chegadas_tree, out_file=f)\r\n",
        "\r\n",
        "!dot -Tpdf chegadas.dot -o arvore_chegadas.pdf\r\n"
      ],
      "execution_count": 29,
      "outputs": [
        {
          "output_type": "stream",
          "text": [
            "Requirement already satisfied: graphviz in /usr/local/lib/python3.6/dist-packages (0.10.1)\n"
          ],
          "name": "stdout"
        }
      ]
    },
    {
      "cell_type": "code",
      "metadata": {
        "colab": {
          "base_uri": "https://localhost:8080/"
        },
        "id": "VQJb_jfAzAhx",
        "outputId": "82d49f14-a8c2-4555-fa8c-bf07d7386a16"
      },
      "source": [
        "\r\n",
        "!pip install pydotplus\r\n",
        "!pip install dtreeviz\r\n",
        "\r\n",
        "#!pip install -q pydot\r\n",
        "\r\n",
        "import pandas as pd\r\n",
        "import numpy as np\r\n",
        "from sklearn import datasets, tree\r\n",
        "from sklearn.model_selection import train_test_split\r\n",
        "from sklearn.tree import DecisionTreeClassifier\r\n",
        "from sklearn.metrics import accuracy_score, classification_report, confusion_matrix\r\n",
        "from sklearn.feature_extraction import DictVectorizer\r\n",
        "from sklearn.preprocessing import LabelEncoder\r\n",
        "\r\n",
        "#from google.colab import files\r\n",
        "#uploaded = files.upload()\r\n",
        "\r\n",
        "\r\n",
        "\r\n",
        "df_chegadas = pd.read_excel('Chegadas de turistas versus dólar - 2016 a 2019.xlsx', sheet_name=0) \r\n",
        "print(\"\\nDimensões: {0}\".format(df_chegadas.shape))\r\n",
        "print(\"\\nCampos: {0}\".format(df_chegadas.keys()))\r\n",
        "print(df_chegadas.describe(), sep='\\n')\r\n",
        "\r\n",
        "#X = df_chegadas.iloc[:,0:(df_chegadas.shape[1] - 1)]\r\n",
        "X = df_chegadas.loc[:,['cod continente', 'cod pais','cod uf', 'cod via', 'cod mes', 'Cotação média do mês anterior']]\r\n",
        "\r\n",
        "le = LabelEncoder()\r\n",
        "y = le.fit_transform(df_chegadas.iloc[:,(df_chegadas.shape[1] - 1)])\r\n",
        "#y = df_chegadas.loc[:,'Chegadas categorizadas - log 5']\r\n",
        "\r\n",
        "\r\n",
        "# Particiona a base de dados\r\n",
        "# por default 75% para treinamento e 25% para teste\r\n",
        "X_train, X_test, y_train, y_test = train_test_split(X, y, random_state=0, test_size=0.25)\r\n",
        "\r\n",
        "\"\"\"### Indução do Modelo\r\n",
        "\r\n",
        "\r\n",
        "Os três passos para indução de um modelo são:\r\n",
        "\r\n",
        "1.   Instanciar o modelo: ``` DecisionTreeClassifier()```\r\n",
        "2.   Treinar o modelo: ```fit()```\r\n",
        "3.   Testar o modelo: ```predict()```\r\n",
        "\"\"\"\r\n",
        "\r\n",
        "df_chegadas_tree = DecisionTreeClassifier(random_state=0, criterion='entropy', min_samples_split = 45)\r\n",
        "#df_chegadas_tree = DecisionTreeRegressor(random_state=0, criterion='entropy')\r\n",
        "\r\n",
        "\r\n",
        "df_chegadas_tree = df_chegadas_tree.fit(X_train, y_train)\r\n",
        "print(\"Acurácia (base de treinamento):\", df_chegadas_tree.score(X_train, y_train))\r\n",
        "\r\n",
        "y_pred = df_chegadas_tree.predict(X_test)\r\n",
        "print(\"Acurácia de previsão:\", accuracy_score(y_test, y_pred))\r\n",
        "print(classification_report(y_test, y_pred, target_names=[\"Há chegadas\", \"Não há chegadas\"]))\r\n",
        "      \r\n",
        "cnf_matrix = confusion_matrix(y_test, y_pred)\r\n",
        "cnf_table = pd.DataFrame(data=cnf_matrix, index=[\"Há chegadas\", \"Não há chegadas\"], \r\n",
        "                         #\"columns=[\"Mina (prev)\", \"Rocha (prev)\"])\r\n",
        "                         columns=[\"Há chegadas (prev)\", \"Não há chegadas (prev)\"])\r\n",
        "print(cnf_table)\r\n"
      ],
      "execution_count": 30,
      "outputs": [
        {
          "output_type": "stream",
          "text": [
            "Requirement already satisfied: pydotplus in /usr/local/lib/python3.6/dist-packages (2.0.2)\n",
            "Requirement already satisfied: pyparsing>=2.0.1 in /usr/local/lib/python3.6/dist-packages (from pydotplus) (2.4.7)\n",
            "Requirement already satisfied: dtreeviz in /usr/local/lib/python3.6/dist-packages (1.1.4)\n",
            "Requirement already satisfied: pandas in /usr/local/lib/python3.6/dist-packages (from dtreeviz) (1.1.5)\n",
            "Requirement already satisfied: scikit-learn in /usr/local/lib/python3.6/dist-packages (from dtreeviz) (0.22.2.post1)\n",
            "Requirement already satisfied: colour in /usr/local/lib/python3.6/dist-packages (from dtreeviz) (0.1.5)\n",
            "Requirement already satisfied: numpy in /usr/local/lib/python3.6/dist-packages (from dtreeviz) (1.19.5)\n",
            "Requirement already satisfied: graphviz>=0.9 in /usr/local/lib/python3.6/dist-packages (from dtreeviz) (0.10.1)\n",
            "Requirement already satisfied: matplotlib in /usr/local/lib/python3.6/dist-packages (from dtreeviz) (3.2.2)\n",
            "Requirement already satisfied: pytest in /usr/local/lib/python3.6/dist-packages (from dtreeviz) (3.6.4)\n",
            "Requirement already satisfied: python-dateutil>=2.7.3 in /usr/local/lib/python3.6/dist-packages (from pandas->dtreeviz) (2.8.1)\n",
            "Requirement already satisfied: pytz>=2017.2 in /usr/local/lib/python3.6/dist-packages (from pandas->dtreeviz) (2018.9)\n",
            "Requirement already satisfied: scipy>=0.17.0 in /usr/local/lib/python3.6/dist-packages (from scikit-learn->dtreeviz) (1.4.1)\n",
            "Requirement already satisfied: joblib>=0.11 in /usr/local/lib/python3.6/dist-packages (from scikit-learn->dtreeviz) (1.0.0)\n",
            "Requirement already satisfied: kiwisolver>=1.0.1 in /usr/local/lib/python3.6/dist-packages (from matplotlib->dtreeviz) (1.3.1)\n",
            "Requirement already satisfied: cycler>=0.10 in /usr/local/lib/python3.6/dist-packages (from matplotlib->dtreeviz) (0.10.0)\n",
            "Requirement already satisfied: pyparsing!=2.0.4,!=2.1.2,!=2.1.6,>=2.0.1 in /usr/local/lib/python3.6/dist-packages (from matplotlib->dtreeviz) (2.4.7)\n",
            "Requirement already satisfied: more-itertools>=4.0.0 in /usr/local/lib/python3.6/dist-packages (from pytest->dtreeviz) (8.6.0)\n",
            "Requirement already satisfied: py>=1.5.0 in /usr/local/lib/python3.6/dist-packages (from pytest->dtreeviz) (1.10.0)\n",
            "Requirement already satisfied: setuptools in /usr/local/lib/python3.6/dist-packages (from pytest->dtreeviz) (53.0.0)\n",
            "Requirement already satisfied: attrs>=17.4.0 in /usr/local/lib/python3.6/dist-packages (from pytest->dtreeviz) (20.3.0)\n",
            "Requirement already satisfied: pluggy<0.8,>=0.5 in /usr/local/lib/python3.6/dist-packages (from pytest->dtreeviz) (0.7.1)\n",
            "Requirement already satisfied: atomicwrites>=1.0 in /usr/local/lib/python3.6/dist-packages (from pytest->dtreeviz) (1.4.0)\n",
            "Requirement already satisfied: six>=1.10.0 in /usr/local/lib/python3.6/dist-packages (from pytest->dtreeviz) (1.15.0)\n",
            "\n",
            "Dimensões: (184140, 16)\n",
            "\n",
            "Campos: Index(['Unnamed: 0', 'Unnamed: 0.1', 'Continente', 'cod continente', 'País',\n",
            "       'cod pais', 'UF', 'cod uf', 'Via', 'cod via', 'ano', 'Mês', 'cod mes',\n",
            "       'Chegadas', 'Cotação média do mês anterior', 'Houve chegadas'],\n",
            "      dtype='object')\n",
            "          Unnamed: 0  ...  Cotação média do mês anterior\n",
            "count  184140.000000  ...                  184140.000000\n",
            "mean    92069.500000  ...                       3.580292\n",
            "std     53156.783622  ...                       0.345073\n",
            "min         0.000000  ...                       3.104194\n",
            "25%     46034.750000  ...                       3.241500\n",
            "50%     92069.500000  ...                       3.565845\n",
            "75%    138104.250000  ...                       3.885055\n",
            "max    184139.000000  ...                       4.155345\n",
            "\n",
            "[8 rows x 10 columns]\n",
            "Acurácia (base de treinamento): 0.9085695666340827\n",
            "Acurácia de previsão: 0.891908330618008\n",
            "                 precision    recall  f1-score   support\n",
            "\n",
            "    Há chegadas       0.90      0.94      0.92     30679\n",
            "Não há chegadas       0.87      0.80      0.83     15356\n",
            "\n",
            "       accuracy                           0.89     46035\n",
            "      macro avg       0.88      0.87      0.88     46035\n",
            "   weighted avg       0.89      0.89      0.89     46035\n",
            "\n",
            "                 Há chegadas (prev)  Não há chegadas (prev)\n",
            "Há chegadas                   28768                    1911\n",
            "Não há chegadas                3065                   12291\n"
          ],
          "name": "stdout"
        }
      ]
    },
    {
      "cell_type": "code",
      "metadata": {
        "colab": {
          "base_uri": "https://localhost:8080/"
        },
        "id": "k15MzXZ-zyj9",
        "outputId": "38eae919-bbe0-4a27-95ee-44aa9aa7cdf1"
      },
      "source": [
        "!pip install graphviz\r\n",
        "with open(\"chegadas.dot\",'w') as f:\r\n",
        "       f = tree.export_graphviz(df_chegadas_tree, out_file=f)\r\n",
        "\r\n",
        "!dot -Tpdf chegadas.dot -o arvore_chegadas.pdf"
      ],
      "execution_count": 31,
      "outputs": [
        {
          "output_type": "stream",
          "text": [
            "Requirement already satisfied: graphviz in /usr/local/lib/python3.6/dist-packages (0.10.1)\n"
          ],
          "name": "stdout"
        }
      ]
    },
    {
      "cell_type": "code",
      "metadata": {
        "colab": {
          "base_uri": "https://localhost:8080/"
        },
        "id": "KX1Yqysj1Bi7",
        "outputId": "c62e0f42-4c2e-4c81-b1ea-6aa4635c3100"
      },
      "source": [
        "\r\n",
        "!pip install pydotplus\r\n",
        "!pip install dtreeviz\r\n",
        "\r\n",
        "#!pip install -q pydot\r\n",
        "\r\n",
        "import pandas as pd\r\n",
        "import numpy as np\r\n",
        "from sklearn import datasets, tree\r\n",
        "from sklearn.model_selection import train_test_split\r\n",
        "from sklearn.tree import DecisionTreeClassifier\r\n",
        "from sklearn.metrics import accuracy_score, classification_report, confusion_matrix\r\n",
        "from sklearn.feature_extraction import DictVectorizer\r\n",
        "from sklearn.preprocessing import LabelEncoder\r\n",
        "\r\n",
        "#from google.colab import files\r\n",
        "#uploaded = files.upload()\r\n",
        "\r\n",
        "\r\n",
        "\r\n",
        "df_chegadas = pd.read_excel('Chegadas de turistas versus dólar - 2016 a 2019.xlsx', sheet_name=0) \r\n",
        "print(\"\\nDimensões: {0}\".format(df_chegadas.shape))\r\n",
        "print(\"\\nCampos: {0}\".format(df_chegadas.keys()))\r\n",
        "print(df_chegadas.describe(), sep='\\n')\r\n",
        "\r\n",
        "#X = df_chegadas.iloc[:,0:(df_chegadas.shape[1] - 1)]\r\n",
        "X = df_chegadas.loc[:,['cod continente', 'cod pais','cod uf', 'cod via', 'cod mes', 'Cotação média do mês anterior']]\r\n",
        "\r\n",
        "le = LabelEncoder()\r\n",
        "y = le.fit_transform(df_chegadas.iloc[:,(df_chegadas.shape[1] - 1)])\r\n",
        "#y = df_chegadas.loc[:,'Chegadas categorizadas - log 5']\r\n",
        "\r\n",
        "\r\n",
        "# Particiona a base de dados\r\n",
        "# por default 75% para treinamento e 25% para teste\r\n",
        "X_train, X_test, y_train, y_test = train_test_split(X, y, random_state=0, test_size=0.25)\r\n",
        "\r\n",
        "\"\"\"### Indução do Modelo\r\n",
        "\r\n",
        "\r\n",
        "Os três passos para indução de um modelo são:\r\n",
        "\r\n",
        "1.   Instanciar o modelo: ``` DecisionTreeClassifier()```\r\n",
        "2.   Treinar o modelo: ```fit()```\r\n",
        "3.   Testar o modelo: ```predict()```\r\n",
        "\"\"\"\r\n",
        "\r\n",
        "df_chegadas_tree = DecisionTreeClassifier(random_state=0, criterion='entropy', min_samples_split = 50)\r\n",
        "#df_chegadas_tree = DecisionTreeRegressor(random_state=0, criterion='entropy')\r\n",
        "\r\n",
        "\r\n",
        "df_chegadas_tree = df_chegadas_tree.fit(X_train, y_train)\r\n",
        "print(\"Acurácia (base de treinamento):\", df_chegadas_tree.score(X_train, y_train))\r\n",
        "\r\n",
        "y_pred = df_chegadas_tree.predict(X_test)\r\n",
        "print(\"Acurácia de previsão:\", accuracy_score(y_test, y_pred))\r\n",
        "print(classification_report(y_test, y_pred, target_names=[\"Há chegadas\", \"Não há chegadas\"]))\r\n",
        "      \r\n",
        "cnf_matrix = confusion_matrix(y_test, y_pred)\r\n",
        "cnf_table = pd.DataFrame(data=cnf_matrix, index=[\"Há chegadas\", \"Não há chegadas\"], \r\n",
        "                         #\"columns=[\"Mina (prev)\", \"Rocha (prev)\"])\r\n",
        "                         columns=[\"Há chegadas (prev)\", \"Não há chegadas (prev)\"])\r\n",
        "print(cnf_table)\r\n"
      ],
      "execution_count": 32,
      "outputs": [
        {
          "output_type": "stream",
          "text": [
            "Requirement already satisfied: pydotplus in /usr/local/lib/python3.6/dist-packages (2.0.2)\n",
            "Requirement already satisfied: pyparsing>=2.0.1 in /usr/local/lib/python3.6/dist-packages (from pydotplus) (2.4.7)\n",
            "Requirement already satisfied: dtreeviz in /usr/local/lib/python3.6/dist-packages (1.1.4)\n",
            "Requirement already satisfied: matplotlib in /usr/local/lib/python3.6/dist-packages (from dtreeviz) (3.2.2)\n",
            "Requirement already satisfied: scikit-learn in /usr/local/lib/python3.6/dist-packages (from dtreeviz) (0.22.2.post1)\n",
            "Requirement already satisfied: pandas in /usr/local/lib/python3.6/dist-packages (from dtreeviz) (1.1.5)\n",
            "Requirement already satisfied: graphviz>=0.9 in /usr/local/lib/python3.6/dist-packages (from dtreeviz) (0.10.1)\n",
            "Requirement already satisfied: colour in /usr/local/lib/python3.6/dist-packages (from dtreeviz) (0.1.5)\n",
            "Requirement already satisfied: numpy in /usr/local/lib/python3.6/dist-packages (from dtreeviz) (1.19.5)\n",
            "Requirement already satisfied: pytest in /usr/local/lib/python3.6/dist-packages (from dtreeviz) (3.6.4)\n",
            "Requirement already satisfied: cycler>=0.10 in /usr/local/lib/python3.6/dist-packages (from matplotlib->dtreeviz) (0.10.0)\n",
            "Requirement already satisfied: kiwisolver>=1.0.1 in /usr/local/lib/python3.6/dist-packages (from matplotlib->dtreeviz) (1.3.1)\n",
            "Requirement already satisfied: python-dateutil>=2.1 in /usr/local/lib/python3.6/dist-packages (from matplotlib->dtreeviz) (2.8.1)\n",
            "Requirement already satisfied: pyparsing!=2.0.4,!=2.1.2,!=2.1.6,>=2.0.1 in /usr/local/lib/python3.6/dist-packages (from matplotlib->dtreeviz) (2.4.7)\n",
            "Requirement already satisfied: joblib>=0.11 in /usr/local/lib/python3.6/dist-packages (from scikit-learn->dtreeviz) (1.0.0)\n",
            "Requirement already satisfied: scipy>=0.17.0 in /usr/local/lib/python3.6/dist-packages (from scikit-learn->dtreeviz) (1.4.1)\n",
            "Requirement already satisfied: pytz>=2017.2 in /usr/local/lib/python3.6/dist-packages (from pandas->dtreeviz) (2018.9)\n",
            "Requirement already satisfied: atomicwrites>=1.0 in /usr/local/lib/python3.6/dist-packages (from pytest->dtreeviz) (1.4.0)\n",
            "Requirement already satisfied: more-itertools>=4.0.0 in /usr/local/lib/python3.6/dist-packages (from pytest->dtreeviz) (8.6.0)\n",
            "Requirement already satisfied: attrs>=17.4.0 in /usr/local/lib/python3.6/dist-packages (from pytest->dtreeviz) (20.3.0)\n",
            "Requirement already satisfied: setuptools in /usr/local/lib/python3.6/dist-packages (from pytest->dtreeviz) (53.0.0)\n",
            "Requirement already satisfied: six>=1.10.0 in /usr/local/lib/python3.6/dist-packages (from pytest->dtreeviz) (1.15.0)\n",
            "Requirement already satisfied: py>=1.5.0 in /usr/local/lib/python3.6/dist-packages (from pytest->dtreeviz) (1.10.0)\n",
            "Requirement already satisfied: pluggy<0.8,>=0.5 in /usr/local/lib/python3.6/dist-packages (from pytest->dtreeviz) (0.7.1)\n",
            "\n",
            "Dimensões: (184140, 16)\n",
            "\n",
            "Campos: Index(['Unnamed: 0', 'Unnamed: 0.1', 'Continente', 'cod continente', 'País',\n",
            "       'cod pais', 'UF', 'cod uf', 'Via', 'cod via', 'ano', 'Mês', 'cod mes',\n",
            "       'Chegadas', 'Cotação média do mês anterior', 'Houve chegadas'],\n",
            "      dtype='object')\n",
            "          Unnamed: 0  ...  Cotação média do mês anterior\n",
            "count  184140.000000  ...                  184140.000000\n",
            "mean    92069.500000  ...                       3.580292\n",
            "std     53156.783622  ...                       0.345073\n",
            "min         0.000000  ...                       3.104194\n",
            "25%     46034.750000  ...                       3.241500\n",
            "50%     92069.500000  ...                       3.565845\n",
            "75%    138104.250000  ...                       3.885055\n",
            "max    184139.000000  ...                       4.155345\n",
            "\n",
            "[8 rows x 10 columns]\n",
            "Acurácia (base de treinamento): 0.9065204011440571\n",
            "Acurácia de previsão: 0.8912566525469752\n",
            "                 precision    recall  f1-score   support\n",
            "\n",
            "    Há chegadas       0.90      0.94      0.92     30679\n",
            "Não há chegadas       0.87      0.80      0.83     15356\n",
            "\n",
            "       accuracy                           0.89     46035\n",
            "      macro avg       0.88      0.87      0.88     46035\n",
            "   weighted avg       0.89      0.89      0.89     46035\n",
            "\n",
            "                 Há chegadas (prev)  Não há chegadas (prev)\n",
            "Há chegadas                   28804                    1875\n",
            "Não há chegadas                3131                   12225\n"
          ],
          "name": "stdout"
        }
      ]
    },
    {
      "cell_type": "code",
      "metadata": {
        "colab": {
          "base_uri": "https://localhost:8080/"
        },
        "id": "loyHxMZa1ucp",
        "outputId": "7fb288e8-3884-40dd-f85f-1de5690f0453"
      },
      "source": [
        "!pip install graphviz\r\n",
        "with open(\"chegadas.dot\",'w') as f:\r\n",
        "       f = tree.export_graphviz(df_chegadas_tree, out_file=f)\r\n",
        "\r\n",
        "!dot -Tpdf chegadas.dot -o arvore_chegadas.pdf"
      ],
      "execution_count": 33,
      "outputs": [
        {
          "output_type": "stream",
          "text": [
            "Requirement already satisfied: graphviz in /usr/local/lib/python3.6/dist-packages (0.10.1)\n"
          ],
          "name": "stdout"
        }
      ]
    },
    {
      "cell_type": "code",
      "metadata": {
        "colab": {
          "base_uri": "https://localhost:8080/"
        },
        "id": "tqUJnYK_202k",
        "outputId": "79a1aa1e-52d5-48ee-8331-01431c59b8ea"
      },
      "source": [
        "\r\n",
        "!pip install pydotplus\r\n",
        "!pip install dtreeviz\r\n",
        "\r\n",
        "#!pip install -q pydot\r\n",
        "\r\n",
        "import pandas as pd\r\n",
        "import numpy as np\r\n",
        "from sklearn import datasets, tree\r\n",
        "from sklearn.model_selection import train_test_split\r\n",
        "from sklearn.tree import DecisionTreeClassifier\r\n",
        "from sklearn.metrics import accuracy_score, classification_report, confusion_matrix\r\n",
        "from sklearn.feature_extraction import DictVectorizer\r\n",
        "from sklearn.preprocessing import LabelEncoder\r\n",
        "\r\n",
        "#from google.colab import files\r\n",
        "#uploaded = files.upload()\r\n",
        "\r\n",
        "\r\n",
        "\r\n",
        "df_chegadas = pd.read_excel('Chegadas de turistas versus dólar - 2016 a 2019.xlsx', sheet_name=0) \r\n",
        "print(\"\\nDimensões: {0}\".format(df_chegadas.shape))\r\n",
        "print(\"\\nCampos: {0}\".format(df_chegadas.keys()))\r\n",
        "print(df_chegadas.describe(), sep='\\n')\r\n",
        "\r\n",
        "#X = df_chegadas.iloc[:,0:(df_chegadas.shape[1] - 1)]\r\n",
        "X = df_chegadas.loc[:,['cod continente', 'cod pais','cod uf', 'cod via', 'cod mes', 'Cotação média do mês anterior']]\r\n",
        "\r\n",
        "le = LabelEncoder()\r\n",
        "y = le.fit_transform(df_chegadas.iloc[:,(df_chegadas.shape[1] - 1)])\r\n",
        "#y = df_chegadas.loc[:,'Chegadas categorizadas - log 5']\r\n",
        "\r\n",
        "\r\n",
        "# Particiona a base de dados\r\n",
        "# por default 75% para treinamento e 25% para teste\r\n",
        "X_train, X_test, y_train, y_test = train_test_split(X, y, random_state=0, test_size=0.25)\r\n",
        "\r\n",
        "\"\"\"### Indução do Modelo\r\n",
        "\r\n",
        "\r\n",
        "Os três passos para indução de um modelo são:\r\n",
        "\r\n",
        "1.   Instanciar o modelo: ``` DecisionTreeClassifier()```\r\n",
        "2.   Treinar o modelo: ```fit()```\r\n",
        "3.   Testar o modelo: ```predict()```\r\n",
        "\"\"\"\r\n",
        "\r\n",
        "df_chegadas_tree = DecisionTreeClassifier(random_state=0, criterion='entropy', min_samples_split = 55)\r\n",
        "#df_chegadas_tree = DecisionTreeRegressor(random_state=0, criterion='entropy')\r\n",
        "\r\n",
        "\r\n",
        "df_chegadas_tree = df_chegadas_tree.fit(X_train, y_train)\r\n",
        "print(\"Acurácia (base de treinamento):\", df_chegadas_tree.score(X_train, y_train))\r\n",
        "\r\n",
        "y_pred = df_chegadas_tree.predict(X_test)\r\n",
        "print(\"Acurácia de previsão:\", accuracy_score(y_test, y_pred))\r\n",
        "print(classification_report(y_test, y_pred, target_names=[\"Há chegadas\", \"Não há chegadas\"]))\r\n",
        "      \r\n",
        "cnf_matrix = confusion_matrix(y_test, y_pred)\r\n",
        "cnf_table = pd.DataFrame(data=cnf_matrix, index=[\"Há chegadas\", \"Não há chegadas\"], \r\n",
        "                         #\"columns=[\"Mina (prev)\", \"Rocha (prev)\"])\r\n",
        "                         columns=[\"Há chegadas (prev)\", \"Não há chegadas (prev)\"])\r\n",
        "print(cnf_table)\r\n"
      ],
      "execution_count": 34,
      "outputs": [
        {
          "output_type": "stream",
          "text": [
            "Requirement already satisfied: pydotplus in /usr/local/lib/python3.6/dist-packages (2.0.2)\n",
            "Requirement already satisfied: pyparsing>=2.0.1 in /usr/local/lib/python3.6/dist-packages (from pydotplus) (2.4.7)\n",
            "Requirement already satisfied: dtreeviz in /usr/local/lib/python3.6/dist-packages (1.1.4)\n",
            "Requirement already satisfied: matplotlib in /usr/local/lib/python3.6/dist-packages (from dtreeviz) (3.2.2)\n",
            "Requirement already satisfied: colour in /usr/local/lib/python3.6/dist-packages (from dtreeviz) (0.1.5)\n",
            "Requirement already satisfied: pandas in /usr/local/lib/python3.6/dist-packages (from dtreeviz) (1.1.5)\n",
            "Requirement already satisfied: graphviz>=0.9 in /usr/local/lib/python3.6/dist-packages (from dtreeviz) (0.10.1)\n",
            "Requirement already satisfied: numpy in /usr/local/lib/python3.6/dist-packages (from dtreeviz) (1.19.5)\n",
            "Requirement already satisfied: scikit-learn in /usr/local/lib/python3.6/dist-packages (from dtreeviz) (0.22.2.post1)\n",
            "Requirement already satisfied: pytest in /usr/local/lib/python3.6/dist-packages (from dtreeviz) (3.6.4)\n",
            "Requirement already satisfied: cycler>=0.10 in /usr/local/lib/python3.6/dist-packages (from matplotlib->dtreeviz) (0.10.0)\n",
            "Requirement already satisfied: python-dateutil>=2.1 in /usr/local/lib/python3.6/dist-packages (from matplotlib->dtreeviz) (2.8.1)\n",
            "Requirement already satisfied: kiwisolver>=1.0.1 in /usr/local/lib/python3.6/dist-packages (from matplotlib->dtreeviz) (1.3.1)\n",
            "Requirement already satisfied: pyparsing!=2.0.4,!=2.1.2,!=2.1.6,>=2.0.1 in /usr/local/lib/python3.6/dist-packages (from matplotlib->dtreeviz) (2.4.7)\n",
            "Requirement already satisfied: pytz>=2017.2 in /usr/local/lib/python3.6/dist-packages (from pandas->dtreeviz) (2018.9)\n",
            "Requirement already satisfied: joblib>=0.11 in /usr/local/lib/python3.6/dist-packages (from scikit-learn->dtreeviz) (1.0.0)\n",
            "Requirement already satisfied: scipy>=0.17.0 in /usr/local/lib/python3.6/dist-packages (from scikit-learn->dtreeviz) (1.4.1)\n",
            "Requirement already satisfied: more-itertools>=4.0.0 in /usr/local/lib/python3.6/dist-packages (from pytest->dtreeviz) (8.6.0)\n",
            "Requirement already satisfied: py>=1.5.0 in /usr/local/lib/python3.6/dist-packages (from pytest->dtreeviz) (1.10.0)\n",
            "Requirement already satisfied: setuptools in /usr/local/lib/python3.6/dist-packages (from pytest->dtreeviz) (53.0.0)\n",
            "Requirement already satisfied: pluggy<0.8,>=0.5 in /usr/local/lib/python3.6/dist-packages (from pytest->dtreeviz) (0.7.1)\n",
            "Requirement already satisfied: attrs>=17.4.0 in /usr/local/lib/python3.6/dist-packages (from pytest->dtreeviz) (20.3.0)\n",
            "Requirement already satisfied: six>=1.10.0 in /usr/local/lib/python3.6/dist-packages (from pytest->dtreeviz) (1.15.0)\n",
            "Requirement already satisfied: atomicwrites>=1.0 in /usr/local/lib/python3.6/dist-packages (from pytest->dtreeviz) (1.4.0)\n",
            "\n",
            "Dimensões: (184140, 16)\n",
            "\n",
            "Campos: Index(['Unnamed: 0', 'Unnamed: 0.1', 'Continente', 'cod continente', 'País',\n",
            "       'cod pais', 'UF', 'cod uf', 'Via', 'cod via', 'ano', 'Mês', 'cod mes',\n",
            "       'Chegadas', 'Cotação média do mês anterior', 'Houve chegadas'],\n",
            "      dtype='object')\n",
            "          Unnamed: 0  ...  Cotação média do mês anterior\n",
            "count  184140.000000  ...                  184140.000000\n",
            "mean    92069.500000  ...                       3.580292\n",
            "std     53156.783622  ...                       0.345073\n",
            "min         0.000000  ...                       3.104194\n",
            "25%     46034.750000  ...                       3.241500\n",
            "50%     92069.500000  ...                       3.565845\n",
            "75%    138104.250000  ...                       3.885055\n",
            "max    184139.000000  ...                       4.155345\n",
            "\n",
            "[8 rows x 10 columns]\n",
            "Acurácia (base de treinamento): 0.9046522573404294\n",
            "Acurácia de previsão: 0.8914304333659172\n",
            "                 precision    recall  f1-score   support\n",
            "\n",
            "    Há chegadas       0.90      0.94      0.92     30679\n",
            "Não há chegadas       0.87      0.79      0.83     15356\n",
            "\n",
            "       accuracy                           0.89     46035\n",
            "      macro avg       0.89      0.87      0.88     46035\n",
            "   weighted avg       0.89      0.89      0.89     46035\n",
            "\n",
            "                 Há chegadas (prev)  Não há chegadas (prev)\n",
            "Há chegadas                   28839                    1840\n",
            "Não há chegadas                3158                   12198\n"
          ],
          "name": "stdout"
        }
      ]
    },
    {
      "cell_type": "code",
      "metadata": {
        "colab": {
          "base_uri": "https://localhost:8080/"
        },
        "id": "EsuVLXzn3at6",
        "outputId": "5d568300-b58e-48a8-ca01-6dd5b834e9cc"
      },
      "source": [
        "!pip install graphviz\r\n",
        "with open(\"chegadas.dot\",'w') as f:\r\n",
        "       f = tree.export_graphviz(df_chegadas_tree, out_file=f)\r\n",
        "\r\n",
        "!dot -Tpdf chegadas.dot -o arvore_chegadas.pdf"
      ],
      "execution_count": 35,
      "outputs": [
        {
          "output_type": "stream",
          "text": [
            "Requirement already satisfied: graphviz in /usr/local/lib/python3.6/dist-packages (0.10.1)\n"
          ],
          "name": "stdout"
        }
      ]
    },
    {
      "cell_type": "code",
      "metadata": {
        "colab": {
          "base_uri": "https://localhost:8080/"
        },
        "id": "Z5lvaX-a4Bv9",
        "outputId": "676414da-c588-401b-9992-24bdb809c8e1"
      },
      "source": [
        "\r\n",
        "!pip install pydotplus\r\n",
        "!pip install dtreeviz\r\n",
        "\r\n",
        "#!pip install -q pydot\r\n",
        "\r\n",
        "import pandas as pd\r\n",
        "import numpy as np\r\n",
        "from sklearn import datasets, tree\r\n",
        "from sklearn.model_selection import train_test_split\r\n",
        "from sklearn.tree import DecisionTreeClassifier\r\n",
        "from sklearn.metrics import accuracy_score, classification_report, confusion_matrix\r\n",
        "from sklearn.feature_extraction import DictVectorizer\r\n",
        "from sklearn.preprocessing import LabelEncoder\r\n",
        "\r\n",
        "#from google.colab import files\r\n",
        "#uploaded = files.upload()\r\n",
        "\r\n",
        "\r\n",
        "\r\n",
        "df_chegadas = pd.read_excel('Chegadas de turistas versus dólar - 2016 a 2019.xlsx', sheet_name=0) \r\n",
        "print(\"\\nDimensões: {0}\".format(df_chegadas.shape))\r\n",
        "print(\"\\nCampos: {0}\".format(df_chegadas.keys()))\r\n",
        "print(df_chegadas.describe(), sep='\\n')\r\n",
        "\r\n",
        "#X = df_chegadas.iloc[:,0:(df_chegadas.shape[1] - 1)]\r\n",
        "X = df_chegadas.loc[:,['cod continente', 'cod pais','cod uf', 'cod via', 'cod mes', 'Cotação média do mês anterior']]\r\n",
        "\r\n",
        "le = LabelEncoder()\r\n",
        "y = le.fit_transform(df_chegadas.iloc[:,(df_chegadas.shape[1] - 1)])\r\n",
        "#y = df_chegadas.loc[:,'Chegadas categorizadas - log 5']\r\n",
        "\r\n",
        "\r\n",
        "# Particiona a base de dados\r\n",
        "# por default 75% para treinamento e 25% para teste\r\n",
        "X_train, X_test, y_train, y_test = train_test_split(X, y, random_state=0, test_size=0.25)\r\n",
        "\r\n",
        "\"\"\"### Indução do Modelo\r\n",
        "\r\n",
        "\r\n",
        "Os três passos para indução de um modelo são:\r\n",
        "\r\n",
        "1.   Instanciar o modelo: ``` DecisionTreeClassifier()```\r\n",
        "2.   Treinar o modelo: ```fit()```\r\n",
        "3.   Testar o modelo: ```predict()```\r\n",
        "\"\"\"\r\n",
        "\r\n",
        "df_chegadas_tree = DecisionTreeClassifier(random_state=0, criterion='entropy', min_samples_split = 60)\r\n",
        "#df_chegadas_tree = DecisionTreeRegressor(random_state=0, criterion='entropy')\r\n",
        "\r\n",
        "\r\n",
        "df_chegadas_tree = df_chegadas_tree.fit(X_train, y_train)\r\n",
        "print(\"Acurácia (base de treinamento):\", df_chegadas_tree.score(X_train, y_train))\r\n",
        "\r\n",
        "y_pred = df_chegadas_tree.predict(X_test)\r\n",
        "print(\"Acurácia de previsão:\", accuracy_score(y_test, y_pred))\r\n",
        "print(classification_report(y_test, y_pred, target_names=[\"Há chegadas\", \"Não há chegadas\"]))\r\n",
        "      \r\n",
        "cnf_matrix = confusion_matrix(y_test, y_pred)\r\n",
        "cnf_table = pd.DataFrame(data=cnf_matrix, index=[\"Há chegadas\", \"Não há chegadas\"], \r\n",
        "                         #\"columns=[\"Mina (prev)\", \"Rocha (prev)\"])\r\n",
        "                         columns=[\"Há chegadas (prev)\", \"Não há chegadas (prev)\"])\r\n",
        "print(cnf_table)"
      ],
      "execution_count": 36,
      "outputs": [
        {
          "output_type": "stream",
          "text": [
            "Requirement already satisfied: pydotplus in /usr/local/lib/python3.6/dist-packages (2.0.2)\n",
            "Requirement already satisfied: pyparsing>=2.0.1 in /usr/local/lib/python3.6/dist-packages (from pydotplus) (2.4.7)\n",
            "Requirement already satisfied: dtreeviz in /usr/local/lib/python3.6/dist-packages (1.1.4)\n",
            "Requirement already satisfied: graphviz>=0.9 in /usr/local/lib/python3.6/dist-packages (from dtreeviz) (0.10.1)\n",
            "Requirement already satisfied: matplotlib in /usr/local/lib/python3.6/dist-packages (from dtreeviz) (3.2.2)\n",
            "Requirement already satisfied: scikit-learn in /usr/local/lib/python3.6/dist-packages (from dtreeviz) (0.22.2.post1)\n",
            "Requirement already satisfied: pytest in /usr/local/lib/python3.6/dist-packages (from dtreeviz) (3.6.4)\n",
            "Requirement already satisfied: pandas in /usr/local/lib/python3.6/dist-packages (from dtreeviz) (1.1.5)\n",
            "Requirement already satisfied: numpy in /usr/local/lib/python3.6/dist-packages (from dtreeviz) (1.19.5)\n",
            "Requirement already satisfied: colour in /usr/local/lib/python3.6/dist-packages (from dtreeviz) (0.1.5)\n",
            "Requirement already satisfied: pyparsing!=2.0.4,!=2.1.2,!=2.1.6,>=2.0.1 in /usr/local/lib/python3.6/dist-packages (from matplotlib->dtreeviz) (2.4.7)\n",
            "Requirement already satisfied: cycler>=0.10 in /usr/local/lib/python3.6/dist-packages (from matplotlib->dtreeviz) (0.10.0)\n",
            "Requirement already satisfied: python-dateutil>=2.1 in /usr/local/lib/python3.6/dist-packages (from matplotlib->dtreeviz) (2.8.1)\n",
            "Requirement already satisfied: kiwisolver>=1.0.1 in /usr/local/lib/python3.6/dist-packages (from matplotlib->dtreeviz) (1.3.1)\n",
            "Requirement already satisfied: joblib>=0.11 in /usr/local/lib/python3.6/dist-packages (from scikit-learn->dtreeviz) (1.0.0)\n",
            "Requirement already satisfied: scipy>=0.17.0 in /usr/local/lib/python3.6/dist-packages (from scikit-learn->dtreeviz) (1.4.1)\n",
            "Requirement already satisfied: more-itertools>=4.0.0 in /usr/local/lib/python3.6/dist-packages (from pytest->dtreeviz) (8.6.0)\n",
            "Requirement already satisfied: setuptools in /usr/local/lib/python3.6/dist-packages (from pytest->dtreeviz) (53.0.0)\n",
            "Requirement already satisfied: six>=1.10.0 in /usr/local/lib/python3.6/dist-packages (from pytest->dtreeviz) (1.15.0)\n",
            "Requirement already satisfied: pluggy<0.8,>=0.5 in /usr/local/lib/python3.6/dist-packages (from pytest->dtreeviz) (0.7.1)\n",
            "Requirement already satisfied: py>=1.5.0 in /usr/local/lib/python3.6/dist-packages (from pytest->dtreeviz) (1.10.0)\n",
            "Requirement already satisfied: attrs>=17.4.0 in /usr/local/lib/python3.6/dist-packages (from pytest->dtreeviz) (20.3.0)\n",
            "Requirement already satisfied: atomicwrites>=1.0 in /usr/local/lib/python3.6/dist-packages (from pytest->dtreeviz) (1.4.0)\n",
            "Requirement already satisfied: pytz>=2017.2 in /usr/local/lib/python3.6/dist-packages (from pandas->dtreeviz) (2018.9)\n",
            "\n",
            "Dimensões: (184140, 16)\n",
            "\n",
            "Campos: Index(['Unnamed: 0', 'Unnamed: 0.1', 'Continente', 'cod continente', 'País',\n",
            "       'cod pais', 'UF', 'cod uf', 'Via', 'cod via', 'ano', 'Mês', 'cod mes',\n",
            "       'Chegadas', 'Cotação média do mês anterior', 'Houve chegadas'],\n",
            "      dtype='object')\n",
            "          Unnamed: 0  ...  Cotação média do mês anterior\n",
            "count  184140.000000  ...                  184140.000000\n",
            "mean    92069.500000  ...                       3.580292\n",
            "std     53156.783622  ...                       0.345073\n",
            "min         0.000000  ...                       3.104194\n",
            "25%     46034.750000  ...                       3.241500\n",
            "50%     92069.500000  ...                       3.565845\n",
            "75%    138104.250000  ...                       3.885055\n",
            "max    184139.000000  ...                       4.155345\n",
            "\n",
            "[8 rows x 10 columns]\n",
            "Acurácia (base de treinamento): 0.9035371637522175\n",
            "Acurácia de previsão: 0.8918648854132725\n",
            "                 precision    recall  f1-score   support\n",
            "\n",
            "    Há chegadas       0.90      0.94      0.92     30679\n",
            "Não há chegadas       0.87      0.79      0.83     15356\n",
            "\n",
            "       accuracy                           0.89     46035\n",
            "      macro avg       0.89      0.87      0.88     46035\n",
            "   weighted avg       0.89      0.89      0.89     46035\n",
            "\n",
            "                 Há chegadas (prev)  Não há chegadas (prev)\n",
            "Há chegadas                   28881                    1798\n",
            "Não há chegadas                3180                   12176\n"
          ],
          "name": "stdout"
        }
      ]
    },
    {
      "cell_type": "code",
      "metadata": {
        "colab": {
          "base_uri": "https://localhost:8080/"
        },
        "id": "53-og2WT4rhF",
        "outputId": "26e256f3-b8d9-4176-897d-7c48b252aa9e"
      },
      "source": [
        "!pip install graphviz\r\n",
        "with open(\"chegadas.dot\",'w') as f:\r\n",
        "       f = tree.export_graphviz(df_chegadas_tree, out_file=f)\r\n",
        "\r\n",
        "!dot -Tpdf chegadas.dot -o arvore_chegadas.pdf\r\n"
      ],
      "execution_count": 37,
      "outputs": [
        {
          "output_type": "stream",
          "text": [
            "Requirement already satisfied: graphviz in /usr/local/lib/python3.6/dist-packages (0.10.1)\n"
          ],
          "name": "stdout"
        }
      ]
    },
    {
      "cell_type": "code",
      "metadata": {
        "colab": {
          "base_uri": "https://localhost:8080/"
        },
        "id": "yNet3DQ95SOm",
        "outputId": "edab3b07-7f0c-4070-80cf-a6d30a820026"
      },
      "source": [
        "\r\n",
        "!pip install pydotplus\r\n",
        "!pip install dtreeviz\r\n",
        "\r\n",
        "#!pip install -q pydot\r\n",
        "\r\n",
        "import pandas as pd\r\n",
        "import numpy as np\r\n",
        "from sklearn import datasets, tree\r\n",
        "from sklearn.model_selection import train_test_split\r\n",
        "from sklearn.tree import DecisionTreeClassifier\r\n",
        "from sklearn.metrics import accuracy_score, classification_report, confusion_matrix\r\n",
        "from sklearn.feature_extraction import DictVectorizer\r\n",
        "from sklearn.preprocessing import LabelEncoder\r\n",
        "\r\n",
        "#from google.colab import files\r\n",
        "#uploaded = files.upload()\r\n",
        "\r\n",
        "\r\n",
        "\r\n",
        "df_chegadas = pd.read_excel('Chegadas de turistas versus dólar - 2016 a 2019.xlsx', sheet_name=0) \r\n",
        "print(\"\\nDimensões: {0}\".format(df_chegadas.shape))\r\n",
        "print(\"\\nCampos: {0}\".format(df_chegadas.keys()))\r\n",
        "print(df_chegadas.describe(), sep='\\n')\r\n",
        "\r\n",
        "#X = df_chegadas.iloc[:,0:(df_chegadas.shape[1] - 1)]\r\n",
        "X = df_chegadas.loc[:,['cod continente', 'cod pais','cod uf', 'cod via', 'cod mes', 'Cotação média do mês anterior']]\r\n",
        "\r\n",
        "le = LabelEncoder()\r\n",
        "y = le.fit_transform(df_chegadas.iloc[:,(df_chegadas.shape[1] - 1)])\r\n",
        "#y = df_chegadas.loc[:,'Chegadas categorizadas - log 5']\r\n",
        "\r\n",
        "\r\n",
        "# Particiona a base de dados\r\n",
        "# por default 75% para treinamento e 25% para teste\r\n",
        "X_train, X_test, y_train, y_test = train_test_split(X, y, random_state=0, test_size=0.25)\r\n",
        "\r\n",
        "\"\"\"### Indução do Modelo\r\n",
        "\r\n",
        "\r\n",
        "Os três passos para indução de um modelo são:\r\n",
        "\r\n",
        "1.   Instanciar o modelo: ``` DecisionTreeClassifier()```\r\n",
        "2.   Treinar o modelo: ```fit()```\r\n",
        "3.   Testar o modelo: ```predict()```\r\n",
        "\"\"\"\r\n",
        "\r\n",
        "df_chegadas_tree = DecisionTreeClassifier(random_state=0, criterion='entropy', min_samples_split = 65)\r\n",
        "#df_chegadas_tree = DecisionTreeRegressor(random_state=0, criterion='entropy')\r\n",
        "\r\n",
        "\r\n",
        "df_chegadas_tree = df_chegadas_tree.fit(X_train, y_train)\r\n",
        "print(\"Acurácia (base de treinamento):\", df_chegadas_tree.score(X_train, y_train))\r\n",
        "\r\n",
        "y_pred = df_chegadas_tree.predict(X_test)\r\n",
        "print(\"Acurácia de previsão:\", accuracy_score(y_test, y_pred))\r\n",
        "print(classification_report(y_test, y_pred, target_names=[\"Há chegadas\", \"Não há chegadas\"]))\r\n",
        "      \r\n",
        "cnf_matrix = confusion_matrix(y_test, y_pred)\r\n",
        "cnf_table = pd.DataFrame(data=cnf_matrix, index=[\"Há chegadas\", \"Não há chegadas\"], \r\n",
        "                         #\"columns=[\"Mina (prev)\", \"Rocha (prev)\"])\r\n",
        "                         columns=[\"Há chegadas (prev)\", \"Não há chegadas (prev)\"])\r\n",
        "print(cnf_table)\r\n"
      ],
      "execution_count": 38,
      "outputs": [
        {
          "output_type": "stream",
          "text": [
            "Requirement already satisfied: pydotplus in /usr/local/lib/python3.6/dist-packages (2.0.2)\n",
            "Requirement already satisfied: pyparsing>=2.0.1 in /usr/local/lib/python3.6/dist-packages (from pydotplus) (2.4.7)\n",
            "Requirement already satisfied: dtreeviz in /usr/local/lib/python3.6/dist-packages (1.1.4)\n",
            "Requirement already satisfied: colour in /usr/local/lib/python3.6/dist-packages (from dtreeviz) (0.1.5)\n",
            "Requirement already satisfied: matplotlib in /usr/local/lib/python3.6/dist-packages (from dtreeviz) (3.2.2)\n",
            "Requirement already satisfied: pytest in /usr/local/lib/python3.6/dist-packages (from dtreeviz) (3.6.4)\n",
            "Requirement already satisfied: pandas in /usr/local/lib/python3.6/dist-packages (from dtreeviz) (1.1.5)\n",
            "Requirement already satisfied: numpy in /usr/local/lib/python3.6/dist-packages (from dtreeviz) (1.19.5)\n",
            "Requirement already satisfied: scikit-learn in /usr/local/lib/python3.6/dist-packages (from dtreeviz) (0.22.2.post1)\n",
            "Requirement already satisfied: graphviz>=0.9 in /usr/local/lib/python3.6/dist-packages (from dtreeviz) (0.10.1)\n",
            "Requirement already satisfied: cycler>=0.10 in /usr/local/lib/python3.6/dist-packages (from matplotlib->dtreeviz) (0.10.0)\n",
            "Requirement already satisfied: python-dateutil>=2.1 in /usr/local/lib/python3.6/dist-packages (from matplotlib->dtreeviz) (2.8.1)\n",
            "Requirement already satisfied: pyparsing!=2.0.4,!=2.1.2,!=2.1.6,>=2.0.1 in /usr/local/lib/python3.6/dist-packages (from matplotlib->dtreeviz) (2.4.7)\n",
            "Requirement already satisfied: kiwisolver>=1.0.1 in /usr/local/lib/python3.6/dist-packages (from matplotlib->dtreeviz) (1.3.1)\n",
            "Requirement already satisfied: attrs>=17.4.0 in /usr/local/lib/python3.6/dist-packages (from pytest->dtreeviz) (20.3.0)\n",
            "Requirement already satisfied: py>=1.5.0 in /usr/local/lib/python3.6/dist-packages (from pytest->dtreeviz) (1.10.0)\n",
            "Requirement already satisfied: more-itertools>=4.0.0 in /usr/local/lib/python3.6/dist-packages (from pytest->dtreeviz) (8.6.0)\n",
            "Requirement already satisfied: atomicwrites>=1.0 in /usr/local/lib/python3.6/dist-packages (from pytest->dtreeviz) (1.4.0)\n",
            "Requirement already satisfied: six>=1.10.0 in /usr/local/lib/python3.6/dist-packages (from pytest->dtreeviz) (1.15.0)\n",
            "Requirement already satisfied: pluggy<0.8,>=0.5 in /usr/local/lib/python3.6/dist-packages (from pytest->dtreeviz) (0.7.1)\n",
            "Requirement already satisfied: setuptools in /usr/local/lib/python3.6/dist-packages (from pytest->dtreeviz) (53.0.0)\n",
            "Requirement already satisfied: pytz>=2017.2 in /usr/local/lib/python3.6/dist-packages (from pandas->dtreeviz) (2018.9)\n",
            "Requirement already satisfied: scipy>=0.17.0 in /usr/local/lib/python3.6/dist-packages (from scikit-learn->dtreeviz) (1.4.1)\n",
            "Requirement already satisfied: joblib>=0.11 in /usr/local/lib/python3.6/dist-packages (from scikit-learn->dtreeviz) (1.0.0)\n",
            "\n",
            "Dimensões: (184140, 16)\n",
            "\n",
            "Campos: Index(['Unnamed: 0', 'Unnamed: 0.1', 'Continente', 'cod continente', 'País',\n",
            "       'cod pais', 'UF', 'cod uf', 'Via', 'cod via', 'ano', 'Mês', 'cod mes',\n",
            "       'Chegadas', 'Cotação média do mês anterior', 'Houve chegadas'],\n",
            "      dtype='object')\n",
            "          Unnamed: 0  ...  Cotação média do mês anterior\n",
            "count  184140.000000  ...                  184140.000000\n",
            "mean    92069.500000  ...                       3.580292\n",
            "std     53156.783622  ...                       0.345073\n",
            "min         0.000000  ...                       3.104194\n",
            "25%     46034.750000  ...                       3.241500\n",
            "50%     92069.500000  ...                       3.565845\n",
            "75%    138104.250000  ...                       3.885055\n",
            "max    184139.000000  ...                       4.155345\n",
            "\n",
            "[8 rows x 10 columns]\n",
            "Acurácia (base de treinamento): 0.9026899822598747\n",
            "Acurácia de previsão: 0.8916693819919627\n",
            "                 precision    recall  f1-score   support\n",
            "\n",
            "    Há chegadas       0.90      0.94      0.92     30679\n",
            "Não há chegadas       0.87      0.79      0.83     15356\n",
            "\n",
            "       accuracy                           0.89     46035\n",
            "      macro avg       0.89      0.87      0.88     46035\n",
            "   weighted avg       0.89      0.89      0.89     46035\n",
            "\n",
            "                 Há chegadas (prev)  Não há chegadas (prev)\n",
            "Há chegadas                   28874                    1805\n",
            "Não há chegadas                3182                   12174\n"
          ],
          "name": "stdout"
        }
      ]
    },
    {
      "cell_type": "code",
      "metadata": {
        "colab": {
          "base_uri": "https://localhost:8080/"
        },
        "id": "Kp9w431r50Z7",
        "outputId": "5e043b2f-3d56-4517-e4d0-e46f8ee658fb"
      },
      "source": [
        "!pip install graphviz\r\n",
        "with open(\"chegadas.dot\",'w') as f:\r\n",
        "       f = tree.export_graphviz(df_chegadas_tree, out_file=f)\r\n",
        "\r\n",
        "!dot -Tpdf chegadas.dot -o arvore_chegadas.pdf\r\n"
      ],
      "execution_count": 39,
      "outputs": [
        {
          "output_type": "stream",
          "text": [
            "Requirement already satisfied: graphviz in /usr/local/lib/python3.6/dist-packages (0.10.1)\n"
          ],
          "name": "stdout"
        }
      ]
    },
    {
      "cell_type": "code",
      "metadata": {
        "colab": {
          "base_uri": "https://localhost:8080/"
        },
        "id": "unZidv1r6XZg",
        "outputId": "b6855840-9365-4d0a-e880-07cc4632bc91"
      },
      "source": [
        "\r\n",
        "!pip install pydotplus\r\n",
        "!pip install dtreeviz\r\n",
        "\r\n",
        "#!pip install -q pydot\r\n",
        "\r\n",
        "import pandas as pd\r\n",
        "import numpy as np\r\n",
        "from sklearn import datasets, tree\r\n",
        "from sklearn.model_selection import train_test_split\r\n",
        "from sklearn.tree import DecisionTreeClassifier\r\n",
        "from sklearn.metrics import accuracy_score, classification_report, confusion_matrix\r\n",
        "from sklearn.feature_extraction import DictVectorizer\r\n",
        "from sklearn.preprocessing import LabelEncoder\r\n",
        "\r\n",
        "#from google.colab import files\r\n",
        "#uploaded = files.upload()\r\n",
        "\r\n",
        "\r\n",
        "\r\n",
        "df_chegadas = pd.read_excel('Chegadas de turistas versus dólar - 2016 a 2019.xlsx', sheet_name=0) \r\n",
        "print(\"\\nDimensões: {0}\".format(df_chegadas.shape))\r\n",
        "print(\"\\nCampos: {0}\".format(df_chegadas.keys()))\r\n",
        "print(df_chegadas.describe(), sep='\\n')\r\n",
        "\r\n",
        "#X = df_chegadas.iloc[:,0:(df_chegadas.shape[1] - 1)]\r\n",
        "X = df_chegadas.loc[:,['cod continente', 'cod pais','cod uf', 'cod via', 'cod mes', 'Cotação média do mês anterior']]\r\n",
        "\r\n",
        "le = LabelEncoder()\r\n",
        "y = le.fit_transform(df_chegadas.iloc[:,(df_chegadas.shape[1] - 1)])\r\n",
        "#y = df_chegadas.loc[:,'Chegadas categorizadas - log 5']\r\n",
        "\r\n",
        "\r\n",
        "# Particiona a base de dados\r\n",
        "# por default 75% para treinamento e 25% para teste\r\n",
        "X_train, X_test, y_train, y_test = train_test_split(X, y, random_state=0, test_size=0.25)\r\n",
        "\r\n",
        "\"\"\"### Indução do Modelo\r\n",
        "\r\n",
        "\r\n",
        "Os três passos para indução de um modelo são:\r\n",
        "\r\n",
        "1.   Instanciar o modelo: ``` DecisionTreeClassifier()```\r\n",
        "2.   Treinar o modelo: ```fit()```\r\n",
        "3.   Testar o modelo: ```predict()```\r\n",
        "\"\"\"\r\n",
        "\r\n",
        "df_chegadas_tree = DecisionTreeClassifier(random_state=0, criterion='entropy', min_samples_split = 70)\r\n",
        "#df_chegadas_tree = DecisionTreeRegressor(random_state=0, criterion='entropy')\r\n",
        "\r\n",
        "\r\n",
        "df_chegadas_tree = df_chegadas_tree.fit(X_train, y_train)\r\n",
        "print(\"Acurácia (base de treinamento):\", df_chegadas_tree.score(X_train, y_train))\r\n",
        "\r\n",
        "y_pred = df_chegadas_tree.predict(X_test)\r\n",
        "print(\"Acurácia de previsão:\", accuracy_score(y_test, y_pred))\r\n",
        "print(classification_report(y_test, y_pred, target_names=[\"Há chegadas\", \"Não há chegadas\"]))\r\n",
        "      \r\n",
        "cnf_matrix = confusion_matrix(y_test, y_pred)\r\n",
        "cnf_table = pd.DataFrame(data=cnf_matrix, index=[\"Há chegadas\", \"Não há chegadas\"], \r\n",
        "                         #\"columns=[\"Mina (prev)\", \"Rocha (prev)\"])\r\n",
        "                         columns=[\"Há chegadas (prev)\", \"Não há chegadas (prev)\"])\r\n",
        "print(cnf_table)\r\n",
        "\r\n"
      ],
      "execution_count": 40,
      "outputs": [
        {
          "output_type": "stream",
          "text": [
            "Requirement already satisfied: pydotplus in /usr/local/lib/python3.6/dist-packages (2.0.2)\n",
            "Requirement already satisfied: pyparsing>=2.0.1 in /usr/local/lib/python3.6/dist-packages (from pydotplus) (2.4.7)\n",
            "Requirement already satisfied: dtreeviz in /usr/local/lib/python3.6/dist-packages (1.1.4)\n",
            "Requirement already satisfied: colour in /usr/local/lib/python3.6/dist-packages (from dtreeviz) (0.1.5)\n",
            "Requirement already satisfied: graphviz>=0.9 in /usr/local/lib/python3.6/dist-packages (from dtreeviz) (0.10.1)\n",
            "Requirement already satisfied: pytest in /usr/local/lib/python3.6/dist-packages (from dtreeviz) (3.6.4)\n",
            "Requirement already satisfied: matplotlib in /usr/local/lib/python3.6/dist-packages (from dtreeviz) (3.2.2)\n",
            "Requirement already satisfied: pandas in /usr/local/lib/python3.6/dist-packages (from dtreeviz) (1.1.5)\n",
            "Requirement already satisfied: numpy in /usr/local/lib/python3.6/dist-packages (from dtreeviz) (1.19.5)\n",
            "Requirement already satisfied: scikit-learn in /usr/local/lib/python3.6/dist-packages (from dtreeviz) (0.22.2.post1)\n",
            "Requirement already satisfied: more-itertools>=4.0.0 in /usr/local/lib/python3.6/dist-packages (from pytest->dtreeviz) (8.6.0)\n",
            "Requirement already satisfied: six>=1.10.0 in /usr/local/lib/python3.6/dist-packages (from pytest->dtreeviz) (1.15.0)\n",
            "Requirement already satisfied: setuptools in /usr/local/lib/python3.6/dist-packages (from pytest->dtreeviz) (53.0.0)\n",
            "Requirement already satisfied: atomicwrites>=1.0 in /usr/local/lib/python3.6/dist-packages (from pytest->dtreeviz) (1.4.0)\n",
            "Requirement already satisfied: attrs>=17.4.0 in /usr/local/lib/python3.6/dist-packages (from pytest->dtreeviz) (20.3.0)\n",
            "Requirement already satisfied: pluggy<0.8,>=0.5 in /usr/local/lib/python3.6/dist-packages (from pytest->dtreeviz) (0.7.1)\n",
            "Requirement already satisfied: py>=1.5.0 in /usr/local/lib/python3.6/dist-packages (from pytest->dtreeviz) (1.10.0)\n",
            "Requirement already satisfied: cycler>=0.10 in /usr/local/lib/python3.6/dist-packages (from matplotlib->dtreeviz) (0.10.0)\n",
            "Requirement already satisfied: pyparsing!=2.0.4,!=2.1.2,!=2.1.6,>=2.0.1 in /usr/local/lib/python3.6/dist-packages (from matplotlib->dtreeviz) (2.4.7)\n",
            "Requirement already satisfied: python-dateutil>=2.1 in /usr/local/lib/python3.6/dist-packages (from matplotlib->dtreeviz) (2.8.1)\n",
            "Requirement already satisfied: kiwisolver>=1.0.1 in /usr/local/lib/python3.6/dist-packages (from matplotlib->dtreeviz) (1.3.1)\n",
            "Requirement already satisfied: pytz>=2017.2 in /usr/local/lib/python3.6/dist-packages (from pandas->dtreeviz) (2018.9)\n",
            "Requirement already satisfied: joblib>=0.11 in /usr/local/lib/python3.6/dist-packages (from scikit-learn->dtreeviz) (1.0.0)\n",
            "Requirement already satisfied: scipy>=0.17.0 in /usr/local/lib/python3.6/dist-packages (from scikit-learn->dtreeviz) (1.4.1)\n",
            "\n",
            "Dimensões: (184140, 16)\n",
            "\n",
            "Campos: Index(['Unnamed: 0', 'Unnamed: 0.1', 'Continente', 'cod continente', 'País',\n",
            "       'cod pais', 'UF', 'cod uf', 'Via', 'cod via', 'ano', 'Mês', 'cod mes',\n",
            "       'Chegadas', 'Cotação média do mês anterior', 'Houve chegadas'],\n",
            "      dtype='object')\n",
            "          Unnamed: 0  ...  Cotação média do mês anterior\n",
            "count  184140.000000  ...                  184140.000000\n",
            "mean    92069.500000  ...                       3.580292\n",
            "std     53156.783622  ...                       0.345073\n",
            "min         0.000000  ...                       3.104194\n",
            "25%     46034.750000  ...                       3.241500\n",
            "50%     92069.500000  ...                       3.565845\n",
            "75%    138104.250000  ...                       3.885055\n",
            "max    184139.000000  ...                       4.155345\n",
            "\n",
            "[8 rows x 10 columns]\n",
            "Acurácia (base de treinamento): 0.900734948046776\n",
            "Acurácia de previsão: 0.8901487998262192\n",
            "                 precision    recall  f1-score   support\n",
            "\n",
            "    Há chegadas       0.90      0.94      0.92     30679\n",
            "Não há chegadas       0.87      0.79      0.83     15356\n",
            "\n",
            "       accuracy                           0.89     46035\n",
            "      macro avg       0.88      0.87      0.87     46035\n",
            "   weighted avg       0.89      0.89      0.89     46035\n",
            "\n",
            "                 Há chegadas (prev)  Não há chegadas (prev)\n",
            "Há chegadas                   28851                    1828\n",
            "Não há chegadas                3229                   12127\n"
          ],
          "name": "stdout"
        }
      ]
    },
    {
      "cell_type": "code",
      "metadata": {
        "colab": {
          "base_uri": "https://localhost:8080/"
        },
        "id": "42fOnWpI7RJn",
        "outputId": "898d4436-7116-4c67-dd7b-c7b375359e65"
      },
      "source": [
        "!pip install graphviz\r\n",
        "with open(\"chegadas.dot\",'w') as f:\r\n",
        "       f = tree.export_graphviz(df_chegadas_tree, out_file=f)\r\n",
        "\r\n",
        "!dot -Tpdf chegadas.dot -o arvore_chegadas.pdf"
      ],
      "execution_count": 41,
      "outputs": [
        {
          "output_type": "stream",
          "text": [
            "Requirement already satisfied: graphviz in /usr/local/lib/python3.6/dist-packages (0.10.1)\n"
          ],
          "name": "stdout"
        }
      ]
    },
    {
      "cell_type": "code",
      "metadata": {
        "colab": {
          "base_uri": "https://localhost:8080/"
        },
        "id": "ZjbAKWPI9hP8",
        "outputId": "3cb78cc9-7cc6-4129-e539-06a25f28d59a"
      },
      "source": [
        "\r\n",
        "!pip install pydotplus\r\n",
        "!pip install dtreeviz\r\n",
        "\r\n",
        "#!pip install -q pydot\r\n",
        "\r\n",
        "import pandas as pd\r\n",
        "import numpy as np\r\n",
        "from sklearn import datasets, tree\r\n",
        "from sklearn.model_selection import train_test_split\r\n",
        "from sklearn.tree import DecisionTreeClassifier\r\n",
        "from sklearn.metrics import accuracy_score, classification_report, confusion_matrix\r\n",
        "from sklearn.feature_extraction import DictVectorizer\r\n",
        "from sklearn.preprocessing import LabelEncoder\r\n",
        "\r\n",
        "#from google.colab import files\r\n",
        "#uploaded = files.upload()\r\n",
        "\r\n",
        "\r\n",
        "\r\n",
        "df_chegadas = pd.read_excel('Chegadas de turistas versus dólar - 2016 a 2019.xlsx', sheet_name=0) \r\n",
        "print(\"\\nDimensões: {0}\".format(df_chegadas.shape))\r\n",
        "print(\"\\nCampos: {0}\".format(df_chegadas.keys()))\r\n",
        "print(df_chegadas.describe(), sep='\\n')\r\n",
        "\r\n",
        "#X = df_chegadas.iloc[:,0:(df_chegadas.shape[1] - 1)]\r\n",
        "X = df_chegadas.loc[:,['cod continente', 'cod pais','cod uf', 'cod via', 'cod mes', 'Cotação média do mês anterior']]\r\n",
        "\r\n",
        "le = LabelEncoder()\r\n",
        "y = le.fit_transform(df_chegadas.iloc[:,(df_chegadas.shape[1] - 1)])\r\n",
        "#y = df_chegadas.loc[:,'Chegadas categorizadas - log 5']\r\n",
        "\r\n",
        "\r\n",
        "# Particiona a base de dados\r\n",
        "# por default 75% para treinamento e 25% para teste\r\n",
        "X_train, X_test, y_train, y_test = train_test_split(X, y, random_state=0, test_size=0.25)\r\n",
        "\r\n",
        "\"\"\"### Indução do Modelo\r\n",
        "\r\n",
        "\r\n",
        "Os três passos para indução de um modelo são:\r\n",
        "\r\n",
        "1.   Instanciar o modelo: ``` DecisionTreeClassifier()```\r\n",
        "2.   Treinar o modelo: ```fit()```\r\n",
        "3.   Testar o modelo: ```predict()```\r\n",
        "\"\"\"\r\n",
        "\r\n",
        "# min_samples_split = 40 produziu melhor acuracia de prev para criterion='entropy'\r\n",
        "df_chegadas_tree = DecisionTreeClassifier(random_state=0, criterion='gini', min_samples_split = 40) \r\n",
        "#df_chegadas_tree = DecisionTreeClassifier(random_state=0, criterion='entropy', min_samples_split = 40) \r\n",
        "\r\n",
        "\r\n",
        "\r\n",
        "df_chegadas_tree = df_chegadas_tree.fit(X_train, y_train)\r\n",
        "print(\"Acurácia (base de treinamento):\", df_chegadas_tree.score(X_train, y_train))\r\n",
        "\r\n",
        "y_pred = df_chegadas_tree.predict(X_test)\r\n",
        "print(\"Acurácia de previsão:\", accuracy_score(y_test, y_pred))\r\n",
        "print(classification_report(y_test, y_pred, target_names=[\"Há chegadas\", \"Não há chegadas\"]))\r\n",
        "      \r\n",
        "cnf_matrix = confusion_matrix(y_test, y_pred)\r\n",
        "cnf_table = pd.DataFrame(data=cnf_matrix, index=[\"Há chegadas\", \"Não há chegadas\"], \r\n",
        "                         #\"columns=[\"Mina (prev)\", \"Rocha (prev)\"])\r\n",
        "                         columns=[\"Há chegadas (prev)\", \"Não há chegadas (prev)\"])\r\n",
        "print(cnf_table)"
      ],
      "execution_count": 42,
      "outputs": [
        {
          "output_type": "stream",
          "text": [
            "Requirement already satisfied: pydotplus in /usr/local/lib/python3.6/dist-packages (2.0.2)\n",
            "Requirement already satisfied: pyparsing>=2.0.1 in /usr/local/lib/python3.6/dist-packages (from pydotplus) (2.4.7)\n",
            "Requirement already satisfied: dtreeviz in /usr/local/lib/python3.6/dist-packages (1.1.4)\n",
            "Requirement already satisfied: matplotlib in /usr/local/lib/python3.6/dist-packages (from dtreeviz) (3.2.2)\n",
            "Requirement already satisfied: scikit-learn in /usr/local/lib/python3.6/dist-packages (from dtreeviz) (0.22.2.post1)\n",
            "Requirement already satisfied: pytest in /usr/local/lib/python3.6/dist-packages (from dtreeviz) (3.6.4)\n",
            "Requirement already satisfied: colour in /usr/local/lib/python3.6/dist-packages (from dtreeviz) (0.1.5)\n",
            "Requirement already satisfied: graphviz>=0.9 in /usr/local/lib/python3.6/dist-packages (from dtreeviz) (0.10.1)\n",
            "Requirement already satisfied: pandas in /usr/local/lib/python3.6/dist-packages (from dtreeviz) (1.1.5)\n",
            "Requirement already satisfied: numpy in /usr/local/lib/python3.6/dist-packages (from dtreeviz) (1.19.5)\n",
            "Requirement already satisfied: kiwisolver>=1.0.1 in /usr/local/lib/python3.6/dist-packages (from matplotlib->dtreeviz) (1.3.1)\n",
            "Requirement already satisfied: pyparsing!=2.0.4,!=2.1.2,!=2.1.6,>=2.0.1 in /usr/local/lib/python3.6/dist-packages (from matplotlib->dtreeviz) (2.4.7)\n",
            "Requirement already satisfied: cycler>=0.10 in /usr/local/lib/python3.6/dist-packages (from matplotlib->dtreeviz) (0.10.0)\n",
            "Requirement already satisfied: python-dateutil>=2.1 in /usr/local/lib/python3.6/dist-packages (from matplotlib->dtreeviz) (2.8.1)\n",
            "Requirement already satisfied: scipy>=0.17.0 in /usr/local/lib/python3.6/dist-packages (from scikit-learn->dtreeviz) (1.4.1)\n",
            "Requirement already satisfied: joblib>=0.11 in /usr/local/lib/python3.6/dist-packages (from scikit-learn->dtreeviz) (1.0.0)\n",
            "Requirement already satisfied: attrs>=17.4.0 in /usr/local/lib/python3.6/dist-packages (from pytest->dtreeviz) (20.3.0)\n",
            "Requirement already satisfied: setuptools in /usr/local/lib/python3.6/dist-packages (from pytest->dtreeviz) (53.0.0)\n",
            "Requirement already satisfied: py>=1.5.0 in /usr/local/lib/python3.6/dist-packages (from pytest->dtreeviz) (1.10.0)\n",
            "Requirement already satisfied: pluggy<0.8,>=0.5 in /usr/local/lib/python3.6/dist-packages (from pytest->dtreeviz) (0.7.1)\n",
            "Requirement already satisfied: six>=1.10.0 in /usr/local/lib/python3.6/dist-packages (from pytest->dtreeviz) (1.15.0)\n",
            "Requirement already satisfied: more-itertools>=4.0.0 in /usr/local/lib/python3.6/dist-packages (from pytest->dtreeviz) (8.6.0)\n",
            "Requirement already satisfied: atomicwrites>=1.0 in /usr/local/lib/python3.6/dist-packages (from pytest->dtreeviz) (1.4.0)\n",
            "Requirement already satisfied: pytz>=2017.2 in /usr/local/lib/python3.6/dist-packages (from pandas->dtreeviz) (2018.9)\n",
            "\n",
            "Dimensões: (184140, 16)\n",
            "\n",
            "Campos: Index(['Unnamed: 0', 'Unnamed: 0.1', 'Continente', 'cod continente', 'País',\n",
            "       'cod pais', 'UF', 'cod uf', 'Via', 'cod via', 'ano', 'Mês', 'cod mes',\n",
            "       'Chegadas', 'Cotação média do mês anterior', 'Houve chegadas'],\n",
            "      dtype='object')\n",
            "          Unnamed: 0  ...  Cotação média do mês anterior\n",
            "count  184140.000000  ...                  184140.000000\n",
            "mean    92069.500000  ...                       3.580292\n",
            "std     53156.783622  ...                       0.345073\n",
            "min         0.000000  ...                       3.104194\n",
            "25%     46034.750000  ...                       3.241500\n",
            "50%     92069.500000  ...                       3.565845\n",
            "75%    138104.250000  ...                       3.885055\n",
            "max    184139.000000  ...                       4.155345\n",
            "\n",
            "[8 rows x 10 columns]\n",
            "Acurácia (base de treinamento): 0.9097136236921183\n",
            "Acurácia de previsão: 0.8918431628109047\n",
            "                 precision    recall  f1-score   support\n",
            "\n",
            "    Há chegadas       0.90      0.94      0.92     30679\n",
            "Não há chegadas       0.86      0.80      0.83     15356\n",
            "\n",
            "       accuracy                           0.89     46035\n",
            "      macro avg       0.88      0.87      0.88     46035\n",
            "   weighted avg       0.89      0.89      0.89     46035\n",
            "\n",
            "                 Há chegadas (prev)  Não há chegadas (prev)\n",
            "Há chegadas                   28743                    1936\n",
            "Não há chegadas                3043                   12313\n"
          ],
          "name": "stdout"
        }
      ]
    },
    {
      "cell_type": "code",
      "metadata": {
        "colab": {
          "base_uri": "https://localhost:8080/"
        },
        "id": "GzyX9ccp-XPC",
        "outputId": "934076ae-0bcf-4df6-bd4f-e9d124a15f20"
      },
      "source": [
        "!pip install graphviz\r\n",
        "with open(\"chegadas.dot\",'w') as f:\r\n",
        "       f = tree.export_graphviz(df_chegadas_tree, out_file=f)\r\n",
        "\r\n",
        "!dot -Tpdf chegadas.dot -o arvore_chegadas.pdf\r\n"
      ],
      "execution_count": 43,
      "outputs": [
        {
          "output_type": "stream",
          "text": [
            "Requirement already satisfied: graphviz in /usr/local/lib/python3.6/dist-packages (0.10.1)\n"
          ],
          "name": "stdout"
        }
      ]
    },
    {
      "cell_type": "code",
      "metadata": {
        "colab": {
          "base_uri": "https://localhost:8080/"
        },
        "id": "Vw__eo62_anV",
        "outputId": "0b53d6de-ae6f-442a-ed6a-352ea9296112"
      },
      "source": [
        "\r\n",
        "!pip install pydotplus\r\n",
        "!pip install dtreeviz\r\n",
        "\r\n",
        "#!pip install -q pydot\r\n",
        "\r\n",
        "import pandas as pd\r\n",
        "import numpy as np\r\n",
        "from sklearn import datasets, tree\r\n",
        "from sklearn.model_selection import train_test_split\r\n",
        "from sklearn.tree import DecisionTreeClassifier\r\n",
        "from sklearn.metrics import accuracy_score, classification_report, confusion_matrix\r\n",
        "from sklearn.feature_extraction import DictVectorizer\r\n",
        "from sklearn.preprocessing import LabelEncoder\r\n",
        "\r\n",
        "#from google.colab import files\r\n",
        "#uploaded = files.upload()\r\n",
        "\r\n",
        "\r\n",
        "\r\n",
        "df_chegadas = pd.read_excel('Chegadas de turistas versus dólar - 2016 a 2019.xlsx', sheet_name=0) \r\n",
        "print(\"\\nDimensões: {0}\".format(df_chegadas.shape))\r\n",
        "print(\"\\nCampos: {0}\".format(df_chegadas.keys()))\r\n",
        "print(df_chegadas.describe(), sep='\\n')\r\n",
        "\r\n",
        "#X = df_chegadas.iloc[:,0:(df_chegadas.shape[1] - 1)]\r\n",
        "X = df_chegadas.loc[:,['cod continente', 'cod pais','cod uf', 'cod via', 'cod mes', 'Cotação média do mês anterior']]\r\n",
        "\r\n",
        "le = LabelEncoder()\r\n",
        "y = le.fit_transform(df_chegadas.iloc[:,(df_chegadas.shape[1] - 1)])\r\n",
        "#y = df_chegadas.loc[:,'Chegadas categorizadas - log 5']\r\n",
        "\r\n",
        "\r\n",
        "# Particiona a base de dados\r\n",
        "# por default 75% para treinamento e 25% para teste\r\n",
        "X_train, X_test, y_train, y_test = train_test_split(X, y, random_state=0, test_size=0.25)\r\n",
        "\r\n",
        "\"\"\"### Indução do Modelo\r\n",
        "\r\n",
        "\r\n",
        "Os três passos para indução de um modelo são:\r\n",
        "\r\n",
        "1.   Instanciar o modelo: ``` DecisionTreeClassifier()```\r\n",
        "2.   Treinar o modelo: ```fit()```\r\n",
        "3.   Testar o modelo: ```predict()```\r\n",
        "\"\"\"\r\n",
        "\r\n",
        "# min_samples_split = 40 produziu melhor acuracia de prev para criterion='entropy'\r\n",
        "df_chegadas_tree = DecisionTreeClassifier(random_state=0, criterion='gini', min_samples_split = 30) \r\n",
        "#df_chegadas_tree = DecisionTreeClassifier(random_state=0, criterion='entropy', min_samples_split = 40) \r\n",
        "\r\n",
        "\r\n",
        "\r\n",
        "df_chegadas_tree = df_chegadas_tree.fit(X_train, y_train)\r\n",
        "print(\"Acurácia (base de treinamento):\", df_chegadas_tree.score(X_train, y_train))\r\n",
        "\r\n",
        "y_pred = df_chegadas_tree.predict(X_test)\r\n",
        "print(\"Acurácia de previsão:\", accuracy_score(y_test, y_pred))\r\n",
        "print(classification_report(y_test, y_pred, target_names=[\"Há chegadas\", \"Não há chegadas\"]))\r\n",
        "      \r\n",
        "cnf_matrix = confusion_matrix(y_test, y_pred)\r\n",
        "cnf_table = pd.DataFrame(data=cnf_matrix, index=[\"Há chegadas\", \"Não há chegadas\"], \r\n",
        "                         #\"columns=[\"Mina (prev)\", \"Rocha (prev)\"])\r\n",
        "                         columns=[\"Há chegadas (prev)\", \"Não há chegadas (prev)\"])\r\n",
        "print(cnf_table)\r\n"
      ],
      "execution_count": 44,
      "outputs": [
        {
          "output_type": "stream",
          "text": [
            "Requirement already satisfied: pydotplus in /usr/local/lib/python3.6/dist-packages (2.0.2)\n",
            "Requirement already satisfied: pyparsing>=2.0.1 in /usr/local/lib/python3.6/dist-packages (from pydotplus) (2.4.7)\n",
            "Requirement already satisfied: dtreeviz in /usr/local/lib/python3.6/dist-packages (1.1.4)\n",
            "Requirement already satisfied: matplotlib in /usr/local/lib/python3.6/dist-packages (from dtreeviz) (3.2.2)\n",
            "Requirement already satisfied: pytest in /usr/local/lib/python3.6/dist-packages (from dtreeviz) (3.6.4)\n",
            "Requirement already satisfied: pandas in /usr/local/lib/python3.6/dist-packages (from dtreeviz) (1.1.5)\n",
            "Requirement already satisfied: colour in /usr/local/lib/python3.6/dist-packages (from dtreeviz) (0.1.5)\n",
            "Requirement already satisfied: numpy in /usr/local/lib/python3.6/dist-packages (from dtreeviz) (1.19.5)\n",
            "Requirement already satisfied: scikit-learn in /usr/local/lib/python3.6/dist-packages (from dtreeviz) (0.22.2.post1)\n",
            "Requirement already satisfied: graphviz>=0.9 in /usr/local/lib/python3.6/dist-packages (from dtreeviz) (0.10.1)\n",
            "Requirement already satisfied: python-dateutil>=2.1 in /usr/local/lib/python3.6/dist-packages (from matplotlib->dtreeviz) (2.8.1)\n",
            "Requirement already satisfied: cycler>=0.10 in /usr/local/lib/python3.6/dist-packages (from matplotlib->dtreeviz) (0.10.0)\n",
            "Requirement already satisfied: pyparsing!=2.0.4,!=2.1.2,!=2.1.6,>=2.0.1 in /usr/local/lib/python3.6/dist-packages (from matplotlib->dtreeviz) (2.4.7)\n",
            "Requirement already satisfied: kiwisolver>=1.0.1 in /usr/local/lib/python3.6/dist-packages (from matplotlib->dtreeviz) (1.3.1)\n",
            "Requirement already satisfied: attrs>=17.4.0 in /usr/local/lib/python3.6/dist-packages (from pytest->dtreeviz) (20.3.0)\n",
            "Requirement already satisfied: setuptools in /usr/local/lib/python3.6/dist-packages (from pytest->dtreeviz) (53.0.0)\n",
            "Requirement already satisfied: py>=1.5.0 in /usr/local/lib/python3.6/dist-packages (from pytest->dtreeviz) (1.10.0)\n",
            "Requirement already satisfied: pluggy<0.8,>=0.5 in /usr/local/lib/python3.6/dist-packages (from pytest->dtreeviz) (0.7.1)\n",
            "Requirement already satisfied: six>=1.10.0 in /usr/local/lib/python3.6/dist-packages (from pytest->dtreeviz) (1.15.0)\n",
            "Requirement already satisfied: more-itertools>=4.0.0 in /usr/local/lib/python3.6/dist-packages (from pytest->dtreeviz) (8.6.0)\n",
            "Requirement already satisfied: atomicwrites>=1.0 in /usr/local/lib/python3.6/dist-packages (from pytest->dtreeviz) (1.4.0)\n",
            "Requirement already satisfied: pytz>=2017.2 in /usr/local/lib/python3.6/dist-packages (from pandas->dtreeviz) (2018.9)\n",
            "Requirement already satisfied: scipy>=0.17.0 in /usr/local/lib/python3.6/dist-packages (from scikit-learn->dtreeviz) (1.4.1)\n",
            "Requirement already satisfied: joblib>=0.11 in /usr/local/lib/python3.6/dist-packages (from scikit-learn->dtreeviz) (1.0.0)\n",
            "\n",
            "Dimensões: (184140, 16)\n",
            "\n",
            "Campos: Index(['Unnamed: 0', 'Unnamed: 0.1', 'Continente', 'cod continente', 'País',\n",
            "       'cod pais', 'UF', 'cod uf', 'Via', 'cod via', 'ano', 'Mês', 'cod mes',\n",
            "       'Chegadas', 'Cotação média do mês anterior', 'Houve chegadas'],\n",
            "      dtype='object')\n",
            "          Unnamed: 0  ...  Cotação média do mês anterior\n",
            "count  184140.000000  ...                  184140.000000\n",
            "mean    92069.500000  ...                       3.580292\n",
            "std     53156.783622  ...                       0.345073\n",
            "min         0.000000  ...                       3.104194\n",
            "25%     46034.750000  ...                       3.241500\n",
            "50%     92069.500000  ...                       3.565845\n",
            "75%    138104.250000  ...                       3.885055\n",
            "max    184139.000000  ...                       4.155345\n",
            "\n",
            "[8 rows x 10 columns]\n",
            "Acurácia (base de treinamento): 0.9159624923065783\n",
            "Acurácia de previsão: 0.8904094710546323\n",
            "                 precision    recall  f1-score   support\n",
            "\n",
            "    Há chegadas       0.90      0.93      0.92     30679\n",
            "Não há chegadas       0.86      0.80      0.83     15356\n",
            "\n",
            "       accuracy                           0.89     46035\n",
            "      macro avg       0.88      0.87      0.87     46035\n",
            "   weighted avg       0.89      0.89      0.89     46035\n",
            "\n",
            "                 Há chegadas (prev)  Não há chegadas (prev)\n",
            "Há chegadas                   28663                    2016\n",
            "Não há chegadas                3029                   12327\n"
          ],
          "name": "stdout"
        }
      ]
    },
    {
      "cell_type": "code",
      "metadata": {
        "colab": {
          "base_uri": "https://localhost:8080/"
        },
        "id": "i2pWk2XF_87L",
        "outputId": "795bf612-7ce7-44c6-83ff-aa43af24283b"
      },
      "source": [
        "!pip install graphviz\r\n",
        "with open(\"chegadas.dot\",'w') as f:\r\n",
        "       f = tree.export_graphviz(df_chegadas_tree, out_file=f)\r\n",
        "\r\n",
        "!dot -Tpdf chegadas.dot -o arvore_chegadas.pdf\r\n"
      ],
      "execution_count": 45,
      "outputs": [
        {
          "output_type": "stream",
          "text": [
            "Requirement already satisfied: graphviz in /usr/local/lib/python3.6/dist-packages (0.10.1)\n"
          ],
          "name": "stdout"
        }
      ]
    },
    {
      "cell_type": "code",
      "metadata": {
        "colab": {
          "base_uri": "https://localhost:8080/"
        },
        "id": "YvKWGWdaA7Um",
        "outputId": "1a15ee6b-e084-4d87-d080-9c90c6aa1659"
      },
      "source": [
        "\r\n",
        "!pip install pydotplus\r\n",
        "!pip install dtreeviz\r\n",
        "\r\n",
        "#!pip install -q pydot\r\n",
        "\r\n",
        "import pandas as pd\r\n",
        "import numpy as np\r\n",
        "from sklearn import datasets, tree\r\n",
        "from sklearn.model_selection import train_test_split\r\n",
        "from sklearn.tree import DecisionTreeClassifier\r\n",
        "from sklearn.metrics import accuracy_score, classification_report, confusion_matrix\r\n",
        "from sklearn.feature_extraction import DictVectorizer\r\n",
        "from sklearn.preprocessing import LabelEncoder\r\n",
        "\r\n",
        "#from google.colab import files\r\n",
        "#uploaded = files.upload()\r\n",
        "\r\n",
        "\r\n",
        "\r\n",
        "df_chegadas = pd.read_excel('Chegadas de turistas versus dólar - 2016 a 2019.xlsx', sheet_name=0) \r\n",
        "print(\"\\nDimensões: {0}\".format(df_chegadas.shape))\r\n",
        "print(\"\\nCampos: {0}\".format(df_chegadas.keys()))\r\n",
        "print(df_chegadas.describe(), sep='\\n')\r\n",
        "\r\n",
        "#X = df_chegadas.iloc[:,0:(df_chegadas.shape[1] - 1)]\r\n",
        "X = df_chegadas.loc[:,['cod continente', 'cod pais','cod uf', 'cod via', 'cod mes', 'Cotação média do mês anterior']]\r\n",
        "\r\n",
        "le = LabelEncoder()\r\n",
        "y = le.fit_transform(df_chegadas.iloc[:,(df_chegadas.shape[1] - 1)])\r\n",
        "#y = df_chegadas.loc[:,'Chegadas categorizadas - log 5']\r\n",
        "\r\n",
        "\r\n",
        "# Particiona a base de dados\r\n",
        "# por default 75% para treinamento e 25% para teste\r\n",
        "X_train, X_test, y_train, y_test = train_test_split(X, y, random_state=0, test_size=0.25)\r\n",
        "\r\n",
        "\"\"\"### Indução do Modelo\r\n",
        "\r\n",
        "\r\n",
        "Os três passos para indução de um modelo são:\r\n",
        "\r\n",
        "1.   Instanciar o modelo: ``` DecisionTreeClassifier()```\r\n",
        "2.   Treinar o modelo: ```fit()```\r\n",
        "3.   Testar o modelo: ```predict()```\r\n",
        "\"\"\"\r\n",
        "\r\n",
        "# min_samples_split = 40 produziu melhor acuracia de prev para criterion='entropy'\r\n",
        "df_chegadas_tree = DecisionTreeClassifier(random_state=0, criterion='gini', min_samples_split = 50) \r\n",
        "#df_chegadas_tree = DecisionTreeClassifier(random_state=0, criterion='entropy', min_samples_split = 40) \r\n",
        "\r\n",
        "\r\n",
        "\r\n",
        "df_chegadas_tree = df_chegadas_tree.fit(X_train, y_train)\r\n",
        "print(\"Acurácia (base de treinamento):\", df_chegadas_tree.score(X_train, y_train))\r\n",
        "\r\n",
        "y_pred = df_chegadas_tree.predict(X_test)\r\n",
        "print(\"Acurácia de previsão:\", accuracy_score(y_test, y_pred))\r\n",
        "print(classification_report(y_test, y_pred, target_names=[\"Há chegadas\", \"Não há chegadas\"]))\r\n",
        "      \r\n",
        "cnf_matrix = confusion_matrix(y_test, y_pred)\r\n",
        "cnf_table = pd.DataFrame(data=cnf_matrix, index=[\"Há chegadas\", \"Não há chegadas\"], \r\n",
        "                         #\"columns=[\"Mina (prev)\", \"Rocha (prev)\"])\r\n",
        "                         columns=[\"Há chegadas (prev)\", \"Não há chegadas (prev)\"])\r\n",
        "print(cnf_table)"
      ],
      "execution_count": 46,
      "outputs": [
        {
          "output_type": "stream",
          "text": [
            "Requirement already satisfied: pydotplus in /usr/local/lib/python3.6/dist-packages (2.0.2)\n",
            "Requirement already satisfied: pyparsing>=2.0.1 in /usr/local/lib/python3.6/dist-packages (from pydotplus) (2.4.7)\n",
            "Requirement already satisfied: dtreeviz in /usr/local/lib/python3.6/dist-packages (1.1.4)\n",
            "Requirement already satisfied: graphviz>=0.9 in /usr/local/lib/python3.6/dist-packages (from dtreeviz) (0.10.1)\n",
            "Requirement already satisfied: pytest in /usr/local/lib/python3.6/dist-packages (from dtreeviz) (3.6.4)\n",
            "Requirement already satisfied: pandas in /usr/local/lib/python3.6/dist-packages (from dtreeviz) (1.1.5)\n",
            "Requirement already satisfied: scikit-learn in /usr/local/lib/python3.6/dist-packages (from dtreeviz) (0.22.2.post1)\n",
            "Requirement already satisfied: numpy in /usr/local/lib/python3.6/dist-packages (from dtreeviz) (1.19.5)\n",
            "Requirement already satisfied: colour in /usr/local/lib/python3.6/dist-packages (from dtreeviz) (0.1.5)\n",
            "Requirement already satisfied: matplotlib in /usr/local/lib/python3.6/dist-packages (from dtreeviz) (3.2.2)\n",
            "Requirement already satisfied: py>=1.5.0 in /usr/local/lib/python3.6/dist-packages (from pytest->dtreeviz) (1.10.0)\n",
            "Requirement already satisfied: atomicwrites>=1.0 in /usr/local/lib/python3.6/dist-packages (from pytest->dtreeviz) (1.4.0)\n",
            "Requirement already satisfied: setuptools in /usr/local/lib/python3.6/dist-packages (from pytest->dtreeviz) (53.0.0)\n",
            "Requirement already satisfied: pluggy<0.8,>=0.5 in /usr/local/lib/python3.6/dist-packages (from pytest->dtreeviz) (0.7.1)\n",
            "Requirement already satisfied: attrs>=17.4.0 in /usr/local/lib/python3.6/dist-packages (from pytest->dtreeviz) (20.3.0)\n",
            "Requirement already satisfied: six>=1.10.0 in /usr/local/lib/python3.6/dist-packages (from pytest->dtreeviz) (1.15.0)\n",
            "Requirement already satisfied: more-itertools>=4.0.0 in /usr/local/lib/python3.6/dist-packages (from pytest->dtreeviz) (8.6.0)\n",
            "Requirement already satisfied: pytz>=2017.2 in /usr/local/lib/python3.6/dist-packages (from pandas->dtreeviz) (2018.9)\n",
            "Requirement already satisfied: python-dateutil>=2.7.3 in /usr/local/lib/python3.6/dist-packages (from pandas->dtreeviz) (2.8.1)\n",
            "Requirement already satisfied: joblib>=0.11 in /usr/local/lib/python3.6/dist-packages (from scikit-learn->dtreeviz) (1.0.0)\n",
            "Requirement already satisfied: scipy>=0.17.0 in /usr/local/lib/python3.6/dist-packages (from scikit-learn->dtreeviz) (1.4.1)\n",
            "Requirement already satisfied: cycler>=0.10 in /usr/local/lib/python3.6/dist-packages (from matplotlib->dtreeviz) (0.10.0)\n",
            "Requirement already satisfied: kiwisolver>=1.0.1 in /usr/local/lib/python3.6/dist-packages (from matplotlib->dtreeviz) (1.3.1)\n",
            "Requirement already satisfied: pyparsing!=2.0.4,!=2.1.2,!=2.1.6,>=2.0.1 in /usr/local/lib/python3.6/dist-packages (from matplotlib->dtreeviz) (2.4.7)\n",
            "\n",
            "Dimensões: (184140, 16)\n",
            "\n",
            "Campos: Index(['Unnamed: 0', 'Unnamed: 0.1', 'Continente', 'cod continente', 'País',\n",
            "       'cod pais', 'UF', 'cod uf', 'Via', 'cod via', 'ano', 'Mês', 'cod mes',\n",
            "       'Chegadas', 'Cotação média do mês anterior', 'Houve chegadas'],\n",
            "      dtype='object')\n",
            "          Unnamed: 0  ...  Cotação média do mês anterior\n",
            "count  184140.000000  ...                  184140.000000\n",
            "mean    92069.500000  ...                       3.580292\n",
            "std     53156.783622  ...                       0.345073\n",
            "min         0.000000  ...                       3.104194\n",
            "25%     46034.750000  ...                       3.241500\n",
            "50%     92069.500000  ...                       3.565845\n",
            "75%    138104.250000  ...                       3.885055\n",
            "max    184139.000000  ...                       4.155345\n",
            "\n",
            "[8 rows x 10 columns]\n",
            "Acurácia (base de treinamento): 0.9059845769523189\n",
            "Acurácia de previsão: 0.8923210600629955\n",
            "                 precision    recall  f1-score   support\n",
            "\n",
            "    Há chegadas       0.90      0.94      0.92     30679\n",
            "Não há chegadas       0.87      0.80      0.83     15356\n",
            "\n",
            "       accuracy                           0.89     46035\n",
            "      macro avg       0.89      0.87      0.88     46035\n",
            "   weighted avg       0.89      0.89      0.89     46035\n",
            "\n",
            "                 Há chegadas (prev)  Não há chegadas (prev)\n",
            "Há chegadas                   28843                    1836\n",
            "Não há chegadas                3121                   12235\n"
          ],
          "name": "stdout"
        }
      ]
    },
    {
      "cell_type": "code",
      "metadata": {
        "colab": {
          "base_uri": "https://localhost:8080/"
        },
        "id": "Y8PEvmkhBjeI",
        "outputId": "7516eb54-ab64-4e5a-9a58-e73da5cbe6bc"
      },
      "source": [
        "!pip install graphviz\r\n",
        "with open(\"chegadas.dot\",'w') as f:\r\n",
        "       f = tree.export_graphviz(df_chegadas_tree, out_file=f)\r\n",
        "\r\n",
        "!dot -Tpdf chegadas.dot -o arvore_chegadas.pdf"
      ],
      "execution_count": 47,
      "outputs": [
        {
          "output_type": "stream",
          "text": [
            "Requirement already satisfied: graphviz in /usr/local/lib/python3.6/dist-packages (0.10.1)\n"
          ],
          "name": "stdout"
        }
      ]
    },
    {
      "cell_type": "code",
      "metadata": {
        "colab": {
          "base_uri": "https://localhost:8080/"
        },
        "id": "npJjMIMoCfNI",
        "outputId": "87d94e58-c52a-4f9a-89c6-5d9df10134b5"
      },
      "source": [
        "\r\n",
        "!pip install pydotplus\r\n",
        "!pip install dtreeviz\r\n",
        "\r\n",
        "#!pip install -q pydot\r\n",
        "\r\n",
        "import pandas as pd\r\n",
        "import numpy as np\r\n",
        "from sklearn import datasets, tree\r\n",
        "from sklearn.model_selection import train_test_split\r\n",
        "from sklearn.tree import DecisionTreeClassifier\r\n",
        "from sklearn.metrics import accuracy_score, classification_report, confusion_matrix\r\n",
        "from sklearn.feature_extraction import DictVectorizer\r\n",
        "from sklearn.preprocessing import LabelEncoder\r\n",
        "\r\n",
        "#from google.colab import files\r\n",
        "#uploaded = files.upload()\r\n",
        "\r\n",
        "\r\n",
        "\r\n",
        "df_chegadas = pd.read_excel('Chegadas de turistas versus dólar - 2016 a 2019.xlsx', sheet_name=0) \r\n",
        "print(\"\\nDimensões: {0}\".format(df_chegadas.shape))\r\n",
        "print(\"\\nCampos: {0}\".format(df_chegadas.keys()))\r\n",
        "print(df_chegadas.describe(), sep='\\n')\r\n",
        "\r\n",
        "#X = df_chegadas.iloc[:,0:(df_chegadas.shape[1] - 1)]\r\n",
        "X = df_chegadas.loc[:,['cod continente', 'cod pais','cod uf', 'cod via', 'cod mes', 'Cotação média do mês anterior']]\r\n",
        "\r\n",
        "le = LabelEncoder()\r\n",
        "y = le.fit_transform(df_chegadas.iloc[:,(df_chegadas.shape[1] - 1)])\r\n",
        "#y = df_chegadas.loc[:,'Chegadas categorizadas - log 5']\r\n",
        "\r\n",
        "\r\n",
        "# Particiona a base de dados\r\n",
        "# por default 75% para treinamento e 25% para teste\r\n",
        "X_train, X_test, y_train, y_test = train_test_split(X, y, random_state=0, test_size=0.25)\r\n",
        "\r\n",
        "\"\"\"### Indução do Modelo\r\n",
        "\r\n",
        "\r\n",
        "Os três passos para indução de um modelo são:\r\n",
        "\r\n",
        "1.   Instanciar o modelo: ``` DecisionTreeClassifier()```\r\n",
        "2.   Treinar o modelo: ```fit()```\r\n",
        "3.   Testar o modelo: ```predict()```\r\n",
        "\"\"\"\r\n",
        "\r\n",
        "# min_samples_split = 40 produziu melhor acuracia de prev para criterion='entropy'\r\n",
        "# min_samples_split = 50 produziu melhor acuracia de prev para criterion='gini'\r\n",
        "\r\n",
        "df_chegadas_tree = DecisionTreeClassifier(random_state=0, criterion='gini', min_samples_split = 60) \r\n",
        "#df_chegadas_tree = DecisionTreeClassifier(random_state=0, criterion='entropy', min_samples_split = 40) \r\n",
        "\r\n",
        "\r\n",
        "\r\n",
        "df_chegadas_tree = df_chegadas_tree.fit(X_train, y_train)\r\n",
        "print(\"Acurácia (base de treinamento):\", df_chegadas_tree.score(X_train, y_train))\r\n",
        "\r\n",
        "y_pred = df_chegadas_tree.predict(X_test)\r\n",
        "print(\"Acurácia de previsão:\", accuracy_score(y_test, y_pred))\r\n",
        "print(classification_report(y_test, y_pred, target_names=[\"Há chegadas\", \"Não há chegadas\"]))\r\n",
        "      \r\n",
        "cnf_matrix = confusion_matrix(y_test, y_pred)\r\n",
        "cnf_table = pd.DataFrame(data=cnf_matrix, index=[\"Há chegadas\", \"Não há chegadas\"], \r\n",
        "                         #\"columns=[\"Mina (prev)\", \"Rocha (prev)\"])\r\n",
        "                         columns=[\"Há chegadas (prev)\", \"Não há chegadas (prev)\"])\r\n",
        "print(cnf_table)"
      ],
      "execution_count": 48,
      "outputs": [
        {
          "output_type": "stream",
          "text": [
            "Requirement already satisfied: pydotplus in /usr/local/lib/python3.6/dist-packages (2.0.2)\n",
            "Requirement already satisfied: pyparsing>=2.0.1 in /usr/local/lib/python3.6/dist-packages (from pydotplus) (2.4.7)\n",
            "Requirement already satisfied: dtreeviz in /usr/local/lib/python3.6/dist-packages (1.1.4)\n",
            "Requirement already satisfied: numpy in /usr/local/lib/python3.6/dist-packages (from dtreeviz) (1.19.5)\n",
            "Requirement already satisfied: colour in /usr/local/lib/python3.6/dist-packages (from dtreeviz) (0.1.5)\n",
            "Requirement already satisfied: matplotlib in /usr/local/lib/python3.6/dist-packages (from dtreeviz) (3.2.2)\n",
            "Requirement already satisfied: scikit-learn in /usr/local/lib/python3.6/dist-packages (from dtreeviz) (0.22.2.post1)\n",
            "Requirement already satisfied: graphviz>=0.9 in /usr/local/lib/python3.6/dist-packages (from dtreeviz) (0.10.1)\n",
            "Requirement already satisfied: pandas in /usr/local/lib/python3.6/dist-packages (from dtreeviz) (1.1.5)\n",
            "Requirement already satisfied: pytest in /usr/local/lib/python3.6/dist-packages (from dtreeviz) (3.6.4)\n",
            "Requirement already satisfied: python-dateutil>=2.1 in /usr/local/lib/python3.6/dist-packages (from matplotlib->dtreeviz) (2.8.1)\n",
            "Requirement already satisfied: pyparsing!=2.0.4,!=2.1.2,!=2.1.6,>=2.0.1 in /usr/local/lib/python3.6/dist-packages (from matplotlib->dtreeviz) (2.4.7)\n",
            "Requirement already satisfied: cycler>=0.10 in /usr/local/lib/python3.6/dist-packages (from matplotlib->dtreeviz) (0.10.0)\n",
            "Requirement already satisfied: kiwisolver>=1.0.1 in /usr/local/lib/python3.6/dist-packages (from matplotlib->dtreeviz) (1.3.1)\n",
            "Requirement already satisfied: scipy>=0.17.0 in /usr/local/lib/python3.6/dist-packages (from scikit-learn->dtreeviz) (1.4.1)\n",
            "Requirement already satisfied: joblib>=0.11 in /usr/local/lib/python3.6/dist-packages (from scikit-learn->dtreeviz) (1.0.0)\n",
            "Requirement already satisfied: pytz>=2017.2 in /usr/local/lib/python3.6/dist-packages (from pandas->dtreeviz) (2018.9)\n",
            "Requirement already satisfied: more-itertools>=4.0.0 in /usr/local/lib/python3.6/dist-packages (from pytest->dtreeviz) (8.6.0)\n",
            "Requirement already satisfied: attrs>=17.4.0 in /usr/local/lib/python3.6/dist-packages (from pytest->dtreeviz) (20.3.0)\n",
            "Requirement already satisfied: six>=1.10.0 in /usr/local/lib/python3.6/dist-packages (from pytest->dtreeviz) (1.15.0)\n",
            "Requirement already satisfied: setuptools in /usr/local/lib/python3.6/dist-packages (from pytest->dtreeviz) (53.0.0)\n",
            "Requirement already satisfied: atomicwrites>=1.0 in /usr/local/lib/python3.6/dist-packages (from pytest->dtreeviz) (1.4.0)\n",
            "Requirement already satisfied: py>=1.5.0 in /usr/local/lib/python3.6/dist-packages (from pytest->dtreeviz) (1.10.0)\n",
            "Requirement already satisfied: pluggy<0.8,>=0.5 in /usr/local/lib/python3.6/dist-packages (from pytest->dtreeviz) (0.7.1)\n",
            "\n",
            "Dimensões: (184140, 16)\n",
            "\n",
            "Campos: Index(['Unnamed: 0', 'Unnamed: 0.1', 'Continente', 'cod continente', 'País',\n",
            "       'cod pais', 'UF', 'cod uf', 'Via', 'cod via', 'ano', 'Mês', 'cod mes',\n",
            "       'Chegadas', 'Cotação média do mês anterior', 'Houve chegadas'],\n",
            "      dtype='object')\n",
            "          Unnamed: 0  ...  Cotação média do mês anterior\n",
            "count  184140.000000  ...                  184140.000000\n",
            "mean    92069.500000  ...                       3.580292\n",
            "std     53156.783622  ...                       0.345073\n",
            "min         0.000000  ...                       3.104194\n",
            "25%     46034.750000  ...                       3.241500\n",
            "50%     92069.500000  ...                       3.565845\n",
            "75%    138104.250000  ...                       3.885055\n",
            "max    184139.000000  ...                       4.155345\n",
            "\n",
            "[8 rows x 10 columns]\n",
            "Acurácia (base de treinamento): 0.9033851055356432\n",
            "Acurácia de previsão: 0.8916911045943304\n",
            "                 precision    recall  f1-score   support\n",
            "\n",
            "    Há chegadas       0.90      0.94      0.92     30679\n",
            "Não há chegadas       0.87      0.79      0.83     15356\n",
            "\n",
            "       accuracy                           0.89     46035\n",
            "      macro avg       0.89      0.87      0.88     46035\n",
            "   weighted avg       0.89      0.89      0.89     46035\n",
            "\n",
            "                 Há chegadas (prev)  Não há chegadas (prev)\n",
            "Há chegadas                   28847                    1832\n",
            "Não há chegadas                3154                   12202\n"
          ],
          "name": "stdout"
        }
      ]
    },
    {
      "cell_type": "code",
      "metadata": {
        "colab": {
          "base_uri": "https://localhost:8080/"
        },
        "id": "HKXFGuBYDAKs",
        "outputId": "67e1f6f6-1a03-4666-a0e1-d1021bdded34"
      },
      "source": [
        "!pip install graphviz\r\n",
        "with open(\"chegadas.dot\",'w') as f:\r\n",
        "       f = tree.export_graphviz(df_chegadas_tree, out_file=f)\r\n",
        "\r\n",
        "!dot -Tpdf chegadas.dot -o arvore_chegadas.pdf"
      ],
      "execution_count": 49,
      "outputs": [
        {
          "output_type": "stream",
          "text": [
            "Requirement already satisfied: graphviz in /usr/local/lib/python3.6/dist-packages (0.10.1)\n"
          ],
          "name": "stdout"
        }
      ]
    },
    {
      "cell_type": "code",
      "metadata": {
        "colab": {
          "base_uri": "https://localhost:8080/"
        },
        "id": "nrl7Q7D1Dj5t",
        "outputId": "44bb7139-25e9-4959-d1f5-1669d3137ef7"
      },
      "source": [
        "\r\n",
        "!pip install pydotplus\r\n",
        "!pip install dtreeviz\r\n",
        "\r\n",
        "#!pip install -q pydot\r\n",
        "\r\n",
        "import pandas as pd\r\n",
        "import numpy as np\r\n",
        "from sklearn import datasets, tree\r\n",
        "from sklearn.model_selection import train_test_split\r\n",
        "from sklearn.tree import DecisionTreeClassifier\r\n",
        "from sklearn.metrics import accuracy_score, classification_report, confusion_matrix\r\n",
        "from sklearn.feature_extraction import DictVectorizer\r\n",
        "from sklearn.preprocessing import LabelEncoder\r\n",
        "\r\n",
        "#from google.colab import files\r\n",
        "#uploaded = files.upload()\r\n",
        "\r\n",
        "\r\n",
        "\r\n",
        "df_chegadas = pd.read_excel('Chegadas de turistas versus dólar - 2016 a 2019.xlsx', sheet_name=0) \r\n",
        "print(\"\\nDimensões: {0}\".format(df_chegadas.shape))\r\n",
        "print(\"\\nCampos: {0}\".format(df_chegadas.keys()))\r\n",
        "print(df_chegadas.describe(), sep='\\n')\r\n",
        "\r\n",
        "#X = df_chegadas.iloc[:,0:(df_chegadas.shape[1] - 1)]\r\n",
        "X = df_chegadas.loc[:,['cod continente', 'cod pais','cod uf', 'cod via', 'cod mes', 'Cotação média do mês anterior']]\r\n",
        "\r\n",
        "le = LabelEncoder()\r\n",
        "y = le.fit_transform(df_chegadas.iloc[:,(df_chegadas.shape[1] - 1)])\r\n",
        "#y = df_chegadas.loc[:,'Chegadas categorizadas - log 5']\r\n",
        "\r\n",
        "\r\n",
        "# Particiona a base de dados\r\n",
        "# por default 75% para treinamento e 25% para teste\r\n",
        "X_train, X_test, y_train, y_test = train_test_split(X, y, random_state=0, test_size=0.25)\r\n",
        "\r\n",
        "\"\"\"### Indução do Modelo\r\n",
        "\r\n",
        "\r\n",
        "Os três passos para indução de um modelo são:\r\n",
        "\r\n",
        "1.   Instanciar o modelo: ``` DecisionTreeClassifier()```\r\n",
        "2.   Treinar o modelo: ```fit()```\r\n",
        "3.   Testar o modelo: ```predict()```\r\n",
        "\"\"\"\r\n",
        "\r\n",
        "# min_samples_split = 40 produziu melhor acuracia de prev para criterion='entropy'\r\n",
        "# min_samples_split = 50 produziu melhor acuracia de prev para criterion='gini'\r\n",
        "\r\n",
        "df_chegadas_tree = DecisionTreeClassifier(random_state=0, criterion='gini', min_samples_split = 55) \r\n",
        "#df_chegadas_tree = DecisionTreeClassifier(random_state=0, criterion='entropy', min_samples_split = 40) \r\n",
        "\r\n",
        "\r\n",
        "\r\n",
        "df_chegadas_tree = df_chegadas_tree.fit(X_train, y_train)\r\n",
        "print(\"Acurácia (base de treinamento):\", df_chegadas_tree.score(X_train, y_train))\r\n",
        "\r\n",
        "y_pred = df_chegadas_tree.predict(X_test)\r\n",
        "print(\"Acurácia de previsão:\", accuracy_score(y_test, y_pred))\r\n",
        "print(classification_report(y_test, y_pred, target_names=[\"Há chegadas\", \"Não há chegadas\"]))\r\n",
        "      \r\n",
        "cnf_matrix = confusion_matrix(y_test, y_pred)\r\n",
        "cnf_table = pd.DataFrame(data=cnf_matrix, index=[\"Há chegadas\", \"Não há chegadas\"], \r\n",
        "                         #\"columns=[\"Mina (prev)\", \"Rocha (prev)\"])\r\n",
        "                         columns=[\"Há chegadas (prev)\", \"Não há chegadas (prev)\"])\r\n",
        "print(cnf_table)\r\n"
      ],
      "execution_count": 50,
      "outputs": [
        {
          "output_type": "stream",
          "text": [
            "Requirement already satisfied: pydotplus in /usr/local/lib/python3.6/dist-packages (2.0.2)\n",
            "Requirement already satisfied: pyparsing>=2.0.1 in /usr/local/lib/python3.6/dist-packages (from pydotplus) (2.4.7)\n",
            "Requirement already satisfied: dtreeviz in /usr/local/lib/python3.6/dist-packages (1.1.4)\n",
            "Requirement already satisfied: colour in /usr/local/lib/python3.6/dist-packages (from dtreeviz) (0.1.5)\n",
            "Requirement already satisfied: pytest in /usr/local/lib/python3.6/dist-packages (from dtreeviz) (3.6.4)\n",
            "Requirement already satisfied: numpy in /usr/local/lib/python3.6/dist-packages (from dtreeviz) (1.19.5)\n",
            "Requirement already satisfied: scikit-learn in /usr/local/lib/python3.6/dist-packages (from dtreeviz) (0.22.2.post1)\n",
            "Requirement already satisfied: pandas in /usr/local/lib/python3.6/dist-packages (from dtreeviz) (1.1.5)\n",
            "Requirement already satisfied: graphviz>=0.9 in /usr/local/lib/python3.6/dist-packages (from dtreeviz) (0.10.1)\n",
            "Requirement already satisfied: matplotlib in /usr/local/lib/python3.6/dist-packages (from dtreeviz) (3.2.2)\n",
            "Requirement already satisfied: attrs>=17.4.0 in /usr/local/lib/python3.6/dist-packages (from pytest->dtreeviz) (20.3.0)\n",
            "Requirement already satisfied: six>=1.10.0 in /usr/local/lib/python3.6/dist-packages (from pytest->dtreeviz) (1.15.0)\n",
            "Requirement already satisfied: atomicwrites>=1.0 in /usr/local/lib/python3.6/dist-packages (from pytest->dtreeviz) (1.4.0)\n",
            "Requirement already satisfied: more-itertools>=4.0.0 in /usr/local/lib/python3.6/dist-packages (from pytest->dtreeviz) (8.6.0)\n",
            "Requirement already satisfied: py>=1.5.0 in /usr/local/lib/python3.6/dist-packages (from pytest->dtreeviz) (1.10.0)\n",
            "Requirement already satisfied: setuptools in /usr/local/lib/python3.6/dist-packages (from pytest->dtreeviz) (53.0.0)\n",
            "Requirement already satisfied: pluggy<0.8,>=0.5 in /usr/local/lib/python3.6/dist-packages (from pytest->dtreeviz) (0.7.1)\n",
            "Requirement already satisfied: scipy>=0.17.0 in /usr/local/lib/python3.6/dist-packages (from scikit-learn->dtreeviz) (1.4.1)\n",
            "Requirement already satisfied: joblib>=0.11 in /usr/local/lib/python3.6/dist-packages (from scikit-learn->dtreeviz) (1.0.0)\n",
            "Requirement already satisfied: python-dateutil>=2.7.3 in /usr/local/lib/python3.6/dist-packages (from pandas->dtreeviz) (2.8.1)\n",
            "Requirement already satisfied: pytz>=2017.2 in /usr/local/lib/python3.6/dist-packages (from pandas->dtreeviz) (2018.9)\n",
            "Requirement already satisfied: cycler>=0.10 in /usr/local/lib/python3.6/dist-packages (from matplotlib->dtreeviz) (0.10.0)\n",
            "Requirement already satisfied: kiwisolver>=1.0.1 in /usr/local/lib/python3.6/dist-packages (from matplotlib->dtreeviz) (1.3.1)\n",
            "Requirement already satisfied: pyparsing!=2.0.4,!=2.1.2,!=2.1.6,>=2.0.1 in /usr/local/lib/python3.6/dist-packages (from matplotlib->dtreeviz) (2.4.7)\n",
            "\n",
            "Dimensões: (184140, 16)\n",
            "\n",
            "Campos: Index(['Unnamed: 0', 'Unnamed: 0.1', 'Continente', 'cod continente', 'País',\n",
            "       'cod pais', 'UF', 'cod uf', 'Via', 'cod via', 'ano', 'Mês', 'cod mes',\n",
            "       'Chegadas', 'Cotação média do mês anterior', 'Houve chegadas'],\n",
            "      dtype='object')\n",
            "          Unnamed: 0  ...  Cotação média do mês anterior\n",
            "count  184140.000000  ...                  184140.000000\n",
            "mean    92069.500000  ...                       3.580292\n",
            "std     53156.783622  ...                       0.345073\n",
            "min         0.000000  ...                       3.104194\n",
            "25%     46034.750000  ...                       3.241500\n",
            "50%     92069.500000  ...                       3.565845\n",
            "75%    138104.250000  ...                       3.885055\n",
            "max    184139.000000  ...                       4.155345\n",
            "\n",
            "[8 rows x 10 columns]\n",
            "Acurácia (base de treinamento): 0.904500199123855\n",
            "Acurácia de previsão: 0.891734549799066\n",
            "                 precision    recall  f1-score   support\n",
            "\n",
            "    Há chegadas       0.90      0.94      0.92     30679\n",
            "Não há chegadas       0.87      0.80      0.83     15356\n",
            "\n",
            "       accuracy                           0.89     46035\n",
            "      macro avg       0.88      0.87      0.88     46035\n",
            "   weighted avg       0.89      0.89      0.89     46035\n",
            "\n",
            "                 Há chegadas (prev)  Não há chegadas (prev)\n",
            "Há chegadas                   28801                    1878\n",
            "Não há chegadas                3106                   12250\n"
          ],
          "name": "stdout"
        }
      ]
    },
    {
      "cell_type": "code",
      "metadata": {
        "colab": {
          "base_uri": "https://localhost:8080/"
        },
        "id": "jZ1YqUKrEKmL",
        "outputId": "3fefa428-8052-4e83-dfe4-fca5616b172f"
      },
      "source": [
        "!pip install graphviz\r\n",
        "with open(\"chegadas.dot\",'w') as f:\r\n",
        "       f = tree.export_graphviz(df_chegadas_tree, out_file=f)\r\n",
        "\r\n",
        "!dot -Tpdf chegadas.dot -o arvore_chegadas.pdf\r\n"
      ],
      "execution_count": 51,
      "outputs": [
        {
          "output_type": "stream",
          "text": [
            "Requirement already satisfied: graphviz in /usr/local/lib/python3.6/dist-packages (0.10.1)\n"
          ],
          "name": "stdout"
        }
      ]
    },
    {
      "cell_type": "code",
      "metadata": {
        "colab": {
          "base_uri": "https://localhost:8080/"
        },
        "id": "875DZHwhErj9",
        "outputId": "d79fa9f6-2764-4282-de47-271e054117df"
      },
      "source": [
        "\r\n",
        "!pip install pydotplus\r\n",
        "!pip install dtreeviz\r\n",
        "\r\n",
        "#!pip install -q pydot\r\n",
        "\r\n",
        "import pandas as pd\r\n",
        "import numpy as np\r\n",
        "from sklearn import datasets, tree\r\n",
        "from sklearn.model_selection import train_test_split\r\n",
        "from sklearn.tree import DecisionTreeClassifier\r\n",
        "from sklearn.metrics import accuracy_score, classification_report, confusion_matrix\r\n",
        "from sklearn.feature_extraction import DictVectorizer\r\n",
        "from sklearn.preprocessing import LabelEncoder\r\n",
        "\r\n",
        "#from google.colab import files\r\n",
        "#uploaded = files.upload()\r\n",
        "\r\n",
        "\r\n",
        "\r\n",
        "df_chegadas = pd.read_excel('Chegadas de turistas versus dólar - 2016 a 2019.xlsx', sheet_name=0) \r\n",
        "print(\"\\nDimensões: {0}\".format(df_chegadas.shape))\r\n",
        "print(\"\\nCampos: {0}\".format(df_chegadas.keys()))\r\n",
        "print(df_chegadas.describe(), sep='\\n')\r\n",
        "\r\n",
        "#X = df_chegadas.iloc[:,0:(df_chegadas.shape[1] - 1)]\r\n",
        "X = df_chegadas.loc[:,['cod continente', 'cod pais','cod uf', 'cod via', 'cod mes', 'Cotação média do mês anterior']]\r\n",
        "\r\n",
        "le = LabelEncoder()\r\n",
        "y = le.fit_transform(df_chegadas.iloc[:,(df_chegadas.shape[1] - 1)])\r\n",
        "#y = df_chegadas.loc[:,'Chegadas categorizadas - log 5']\r\n",
        "\r\n",
        "\r\n",
        "# Particiona a base de dados\r\n",
        "# por default 75% para treinamento e 25% para teste\r\n",
        "X_train, X_test, y_train, y_test = train_test_split(X, y, random_state=0, test_size=0.25)\r\n",
        "\r\n",
        "\"\"\"### Indução do Modelo\r\n",
        "\r\n",
        "\r\n",
        "Os três passos para indução de um modelo são:\r\n",
        "\r\n",
        "1.   Instanciar o modelo: ``` DecisionTreeClassifier()```\r\n",
        "2.   Treinar o modelo: ```fit()```\r\n",
        "3.   Testar o modelo: ```predict()```\r\n",
        "\"\"\"\r\n",
        "\r\n",
        "# min_samples_split = 40 produziu melhor acuracia de prev para criterion='entropy'\r\n",
        "# min_samples_split = 50 produziu melhor acuracia de prev para criterion='gini'\r\n",
        "\r\n",
        "df_chegadas_tree = DecisionTreeClassifier(random_state=0, criterion='gini', min_samples_split = 45) \r\n",
        "#df_chegadas_tree = DecisionTreeClassifier(random_state=0, criterion='entropy', min_samples_split = 40) \r\n",
        "\r\n",
        "\r\n",
        "\r\n",
        "df_chegadas_tree = df_chegadas_tree.fit(X_train, y_train)\r\n",
        "print(\"Acurácia (base de treinamento):\", df_chegadas_tree.score(X_train, y_train))\r\n",
        "\r\n",
        "y_pred = df_chegadas_tree.predict(X_test)\r\n",
        "print(\"Acurácia de previsão:\", accuracy_score(y_test, y_pred))\r\n",
        "print(classification_report(y_test, y_pred, target_names=[\"Há chegadas\", \"Não há chegadas\"]))\r\n",
        "      \r\n",
        "cnf_matrix = confusion_matrix(y_test, y_pred)\r\n",
        "cnf_table = pd.DataFrame(data=cnf_matrix, index=[\"Há chegadas\", \"Não há chegadas\"], \r\n",
        "                         #\"columns=[\"Mina (prev)\", \"Rocha (prev)\"])\r\n",
        "                         columns=[\"Há chegadas (prev)\", \"Não há chegadas (prev)\"])\r\n",
        "print(cnf_table)"
      ],
      "execution_count": 52,
      "outputs": [
        {
          "output_type": "stream",
          "text": [
            "Requirement already satisfied: pydotplus in /usr/local/lib/python3.6/dist-packages (2.0.2)\n",
            "Requirement already satisfied: pyparsing>=2.0.1 in /usr/local/lib/python3.6/dist-packages (from pydotplus) (2.4.7)\n",
            "Requirement already satisfied: dtreeviz in /usr/local/lib/python3.6/dist-packages (1.1.4)\n",
            "Requirement already satisfied: graphviz>=0.9 in /usr/local/lib/python3.6/dist-packages (from dtreeviz) (0.10.1)\n",
            "Requirement already satisfied: matplotlib in /usr/local/lib/python3.6/dist-packages (from dtreeviz) (3.2.2)\n",
            "Requirement already satisfied: pytest in /usr/local/lib/python3.6/dist-packages (from dtreeviz) (3.6.4)\n",
            "Requirement already satisfied: numpy in /usr/local/lib/python3.6/dist-packages (from dtreeviz) (1.19.5)\n",
            "Requirement already satisfied: pandas in /usr/local/lib/python3.6/dist-packages (from dtreeviz) (1.1.5)\n",
            "Requirement already satisfied: colour in /usr/local/lib/python3.6/dist-packages (from dtreeviz) (0.1.5)\n",
            "Requirement already satisfied: scikit-learn in /usr/local/lib/python3.6/dist-packages (from dtreeviz) (0.22.2.post1)\n",
            "Requirement already satisfied: python-dateutil>=2.1 in /usr/local/lib/python3.6/dist-packages (from matplotlib->dtreeviz) (2.8.1)\n",
            "Requirement already satisfied: pyparsing!=2.0.4,!=2.1.2,!=2.1.6,>=2.0.1 in /usr/local/lib/python3.6/dist-packages (from matplotlib->dtreeviz) (2.4.7)\n",
            "Requirement already satisfied: kiwisolver>=1.0.1 in /usr/local/lib/python3.6/dist-packages (from matplotlib->dtreeviz) (1.3.1)\n",
            "Requirement already satisfied: cycler>=0.10 in /usr/local/lib/python3.6/dist-packages (from matplotlib->dtreeviz) (0.10.0)\n",
            "Requirement already satisfied: more-itertools>=4.0.0 in /usr/local/lib/python3.6/dist-packages (from pytest->dtreeviz) (8.6.0)\n",
            "Requirement already satisfied: six>=1.10.0 in /usr/local/lib/python3.6/dist-packages (from pytest->dtreeviz) (1.15.0)\n",
            "Requirement already satisfied: py>=1.5.0 in /usr/local/lib/python3.6/dist-packages (from pytest->dtreeviz) (1.10.0)\n",
            "Requirement already satisfied: attrs>=17.4.0 in /usr/local/lib/python3.6/dist-packages (from pytest->dtreeviz) (20.3.0)\n",
            "Requirement already satisfied: atomicwrites>=1.0 in /usr/local/lib/python3.6/dist-packages (from pytest->dtreeviz) (1.4.0)\n",
            "Requirement already satisfied: setuptools in /usr/local/lib/python3.6/dist-packages (from pytest->dtreeviz) (53.0.0)\n",
            "Requirement already satisfied: pluggy<0.8,>=0.5 in /usr/local/lib/python3.6/dist-packages (from pytest->dtreeviz) (0.7.1)\n",
            "Requirement already satisfied: pytz>=2017.2 in /usr/local/lib/python3.6/dist-packages (from pandas->dtreeviz) (2018.9)\n",
            "Requirement already satisfied: joblib>=0.11 in /usr/local/lib/python3.6/dist-packages (from scikit-learn->dtreeviz) (1.0.0)\n",
            "Requirement already satisfied: scipy>=0.17.0 in /usr/local/lib/python3.6/dist-packages (from scikit-learn->dtreeviz) (1.4.1)\n",
            "\n",
            "Dimensões: (184140, 16)\n",
            "\n",
            "Campos: Index(['Unnamed: 0', 'Unnamed: 0.1', 'Continente', 'cod continente', 'País',\n",
            "       'cod pais', 'UF', 'cod uf', 'Via', 'cod via', 'ano', 'Mês', 'cod mes',\n",
            "       'Chegadas', 'Cotação média do mês anterior', 'Houve chegadas'],\n",
            "      dtype='object')\n",
            "          Unnamed: 0  ...  Cotação média do mês anterior\n",
            "count  184140.000000  ...                  184140.000000\n",
            "mean    92069.500000  ...                       3.580292\n",
            "std     53156.783622  ...                       0.345073\n",
            "min         0.000000  ...                       3.104194\n",
            "25%     46034.750000  ...                       3.241500\n",
            "50%     92069.500000  ...                       3.565845\n",
            "75%    138104.250000  ...                       3.885055\n",
            "max    184139.000000  ...                       4.155345\n",
            "\n",
            "[8 rows x 10 columns]\n",
            "Acurácia (base de treinamento): 0.9080482241772564\n",
            "Acurácia de previsão: 0.8922124470511568\n",
            "                 precision    recall  f1-score   support\n",
            "\n",
            "    Há chegadas       0.90      0.94      0.92     30679\n",
            "Não há chegadas       0.87      0.80      0.83     15356\n",
            "\n",
            "       accuracy                           0.89     46035\n",
            "      macro avg       0.89      0.87      0.88     46035\n",
            "   weighted avg       0.89      0.89      0.89     46035\n",
            "\n",
            "                 Há chegadas (prev)  Não há chegadas (prev)\n",
            "Há chegadas                   28803                    1876\n",
            "Não há chegadas                3086                   12270\n"
          ],
          "name": "stdout"
        }
      ]
    },
    {
      "cell_type": "code",
      "metadata": {
        "colab": {
          "base_uri": "https://localhost:8080/"
        },
        "id": "hhIc5SMfFNJw",
        "outputId": "713f27d6-5322-421c-a397-32962f6476ab"
      },
      "source": [
        "!pip install graphviz\r\n",
        "with open(\"chegadas.dot\",'w') as f:\r\n",
        "       f = tree.export_graphviz(df_chegadas_tree, out_file=f)\r\n",
        "\r\n",
        "!dot -Tpdf chegadas.dot -o arvore_chegadas.pdf"
      ],
      "execution_count": 53,
      "outputs": [
        {
          "output_type": "stream",
          "text": [
            "Requirement already satisfied: graphviz in /usr/local/lib/python3.6/dist-packages (0.10.1)\n"
          ],
          "name": "stdout"
        }
      ]
    },
    {
      "cell_type": "code",
      "metadata": {
        "colab": {
          "base_uri": "https://localhost:8080/"
        },
        "id": "vZXPyT_4F6Hg",
        "outputId": "2dc68926-0336-47e7-acc2-d1b78b99557b"
      },
      "source": [
        "\r\n",
        "!pip install pydotplus\r\n",
        "!pip install dtreeviz\r\n",
        "\r\n",
        "#!pip install -q pydot\r\n",
        "\r\n",
        "import pandas as pd\r\n",
        "import numpy as np\r\n",
        "from sklearn import datasets, tree\r\n",
        "from sklearn.model_selection import train_test_split\r\n",
        "from sklearn.tree import DecisionTreeClassifier\r\n",
        "from sklearn.metrics import accuracy_score, classification_report, confusion_matrix\r\n",
        "from sklearn.feature_extraction import DictVectorizer\r\n",
        "from sklearn.preprocessing import LabelEncoder\r\n",
        "\r\n",
        "#from google.colab import files\r\n",
        "#uploaded = files.upload()\r\n",
        "\r\n",
        "\r\n",
        "\r\n",
        "df_chegadas = pd.read_excel('Chegadas de turistas versus dólar - 2016 a 2019.xlsx', sheet_name=0) \r\n",
        "print(\"\\nDimensões: {0}\".format(df_chegadas.shape))\r\n",
        "print(\"\\nCampos: {0}\".format(df_chegadas.keys()))\r\n",
        "print(df_chegadas.describe(), sep='\\n')\r\n",
        "\r\n",
        "#X = df_chegadas.iloc[:,0:(df_chegadas.shape[1] - 1)]\r\n",
        "X = df_chegadas.loc[:,['cod continente', 'cod pais','cod uf', 'cod via', 'cod mes', 'Cotação média do mês anterior']]\r\n",
        "\r\n",
        "le = LabelEncoder()\r\n",
        "y = le.fit_transform(df_chegadas.iloc[:,(df_chegadas.shape[1] - 1)])\r\n",
        "#y = df_chegadas.loc[:,'Chegadas categorizadas - log 5']\r\n",
        "\r\n",
        "\r\n",
        "# Particiona a base de dados\r\n",
        "# por default 75% para treinamento e 25% para teste\r\n",
        "X_train, X_test, y_train, y_test = train_test_split(X, y, random_state=0, test_size=0.25)\r\n",
        "\r\n",
        "\"\"\"### Indução do Modelo\r\n",
        "\r\n",
        "\r\n",
        "Os três passos para indução de um modelo são:\r\n",
        "\r\n",
        "1.   Instanciar o modelo: ``` DecisionTreeClassifier()```\r\n",
        "2.   Treinar o modelo: ```fit()```\r\n",
        "3.   Testar o modelo: ```predict()```\r\n",
        "\"\"\"\r\n",
        "\r\n",
        "# min_samples_split = 40 produziu melhor acuracia de prev para criterion='entropy'\r\n",
        "# min_samples_split = 50 produziu melhor acuracia de prev para criterion='gini'\r\n",
        "\r\n",
        "df_chegadas_tree = DecisionTreeClassifier(random_state=0, criterion='gini', min_samples_split = 35) \r\n",
        "#df_chegadas_tree = DecisionTreeClassifier(random_state=0, criterion='entropy', min_samples_split = 40) \r\n",
        "\r\n",
        "\r\n",
        "\r\n",
        "df_chegadas_tree = df_chegadas_tree.fit(X_train, y_train)\r\n",
        "print(\"Acurácia (base de treinamento):\", df_chegadas_tree.score(X_train, y_train))\r\n",
        "\r\n",
        "y_pred = df_chegadas_tree.predict(X_test)\r\n",
        "print(\"Acurácia de previsão:\", accuracy_score(y_test, y_pred))\r\n",
        "print(classification_report(y_test, y_pred, target_names=[\"Há chegadas\", \"Não há chegadas\"]))\r\n",
        "      \r\n",
        "cnf_matrix = confusion_matrix(y_test, y_pred)\r\n",
        "cnf_table = pd.DataFrame(data=cnf_matrix, index=[\"Há chegadas\", \"Não há chegadas\"], \r\n",
        "                         #\"columns=[\"Mina (prev)\", \"Rocha (prev)\"])\r\n",
        "                         columns=[\"Há chegadas (prev)\", \"Não há chegadas (prev)\"])\r\n",
        "print(cnf_table)"
      ],
      "execution_count": 54,
      "outputs": [
        {
          "output_type": "stream",
          "text": [
            "Requirement already satisfied: pydotplus in /usr/local/lib/python3.6/dist-packages (2.0.2)\n",
            "Requirement already satisfied: pyparsing>=2.0.1 in /usr/local/lib/python3.6/dist-packages (from pydotplus) (2.4.7)\n",
            "Requirement already satisfied: dtreeviz in /usr/local/lib/python3.6/dist-packages (1.1.4)\n",
            "Requirement already satisfied: scikit-learn in /usr/local/lib/python3.6/dist-packages (from dtreeviz) (0.22.2.post1)\n",
            "Requirement already satisfied: graphviz>=0.9 in /usr/local/lib/python3.6/dist-packages (from dtreeviz) (0.10.1)\n",
            "Requirement already satisfied: matplotlib in /usr/local/lib/python3.6/dist-packages (from dtreeviz) (3.2.2)\n",
            "Requirement already satisfied: numpy in /usr/local/lib/python3.6/dist-packages (from dtreeviz) (1.19.5)\n",
            "Requirement already satisfied: pandas in /usr/local/lib/python3.6/dist-packages (from dtreeviz) (1.1.5)\n",
            "Requirement already satisfied: pytest in /usr/local/lib/python3.6/dist-packages (from dtreeviz) (3.6.4)\n",
            "Requirement already satisfied: colour in /usr/local/lib/python3.6/dist-packages (from dtreeviz) (0.1.5)\n",
            "Requirement already satisfied: scipy>=0.17.0 in /usr/local/lib/python3.6/dist-packages (from scikit-learn->dtreeviz) (1.4.1)\n",
            "Requirement already satisfied: joblib>=0.11 in /usr/local/lib/python3.6/dist-packages (from scikit-learn->dtreeviz) (1.0.0)\n",
            "Requirement already satisfied: kiwisolver>=1.0.1 in /usr/local/lib/python3.6/dist-packages (from matplotlib->dtreeviz) (1.3.1)\n",
            "Requirement already satisfied: cycler>=0.10 in /usr/local/lib/python3.6/dist-packages (from matplotlib->dtreeviz) (0.10.0)\n",
            "Requirement already satisfied: pyparsing!=2.0.4,!=2.1.2,!=2.1.6,>=2.0.1 in /usr/local/lib/python3.6/dist-packages (from matplotlib->dtreeviz) (2.4.7)\n",
            "Requirement already satisfied: python-dateutil>=2.1 in /usr/local/lib/python3.6/dist-packages (from matplotlib->dtreeviz) (2.8.1)\n",
            "Requirement already satisfied: pytz>=2017.2 in /usr/local/lib/python3.6/dist-packages (from pandas->dtreeviz) (2018.9)\n",
            "Requirement already satisfied: six>=1.10.0 in /usr/local/lib/python3.6/dist-packages (from pytest->dtreeviz) (1.15.0)\n",
            "Requirement already satisfied: setuptools in /usr/local/lib/python3.6/dist-packages (from pytest->dtreeviz) (53.0.0)\n",
            "Requirement already satisfied: atomicwrites>=1.0 in /usr/local/lib/python3.6/dist-packages (from pytest->dtreeviz) (1.4.0)\n",
            "Requirement already satisfied: more-itertools>=4.0.0 in /usr/local/lib/python3.6/dist-packages (from pytest->dtreeviz) (8.6.0)\n",
            "Requirement already satisfied: attrs>=17.4.0 in /usr/local/lib/python3.6/dist-packages (from pytest->dtreeviz) (20.3.0)\n",
            "Requirement already satisfied: py>=1.5.0 in /usr/local/lib/python3.6/dist-packages (from pytest->dtreeviz) (1.10.0)\n",
            "Requirement already satisfied: pluggy<0.8,>=0.5 in /usr/local/lib/python3.6/dist-packages (from pytest->dtreeviz) (0.7.1)\n",
            "\n",
            "Dimensões: (184140, 16)\n",
            "\n",
            "Campos: Index(['Unnamed: 0', 'Unnamed: 0.1', 'Continente', 'cod continente', 'País',\n",
            "       'cod pais', 'UF', 'cod uf', 'Via', 'cod via', 'ano', 'Mês', 'cod mes',\n",
            "       'Chegadas', 'Cotação média do mês anterior', 'Houve chegadas'],\n",
            "      dtype='object')\n",
            "          Unnamed: 0  ...  Cotação média do mês anterior\n",
            "count  184140.000000  ...                  184140.000000\n",
            "mean    92069.500000  ...                       3.580292\n",
            "std     53156.783622  ...                       0.345073\n",
            "min         0.000000  ...                       3.104194\n",
            "25%     46034.750000  ...                       3.241500\n",
            "50%     92069.500000  ...                       3.565845\n",
            "75%    138104.250000  ...                       3.885055\n",
            "max    184139.000000  ...                       4.155345\n",
            "\n",
            "[8 rows x 10 columns]\n",
            "Acurácia (base de treinamento): 0.9124651533253684\n",
            "Acurácia de previsão: 0.8911697621375041\n",
            "                 precision    recall  f1-score   support\n",
            "\n",
            "    Há chegadas       0.90      0.94      0.92     30679\n",
            "Não há chegadas       0.86      0.80      0.83     15356\n",
            "\n",
            "       accuracy                           0.89     46035\n",
            "      macro avg       0.88      0.87      0.88     46035\n",
            "   weighted avg       0.89      0.89      0.89     46035\n",
            "\n",
            "                 Há chegadas (prev)  Não há chegadas (prev)\n",
            "Há chegadas                   28716                    1963\n",
            "Não há chegadas                3047                   12309\n"
          ],
          "name": "stdout"
        }
      ]
    },
    {
      "cell_type": "code",
      "metadata": {
        "colab": {
          "base_uri": "https://localhost:8080/"
        },
        "id": "Ozg95a8AGVtV",
        "outputId": "f69f75dc-5496-433e-f669-95ce3b8711ba"
      },
      "source": [
        "!pip install graphviz\r\n",
        "with open(\"chegadas.dot\",'w') as f:\r\n",
        "       f = tree.export_graphviz(df_chegadas_tree, out_file=f)\r\n",
        "\r\n",
        "!dot -Tpdf chegadas.dot -o arvore_chegadas.pdf"
      ],
      "execution_count": 55,
      "outputs": [
        {
          "output_type": "stream",
          "text": [
            "Requirement already satisfied: graphviz in /usr/local/lib/python3.6/dist-packages (0.10.1)\n"
          ],
          "name": "stdout"
        }
      ]
    }
  ]
}